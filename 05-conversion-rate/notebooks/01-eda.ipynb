{
 "cells": [
  {
   "cell_type": "markdown",
   "id": "3a89d706-ca60-4cab-9e07-387daf7c541d",
   "metadata": {},
   "source": [
    "## Project\n",
    "The data scientists who created the newsletter would like to understand better the behaviour of the users visiting their website. They would like to know if it's possible to build **a model that predicts if a given user will subscribe to the newsletter**, by using just a few information about the user. They would like to analyze the parameters of the model to highlight features that are important to explain the behaviour of the users, and maybe discover a new lever for action to improve the newsletter's conversion rate.\n",
    "\n",
    "They designed a competition aiming at building a model that allows to predict the *conversions* (i.e. when a user will subscribe to the newsletter). To do so, they open-sourced a dataset containing some data about the traffic on their website. To assess the rankings of the different competing teams, they decided to use the **f1-score**.\n"
   ]
  },
  {
   "cell_type": "code",
   "execution_count": 8,
   "id": "916bc66d-976f-4a6d-a4d0-e137b3670fda",
   "metadata": {
    "tags": []
   },
   "outputs": [],
   "source": [
    "import pandas as pd\n",
    "import numpy as np\n",
    "\n",
    "from sklearn.model_selection import train_test_split\n",
    "from sklearn.impute import SimpleImputer\n",
    "from sklearn.preprocessing import StandardScaler\n",
    "from sklearn.preprocessing import OneHotEncoder\n",
    "from sklearn.compose import ColumnTransformer\n",
    "from sklearn.linear_model import LogisticRegression\n",
    "from sklearn.ensemble import  RandomForestClassifier, AdaBoostClassifier\n",
    "from sklearn.neighbors import KNeighborsClassifier\n",
    "from sklearn.svm import LinearSVC\n",
    "from xgboost import XGBClassifier\n",
    "from sklearn.metrics import precision_score, recall_score, f1_score, confusion_matrix\n",
    "from sklearn.pipeline import Pipeline\n",
    "\n",
    "import matplotlib.pyplot as plt\n",
    "import plotly.express as px\n",
    "import plotly.graph_objects as go\n",
    "import plotly.io as pio\n",
    "# setting Jedha color palette as default\n",
    "pio.templates[\"jedha\"] = go.layout.Template(\n",
    "    layout_colorway=[\"#4B9AC7\", \"#4BE8E0\", \"#9DD4F3\", \"#97FBF6\", \"#2A7FAF\", \"#23B1AB\", \"#0E3449\", \"#015955\"]\n",
    ")\n",
    "pio.templates.default = \"jedha\"\n",
    "from IPython.display import display\n",
    "\n",
    "import seaborn as sns\n",
    "sns.set_theme()"
   ]
  },
  {
   "cell_type": "markdown",
   "id": "a6578621-05eb-4424-9809-2c63be1190ac",
   "metadata": {},
   "source": [
    "## 1. EDA"
   ]
  },
  {
   "cell_type": "code",
   "execution_count": 9,
   "id": "2e52bc01-7de1-4978-bdc6-826133826e82",
   "metadata": {},
   "outputs": [
    {
     "name": "stdout",
     "output_type": "stream",
     "text": [
      "Train data size: (284580, 6)\n"
     ]
    }
   ],
   "source": [
    "data = pd.read_csv('./../data/raw/conversion_data_train.csv')\n",
    "print('Train data size:', data.shape)"
   ]
  },
  {
   "cell_type": "code",
   "execution_count": 10,
   "id": "78da0cdc-8e28-49f5-8bd8-b4e17000973c",
   "metadata": {},
   "outputs": [
    {
     "name": "stdout",
     "output_type": "stream",
     "text": [
      "<class 'pandas.core.frame.DataFrame'>\n",
      "RangeIndex: 284580 entries, 0 to 284579\n",
      "Data columns (total 6 columns):\n",
      " #   Column               Non-Null Count   Dtype \n",
      "---  ------               --------------   ----- \n",
      " 0   country              284580 non-null  object\n",
      " 1   age                  284580 non-null  int64 \n",
      " 2   new_user             284580 non-null  int64 \n",
      " 3   source               284580 non-null  object\n",
      " 4   total_pages_visited  284580 non-null  int64 \n",
      " 5   converted            284580 non-null  int64 \n",
      "dtypes: int64(4), object(2)\n",
      "memory usage: 13.0+ MB\n"
     ]
    }
   ],
   "source": [
    "data.info()"
   ]
  },
  {
   "cell_type": "markdown",
   "id": "3531eef9-f1ea-49da-9b77-29f224da3170",
   "metadata": {},
   "source": [
    "> 5 explicatives variables\n",
    "* 3 numerical: age, new_user, total_pages_visited\n",
    "* 2 categorical: country, source\n",
    "\n",
    "> 0 missing values"
   ]
  },
  {
   "cell_type": "code",
   "execution_count": 11,
   "id": "83b91ce5-be01-4a04-a83f-193ffa3f5e23",
   "metadata": {},
   "outputs": [
    {
     "data": {
      "text/html": [
       "<div>\n",
       "<style scoped>\n",
       "    .dataframe tbody tr th:only-of-type {\n",
       "        vertical-align: middle;\n",
       "    }\n",
       "\n",
       "    .dataframe tbody tr th {\n",
       "        vertical-align: top;\n",
       "    }\n",
       "\n",
       "    .dataframe thead th {\n",
       "        text-align: right;\n",
       "    }\n",
       "</style>\n",
       "<table border=\"1\" class=\"dataframe\">\n",
       "  <thead>\n",
       "    <tr style=\"text-align: right;\">\n",
       "      <th></th>\n",
       "      <th>country</th>\n",
       "      <th>age</th>\n",
       "      <th>new_user</th>\n",
       "      <th>source</th>\n",
       "      <th>total_pages_visited</th>\n",
       "      <th>converted</th>\n",
       "    </tr>\n",
       "  </thead>\n",
       "  <tbody>\n",
       "    <tr>\n",
       "      <th>0</th>\n",
       "      <td>China</td>\n",
       "      <td>22</td>\n",
       "      <td>1</td>\n",
       "      <td>Direct</td>\n",
       "      <td>2</td>\n",
       "      <td>0</td>\n",
       "    </tr>\n",
       "    <tr>\n",
       "      <th>1</th>\n",
       "      <td>UK</td>\n",
       "      <td>21</td>\n",
       "      <td>1</td>\n",
       "      <td>Ads</td>\n",
       "      <td>3</td>\n",
       "      <td>0</td>\n",
       "    </tr>\n",
       "    <tr>\n",
       "      <th>2</th>\n",
       "      <td>Germany</td>\n",
       "      <td>20</td>\n",
       "      <td>0</td>\n",
       "      <td>Seo</td>\n",
       "      <td>14</td>\n",
       "      <td>1</td>\n",
       "    </tr>\n",
       "    <tr>\n",
       "      <th>3</th>\n",
       "      <td>US</td>\n",
       "      <td>23</td>\n",
       "      <td>1</td>\n",
       "      <td>Seo</td>\n",
       "      <td>3</td>\n",
       "      <td>0</td>\n",
       "    </tr>\n",
       "    <tr>\n",
       "      <th>4</th>\n",
       "      <td>US</td>\n",
       "      <td>28</td>\n",
       "      <td>1</td>\n",
       "      <td>Direct</td>\n",
       "      <td>3</td>\n",
       "      <td>0</td>\n",
       "    </tr>\n",
       "  </tbody>\n",
       "</table>\n",
       "</div>"
      ],
      "text/plain": [
       "   country  age  new_user  source  total_pages_visited  converted\n",
       "0    China   22         1  Direct                    2          0\n",
       "1       UK   21         1     Ads                    3          0\n",
       "2  Germany   20         0     Seo                   14          1\n",
       "3       US   23         1     Seo                    3          0\n",
       "4       US   28         1  Direct                    3          0"
      ]
     },
     "execution_count": 11,
     "metadata": {},
     "output_type": "execute_result"
    }
   ],
   "source": [
    "data.head(5)"
   ]
  },
  {
   "cell_type": "markdown",
   "id": "4f7776a2-2f6a-4c91-90c8-cc0ffdc08dab",
   "metadata": {},
   "source": [
    "## Describe data"
   ]
  },
  {
   "cell_type": "code",
   "execution_count": 12,
   "id": "26709dce-8a73-4b5d-9cbc-922cb722868a",
   "metadata": {},
   "outputs": [
    {
     "data": {
      "text/html": [
       "<div>\n",
       "<style scoped>\n",
       "    .dataframe tbody tr th:only-of-type {\n",
       "        vertical-align: middle;\n",
       "    }\n",
       "\n",
       "    .dataframe tbody tr th {\n",
       "        vertical-align: top;\n",
       "    }\n",
       "\n",
       "    .dataframe thead th {\n",
       "        text-align: right;\n",
       "    }\n",
       "</style>\n",
       "<table border=\"1\" class=\"dataframe\">\n",
       "  <thead>\n",
       "    <tr style=\"text-align: right;\">\n",
       "      <th></th>\n",
       "      <th>age</th>\n",
       "      <th>new_user</th>\n",
       "      <th>total_pages_visited</th>\n",
       "      <th>converted</th>\n",
       "    </tr>\n",
       "  </thead>\n",
       "  <tbody>\n",
       "    <tr>\n",
       "      <th>count</th>\n",
       "      <td>284580.000000</td>\n",
       "      <td>284580.000000</td>\n",
       "      <td>284580.000000</td>\n",
       "      <td>284580.000000</td>\n",
       "    </tr>\n",
       "    <tr>\n",
       "      <th>mean</th>\n",
       "      <td>30.564203</td>\n",
       "      <td>0.685452</td>\n",
       "      <td>4.873252</td>\n",
       "      <td>0.032258</td>\n",
       "    </tr>\n",
       "    <tr>\n",
       "      <th>std</th>\n",
       "      <td>8.266789</td>\n",
       "      <td>0.464336</td>\n",
       "      <td>3.341995</td>\n",
       "      <td>0.176685</td>\n",
       "    </tr>\n",
       "    <tr>\n",
       "      <th>min</th>\n",
       "      <td>17.000000</td>\n",
       "      <td>0.000000</td>\n",
       "      <td>1.000000</td>\n",
       "      <td>0.000000</td>\n",
       "    </tr>\n",
       "    <tr>\n",
       "      <th>25%</th>\n",
       "      <td>24.000000</td>\n",
       "      <td>0.000000</td>\n",
       "      <td>2.000000</td>\n",
       "      <td>0.000000</td>\n",
       "    </tr>\n",
       "    <tr>\n",
       "      <th>50%</th>\n",
       "      <td>30.000000</td>\n",
       "      <td>1.000000</td>\n",
       "      <td>4.000000</td>\n",
       "      <td>0.000000</td>\n",
       "    </tr>\n",
       "    <tr>\n",
       "      <th>75%</th>\n",
       "      <td>36.000000</td>\n",
       "      <td>1.000000</td>\n",
       "      <td>7.000000</td>\n",
       "      <td>0.000000</td>\n",
       "    </tr>\n",
       "    <tr>\n",
       "      <th>max</th>\n",
       "      <td>123.000000</td>\n",
       "      <td>1.000000</td>\n",
       "      <td>29.000000</td>\n",
       "      <td>1.000000</td>\n",
       "    </tr>\n",
       "  </tbody>\n",
       "</table>\n",
       "</div>"
      ],
      "text/plain": [
       "                 age       new_user  total_pages_visited      converted\n",
       "count  284580.000000  284580.000000        284580.000000  284580.000000\n",
       "mean       30.564203       0.685452             4.873252       0.032258\n",
       "std         8.266789       0.464336             3.341995       0.176685\n",
       "min        17.000000       0.000000             1.000000       0.000000\n",
       "25%        24.000000       0.000000             2.000000       0.000000\n",
       "50%        30.000000       1.000000             4.000000       0.000000\n",
       "75%        36.000000       1.000000             7.000000       0.000000\n",
       "max       123.000000       1.000000            29.000000       1.000000"
      ]
     },
     "execution_count": 12,
     "metadata": {},
     "output_type": "execute_result"
    }
   ],
   "source": [
    "data.describe()"
   ]
  },
  {
   "cell_type": "markdown",
   "id": "fccfa7c2-1b50-4b8a-8cab-0c328dd4f313",
   "metadata": {},
   "source": [
    "Some numbers:\n",
    "* On average, 4 pages are visited per user \\n\n",
    "* 75 % of all users have visited less than 7 pages\n",
    "* On average, the age of users is 30 years old"
   ]
  },
  {
   "cell_type": "markdown",
   "id": "fda1ae55-c3bc-48a6-901d-a13e57247fdd",
   "metadata": {},
   "source": [
    "### Categorical variables"
   ]
  },
  {
   "cell_type": "code",
   "execution_count": 19,
   "id": "8cd9a6ca-e4a0-47bc-b591-88f901c2191f",
   "metadata": {},
   "outputs": [
    {
     "name": "stdout",
     "output_type": "stream",
     "text": [
      "Country\n"
     ]
    }
   ],
   "source": [
    "print(f'Country')\n",
    "dist_country = data.country.value_counts()\n",
    "dist_source = data.source.value_counts()"
   ]
  },
  {
   "cell_type": "code",
   "execution_count": 24,
   "id": "5d5f6f7a-9d01-4c6b-ba4e-2ec254ebe5c1",
   "metadata": {},
   "outputs": [
    {
     "data": {
      "text/plain": [
       "Text(0.5, 1.0, 'Source of visiting users')"
      ]
     },
     "execution_count": 24,
     "metadata": {},
     "output_type": "execute_result"
    },
    {
     "data": {
      "image/png": "[encoded data removed]",
      "text/plain": [
       "<Figure size 720x432 with 2 Axes>"
      ]
     },
     "metadata": {},
     "output_type": "display_data"
    }
   ],
   "source": [
    "plt.figure(figsize=(10,6))\n",
    "plt.subplot(1,2,1)\n",
    "plt.pie(x=dist_country.values, labels=dist_country.index, autopct='%.0f%%');\n",
    "plt.title('Visiting users')\n",
    "#colors = np.array()\n",
    "plt.subplot(1,2,2)\n",
    "plt.pie(x=dist_source.values, labels=dist_source.index, autopct='%.0f%%');\n",
    "plt.title('Source of visiting users')\n"
   ]
  },
  {
   "cell_type": "markdown",
   "id": "6d122ba1-67c8-4a28-9a98-b52c616bf846",
   "metadata": {},
   "source": [
    "### Converted users (%)"
   ]
  },
  {
   "cell_type": "code",
   "execution_count": 8,
   "id": "44f0a0d4-f1a2-4ea2-bbaa-70206dd9aeab",
   "metadata": {},
   "outputs": [
    {
     "data": {
      "text/plain": [
       "0    96.774194\n",
       "1     3.225806\n",
       "Name: converted, dtype: float64"
      ]
     },
     "execution_count": 8,
     "metadata": {},
     "output_type": "execute_result"
    }
   ],
   "source": [
    "data['converted'].value_counts()*100/data.shape[0]"
   ]
  },
  {
   "cell_type": "markdown",
   "id": "449b4aea-78db-4426-a934-6aaa1281f6c5",
   "metadata": {},
   "source": [
    "<b> /!\\ 3% of users that visited the site were converted </b>"
   ]
  },
  {
   "cell_type": "code",
   "execution_count": 21,
   "id": "8e3b1f77-8bcd-4123-9ae5-039ba7a73878",
   "metadata": {},
   "outputs": [],
   "source": [
    "#Let's work with a sample to visualize date\n",
    "data_sample = data.sample(10000)\n"
   ]
  },
  {
   "cell_type": "markdown",
   "id": "62e97948-d05b-4568-8b42-4757b82df01e",
   "metadata": {},
   "source": [
    "### Relations between variables"
   ]
  },
  {
   "cell_type": "code",
   "execution_count": 22,
   "id": "7663689a-31ba-445a-867a-dc178c213d47",
   "metadata": {},
   "outputs": [
    {
     "data": {
      "text/plain": [
       "<seaborn.axisgrid.PairGrid at 0x7fb4d3ecf8d0>"
      ]
     },
     "execution_count": 22,
     "metadata": {},
     "output_type": "execute_result"
    },
    {
     "data": {
      "text/plain": [
       "<Figure size 1008x432 with 0 Axes>"
      ]
     },
     "metadata": {},
     "output_type": "display_data"
    },
    {
     "data": {
      "image/png": "[encoded data removed]",
      "text/plain": [
       "<Figure size 609.425x540 with 12 Axes>"
      ]
     },
     "metadata": {},
     "output_type": "display_data"
    }
   ],
   "source": [
    "plt.figure(figsize=(14,6))\n",
    "sns.pairplot( hue='converted', data=data_sample)\n"
   ]
  },
  {
   "cell_type": "markdown",
   "id": "497e5d2b-eacc-4a3f-8231-ea86e3b182df",
   "metadata": {},
   "source": [
    "At first view, converted users visited more than 13 pages, independently of the user's age"
   ]
  },
  {
   "cell_type": "markdown",
   "id": "dd9b75a7-2134-4f86-b74c-f99551f27b2c",
   "metadata": {},
   "source": [
    "### Total_pages_visited per age"
   ]
  },
  {
   "cell_type": "code",
   "execution_count": 46,
   "id": "7d7a55fe-4d30-4ade-a71a-d63379ef9bb5",
   "metadata": {
    "tags": []
   },
   "outputs": [
    {
     "data": {
      "text/plain": [
       "<matplotlib.legend.Legend at 0x7f850b8d5cd0>"
      ]
     },
     "execution_count": 46,
     "metadata": {},
     "output_type": "execute_result"
    },
    {
     "data": {
      "image/png": "[encoded data removed]",
      "text/plain": [
       "<Figure size 576x432 with 1 Axes>"
      ]
     },
     "metadata": {},
     "output_type": "display_data"
    }
   ],
   "source": [
    "fig, axes = plt.subplots(figsize=(8,6))\n",
    "sns.scatterplot(x='total_pages_visited', y='age', hue='converted', data=data, ax=axes);\n",
    "plt.legend(title='Converted')"
   ]
  },
  {
   "cell_type": "markdown",
   "id": "8c670c26-e31a-4b96-a8e0-86f6a6f74bd9",
   "metadata": {},
   "source": [
    " It seems that the variable total_pages_visited has an important impact in the conversion rate between ages 20 and 45 aproximately\n",
    "- From the graphic above, users having visited more than 13 pages have been coverted\n"
   ]
  },
  {
   "cell_type": "markdown",
   "id": "27f68e70-dab9-4367-8eea-c96ac4d65880",
   "metadata": {},
   "source": [
    "## Age distribution of visitors"
   ]
  },
  {
   "cell_type": "code",
   "execution_count": 48,
   "id": "449b25b1-c3f8-4803-98cc-684d9c9b8167",
   "metadata": {},
   "outputs": [],
   "source": [
    "sns.set_theme(style=\"ticks\", font_scale=1.25)"
   ]
  },
  {
   "cell_type": "code",
   "execution_count": 55,
   "id": "d11863fe-3532-4e47-813b-ecd00e3b8e98",
   "metadata": {},
   "outputs": [
    {
     "data": {
      "text/plain": [
       "<seaborn.axisgrid.FacetGrid at 0x7f8504527cd0>"
      ]
     },
     "execution_count": 55,
     "metadata": {},
     "output_type": "execute_result"
    },
    {
     "data": {
      "image/png": "[encoded data removed]",
      "text/plain": [
       "<Figure size 472.75x360 with 1 Axes>"
      ]
     },
     "metadata": {},
     "output_type": "display_data"
    }
   ],
   "source": [
    "#fig, ax = plt.subplots(figsize=(8,6))\n",
    "sns.displot(data, x=\"age\", hue=\"country\", kind='kde')#, palette=\"icefire\")"
   ]
  },
  {
   "cell_type": "markdown",
   "id": "685fd777-4724-434b-a01a-1f8555dcd0e8",
   "metadata": {},
   "source": [
    "### Conversion per country according to total_pages_visited"
   ]
  },
  {
   "cell_type": "code",
   "execution_count": 22,
   "id": "f2e1c037-b7be-41f1-87b0-fcc3a8974eef",
   "metadata": {
    "tags": []
   },
   "outputs": [
    {
     "data": {
      "text/plain": [
       "<AxesSubplot:xlabel='total_pages_visited', ylabel='country'>"
      ]
     },
     "execution_count": 22,
     "metadata": {},
     "output_type": "execute_result"
    },
    {
     "data": {
      "image/png": "[encoded data removed]",
      "text/plain": [
       "<Figure size 720x432 with 1 Axes>"
      ]
     },
     "metadata": {
      "needs_background": "light"
     },
     "output_type": "display_data"
    }
   ],
   "source": [
    "#plt.figure(figsize=(10,6))\n",
    "fig, axes = plt.subplots(figsize=(10,6))\n",
    "sns.boxplot(y='country', x='total_pages_visited', hue='converted',data=data)"
   ]
  },
  {
   "cell_type": "code",
   "execution_count": 13,
   "id": "ea99c2b8-55e2-4b4b-877d-2488b645a093",
   "metadata": {},
   "outputs": [
    {
     "data": {
      "text/html": [
       "<div>\n",
       "<style scoped>\n",
       "    .dataframe tbody tr th:only-of-type {\n",
       "        vertical-align: middle;\n",
       "    }\n",
       "\n",
       "    .dataframe tbody tr th {\n",
       "        vertical-align: top;\n",
       "    }\n",
       "\n",
       "    .dataframe thead th {\n",
       "        text-align: right;\n",
       "    }\n",
       "</style>\n",
       "<table border=\"1\" class=\"dataframe\">\n",
       "  <thead>\n",
       "    <tr style=\"text-align: right;\">\n",
       "      <th></th>\n",
       "      <th></th>\n",
       "      <th>count</th>\n",
       "      <th>mean</th>\n",
       "      <th>std</th>\n",
       "      <th>min</th>\n",
       "      <th>25%</th>\n",
       "      <th>50%</th>\n",
       "      <th>75%</th>\n",
       "      <th>max</th>\n",
       "    </tr>\n",
       "    <tr>\n",
       "      <th>country</th>\n",
       "      <th>converted</th>\n",
       "      <th></th>\n",
       "      <th></th>\n",
       "      <th></th>\n",
       "      <th></th>\n",
       "      <th></th>\n",
       "      <th></th>\n",
       "      <th></th>\n",
       "      <th></th>\n",
       "    </tr>\n",
       "  </thead>\n",
       "  <tbody>\n",
       "    <tr>\n",
       "      <th rowspan=\"2\" valign=\"top\">China</th>\n",
       "      <th>0</th>\n",
       "      <td>69033.0</td>\n",
       "      <td>4.539206</td>\n",
       "      <td>2.783170</td>\n",
       "      <td>1.0</td>\n",
       "      <td>2.0</td>\n",
       "      <td>4.0</td>\n",
       "      <td>6.0</td>\n",
       "      <td>20.0</td>\n",
       "    </tr>\n",
       "    <tr>\n",
       "      <th>1</th>\n",
       "      <td>89.0</td>\n",
       "      <td>14.168539</td>\n",
       "      <td>3.526639</td>\n",
       "      <td>6.0</td>\n",
       "      <td>12.0</td>\n",
       "      <td>14.0</td>\n",
       "      <td>16.0</td>\n",
       "      <td>26.0</td>\n",
       "    </tr>\n",
       "    <tr>\n",
       "      <th rowspan=\"2\" valign=\"top\">Germany</th>\n",
       "      <th>0</th>\n",
       "      <td>10963.0</td>\n",
       "      <td>4.579951</td>\n",
       "      <td>2.796489</td>\n",
       "      <td>1.0</td>\n",
       "      <td>2.0</td>\n",
       "      <td>4.0</td>\n",
       "      <td>6.0</td>\n",
       "      <td>18.0</td>\n",
       "    </tr>\n",
       "    <tr>\n",
       "      <th>1</th>\n",
       "      <td>730.0</td>\n",
       "      <td>14.634247</td>\n",
       "      <td>4.113170</td>\n",
       "      <td>2.0</td>\n",
       "      <td>12.0</td>\n",
       "      <td>15.0</td>\n",
       "      <td>17.0</td>\n",
       "      <td>27.0</td>\n",
       "    </tr>\n",
       "    <tr>\n",
       "      <th rowspan=\"2\" valign=\"top\">UK</th>\n",
       "      <th>0</th>\n",
       "      <td>41350.0</td>\n",
       "      <td>4.555284</td>\n",
       "      <td>2.795250</td>\n",
       "      <td>1.0</td>\n",
       "      <td>2.0</td>\n",
       "      <td>4.0</td>\n",
       "      <td>6.0</td>\n",
       "      <td>19.0</td>\n",
       "    </tr>\n",
       "    <tr>\n",
       "      <th>1</th>\n",
       "      <td>2291.0</td>\n",
       "      <td>14.531209</td>\n",
       "      <td>3.935424</td>\n",
       "      <td>2.0</td>\n",
       "      <td>12.0</td>\n",
       "      <td>14.0</td>\n",
       "      <td>17.0</td>\n",
       "      <td>27.0</td>\n",
       "    </tr>\n",
       "    <tr>\n",
       "      <th rowspan=\"2\" valign=\"top\">US</th>\n",
       "      <th>0</th>\n",
       "      <td>154054.0</td>\n",
       "      <td>4.551930</td>\n",
       "      <td>2.791993</td>\n",
       "      <td>1.0</td>\n",
       "      <td>2.0</td>\n",
       "      <td>4.0</td>\n",
       "      <td>6.0</td>\n",
       "      <td>19.0</td>\n",
       "    </tr>\n",
       "    <tr>\n",
       "      <th>1</th>\n",
       "      <td>6070.0</td>\n",
       "      <td>14.567710</td>\n",
       "      <td>3.956379</td>\n",
       "      <td>2.0</td>\n",
       "      <td>12.0</td>\n",
       "      <td>15.0</td>\n",
       "      <td>17.0</td>\n",
       "      <td>29.0</td>\n",
       "    </tr>\n",
       "  </tbody>\n",
       "</table>\n",
       "</div>"
      ],
      "text/plain": [
       "                      count       mean       std  min   25%   50%   75%   max\n",
       "country converted                                                            \n",
       "China   0           69033.0   4.539206  2.783170  1.0   2.0   4.0   6.0  20.0\n",
       "        1              89.0  14.168539  3.526639  6.0  12.0  14.0  16.0  26.0\n",
       "Germany 0           10963.0   4.579951  2.796489  1.0   2.0   4.0   6.0  18.0\n",
       "        1             730.0  14.634247  4.113170  2.0  12.0  15.0  17.0  27.0\n",
       "UK      0           41350.0   4.555284  2.795250  1.0   2.0   4.0   6.0  19.0\n",
       "        1            2291.0  14.531209  3.935424  2.0  12.0  14.0  17.0  27.0\n",
       "US      0          154054.0   4.551930  2.791993  1.0   2.0   4.0   6.0  19.0\n",
       "        1            6070.0  14.567710  3.956379  2.0  12.0  15.0  17.0  29.0"
      ]
     },
     "execution_count": 13,
     "metadata": {},
     "output_type": "execute_result"
    }
   ],
   "source": [
    "data.groupby(['country','converted'])['total_pages_visited'].describe()"
   ]
  },
  {
   "cell_type": "markdown",
   "id": "e9ad58e2-f62a-404b-8ba8-d4c597869235",
   "metadata": {},
   "source": [
    "- In general, for all countries, with 75% of non converted users visited less than 6 pages.\n",
    "- On average, converted users in China and UK visited 14 pages and US and China visited 15 pages"
   ]
  },
  {
   "cell_type": "markdown",
   "id": "541e46d7-4fea-4863-925a-c17fa737dc63",
   "metadata": {},
   "source": [
    "### Users ages per country"
   ]
  },
  {
   "cell_type": "code",
   "execution_count": 24,
   "id": "0e3e6cb0-2730-4760-a24c-75448a35172a",
   "metadata": {},
   "outputs": [
    {
     "data": {
      "image/png": "[encoded data removed]",
      "text/plain": [
       "<Figure size 864x576 with 1 Axes>"
      ]
     },
     "metadata": {
      "needs_background": "light"
     },
     "output_type": "display_data"
    }
   ],
   "source": [
    "fig, axes = plt.subplots(figsize=(12,8))\n",
    "sns.boxplot(y='country', x='age', hue='converted', data=data, ax=axes)\n",
    "#sns.stripplot(x=\"country\", y=\"age\", data=data, hue='converted', ax=axes,\n",
    "#              size=4, color=\".3\", linewidth=0)\n",
    "plt.grid(True, axis='y')"
   ]
  },
  {
   "cell_type": "markdown",
   "id": "7c4d0bf8-ce5b-4b8c-9423-51bcff32229b",
   "metadata": {},
   "source": [
    "Converted users in China are younger than other countries"
   ]
  },
  {
   "cell_type": "markdown",
   "id": "75fdcaa5-a0a6-4103-b9e8-e4e6a762e545",
   "metadata": {},
   "source": [
    "### Distribution des ages"
   ]
  },
  {
   "cell_type": "code",
   "execution_count": 58,
   "id": "19bd5a68-009a-4a03-9110-543f51997e22",
   "metadata": {},
   "outputs": [
    {
     "data": {
      "text/plain": [
       "<seaborn.axisgrid.FacetGrid at 0x7f8504834b50>"
      ]
     },
     "execution_count": 58,
     "metadata": {},
     "output_type": "execute_result"
    },
    {
     "data": {
      "image/png": "[encoded data removed]",
      "text/plain": [
       "<Figure size 472.75x360 with 1 Axes>"
      ]
     },
     "metadata": {},
     "output_type": "display_data"
    }
   ],
   "source": [
    "sns.displot(data[data['converted']==1], x=\"total_pages_visited\", hue='country', kind='kde')"
   ]
  },
  {
   "cell_type": "code",
   "execution_count": 15,
   "id": "1c7c8d8e-7a40-410f-a2d3-0ce6dc67b657",
   "metadata": {
    "tags": []
   },
   "outputs": [
    {
     "data": {
      "text/plain": [
       "<seaborn.axisgrid.FacetGrid at 0x7fa1056ab810>"
      ]
     },
     "execution_count": 15,
     "metadata": {},
     "output_type": "execute_result"
    },
    {
     "data": {
      "image/png": "[encoded data removed]",
      "text/plain": [
       "<Figure size 418.375x360 with 1 Axes>"
      ]
     },
     "metadata": {
      "needs_background": "light"
     },
     "output_type": "display_data"
    }
   ],
   "source": [
    "#fig, axes = plt.subplots(1, 2, figsize=(10, 8))\n",
    "sns.displot(data, x=\"age\", hue='converted', kind='kde')"
   ]
  },
  {
   "cell_type": "markdown",
   "id": "2612de67-c869-4250-98fb-69d158d4a048",
   "metadata": {
    "tags": []
   },
   "source": [
    "### Create Train and test sets"
   ]
  },
  {
   "cell_type": "code",
   "execution_count": 16,
   "id": "1041f057-10e5-4e5f-bea5-fab379f1c2b6",
   "metadata": {},
   "outputs": [],
   "source": [
    "num_attributes = ['age', 'new_user','total_pages_visited']\n",
    "target_label = ['converted']"
   ]
  },
  {
   "cell_type": "code",
   "execution_count": 17,
   "id": "1e5eb24c-2fab-4f1c-88b4-8bea153ffbe4",
   "metadata": {},
   "outputs": [],
   "source": [
    "train_set, test_set = train_test_split(data, test_size=0.2, random_state=42)"
   ]
  },
  {
   "cell_type": "code",
   "execution_count": 18,
   "id": "9e5a96ba-f748-4707-af73-5fcad73f8273",
   "metadata": {},
   "outputs": [],
   "source": [
    "X_train = train_set.drop(target_label, axis=1)\n",
    "y_train = train_set['converted'].copy()\n",
    "\n",
    "X_test = test_set.drop(target_label, axis=1)\n",
    "y_test = test_set['converted'].copy()\n",
    "\n",
    "#train_test_split(X, y, test_size=0.2, random_state=42)"
   ]
  },
  {
   "cell_type": "code",
   "execution_count": 19,
   "id": "45109c40-7e28-4482-928f-5df49738f3a9",
   "metadata": {},
   "outputs": [
    {
     "name": "stdout",
     "output_type": "stream",
     "text": [
      "Distribution of original train_data\n"
     ]
    },
    {
     "data": {
      "text/plain": [
       "0    96.783857\n",
       "1     3.216143\n",
       "Name: converted, dtype: float64"
      ]
     },
     "execution_count": 19,
     "metadata": {},
     "output_type": "execute_result"
    }
   ],
   "source": [
    "print('Distribution of original train_data')\n",
    "y_train.value_counts()*100/y_train.shape[0]"
   ]
  },
  {
   "cell_type": "code",
   "execution_count": 27,
   "id": "8ad7217e-0778-4e04-b02a-5a7003a13e46",
   "metadata": {},
   "outputs": [],
   "source": [
    "def describe_per_country(data):\n",
    "    grouped = data.groupby(['country']).describe()\n",
    "    print('**total_pages_visited**')\n",
    "    print(grouped['total_pages_visited'])\n",
    "    print('\\n')\n",
    "    print('**age**')\n",
    "    print(grouped['age'])"
   ]
  },
  {
   "cell_type": "code",
   "execution_count": 28,
   "id": "7acc4aec-a50d-4f3f-97aa-d6b5a6830f69",
   "metadata": {},
   "outputs": [
    {
     "name": "stdout",
     "output_type": "stream",
     "text": [
      "**total_pages_visited**\n",
      "            count      mean       std  min  25%  50%  75%   max\n",
      "country                                                        \n",
      "China     55270.0  4.555093  2.810741  1.0  2.0  4.0  6.0  22.0\n",
      "Germany    9360.0  5.210791  3.764421  1.0  2.0  4.0  7.0  27.0\n",
      "UK        34828.0  5.065838  3.624340  1.0  2.0  4.0  7.0  27.0\n",
      "US       128206.0  4.932679  3.423639  1.0  2.0  4.0  7.0  29.0\n",
      "\n",
      "\n",
      "**age**\n",
      "            count       mean       std   min   25%   50%   75%    max\n",
      "country                                                              \n",
      "China     55270.0  30.647548  8.250612  17.0  24.0  30.0  36.0   67.0\n",
      "Germany    9360.0  30.403632  8.203895  17.0  24.0  30.0  36.0   64.0\n",
      "UK        34828.0  30.424658  8.244159  17.0  24.0  30.0  36.0  111.0\n",
      "US       128206.0  30.572680  8.264916  17.0  24.0  30.0  36.0   79.0\n"
     ]
    }
   ],
   "source": [
    "describe_per_country(train_set)"
   ]
  },
  {
   "cell_type": "markdown",
   "id": "cc32a9f1-0bff-460d-9e94-4888ac45146b",
   "metadata": {},
   "source": [
    "## 2. Baseline model \n",
    "### Logistic Regression with default parameters "
   ]
  },
  {
   "cell_type": "markdown",
   "id": "ac73ed7b-51a4-4682-b3a8-38585a3331ee",
   "metadata": {},
   "source": [
    "One variable: total_pages_visited"
   ]
  },
  {
   "cell_type": "code",
   "execution_count": 30,
   "id": "c2990f60-afda-4034-b46b-fdc0818faba3",
   "metadata": {},
   "outputs": [
    {
     "data": {
      "text/plain": [
       "0.9829178087005411"
      ]
     },
     "execution_count": 30,
     "metadata": {},
     "output_type": "execute_result"
    }
   ],
   "source": [
    "log_reg = LogisticRegression()\n",
    "# Take only total_visited_pages\n",
    "X_train_default = X_train[['total_pages_visited']]\n",
    "log_reg.fit(X_train_default, y_train.values.ravel())\n",
    "log_reg.score(X_train_default, y_train)"
   ]
  },
  {
   "cell_type": "markdown",
   "id": "62c25c67-e212-4dc8-a7b3-3a47cee038e0",
   "metadata": {},
   "source": [
    "### Confusion matrix"
   ]
  },
  {
   "cell_type": "code",
   "execution_count": 31,
   "id": "8f2549af-0871-4007-bb10-0f4cb1c673e3",
   "metadata": {},
   "outputs": [],
   "source": [
    "def labels_conf_matrix(conf_matrix):\n",
    "    group_names = ['True Neg','False Pos','False Neg','True Pos']\n",
    "    group_counts = ['{0:0.0f}'.format(value) for value in conf_matrix.flatten()]\n",
    "    group_percentages = ['{0:.2%}'.format(value) for value in conf_matrix.flatten()/np.sum(conf_matrix)]\n",
    "    labels = [f'{v1}\\n{v2}\\n{v3}' for v1, v2, v3 in zip(group_names,group_counts,group_percentages)]\n",
    "    labels = np.asarray(labels).reshape(2,2)\n",
    "    return labels"
   ]
  },
  {
   "cell_type": "code",
   "execution_count": 32,
   "id": "6b10c79e-2980-40eb-8040-4c6b4db2b513",
   "metadata": {},
   "outputs": [
    {
     "data": {
      "text/plain": [
       "array([[219376,    966],\n",
       "       [  2923,   4399]])"
      ]
     },
     "execution_count": 32,
     "metadata": {},
     "output_type": "execute_result"
    }
   ],
   "source": [
    "from sklearn.metrics import confusion_matrix\n",
    "conf_matrix = confusion_matrix(y_train, log_reg.predict(X_train_default))\n",
    "\n",
    "conf_matrix"
   ]
  },
  {
   "cell_type": "code",
   "execution_count": 33,
   "id": "636a1315-67c7-49ae-8c8f-8271b77f7ec0",
   "metadata": {},
   "outputs": [],
   "source": [
    "labels =labels_conf_matrix(conf_matrix)"
   ]
  },
  {
   "cell_type": "code",
   "execution_count": 34,
   "id": "4e124775-08fd-4451-8442-e16480e49279",
   "metadata": {
    "tags": []
   },
   "outputs": [
    {
     "data": {
      "text/plain": [
       "<AxesSubplot:>"
      ]
     },
     "execution_count": 34,
     "metadata": {},
     "output_type": "execute_result"
    },
    {
     "data": {
      "image/png": "[encoded data removed]",
      "text/plain": [
       "<Figure size 432x288 with 2 Axes>"
      ]
     },
     "metadata": {
      "needs_background": "light"
     },
     "output_type": "display_data"
    }
   ],
   "source": [
    "sns.heatmap(conf_matrix, annot=labels,fmt='', cmap='Blues')"
   ]
  },
  {
   "cell_type": "markdown",
   "id": "236968ad-e04c-4e12-8bc6-12558d541b87",
   "metadata": {},
   "source": [
    "### Precision, Recall, f1_score"
   ]
  },
  {
   "cell_type": "code",
   "execution_count": 35,
   "id": "e7e65a3a-7815-4437-b3eb-cee51f39f522",
   "metadata": {
    "tags": []
   },
   "outputs": [],
   "source": [
    "def predict_compare(model, X, y_true):\n",
    "    y_pred = model.predict(X)\n",
    "    precision = precision_score(y_true, y_pred)\n",
    "    recall = recall_score(y_true, y_pred)\n",
    "    f1 = f1_score(y_true, y_pred)\n",
    "    return precision, recall, f1"
   ]
  },
  {
   "cell_type": "code",
   "execution_count": 36,
   "id": "e554160b-3f3f-4376-bad9-8876f8b86f53",
   "metadata": {},
   "outputs": [
    {
     "name": "stdout",
     "output_type": "stream",
     "text": [
      "**Train***\n",
      "Precision=0.8199440820130476\n",
      "Recall=0.6007921332969134\n",
      "f1_score=0.69346575234492\n",
      "**Test***\n",
      "Precision=0.8290535583272194\n",
      "Recall=0.6081808396124866\n",
      "f1_score=0.7016454517230675\n"
     ]
    }
   ],
   "source": [
    "p, r, f1 = predict_compare(log_reg, X_train_default, y_train)\n",
    "print('**Train***')\n",
    "print('Precision={}'.format(p))\n",
    "print('Recall={}'.format(r))\n",
    "print('f1_score={}'.format(f1))\n",
    "p, r, f1 = predict_compare(log_reg, X_test[['total_pages_visited']], y_test)\n",
    "print('**Test***')\n",
    "print('Precision={}'.format(p))\n",
    "print('Recall={}'.format(r))\n",
    "print('f1_score={}'.format(f1))\n"
   ]
  },
  {
   "cell_type": "markdown",
   "id": "50f1344b-d7f5-4706-bdd3-4a33e9d4f94a",
   "metadata": {},
   "source": [
    "### Hyperparameters"
   ]
  },
  {
   "cell_type": "code",
   "execution_count": 37,
   "id": "709d46d5-6bca-45f5-8969-0c0159346db1",
   "metadata": {},
   "outputs": [
    {
     "data": {
      "text/plain": [
       "{'C': 1.0,\n",
       " 'class_weight': None,\n",
       " 'dual': False,\n",
       " 'fit_intercept': True,\n",
       " 'intercept_scaling': 1,\n",
       " 'l1_ratio': None,\n",
       " 'max_iter': 100,\n",
       " 'multi_class': 'auto',\n",
       " 'n_jobs': None,\n",
       " 'penalty': 'l2',\n",
       " 'random_state': None,\n",
       " 'solver': 'lbfgs',\n",
       " 'tol': 0.0001,\n",
       " 'verbose': 0,\n",
       " 'warm_start': False}"
      ]
     },
     "execution_count": 37,
     "metadata": {},
     "output_type": "execute_result"
    }
   ],
   "source": [
    "log_reg.get_params()"
   ]
  },
  {
   "cell_type": "markdown",
   "id": "ea8a06fa-36f8-4b7f-bb9d-5d71b7829a60",
   "metadata": {},
   "source": [
    "## Cleaning\n"
   ]
  },
  {
   "cell_type": "markdown",
   "id": "6200509d-22f4-4598-8b58-17f7e2a2c3ce",
   "metadata": {
    "tags": []
   },
   "source": [
    "### Outliers for total_pages_visited"
   ]
  },
  {
   "cell_type": "code",
   "execution_count": 38,
   "id": "40fb620c-79f7-4414-813c-a59e77f41c66",
   "metadata": {},
   "outputs": [
    {
     "name": "stdout",
     "output_type": "stream",
     "text": [
      "count    227664.000000\n",
      "mean          4.872817\n",
      "std           3.338793\n",
      "min           1.000000\n",
      "25%           2.000000\n",
      "50%           4.000000\n",
      "75%           7.000000\n",
      "max          29.000000\n",
      "Name: total_pages_visited, dtype: float64\n",
      "IQR total_pages_visited=5.0\n"
     ]
    }
   ],
   "source": [
    "df_desc=train_set.describe()\n",
    "print(df_desc['total_pages_visited'])\n",
    "iqr = (df_desc.loc['75%', 'total_pages_visited']-df_desc.loc['25%','total_pages_visited']) \n",
    "print(f'IQR total_pages_visited={iqr}')\n",
    "maximum = df_desc.loc['75%', 'total_pages_visited'] + 1.5*iqr\n",
    "minimum = df_desc.loc['25%', 'total_pages_visited'] - 1.5*iqr"
   ]
  },
  {
   "cell_type": "code",
   "execution_count": 39,
   "id": "a42865b3-6ed6-4dfc-b66c-07ba85833be1",
   "metadata": {},
   "outputs": [
    {
     "name": "stdout",
     "output_type": "stream",
     "text": [
      "Outliers visited more than 14.5 pages\n",
      "Outliers visited less thn -5.5 pages\n"
     ]
    }
   ],
   "source": [
    "print(f'Outliers visited more than {maximum} pages')\n",
    "print(f'Outliers visited less thn {minimum} pages')"
   ]
  },
  {
   "cell_type": "markdown",
   "id": "8cc2f955-e9df-4cb9-a98a-4bf0a295ac90",
   "metadata": {
    "tags": []
   },
   "source": [
    "### Identify outliers for age"
   ]
  },
  {
   "cell_type": "code",
   "execution_count": 42,
   "id": "62755414-b9fd-4885-92cb-22259eec66ec",
   "metadata": {},
   "outputs": [
    {
     "name": "stdout",
     "output_type": "stream",
     "text": [
      "Age statistics\n"
     ]
    },
    {
     "data": {
      "text/html": [
       "<div>\n",
       "<style scoped>\n",
       "    .dataframe tbody tr th:only-of-type {\n",
       "        vertical-align: middle;\n",
       "    }\n",
       "\n",
       "    .dataframe tbody tr th {\n",
       "        vertical-align: top;\n",
       "    }\n",
       "\n",
       "    .dataframe thead th {\n",
       "        text-align: right;\n",
       "    }\n",
       "</style>\n",
       "<table border=\"1\" class=\"dataframe\">\n",
       "  <thead>\n",
       "    <tr style=\"text-align: right;\">\n",
       "      <th></th>\n",
       "      <th>count</th>\n",
       "      <th>mean</th>\n",
       "      <th>std</th>\n",
       "      <th>min</th>\n",
       "      <th>25%</th>\n",
       "      <th>50%</th>\n",
       "      <th>75%</th>\n",
       "      <th>max</th>\n",
       "    </tr>\n",
       "    <tr>\n",
       "      <th>converted</th>\n",
       "      <th></th>\n",
       "      <th></th>\n",
       "      <th></th>\n",
       "      <th></th>\n",
       "      <th></th>\n",
       "      <th></th>\n",
       "      <th></th>\n",
       "      <th></th>\n",
       "    </tr>\n",
       "  </thead>\n",
       "  <tbody>\n",
       "    <tr>\n",
       "      <th>0</th>\n",
       "      <td>275400.0</td>\n",
       "      <td>30.697422</td>\n",
       "      <td>8.27009</td>\n",
       "      <td>17.0</td>\n",
       "      <td>24.0</td>\n",
       "      <td>30.0</td>\n",
       "      <td>36.0</td>\n",
       "      <td>79.0</td>\n",
       "    </tr>\n",
       "    <tr>\n",
       "      <th>1</th>\n",
       "      <td>9180.0</td>\n",
       "      <td>26.567647</td>\n",
       "      <td>7.08539</td>\n",
       "      <td>17.0</td>\n",
       "      <td>21.0</td>\n",
       "      <td>25.0</td>\n",
       "      <td>31.0</td>\n",
       "      <td>123.0</td>\n",
       "    </tr>\n",
       "  </tbody>\n",
       "</table>\n",
       "</div>"
      ],
      "text/plain": [
       "              count       mean      std   min   25%   50%   75%    max\n",
       "converted                                                             \n",
       "0          275400.0  30.697422  8.27009  17.0  24.0  30.0  36.0   79.0\n",
       "1            9180.0  26.567647  7.08539  17.0  21.0  25.0  31.0  123.0"
      ]
     },
     "execution_count": 42,
     "metadata": {},
     "output_type": "execute_result"
    }
   ],
   "source": [
    "print(f'Age statistics')\n",
    "data.groupby('converted').describe()['age']"
   ]
  },
  {
   "cell_type": "markdown",
   "id": "27b8610c-23d0-4a2b-bd07-f52bcdda3a76",
   "metadata": {},
   "source": [
    "> On average, converted users are **younger** than non converted users"
   ]
  },
  {
   "cell_type": "code",
   "execution_count": 43,
   "id": "5f7d860f-6046-403b-9800-c367dbcf40a1",
   "metadata": {},
   "outputs": [
    {
     "name": "stdout",
     "output_type": "stream",
     "text": [
      "IQR age=12.0\n",
      "Outliers older than 54.0 years old\n",
      "Outliers younger than 6.0 years old\n"
     ]
    }
   ],
   "source": [
    "iqr = (df_desc.loc['75%', 'age']-df_desc.loc['25%','age']) \n",
    "print(f'IQR age={iqr}')\n",
    "maximum = df_desc.loc['75%', 'age'] + 1.5*iqr\n",
    "minimum = df_desc.loc['25%', 'age'] - 1.5*iqr\n",
    "\n",
    "print(f'Outliers older than {maximum} years old')\n",
    "print(f'Outliers younger than {minimum} years old')"
   ]
  },
  {
   "cell_type": "markdown",
   "id": "ef34937d-6c56-489a-b89a-36987b195eb6",
   "metadata": {},
   "source": [
    "### Remove outliers : Users age > 70 years old"
   ]
  },
  {
   "cell_type": "code",
   "execution_count": 44,
   "id": "ff29bdaf-f66f-48c6-8fd0-adb488b56369",
   "metadata": {},
   "outputs": [
    {
     "data": {
      "text/plain": [
       "<AxesSubplot:xlabel='converted', ylabel='age'>"
      ]
     },
     "execution_count": 44,
     "metadata": {},
     "output_type": "execute_result"
    },
    {
     "data": {
      "image/png": "[encoded data removed]",
      "text/plain": [
       "<Figure size 576x432 with 1 Axes>"
      ]
     },
     "metadata": {
      "needs_background": "light"
     },
     "output_type": "display_data"
    }
   ],
   "source": [
    "fig, axes = plt.subplots(figsize=(8,6))\n",
    "sns.boxplot(x='converted', y='age', data=train_set, ax=axes)"
   ]
  },
  {
   "cell_type": "code",
   "execution_count": 45,
   "id": "a8697e8c-932b-4090-a7b4-3aa7f40ad1b7",
   "metadata": {},
   "outputs": [
    {
     "name": "stdout",
     "output_type": "stream",
     "text": [
      "Users older than 70 years old\n"
     ]
    },
    {
     "data": {
      "text/plain": [
       "0    4\n",
       "1    1\n",
       "Name: converted, dtype: int64"
      ]
     },
     "execution_count": 45,
     "metadata": {},
     "output_type": "execute_result"
    }
   ],
   "source": [
    "mask_outliers_age = train_set['age']>70 # Instead of 54, we're going to use 70 years old\n",
    "print(f'Users older than 70 years old')\n",
    "train_set[mask_outliers_age].converted.value_counts()"
   ]
  },
  {
   "cell_type": "code",
   "execution_count": 46,
   "id": "67bb8d13-c0c3-4682-8305-84a564400e21",
   "metadata": {
    "tags": []
   },
   "outputs": [
    {
     "name": "stdout",
     "output_type": "stream",
     "text": [
      "Converted Users having more than 70 years old: 1\n",
      "Representing a percentage of: 0.0\n"
     ]
    }
   ],
   "source": [
    "print(f'Converted Users having more than 70 years old: {train_set[mask_outliers_age][\"converted\"].sum()}')\n",
    "print(f'Representing a percentage of: {np.round(train_set[mask_outliers_age][\"converted\"].sum()*100/train_set.shape[0], 3)}')\n"
   ]
  },
  {
   "cell_type": "code",
   "execution_count": 47,
   "id": "b768542e-d842-4ef0-89f7-e88b21c6e036",
   "metadata": {},
   "outputs": [
    {
     "data": {
      "text/html": [
       "<div>\n",
       "<style scoped>\n",
       "    .dataframe tbody tr th:only-of-type {\n",
       "        vertical-align: middle;\n",
       "    }\n",
       "\n",
       "    .dataframe tbody tr th {\n",
       "        vertical-align: top;\n",
       "    }\n",
       "\n",
       "    .dataframe thead th {\n",
       "        text-align: right;\n",
       "    }\n",
       "</style>\n",
       "<table border=\"1\" class=\"dataframe\">\n",
       "  <thead>\n",
       "    <tr style=\"text-align: right;\">\n",
       "      <th></th>\n",
       "      <th>country</th>\n",
       "      <th>age</th>\n",
       "      <th>new_user</th>\n",
       "      <th>source</th>\n",
       "      <th>total_pages_visited</th>\n",
       "    </tr>\n",
       "  </thead>\n",
       "  <tbody>\n",
       "    <tr>\n",
       "      <th>220338</th>\n",
       "      <td>US</td>\n",
       "      <td>57</td>\n",
       "      <td>1</td>\n",
       "      <td>Seo</td>\n",
       "      <td>4</td>\n",
       "    </tr>\n",
       "    <tr>\n",
       "      <th>255147</th>\n",
       "      <td>US</td>\n",
       "      <td>57</td>\n",
       "      <td>1</td>\n",
       "      <td>Direct</td>\n",
       "      <td>4</td>\n",
       "    </tr>\n",
       "    <tr>\n",
       "      <th>281831</th>\n",
       "      <td>US</td>\n",
       "      <td>61</td>\n",
       "      <td>1</td>\n",
       "      <td>Seo</td>\n",
       "      <td>3</td>\n",
       "    </tr>\n",
       "    <tr>\n",
       "      <th>248445</th>\n",
       "      <td>US</td>\n",
       "      <td>55</td>\n",
       "      <td>1</td>\n",
       "      <td>Direct</td>\n",
       "      <td>5</td>\n",
       "    </tr>\n",
       "    <tr>\n",
       "      <th>26653</th>\n",
       "      <td>China</td>\n",
       "      <td>55</td>\n",
       "      <td>0</td>\n",
       "      <td>Seo</td>\n",
       "      <td>3</td>\n",
       "    </tr>\n",
       "    <tr>\n",
       "      <th>...</th>\n",
       "      <td>...</td>\n",
       "      <td>...</td>\n",
       "      <td>...</td>\n",
       "      <td>...</td>\n",
       "      <td>...</td>\n",
       "    </tr>\n",
       "    <tr>\n",
       "      <th>167292</th>\n",
       "      <td>UK</td>\n",
       "      <td>55</td>\n",
       "      <td>1</td>\n",
       "      <td>Seo</td>\n",
       "      <td>1</td>\n",
       "    </tr>\n",
       "    <tr>\n",
       "      <th>147550</th>\n",
       "      <td>UK</td>\n",
       "      <td>59</td>\n",
       "      <td>1</td>\n",
       "      <td>Seo</td>\n",
       "      <td>2</td>\n",
       "    </tr>\n",
       "    <tr>\n",
       "      <th>190471</th>\n",
       "      <td>China</td>\n",
       "      <td>57</td>\n",
       "      <td>1</td>\n",
       "      <td>Seo</td>\n",
       "      <td>2</td>\n",
       "    </tr>\n",
       "    <tr>\n",
       "      <th>126131</th>\n",
       "      <td>US</td>\n",
       "      <td>55</td>\n",
       "      <td>1</td>\n",
       "      <td>Seo</td>\n",
       "      <td>1</td>\n",
       "    </tr>\n",
       "    <tr>\n",
       "      <th>68385</th>\n",
       "      <td>UK</td>\n",
       "      <td>57</td>\n",
       "      <td>1</td>\n",
       "      <td>Seo</td>\n",
       "      <td>4</td>\n",
       "    </tr>\n",
       "  </tbody>\n",
       "</table>\n",
       "<p>1073 rows × 5 columns</p>\n",
       "</div>"
      ],
      "text/plain": [
       "       country  age  new_user  source  total_pages_visited\n",
       "220338      US   57         1     Seo                    4\n",
       "255147      US   57         1  Direct                    4\n",
       "281831      US   61         1     Seo                    3\n",
       "248445      US   55         1  Direct                    5\n",
       "26653    China   55         0     Seo                    3\n",
       "...        ...  ...       ...     ...                  ...\n",
       "167292      UK   55         1     Seo                    1\n",
       "147550      UK   59         1     Seo                    2\n",
       "190471   China   57         1     Seo                    2\n",
       "126131      US   55         1     Seo                    1\n",
       "68385       UK   57         1     Seo                    4\n",
       "\n",
       "[1073 rows x 5 columns]"
      ]
     },
     "execution_count": 47,
     "metadata": {},
     "output_type": "execute_result"
    }
   ],
   "source": [
    "X_train[X_train['age']>54]"
   ]
  },
  {
   "cell_type": "code",
   "execution_count": 48,
   "id": "31c9d292-711d-4ba8-a6f7-9b755a8455c2",
   "metadata": {},
   "outputs": [
    {
     "data": {
      "text/plain": [
       "<AxesSubplot:xlabel='converted', ylabel='age'>"
      ]
     },
     "execution_count": 48,
     "metadata": {},
     "output_type": "execute_result"
    },
    {
     "data": {
      "image/png": "[encoded data removed]",
      "text/plain": [
       "<Figure size 720x432 with 2 Axes>"
      ]
     },
     "metadata": {
      "needs_background": "light"
     },
     "output_type": "display_data"
    }
   ],
   "source": [
    "fig, axes = plt.subplots(1, 2, figsize=(10,6))\n",
    "sns.boxplot(data=data[['age','converted']], y='age', ax=axes[0])\n",
    "sns.boxplot(data=data[['age','converted']], x='converted', y='age', ax=axes[1])\n"
   ]
  },
  {
   "cell_type": "code",
   "execution_count": 49,
   "id": "a4d97217-dc58-4086-8e16-04f89f56f4dd",
   "metadata": {},
   "outputs": [],
   "source": [
    "X_train[X_train['age']>70].index\n",
    "X_train = X_train.drop(index=X_train[X_train['age']>60].index, axis=0)\n"
   ]
  },
  {
   "cell_type": "code",
   "execution_count": 50,
   "id": "3bc782cf-7b7d-42b7-b4ef-95f7ae3c0e08",
   "metadata": {},
   "outputs": [
    {
     "data": {
      "text/plain": [
       "28    10511\n",
       "30    10342\n",
       "29    10223\n",
       "27    10101\n",
       "26    10090\n",
       "31     9843\n",
       "25     9736\n",
       "32     9636\n",
       "24     9325\n",
       "33     9149\n",
       "Name: age, dtype: int64"
      ]
     },
     "execution_count": 50,
     "metadata": {},
     "output_type": "execute_result"
    }
   ],
   "source": [
    "X_train['age'].value_counts().sort_values(ascending=False)[0:10]"
   ]
  },
  {
   "cell_type": "markdown",
   "id": "e928882e-a7a0-4421-b2a3-bd8286efd32d",
   "metadata": {},
   "source": [
    "Top 10 ages in the dataset: 24 - 33 years old"
   ]
  },
  {
   "cell_type": "code",
   "execution_count": 51,
   "id": "4801bd50-32d5-4c46-b76b-e32cebe7d9e0",
   "metadata": {},
   "outputs": [
    {
     "data": {
      "text/plain": [
       "country\n",
       "US         56.266779\n",
       "China      24.289128\n",
       "UK         15.335231\n",
       "Germany     4.108862\n",
       "Name: country, dtype: float64"
      ]
     },
     "execution_count": 51,
     "metadata": {},
     "output_type": "execute_result"
    }
   ],
   "source": [
    "data[data['converted'] == 1][['country']].value_counts().sort_values(ascending=False)\n",
    "(data.groupby('country')['country'].count()*100/data.shape[0]).sort_values(ascending=False)"
   ]
  },
  {
   "cell_type": "markdown",
   "id": "1faf6ae6-10db-4f5f-8ec7-46ce8bfea985",
   "metadata": {},
   "source": [
    "<b> Proportion converted users in each country</b>"
   ]
  },
  {
   "cell_type": "code",
   "execution_count": 52,
   "id": "bbcef315-1de5-4894-87af-b3fa357d0e71",
   "metadata": {},
   "outputs": [
    {
     "data": {
      "text/plain": [
       "country\n",
       "China       0.969499\n",
       "Germany     7.952070\n",
       "UK         24.956427\n",
       "US         66.122004\n",
       "Name: converted, dtype: float64"
      ]
     },
     "execution_count": 52,
     "metadata": {},
     "output_type": "execute_result"
    }
   ],
   "source": [
    "data.groupby(['country'])['converted'].agg('sum') * 100 /data['converted'].sum()"
   ]
  },
  {
   "cell_type": "code",
   "execution_count": 53,
   "id": "c8cde284-b187-4fb0-9652-daf01807f32a",
   "metadata": {},
   "outputs": [],
   "source": [
    "### TODO un piechart"
   ]
  },
  {
   "cell_type": "markdown",
   "id": "4901a919-c509-44e0-a7a1-e82df0f2269c",
   "metadata": {},
   "source": [
    "<b> Conversion rate per country </b>"
   ]
  },
  {
   "cell_type": "code",
   "execution_count": 54,
   "id": "ec6c2f9d-a19c-46e2-89df-584bfb55a20f",
   "metadata": {},
   "outputs": [
    {
     "data": {
      "text/plain": [
       "country\n",
       "China      0.128758\n",
       "Germany    6.243051\n",
       "UK         5.249651\n",
       "US         3.790812\n",
       "Name: converted, dtype: float64"
      ]
     },
     "execution_count": 54,
     "metadata": {},
     "output_type": "execute_result"
    }
   ],
   "source": [
    "data.groupby(['country'])['converted'].agg('sum') * 100 /data.groupby(['country'])['converted'].count()"
   ]
  },
  {
   "cell_type": "markdown",
   "id": "f9f93403-cdb0-46d2-bf3a-d9595a42c2bf",
   "metadata": {
    "tags": []
   },
   "source": [
    "## Pre-processing pipeline"
   ]
  },
  {
   "cell_type": "markdown",
   "id": "9cba4cbd-7312-41ed-a0f5-c5a3a6f0d487",
   "metadata": {},
   "source": [
    "### Re-split data with all features"
   ]
  },
  {
   "cell_type": "markdown",
   "id": "4142c989-24d9-4821-850d-fcf9a8211e21",
   "metadata": {},
   "source": [
    "All features <br>\n",
    "Test_set ratio : 20% "
   ]
  },
  {
   "cell_type": "code",
   "execution_count": 55,
   "id": "d6ab040b-5e19-4ca8-97b9-5bd374a64761",
   "metadata": {},
   "outputs": [],
   "source": [
    "target_label = ['converted']\n",
    "X = data.drop(target_label, axis=1)\n",
    "y = data[target_label].values\n",
    "X_train, X_test, y_train, y_test = train_test_split(X, y, test_size=0.2, random_state=42)\n"
   ]
  },
  {
   "cell_type": "markdown",
   "id": "a9b693fe-3505-45da-9d18-1a3156e5afe0",
   "metadata": {},
   "source": [
    "### Create transformation pipeline"
   ]
  },
  {
   "cell_type": "code",
   "execution_count": 56,
   "id": "248bf9f4-8b69-4d4e-b2d6-b922d5f8d415",
   "metadata": {
    "tags": []
   },
   "outputs": [],
   "source": [
    "num_features = X_train.select_dtypes(include=np.number).columns.to_list()\n",
    "cat_features = X_train.select_dtypes(include=object).columns.to_list()\n",
    "# Transformer for extra features from Date\n",
    "# transformer for numerical features\n",
    "num_transformer = Pipeline([\n",
    "        ('imputer_num', SimpleImputer(strategy = 'median')),\n",
    "        ('scaler', StandardScaler())\n",
    "    ])\n",
    "# transformer for categorical features\n",
    "cat_transformer = Pipeline([\n",
    "        ('imputer_cat', SimpleImputer(strategy = 'most_frequent')),\n",
    "        ('onehot', OneHotEncoder(handle_unknown='ignore'))])\n",
    "\n",
    "preprocessor = ColumnTransformer([\n",
    "        ('categoricals', cat_transformer, cat_features),\n",
    "        ('numericals', num_transformer, num_features)\n",
    "    ],\n",
    "    remainder = 'drop'\n",
    ")"
   ]
  },
  {
   "cell_type": "code",
   "execution_count": 57,
   "id": "0d1faf49-9665-424b-8a35-1655f6627201",
   "metadata": {},
   "outputs": [],
   "source": [
    "classifiers = [\n",
    "    LogisticRegression(),\n",
    "    KNeighborsClassifier(5),\n",
    "    LinearSVC(),\n",
    "    #NuSVC(probability=True),\n",
    "    RandomForestClassifier(),\n",
    "    AdaBoostClassifier(),\n",
    "    XGBClassifier(use_label_encoder=False, ),\n",
    "    #GradientBoostingClassifier()\n",
    "    ]\n"
   ]
  },
  {
   "cell_type": "code",
   "execution_count": 58,
   "id": "5b2abb9f-f51b-415e-bf47-0bd88d427259",
   "metadata": {},
   "outputs": [
    {
     "data": {
      "text/plain": [
       "array([0, 0, 0, ..., 0, 0, 0])"
      ]
     },
     "execution_count": 58,
     "metadata": {},
     "output_type": "execute_result"
    }
   ],
   "source": [
    "y_train.ravel()"
   ]
  },
  {
   "cell_type": "markdown",
   "id": "a5f92774-8c4f-42f3-b352-7d75b90234be",
   "metadata": {},
   "source": [
    "### Train models to pick 1-3 best performances"
   ]
  },
  {
   "cell_type": "code",
   "execution_count": 59,
   "id": "b83cac7c-4fc2-45fe-bce0-0000a0fb79d0",
   "metadata": {},
   "outputs": [
    {
     "name": "stderr",
     "output_type": "stream",
     "text": [
      "/home/carmina/miniconda3/envs/pez-jedha/lib/python3.7/site-packages/sklearn/svm/_base.py:977: ConvergenceWarning: Liblinear failed to converge, increase the number of iterations.\n",
      "  \"the number of iterations.\", ConvergenceWarning)\n"
     ]
    },
    {
     "name": "stdout",
     "output_type": "stream",
     "text": [
      "[12:34:39] WARNING: /tmp/build/80754af9/xgboost-split_1619724447847/work/src/learner.cc:1061: Starting in XGBoost 1.3.0, the default evaluation metric used with the objective 'binary:logistic' was changed from 'error' to 'logloss'. Explicitly set eval_metric if you'd like to restore the old behavior.\n"
     ]
    },
    {
     "data": {
      "text/html": [
       "<div>\n",
       "<style scoped>\n",
       "    .dataframe tbody tr th:only-of-type {\n",
       "        vertical-align: middle;\n",
       "    }\n",
       "\n",
       "    .dataframe tbody tr th {\n",
       "        vertical-align: top;\n",
       "    }\n",
       "\n",
       "    .dataframe thead th {\n",
       "        text-align: right;\n",
       "    }\n",
       "</style>\n",
       "<table border=\"1\" class=\"dataframe\">\n",
       "  <thead>\n",
       "    <tr style=\"text-align: right;\">\n",
       "      <th></th>\n",
       "      <th>classifier</th>\n",
       "      <th>train_precision</th>\n",
       "      <th>train_recall</th>\n",
       "      <th>train_f1</th>\n",
       "      <th>test_precision</th>\n",
       "      <th>test_recall</th>\n",
       "      <th>test_f1</th>\n",
       "    </tr>\n",
       "  </thead>\n",
       "  <tbody>\n",
       "    <tr>\n",
       "      <th>0</th>\n",
       "      <td>LogisticRegression()</td>\n",
       "      <td>0.857994</td>\n",
       "      <td>0.688200</td>\n",
       "      <td>0.763774</td>\n",
       "      <td>0.847113</td>\n",
       "      <td>0.694833</td>\n",
       "      <td>0.763454</td>\n",
       "    </tr>\n",
       "    <tr>\n",
       "      <th>1</th>\n",
       "      <td>KNeighborsClassifier()</td>\n",
       "      <td>0.857844</td>\n",
       "      <td>0.716198</td>\n",
       "      <td>0.780648</td>\n",
       "      <td>0.814933</td>\n",
       "      <td>0.687298</td>\n",
       "      <td>0.745693</td>\n",
       "    </tr>\n",
       "    <tr>\n",
       "      <th>2</th>\n",
       "      <td>LinearSVC()</td>\n",
       "      <td>0.869088</td>\n",
       "      <td>0.670036</td>\n",
       "      <td>0.756690</td>\n",
       "      <td>0.861073</td>\n",
       "      <td>0.673843</td>\n",
       "      <td>0.756039</td>\n",
       "    </tr>\n",
       "    <tr>\n",
       "      <th>3</th>\n",
       "      <td>RandomForestClassifier()</td>\n",
       "      <td>0.890885</td>\n",
       "      <td>0.731494</td>\n",
       "      <td>0.803360</td>\n",
       "      <td>0.805556</td>\n",
       "      <td>0.686760</td>\n",
       "      <td>0.741429</td>\n",
       "    </tr>\n",
       "    <tr>\n",
       "      <th>4</th>\n",
       "      <td>AdaBoostClassifier()</td>\n",
       "      <td>0.849975</td>\n",
       "      <td>0.684786</td>\n",
       "      <td>0.758490</td>\n",
       "      <td>0.847167</td>\n",
       "      <td>0.692142</td>\n",
       "      <td>0.761848</td>\n",
       "    </tr>\n",
       "    <tr>\n",
       "      <th>5</th>\n",
       "      <td>XGBClassifier(base_score=0.5, booster='gbtree'...</td>\n",
       "      <td>0.862616</td>\n",
       "      <td>0.698033</td>\n",
       "      <td>0.771646</td>\n",
       "      <td>0.838014</td>\n",
       "      <td>0.690527</td>\n",
       "      <td>0.757156</td>\n",
       "    </tr>\n",
       "  </tbody>\n",
       "</table>\n",
       "</div>"
      ],
      "text/plain": [
       "                                          classifier  train_precision  \\\n",
       "0                               LogisticRegression()         0.857994   \n",
       "1                             KNeighborsClassifier()         0.857844   \n",
       "2                                        LinearSVC()         0.869088   \n",
       "3                           RandomForestClassifier()         0.890885   \n",
       "4                               AdaBoostClassifier()         0.849975   \n",
       "5  XGBClassifier(base_score=0.5, booster='gbtree'...         0.862616   \n",
       "\n",
       "   train_recall  train_f1  test_precision  test_recall   test_f1  \n",
       "0      0.688200  0.763774        0.847113     0.694833  0.763454  \n",
       "1      0.716198  0.780648        0.814933     0.687298  0.745693  \n",
       "2      0.670036  0.756690        0.861073     0.673843  0.756039  \n",
       "3      0.731494  0.803360        0.805556     0.686760  0.741429  \n",
       "4      0.684786  0.758490        0.847167     0.692142  0.761848  \n",
       "5      0.698033  0.771646        0.838014     0.690527  0.757156  "
      ]
     },
     "execution_count": 59,
     "metadata": {},
     "output_type": "execute_result"
    }
   ],
   "source": [
    "headers = ['classifier', 'train_precision', 'train_recall', 'train_f1','test_precision', 'test_recall', 'test_f1']\n",
    "values = list()\n",
    "res_pipelines = list()\n",
    "for classifier in classifiers:\n",
    "    pipe = Pipeline(steps=[('preprocessing', preprocessor),\n",
    "                      ('classifier', classifier)])\n",
    "    pipe.fit(X_train, y_train.ravel())\n",
    "    \n",
    "    p, r, f1 = predict_compare(pipe, X_train, y_train.ravel())\n",
    "    p_test, r_test, f1_test = predict_compare(pipe, X_test, y_test.ravel())\n",
    "    values.append([str(classifier), p, r, f1, p_test, r_test, f1_test])\n",
    "    #print(\"model score: %.3f\" % pipe.score(X_test, y_test))   \n",
    "    \n",
    "#print(values)\n",
    "clf_perf = pd.DataFrame(values, columns=headers)\n",
    "clf_perf"
   ]
  },
  {
   "cell_type": "markdown",
   "id": "25a8a43f-49a7-4a39-86c1-6e02347c4a74",
   "metadata": {},
   "source": [
    "> Since test f1_scores are not that different between models and RandomForest has the characteristic of having the calculation of feature importance -> I choose these model to apply SearchCV <br>\n",
    "However, for future enhancements on the model, searching for good parameters will be done for AdaBoost and LogisticRegression"
   ]
  },
  {
   "cell_type": "markdown",
   "id": "6076d0c5-ff8e-42eb-b975-a055730a136a",
   "metadata": {},
   "source": [
    "### Feature importances from RandomForest classifier"
   ]
  },
  {
   "cell_type": "code",
   "execution_count": 72,
   "id": "d8b18b57-f66e-4764-9c5c-1e36ae7e2dc4",
   "metadata": {},
   "outputs": [],
   "source": [
    "cat_encoder_attribs = np.asarray(pipe.named_steps['preprocessing'].named_transformers_['categoricals'].named_steps['onehot'].categories_, dtype=object)"
   ]
  },
  {
   "cell_type": "code",
   "execution_count": 73,
   "id": "dbceb616-0f2f-4210-987c-20ba12a80426",
   "metadata": {},
   "outputs": [],
   "source": [
    "cat_attribs = np.concatenate([cat_list for cat_list in cat_encoder_attribs])"
   ]
  },
  {
   "cell_type": "code",
   "execution_count": 74,
   "id": "ffa33b65-d4b3-4262-bc74-452932042515",
   "metadata": {},
   "outputs": [
    {
     "data": {
      "text/plain": [
       "array(['China', 'Germany', 'UK', 'US', 'Ads', 'Direct', 'Seo', 'age',\n",
       "       'new_user', 'total_pages_visited'], dtype=object)"
      ]
     },
     "execution_count": 74,
     "metadata": {},
     "output_type": "execute_result"
    }
   ],
   "source": [
    "all_features = np.concatenate([cat_attribs, num_features])\n",
    "all_features"
   ]
  },
  {
   "cell_type": "code",
   "execution_count": 75,
   "id": "1eba702d-2ba6-497c-99b3-a8885631c9f1",
   "metadata": {},
   "outputs": [
    {
     "data": {
      "text/plain": [
       "ColumnTransformer(transformers=[('categoricals',\n",
       "                                 Pipeline(steps=[('imputer_cat',\n",
       "                                                  SimpleImputer(strategy='most_frequent')),\n",
       "                                                 ('onehot',\n",
       "                                                  OneHotEncoder(handle_unknown='ignore'))]),\n",
       "                                 ['country', 'source']),\n",
       "                                ('numericals',\n",
       "                                 Pipeline(steps=[('imputer_num',\n",
       "                                                  SimpleImputer(strategy='median')),\n",
       "                                                 ('scaler', StandardScaler())]),\n",
       "                                 ['age', 'new_user', 'total_pages_visited'])])"
      ]
     },
     "execution_count": 75,
     "metadata": {},
     "output_type": "execute_result"
    }
   ],
   "source": [
    "pipe.named_steps['preprocessing']"
   ]
  },
  {
   "cell_type": "code",
   "execution_count": 76,
   "id": "d0b301b9-4ea7-4b58-a2de-6348f9a112cc",
   "metadata": {},
   "outputs": [
    {
     "data": {
      "text/plain": [
       "[(0.6110039, 'total_pages_visited'),\n",
       " (0.1650179, 'China'),\n",
       " (0.13887408, 'new_user'),\n",
       " (0.020104991, 'US'),\n",
       " (0.017243225, 'age'),\n",
       " (0.010911038, 'Direct'),\n",
       " (0.010494949, 'Germany'),\n",
       " (0.01023513, 'UK'),\n",
       " (0.008662763, 'Ads'),\n",
       " (0.0074520144, 'Seo')]"
      ]
     },
     "execution_count": 76,
     "metadata": {},
     "output_type": "execute_result"
    }
   ],
   "source": [
    "sorted(zip(pipe.steps[1][1].feature_importances_, all_features), reverse=True)"
   ]
  },
  {
   "cell_type": "markdown",
   "id": "6ce3c030-b2d6-41c7-9f5f-44b362257685",
   "metadata": {},
   "source": [
    "> The most important features are total_pages_visited, China, new_user <br>\n",
    "> Age is not that important as I thought initially <br>\n",
    "> Finally, source has very small weight (almost zero) on the result <br>"
   ]
  },
  {
   "cell_type": "code",
   "execution_count": null,
   "id": "77e7a6d0-1282-4694-b012-fe5c3ed41c7b",
   "metadata": {},
   "outputs": [],
   "source": []
  }
 ],
 "metadata": {
  "kernelspec": {
   "display_name": "kernel-pez-jedha",
   "language": "python",
   "name": "kernel-pez-jedha"
  },
  "language_info": {
   "codemirror_mode": {
    "name": "ipython",
    "version": 3
   },
   "file_extension": ".py",
   "mimetype": "text/x-python",
   "name": "python",
   "nbconvert_exporter": "python",
   "pygments_lexer": "ipython3",
   "version": "3.7.11"
  }
 },
 "nbformat": 4,
 "nbformat_minor": 5
}
