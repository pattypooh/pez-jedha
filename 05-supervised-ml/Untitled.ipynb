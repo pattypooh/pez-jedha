{
 "cells": [
  {
   "cell_type": "code",
   "execution_count": 2,
   "id": "33731ab6-eeb6-4645-acb5-0f16f28c4cff",
   "metadata": {},
   "outputs": [],
   "source": [
    "import pandas as pd"
   ]
  },
  {
   "cell_type": "code",
   "execution_count": 1,
   "id": "d6b50b1c-7e65-45c7-af28-fc08de1bdc40",
   "metadata": {},
   "outputs": [],
   "source": [
    "from sklearn import datasets\n",
    "data = datasets.fetch_california_housing(data_home=None, download_if_missing=True, return_X_y=False)"
   ]
  },
  {
   "cell_type": "code",
   "execution_count": null,
   "id": "663bb280-9b35-4c9c-bba0-2a7c40adf602",
   "metadata": {},
   "outputs": [],
   "source": []
  }
 ],
 "metadata": {
  "kernelspec": {
   "display_name": "kernel-pez-jedha",
   "language": "python",
   "name": "kernel-pez-jedha"
  },
  "language_info": {
   "codemirror_mode": {
    "name": "ipython",
    "version": 3
   },
   "file_extension": ".py",
   "mimetype": "text/x-python",
   "name": "python",
   "nbconvert_exporter": "python",
   "pygments_lexer": "ipython3",
   "version": "3.9.6"
  }
 },
 "nbformat": 4,
 "nbformat_minor": 5
}
