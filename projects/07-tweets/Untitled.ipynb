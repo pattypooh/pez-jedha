{
 "cells": [
  {
   "cell_type": "code",
   "execution_count": 4,
   "id": "9e3a55e8-35ef-48ab-ba7f-5a24ac9db9eb",
   "metadata": {},
   "outputs": [
    {
     "name": "stdout",
     "output_type": "stream",
     "text": [
      "negative\n"
     ]
    }
   ],
   "source": [
    "if 'negative' in 'negativeadfds':\n",
    "    print('negative')"
   ]
  },
  {
   "cell_type": "code",
   "execution_count": 7,
   "id": "f7d2631f-6b41-4626-8654-1c40ac2b285e",
   "metadata": {},
   "outputs": [],
   "source": [
    "import numpy as np\n",
    "batch_size = 3\n",
    "freq1, freq2, offsets1, offsets2 = np.random.rand(4, batch_size, 1)"
   ]
  },
  {
   "cell_type": "code",
   "execution_count": 12,
   "id": "b7ae2fc5-7b39-4b04-a93b-452eeccf6163",
   "metadata": {},
   "outputs": [
    {
     "data": {
      "text/plain": [
       "array([[[0.57337995],\n",
       "        [0.07441857],\n",
       "        [0.21423971]],\n",
       "\n",
       "       [[0.55886315],\n",
       "        [0.92542482],\n",
       "        [0.2512845 ]],\n",
       "\n",
       "       [[0.87883779],\n",
       "        [0.95728261],\n",
       "        [0.25636529]],\n",
       "\n",
       "       [[0.60069941],\n",
       "        [0.82658826],\n",
       "        [0.64433329]]])"
      ]
     },
     "execution_count": 12,
     "metadata": {},
     "output_type": "execute_result"
    }
   ],
   "source": [
    "arr = np.random.rand(4, batch_size, 1)\n",
    "arr"
   ]
  },
  {
   "cell_type": "code",
   "execution_count": 13,
   "id": "f072c021-b46c-4f3c-aa91-7a2242decd25",
   "metadata": {},
   "outputs": [],
   "source": [
    "freq1, freq2, offsets1, offsets2 = arr"
   ]
  },
  {
   "cell_type": "code",
   "execution_count": 16,
   "id": "656b7f25-e097-4c91-922a-bde2bdcf4df5",
   "metadata": {},
   "outputs": [
    {
     "data": {
      "text/plain": [
       "array([[0.87883779],\n",
       "       [0.95728261],\n",
       "       [0.25636529]])"
      ]
     },
     "execution_count": 16,
     "metadata": {},
     "output_type": "execute_result"
    }
   ],
   "source": [
    "offsets1"
   ]
  },
  {
   "cell_type": "code",
   "execution_count": null,
   "id": "f489cdfb-9287-490d-b261-8584aa7ac2f7",
   "metadata": {},
   "outputs": [],
   "source": []
  }
 ],
 "metadata": {
  "kernelspec": {
   "display_name": "kernel-pez-jedha",
   "language": "python",
   "name": "kernel-pez-jedha"
  },
  "language_info": {
   "codemirror_mode": {
    "name": "ipython",
    "version": 3
   },
   "file_extension": ".py",
   "mimetype": "text/x-python",
   "name": "python",
   "nbconvert_exporter": "python",
   "pygments_lexer": "ipython3",
   "version": "3.7.11"
  }
 },
 "nbformat": 4,
 "nbformat_minor": 5
}
