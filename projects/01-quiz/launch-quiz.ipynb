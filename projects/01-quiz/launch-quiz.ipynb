{
 "cells": [
  {
   "cell_type": "code",
   "execution_count": 1,
   "metadata": {},
   "outputs": [],
   "source": [
    "import collections"
   ]
  },
  {
   "cell_type": "markdown",
   "metadata": {},
   "source": [
    "## Initiliaze parameters used through the program"
   ]
  },
  {
   "cell_type": "code",
   "execution_count": 2,
   "metadata": {},
   "outputs": [],
   "source": [
    "def init_messages():\n",
    "    msg_types = collections.defaultdict(bool)\n",
    "    #msg_types[True] = \"Good job! This is the right answer\"\n",
    "    #msg_types[False] = \"Too bad! that is not the correct answer\"\n",
    "    msg_types[True] = r\"Congrats, {} is the right answer\"\n",
    "    msg_types[False] = r\"Sorry, you have {} changes left\"\n",
    "    \n",
    "    return msg_types"
   ]
  },
  {
   "cell_type": "code",
   "execution_count": 3,
   "metadata": {},
   "outputs": [],
   "source": [
    "def init_questions():\n",
    "    questions = [('Who won 13 Roland Garros cups?','nadal'), ('How many students do our class have', '14'),\n",
    "                ('Who sings La vida loca','ricky martin'), ('Question optionnelle','4')]\n",
    "    return questions"
   ]
  },
  {
   "cell_type": "code",
   "execution_count": 4,
   "metadata": {},
   "outputs": [],
   "source": [
    "MESSAGES = init_messages()\n",
    "QUESTIONS = init_questions()"
   ]
  },
  {
   "cell_type": "markdown",
   "metadata": {},
   "source": [
    "## 1. Function to ask a question"
   ]
  },
  {
   "cell_type": "code",
   "execution_count": 5,
   "metadata": {},
   "outputs": [],
   "source": [
    "def ask_question(question, num=0):\n",
    "    '''\n",
    "    Asks a question to a user, get the answer and return it.\n",
    "        question: Question displayed to the user\n",
    "        num : The number of the question.  By default is zero,\n",
    "    '''\n",
    "    num_question = str(num) if num > 0 else ''\n",
    "    user_answer = str(input(f\"Question {num_question}: {question}\"))\n",
    "    #print(f\"Your answer : {user_answer}\")\n",
    "    return user_answer"
   ]
  },
  {
   "cell_type": "markdown",
   "metadata": {},
   "source": [
    "## 2. Function to compare the user answer with the right answer"
   ]
  },
  {
   "cell_type": "code",
   "execution_count": 6,
   "metadata": {},
   "outputs": [],
   "source": [
    "def is_answer_ok(correct_answer, user_answer):\n",
    "    return correct_answer == user_answer.lower()"
   ]
  },
  {
   "cell_type": "markdown",
   "metadata": {},
   "source": [
    "## 3. Function to display a message to user according to its answer"
   ]
  },
  {
   "cell_type": "code",
   "execution_count": 7,
   "metadata": {},
   "outputs": [],
   "source": [
    "def display_message(type_msg:bool, msg_param):\n",
    "    '''\n",
    "    Returns the message to be displayed to a user after it gave a response to a question\n",
    "    Parameters:\n",
    "    --------------------\n",
    "        type_msg: 2 values are possible: True or False\n",
    "        msg_param: A specific value to customize in the message\n",
    "            when an type_msg = ok , the correct answer should be passed.\n",
    "            when an type_msg = nok, the number of tries left should be passed.\n",
    "        \n",
    "        returns a str message\n",
    "    '''\n",
    "    return MESSAGES[type_msg].format(msg_param)\n",
    "    "
   ]
  },
  {
   "cell_type": "code",
   "execution_count": 8,
   "metadata": {},
   "outputs": [],
   "source": [
    "def print_intro():\n",
    "    print(\"Welcome to our quizz!\")\n",
    "    print(\"You have 3 lives.\\n\")"
   ]
  },
  {
   "cell_type": "raw",
   "metadata": {
    "jupyter": {
     "source_hidden": true
    }
   },
   "source": [
    "def print_chances_left(n_tries_done, max_tries):\n",
    "    print (f\"Sorry, you have {max_tries - n_tries_done} chance(s) left\")"
   ]
  },
  {
   "cell_type": "code",
   "execution_count": null,
   "metadata": {
    "jupyter": {
     "source_hidden": true
    }
   },
   "outputs": [],
   "source": [
    "print_chances_left(2, 3)"
   ]
  },
  {
   "cell_type": "markdown",
   "metadata": {},
   "source": [
    "## 4. Some tests"
   ]
  },
  {
   "cell_type": "code",
   "execution_count": 15,
   "metadata": {},
   "outputs": [],
   "source": [
    "def test_answer_ok():\n",
    "    print('init')\n",
    "    question, answer = QUESTIONS[0]\n",
    "    user_answer = ask_question(question)\n",
    "    print(f'user_answer .... {user_answer}')\n",
    "    print (MESSAGES[is_answer_ok(answer, user_answer)])\n",
    "    #display_message(is_ok)"
   ]
  },
  {
   "cell_type": "code",
   "execution_count": 17,
   "metadata": {},
   "outputs": [],
   "source": [
    "is_ok = is_answer_ok(\"8\", \"user_answer\")"
   ]
  },
  {
   "cell_type": "code",
   "execution_count": 22,
   "metadata": {},
   "outputs": [
    {
     "name": "stdout",
     "output_type": "stream",
     "text": [
      "Sorry, you have 888 changes left\n"
     ]
    }
   ],
   "source": [
    "print(MESSAGES[False].format('888'))"
   ]
  },
  {
   "cell_type": "code",
   "execution_count": 14,
   "metadata": {},
   "outputs": [
    {
     "name": "stdout",
     "output_type": "stream",
     "text": [
      "Who won 13 Roland Garros cups? nadal\n"
     ]
    },
    {
     "name": "stdin",
     "output_type": "stream",
     "text": [
      "Question : Who won 13 Roland Garros cups? Nadal\n"
     ]
    },
    {
     "name": "stdout",
     "output_type": "stream",
     "text": [
      "Congrats, {} is the right answer\n"
     ]
    }
   ],
   "source": [
    "test_answer_ok()"
   ]
  },
  {
   "cell_type": "markdown",
   "metadata": {},
   "source": [
    "## Function to launch a quiz"
   ]
  },
  {
   "cell_type": "code",
   "execution_count": null,
   "metadata": {},
   "outputs": [],
   "source": [
    "def launch_quiz(n_questions = 1, max_tries = 3):\n",
    "    '''\n",
    "    Launches a series of questions to the user.  If the user answer wrong to max_tries questions\n",
    "    then the quiz stops and the user lost the game.\n",
    "    Parameters:\n",
    "    ------------\n",
    "    n_questions: The number of questions the user want to answer\n",
    "    max_tries: The max attemtps the user.  \n",
    "    \n",
    "    '''\n",
    "    print_intro()\n",
    "    final_message = \"\\n Well done! You are the quiz winner\"\n",
    "    questions_count = 0\n",
    "    n_tries = 0\n",
    "    for i, (question, answer) in enumerate(QUESTIONS):\n",
    "        is_ok = False\n",
    "        \n",
    "        while not(is_ok) and n_tries<max_tries:\n",
    "            user_answer = ask_question(question, i+1)\n",
    "            is_ok = is_answer_ok(answer, user_answer)\n",
    "            if not(is_ok):\n",
    "                n_tries +=1\n",
    "                \n",
    "                print(MESSAGES[is_ok].format(max_tries - n_tries))\n",
    "            else:\n",
    "                print(MESSAGES[is_ok].format(user_answer))\n",
    "        questions_count += 1\n",
    "        if not(is_ok):\n",
    "            final_message = \"\\n Too bad, you lost the game\"\n",
    "                \n",
    "        if questions_count >= n_questions or not(is_ok): # if we reached the max questions to be asked\n",
    "            break\n",
    "    print(final_message)"
   ]
  },
  {
   "cell_type": "markdown",
   "metadata": {},
   "source": [
    "## Main> Launch the quiz"
   ]
  },
  {
   "cell_type": "code",
   "execution_count": null,
   "metadata": {},
   "outputs": [],
   "source": [
    "launch_quiz(2)"
   ]
  },
  {
   "cell_type": "code",
   "execution_count": null,
   "metadata": {},
   "outputs": [],
   "source": []
  }
 ],
 "metadata": {
  "kernelspec": {
   "display_name": "Python 3",
   "language": "python",
   "name": "python3"
  },
  "language_info": {
   "codemirror_mode": {
    "name": "ipython",
    "version": 3
   },
   "file_extension": ".py",
   "mimetype": "text/x-python",
   "name": "python",
   "nbconvert_exporter": "python",
   "pygments_lexer": "ipython3",
   "version": "3.8.6"
  }
 },
 "nbformat": 4,
 "nbformat_minor": 4
}
