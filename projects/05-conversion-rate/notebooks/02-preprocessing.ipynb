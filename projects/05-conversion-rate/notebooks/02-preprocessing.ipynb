{
 "cells": [
  {
   "cell_type": "code",
   "execution_count": 1,
   "id": "d23911fe-0118-4715-bd99-c2f677e90ed6",
   "metadata": {},
   "outputs": [],
   "source": [
    "import pandas as pd\n",
    "import numpy as np\n",
    "\n",
    "from sklearn.model_selection import train_test_split\n",
    "from sklearn.impute import SimpleImputer\n",
    "from sklearn.preprocessing import StandardScaler\n",
    "from sklearn.preprocessing import OneHotEncoder\n",
    "from sklearn.compose import ColumnTransformer\n",
    "from sklearn.linear_model import LogisticRegression\n",
    "from sklearn.ensemble import  RandomForestClassifier, AdaBoostClassifier\n",
    "from sklearn.neighbors import KNeighborsClassifier\n",
    "from sklearn.svm import LinearSVC\n",
    "from xgboost import XGBClassifier\n",
    "from sklearn.metrics import precision_score, recall_score, f1_score, confusion_matrix\n",
    "from sklearn.pipeline import Pipeline\n",
    "\n",
    "import matplotlib.pyplot as plt\n",
    "import plotly.express as px\n",
    "import plotly.graph_objects as go\n",
    "import plotly.io as pio\n",
    "# setting Jedha color palette as default\n",
    "pio.templates[\"jedha\"] = go.layout.Template(\n",
    "    layout_colorway=[\"#4B9AC7\", \"#4BE8E0\", \"#9DD4F3\", \"#97FBF6\", \"#2A7FAF\", \"#23B1AB\", \"#0E3449\", \"#015955\"]\n",
    ")\n",
    "pio.templates.default = \"jedha\"\n",
    "from IPython.display import display"
   ]
  },
  {
   "cell_type": "code",
   "execution_count": 2,
   "id": "b51f00e8-49a1-4077-b205-45fb2d2762a2",
   "metadata": {},
   "outputs": [
    {
     "name": "stdout",
     "output_type": "stream",
     "text": [
      "Set with labels (our train+test) : (284580, 6)\n"
     ]
    }
   ],
   "source": [
    "data = pd.read_csv('./../data/raw/conversion_data_train.csv')\n",
    "print('Set with labels (our train+test) :', data.shape)"
   ]
  },
  {
   "cell_type": "markdown",
   "id": "9b15f4ce-9768-4be5-a6f8-1f460b1f17a0",
   "metadata": {},
   "source": [
    "## Pre-processing pipeline"
   ]
  },
  {
   "cell_type": "markdown",
   "id": "f7c54e2d-bf35-43a8-8015-da346caf8327",
   "metadata": {},
   "source": [
    "### Re-split data with all features"
   ]
  },
  {
   "cell_type": "markdown",
   "id": "e5bd8140-c5b8-4243-af43-45d963edc71a",
   "metadata": {},
   "source": [
    "All features <br>\n",
    "Test_set ratio : 20% "
   ]
  },
  {
   "cell_type": "code",
   "execution_count": 4,
   "id": "2f1d826b-1b20-4676-8b91-597b1510cc4d",
   "metadata": {},
   "outputs": [],
   "source": [
    "target_label = ['converted']\n",
    "X = data.drop(target_label, axis=1)\n",
    "y = data[target_label].values\n",
    "X_train, X_test, y_train, y_test = train_test_split(X, y, test_size=0.2, random_state=42)\n"
   ]
  },
  {
   "cell_type": "markdown",
   "id": "5a71e707-25ef-43a5-a382-17c3466f6a08",
   "metadata": {},
   "source": [
    "### Create transformation pipeline"
   ]
  },
  {
   "cell_type": "code",
   "execution_count": 9,
   "id": "8c8acc2a-f496-4912-8aa6-83eb3c187f36",
   "metadata": {
    "tags": []
   },
   "outputs": [],
   "source": [
    "num_features = X_train.select_dtypes(include=np.number).columns\n",
    "cat_features = X_train.select_dtypes(include=object).columns\n",
    "# Transformer for extra features from Date\n",
    "# transformer for numerical features\n",
    "num_transformer = Pipeline([\n",
    "        ('imputer_num', SimpleImputer(strategy = 'median')),\n",
    "        ('scaler', StandardScaler())\n",
    "    ])\n",
    "# transformer for categorical features\n",
    "cat_transformer = Pipeline([\n",
    "        ('imputer_cat', SimpleImputer(strategy = 'most_frequent')),\n",
    "        ('onehot', OneHotEncoder(handle_unknown='ignore'))])\n",
    "\n",
    "preprocessor = ColumnTransformer([\n",
    "        ('categoricals', cat_transformer, cat_features),\n",
    "        ('numericals', num_transformer, num_features)\n",
    "    ],\n",
    "    remainder = 'drop'\n",
    ")"
   ]
  },
  {
   "cell_type": "code",
   "execution_count": 10,
   "id": "d4f7ca9f-174a-4a0a-aac2-0cab3b7d5736",
   "metadata": {},
   "outputs": [],
   "source": [
    "classifiers = [\n",
    "    LogisticRegression(),\n",
    "    KNeighborsClassifier(5),\n",
    "    #LinearSVC(),\n",
    "    #NuSVC(probability=True),\n",
    "    RandomForestClassifier(),\n",
    "    AdaBoostClassifier(),\n",
    "    XGBClassifier(use_label_encoder=False),\n",
    "    #GradientBoostingClassifier()\n",
    "    ]\n"
   ]
  },
  {
   "cell_type": "markdown",
   "id": "0c385059-10fd-431f-ba9f-e5c664936f00",
   "metadata": {},
   "source": [
    "### Train models to pick 1-3 best performances"
   ]
  },
  {
   "cell_type": "code",
   "execution_count": 13,
   "id": "9f74e731-c575-4d92-a9c7-2d55929d9ada",
   "metadata": {
    "tags": []
   },
   "outputs": [],
   "source": [
    "def predict_compare(model, X, y_true):\n",
    "    y_pred = model.predict(X)\n",
    "    precision = precision_score(y_true, y_pred)\n",
    "    recall = recall_score(y_true, y_pred)\n",
    "    f1 = f1_score(y_true, y_pred)\n",
    "    return precision, recall, f1"
   ]
  },
  {
   "cell_type": "code",
   "execution_count": 14,
   "id": "88000271-760d-40a5-b46c-541480e042ab",
   "metadata": {},
   "outputs": [
    {
     "name": "stderr",
     "output_type": "stream",
     "text": [
      "/home/carmina/miniconda3/envs/pez-jedha/lib/python3.7/site-packages/sklearn/utils/validation.py:72: DataConversionWarning: A column-vector y was passed when a 1d array was expected. Please change the shape of y to (n_samples, ), for example using ravel().\n",
      "  return f(**kwargs)\n",
      "/home/carmina/miniconda3/envs/pez-jedha/lib/python3.7/site-packages/sklearn/pipeline.py:335: DataConversionWarning: A column-vector y was passed when a 1d array was expected. Please change the shape of y to (n_samples, ), for example using ravel().\n",
      "  self._final_estimator.fit(Xt, y, **fit_params_last_step)\n",
      "/home/carmina/miniconda3/envs/pez-jedha/lib/python3.7/site-packages/sklearn/pipeline.py:335: DataConversionWarning: A column-vector y was passed when a 1d array was expected. Please change the shape of y to (n_samples,), for example using ravel().\n",
      "  self._final_estimator.fit(Xt, y, **fit_params_last_step)\n",
      "/home/carmina/miniconda3/envs/pez-jedha/lib/python3.7/site-packages/sklearn/utils/validation.py:72: DataConversionWarning: A column-vector y was passed when a 1d array was expected. Please change the shape of y to (n_samples, ), for example using ravel().\n",
      "  return f(**kwargs)\n"
     ]
    },
    {
     "name": "stdout",
     "output_type": "stream",
     "text": [
      "[15:10:02] WARNING: /tmp/build/80754af9/xgboost-split_1619724447847/work/src/learner.cc:1061: Starting in XGBoost 1.3.0, the default evaluation metric used with the objective 'binary:logistic' was changed from 'error' to 'logloss'. Explicitly set eval_metric if you'd like to restore the old behavior.\n"
     ]
    },
    {
     "data": {
      "text/html": [
       "<div>\n",
       "<style scoped>\n",
       "    .dataframe tbody tr th:only-of-type {\n",
       "        vertical-align: middle;\n",
       "    }\n",
       "\n",
       "    .dataframe tbody tr th {\n",
       "        vertical-align: top;\n",
       "    }\n",
       "\n",
       "    .dataframe thead th {\n",
       "        text-align: right;\n",
       "    }\n",
       "</style>\n",
       "<table border=\"1\" class=\"dataframe\">\n",
       "  <thead>\n",
       "    <tr style=\"text-align: right;\">\n",
       "      <th></th>\n",
       "      <th>obj_clf</th>\n",
       "      <th>classifier</th>\n",
       "      <th>train_precision</th>\n",
       "      <th>train_recall</th>\n",
       "      <th>train_f1</th>\n",
       "      <th>test_precision</th>\n",
       "      <th>test_recall</th>\n",
       "      <th>test_f1</th>\n",
       "    </tr>\n",
       "  </thead>\n",
       "  <tbody>\n",
       "    <tr>\n",
       "      <th>0</th>\n",
       "      <td>LogisticRegression()</td>\n",
       "      <td>LogisticRegression()</td>\n",
       "      <td>0.857994</td>\n",
       "      <td>0.688200</td>\n",
       "      <td>0.763774</td>\n",
       "      <td>0.847113</td>\n",
       "      <td>0.694833</td>\n",
       "      <td>0.763454</td>\n",
       "    </tr>\n",
       "    <tr>\n",
       "      <th>1</th>\n",
       "      <td>KNeighborsClassifier()</td>\n",
       "      <td>KNeighborsClassifier()</td>\n",
       "      <td>0.857844</td>\n",
       "      <td>0.716198</td>\n",
       "      <td>0.780648</td>\n",
       "      <td>0.814933</td>\n",
       "      <td>0.687298</td>\n",
       "      <td>0.745693</td>\n",
       "    </tr>\n",
       "    <tr>\n",
       "      <th>2</th>\n",
       "      <td>(DecisionTreeClassifier(max_features='auto', r...</td>\n",
       "      <td>RandomForestClassifier()</td>\n",
       "      <td>0.893635</td>\n",
       "      <td>0.728626</td>\n",
       "      <td>0.802738</td>\n",
       "      <td>0.811429</td>\n",
       "      <td>0.687836</td>\n",
       "      <td>0.744538</td>\n",
       "    </tr>\n",
       "    <tr>\n",
       "      <th>3</th>\n",
       "      <td>(DecisionTreeClassifier(max_depth=1, random_st...</td>\n",
       "      <td>AdaBoostClassifier()</td>\n",
       "      <td>0.849975</td>\n",
       "      <td>0.684786</td>\n",
       "      <td>0.758490</td>\n",
       "      <td>0.847167</td>\n",
       "      <td>0.692142</td>\n",
       "      <td>0.761848</td>\n",
       "    </tr>\n",
       "    <tr>\n",
       "      <th>4</th>\n",
       "      <td>XGBClassifier(base_score=0.5, booster='gbtree'...</td>\n",
       "      <td>XGBClassifier(base_score=0.5, booster='gbtree'...</td>\n",
       "      <td>0.862616</td>\n",
       "      <td>0.698033</td>\n",
       "      <td>0.771646</td>\n",
       "      <td>0.838014</td>\n",
       "      <td>0.690527</td>\n",
       "      <td>0.757156</td>\n",
       "    </tr>\n",
       "  </tbody>\n",
       "</table>\n",
       "</div>"
      ],
      "text/plain": [
       "                                             obj_clf  \\\n",
       "0                               LogisticRegression()   \n",
       "1                             KNeighborsClassifier()   \n",
       "2  (DecisionTreeClassifier(max_features='auto', r...   \n",
       "3  (DecisionTreeClassifier(max_depth=1, random_st...   \n",
       "4  XGBClassifier(base_score=0.5, booster='gbtree'...   \n",
       "\n",
       "                                          classifier  train_precision  \\\n",
       "0                               LogisticRegression()         0.857994   \n",
       "1                             KNeighborsClassifier()         0.857844   \n",
       "2                           RandomForestClassifier()         0.893635   \n",
       "3                               AdaBoostClassifier()         0.849975   \n",
       "4  XGBClassifier(base_score=0.5, booster='gbtree'...         0.862616   \n",
       "\n",
       "   train_recall  train_f1  test_precision  test_recall   test_f1  \n",
       "0      0.688200  0.763774        0.847113     0.694833  0.763454  \n",
       "1      0.716198  0.780648        0.814933     0.687298  0.745693  \n",
       "2      0.728626  0.802738        0.811429     0.687836  0.744538  \n",
       "3      0.684786  0.758490        0.847167     0.692142  0.761848  \n",
       "4      0.698033  0.771646        0.838014     0.690527  0.757156  "
      ]
     },
     "execution_count": 14,
     "metadata": {},
     "output_type": "execute_result"
    }
   ],
   "source": [
    "headers = ['obj_clf', 'classifier', 'train_precision', 'train_recall', 'train_f1','test_precision', 'test_recall', 'test_f1']\n",
    "values = list()\n",
    "res_pipelines = list()\n",
    "for classifier in classifiers:\n",
    "    pipe = Pipeline(steps=[('preprocessing', preprocessor),\n",
    "                      ('classifier', classifier)])\n",
    "    pipe.fit(X_train, y_train)\n",
    "    \n",
    "    p, r, f1 = predict_compare(pipe, X_train, y_train)\n",
    "    p_test, r_test, f1_test = predict_compare(pipe, X_test, y_test)\n",
    "    values.append([classifier, str(classifier), p, r, f1, p_test, r_test, f1_test])\n",
    "    #print(\"model score: %.3f\" % pipe.score(X_test, y_test))   \n",
    "    \n",
    "#print(values)\n",
    "clf_perf = pd.DataFrame(values, columns=headers)\n",
    "clf_perf"
   ]
  },
  {
   "cell_type": "markdown",
   "id": "4df6b80d-3f3f-4d86-9fe6-1db5976a06ce",
   "metadata": {},
   "source": [
    "### Feature importances from RandomForest classifier"
   ]
  },
  {
   "cell_type": "code",
   "execution_count": 15,
   "id": "5f28c545-9e72-442b-a573-79f97a2befd2",
   "metadata": {},
   "outputs": [],
   "source": [
    "clf = clf_perf['obj_clf'][2]"
   ]
  },
  {
   "cell_type": "code",
   "execution_count": 18,
   "id": "ae53c828-8cfa-4233-bfbf-a064b05bbbc0",
   "metadata": {},
   "outputs": [
    {
     "data": {
      "text/plain": [
       "array([0.02307355, 0.00293123, 0.00431924, 0.00451285, 0.0027011 ,\n",
       "       0.00269106, 0.00281991, 0.11525862, 0.04020932, 0.80148313])"
      ]
     },
     "execution_count": 18,
     "metadata": {},
     "output_type": "execute_result"
    }
   ],
   "source": [
    "clf.feature_importances_"
   ]
  },
  {
   "cell_type": "code",
   "execution_count": 25,
   "id": "3973d59f-c775-4490-b8e4-d1e850d3e203",
   "metadata": {},
   "outputs": [],
   "source": [
    "def feature_importances(classifier):\n",
    "    #cat_encoder_attribs = np.asarray(pipe.named_steps['preprocessing'].named_transformers_['categoricals'].named_steps['onehot'].categories_, dtype=object)\n",
    "    #cat_attribs = np.concatenate([cat_list for cat_list in cat_encoder_attribs])\n",
    "    #all_features = np.concatenate([cat_attribs, num_features])\n",
    "    #sorted(zip(pipe.steps[1][1].feature_importances_, all_features), reverse=True)\n",
    "    all_features = ['China', 'Germany', 'UK', 'US', 'Ads', 'Direct', 'Seo', 'age','new_user', 'total_pages_visited']\n",
    "    return sorted(zip(classifier.feature_importances_, all_features), reverse=True)\n",
    "    "
   ]
  },
  {
   "cell_type": "code",
   "execution_count": 24,
   "id": "b7e019ed-d4cb-47c6-9156-6f813872097d",
   "metadata": {},
   "outputs": [
    {
     "data": {
      "text/plain": [
       "[(0.8014831272102537, 'total_pages_visited'),\n",
       " (0.11525861827652759, 'age'),\n",
       " (0.04020932279178694, 'new_user'),\n",
       " (0.023073545293313305, 'China'),\n",
       " (0.00451284519097652, 'US'),\n",
       " (0.004319243701478928, 'UK'),\n",
       " (0.0029312324661483913, 'Germany'),\n",
       " (0.0028199141888572148, 'Seo'),\n",
       " (0.0027010954770602413, 'Ads'),\n",
       " (0.0026910554035971318, 'Direct')]"
      ]
     },
     "execution_count": 24,
     "metadata": {},
     "output_type": "execute_result"
    }
   ],
   "source": [
    "feature_importances(clf)"
   ]
  },
  {
   "cell_type": "markdown",
   "id": "6eefb253-c4df-47af-8455-636cf3c3fb0b",
   "metadata": {},
   "source": [
    "### SearchCV to find best parameters for RandomForestClassifier"
   ]
  },
  {
   "cell_type": "code",
   "execution_count": 27,
   "id": "87544e00-db6e-429d-9ee6-af935e3cf62c",
   "metadata": {},
   "outputs": [
    {
     "name": "stderr",
     "output_type": "stream",
     "text": [
      "/home/carmina/miniconda3/envs/pez-jedha/lib/python3.7/site-packages/sklearn/pipeline.py:335: DataConversionWarning: A column-vector y was passed when a 1d array was expected. Please change the shape of y to (n_samples,), for example using ravel().\n",
      "  self._final_estimator.fit(Xt, y, **fit_params_last_step)\n"
     ]
    },
    {
     "name": "stdout",
     "output_type": "stream",
     "text": [
      "{'classifier__max_depth': 10, 'classifier__max_features': 'log2', 'classifier__n_estimators': 400}\n",
      "0.9859837304097266\n"
     ]
    },
    {
     "data": {
      "text/plain": [
       "0.9855928034296155"
      ]
     },
     "execution_count": 27,
     "metadata": {},
     "output_type": "execute_result"
    }
   ],
   "source": [
    "ran_forest = Pipeline(steps=[('preprocessing', preprocessor),\n",
    "                      ('classifier', RandomForestClassifier())])\n",
    "param_grid = { \n",
    "    'classifier__n_estimators': [400],\n",
    "    'classifier__max_features': ['auto', 'sqrt', 'log2'],\n",
    "    'classifier__max_depth' : [10],\n",
    "    #'classifier__criterion' :['gini', 'entropy']\n",
    "}\n",
    "\n",
    "from sklearn.model_selection import GridSearchCV\n",
    "CV = GridSearchCV(ran_forest, param_grid, n_jobs= 4, cv=3)\n",
    "                  \n",
    "CV.fit(X_train, y_train)  \n",
    "print(CV.best_params_)    \n",
    "print(CV.best_score_)\n",
    "CV.score(X_test, y_test)\n"
   ]
  },
  {
   "cell_type": "code",
   "execution_count": 28,
   "id": "9ac2b6c6-c0a0-4054-b405-256769e0353d",
   "metadata": {},
   "outputs": [
    {
     "name": "stdout",
     "output_type": "stream",
     "text": [
      "0.9855928034296155\n"
     ]
    }
   ],
   "source": [
    "print(CV.score(X_test, y_test))"
   ]
  },
  {
   "cell_type": "code",
   "execution_count": 29,
   "id": "42f9a393-0256-4add-ac0d-c25faf1acc11",
   "metadata": {},
   "outputs": [
    {
     "name": "stdout",
     "output_type": "stream",
     "text": [
      "0.7552238805970151\n"
     ]
    }
   ],
   "source": [
    "print(f1_score(y_test, CV.predict(X_test)))"
   ]
  },
  {
   "cell_type": "code",
   "execution_count": 35,
   "id": "363d1503-8ffd-4b21-a2c8-c3cdade41722",
   "metadata": {},
   "outputs": [],
   "source": [
    "y_train = y_train.ravel()\n",
    "y_test = y_test.ravel()"
   ]
  },
  {
   "cell_type": "code",
   "execution_count": 37,
   "id": "e55e0dca-c9c6-477f-bb00-e92b8f07d72c",
   "metadata": {},
   "outputs": [
    {
     "name": "stdout",
     "output_type": "stream",
     "text": [
      "{'classifier__learning_rate': 1.0, 'classifier__n_estimators': 350}\n",
      "best score: 0.9861813901187716\n",
      "f1 train: {f1_score(y_train, CV.predict(X_train))}\n",
      "f1 test: {f1_score(y_test, CV.predict(X_test))}\n"
     ]
    }
   ],
   "source": [
    "ada_clf = Pipeline(steps=[('preprocessing', preprocessor),\n",
    "                      ('classifier', AdaBoostClassifier())])\n",
    "\n",
    "param_grid = { \n",
    "    'classifier__n_estimators': [350, 500],\n",
    "    'classifier__learning_rate' :[1.0, 1.2]\n",
    "}\n",
    "CV = GridSearchCV(ada_clf, param_grid, n_jobs= 4, cv=3)\n",
    "                  \n",
    "CV.fit(X_train, y_train)  \n",
    "print(CV.best_params_)    \n",
    "print(f'best score: {CV.best_score_}')\n"
   ]
  },
  {
   "cell_type": "code",
   "execution_count": 38,
   "id": "6a235783-edf7-4d10-a81a-542d9e3c0755",
   "metadata": {},
   "outputs": [
    {
     "name": "stdout",
     "output_type": "stream",
     "text": [
      "f1 train: 0.7629411320184387\n",
      "f1 test: 0.768141592920354\n"
     ]
    }
   ],
   "source": [
    "print(f'f1 train: {f1_score(y_train, CV.predict(X_train))}')\n",
    "print(f'f1 test: {f1_score(y_test, CV.predict(X_test))}')"
   ]
  },
  {
   "cell_type": "code",
   "execution_count": 39,
   "id": "2210df9c-ca06-4d89-a788-b749e62ebe15",
   "metadata": {},
   "outputs": [
    {
     "name": "stdout",
     "output_type": "stream",
     "text": [
      "recall test: 0.7007534983853606\n"
     ]
    }
   ],
   "source": [
    "print(f'recall test: {recall_score(y_test, CV.predict(X_test))}')"
   ]
  },
  {
   "cell_type": "code",
   "execution_count": 40,
   "id": "14ddb852-5d71-4cac-9db2-43acc5d3a289",
   "metadata": {},
   "outputs": [
    {
     "name": "stdout",
     "output_type": "stream",
     "text": [
      "precision test: 0.8498694516971279\n"
     ]
    }
   ],
   "source": [
    "print(f'precision test: {precision_score(y_test, CV.predict(X_test))}')"
   ]
  },
  {
   "cell_type": "markdown",
   "id": "5ef3a8d8-447a-40df-a5d5-0913cb0352d8",
   "metadata": {},
   "source": [
    "### Feature selection"
   ]
  },
  {
   "cell_type": "code",
   "execution_count": 41,
   "id": "323bd269-6125-4986-8929-855209e8b39b",
   "metadata": {},
   "outputs": [
    {
     "data": {
      "text/html": [
       "<div>\n",
       "<style scoped>\n",
       "    .dataframe tbody tr th:only-of-type {\n",
       "        vertical-align: middle;\n",
       "    }\n",
       "\n",
       "    .dataframe tbody tr th {\n",
       "        vertical-align: top;\n",
       "    }\n",
       "\n",
       "    .dataframe thead th {\n",
       "        text-align: right;\n",
       "    }\n",
       "</style>\n",
       "<table border=\"1\" class=\"dataframe\">\n",
       "  <thead>\n",
       "    <tr style=\"text-align: right;\">\n",
       "      <th></th>\n",
       "      <th>country</th>\n",
       "      <th>age</th>\n",
       "      <th>new_user</th>\n",
       "      <th>source</th>\n",
       "      <th>total_pages_visited</th>\n",
       "      <th>converted</th>\n",
       "    </tr>\n",
       "  </thead>\n",
       "  <tbody>\n",
       "    <tr>\n",
       "      <th>0</th>\n",
       "      <td>China</td>\n",
       "      <td>22</td>\n",
       "      <td>1</td>\n",
       "      <td>Direct</td>\n",
       "      <td>2</td>\n",
       "      <td>0</td>\n",
       "    </tr>\n",
       "    <tr>\n",
       "      <th>1</th>\n",
       "      <td>UK</td>\n",
       "      <td>21</td>\n",
       "      <td>1</td>\n",
       "      <td>Ads</td>\n",
       "      <td>3</td>\n",
       "      <td>0</td>\n",
       "    </tr>\n",
       "    <tr>\n",
       "      <th>2</th>\n",
       "      <td>Germany</td>\n",
       "      <td>20</td>\n",
       "      <td>0</td>\n",
       "      <td>Seo</td>\n",
       "      <td>14</td>\n",
       "      <td>1</td>\n",
       "    </tr>\n",
       "    <tr>\n",
       "      <th>3</th>\n",
       "      <td>US</td>\n",
       "      <td>23</td>\n",
       "      <td>1</td>\n",
       "      <td>Seo</td>\n",
       "      <td>3</td>\n",
       "      <td>0</td>\n",
       "    </tr>\n",
       "    <tr>\n",
       "      <th>4</th>\n",
       "      <td>US</td>\n",
       "      <td>28</td>\n",
       "      <td>1</td>\n",
       "      <td>Direct</td>\n",
       "      <td>3</td>\n",
       "      <td>0</td>\n",
       "    </tr>\n",
       "    <tr>\n",
       "      <th>...</th>\n",
       "      <td>...</td>\n",
       "      <td>...</td>\n",
       "      <td>...</td>\n",
       "      <td>...</td>\n",
       "      <td>...</td>\n",
       "      <td>...</td>\n",
       "    </tr>\n",
       "    <tr>\n",
       "      <th>284575</th>\n",
       "      <td>US</td>\n",
       "      <td>36</td>\n",
       "      <td>1</td>\n",
       "      <td>Ads</td>\n",
       "      <td>1</td>\n",
       "      <td>0</td>\n",
       "    </tr>\n",
       "    <tr>\n",
       "      <th>284576</th>\n",
       "      <td>US</td>\n",
       "      <td>31</td>\n",
       "      <td>1</td>\n",
       "      <td>Seo</td>\n",
       "      <td>2</td>\n",
       "      <td>0</td>\n",
       "    </tr>\n",
       "    <tr>\n",
       "      <th>284577</th>\n",
       "      <td>US</td>\n",
       "      <td>41</td>\n",
       "      <td>1</td>\n",
       "      <td>Seo</td>\n",
       "      <td>5</td>\n",
       "      <td>0</td>\n",
       "    </tr>\n",
       "    <tr>\n",
       "      <th>284578</th>\n",
       "      <td>US</td>\n",
       "      <td>31</td>\n",
       "      <td>1</td>\n",
       "      <td>Direct</td>\n",
       "      <td>4</td>\n",
       "      <td>0</td>\n",
       "    </tr>\n",
       "    <tr>\n",
       "      <th>284579</th>\n",
       "      <td>US</td>\n",
       "      <td>26</td>\n",
       "      <td>0</td>\n",
       "      <td>Ads</td>\n",
       "      <td>3</td>\n",
       "      <td>0</td>\n",
       "    </tr>\n",
       "  </tbody>\n",
       "</table>\n",
       "<p>284580 rows × 6 columns</p>\n",
       "</div>"
      ],
      "text/plain": [
       "        country  age  new_user  source  total_pages_visited  converted\n",
       "0         China   22         1  Direct                    2          0\n",
       "1            UK   21         1     Ads                    3          0\n",
       "2       Germany   20         0     Seo                   14          1\n",
       "3            US   23         1     Seo                    3          0\n",
       "4            US   28         1  Direct                    3          0\n",
       "...         ...  ...       ...     ...                  ...        ...\n",
       "284575       US   36         1     Ads                    1          0\n",
       "284576       US   31         1     Seo                    2          0\n",
       "284577       US   41         1     Seo                    5          0\n",
       "284578       US   31         1  Direct                    4          0\n",
       "284579       US   26         0     Ads                    3          0\n",
       "\n",
       "[284580 rows x 6 columns]"
      ]
     },
     "execution_count": 41,
     "metadata": {},
     "output_type": "execute_result"
    }
   ],
   "source": [
    "data"
   ]
  },
  {
   "cell_type": "code",
   "execution_count": 52,
   "id": "2618e5d8-c086-4ad5-967e-1dff4979c89f",
   "metadata": {},
   "outputs": [
    {
     "data": {
      "text/plain": [
       "25-29    51267\n",
       "30-34    45696\n",
       "20-24    44027\n",
       "35-39    32237\n",
       "0-19     25696\n",
       "40-44    17834\n",
       "45-49     7541\n",
       "50-54     2563\n",
       "55-60      647\n",
       "60-64      135\n",
       "65-80       20\n",
       "Name: age_categories, dtype: int64"
      ]
     },
     "execution_count": 52,
     "metadata": {},
     "output_type": "execute_result"
    }
   ],
   "source": [
    "bins = [10, 20, 25, 30, 35, 40, 45, 50, 55, 60, 65, 100]\n",
    "group_names = ['0-19','20-24','25-29', '30-34', '35-39', '40-44', '45-49', '50-54', '55-60','60-64', '65-80']\n",
    "age_categories = pd.cut(X_train['age'], bins, labels=group_names)\n",
    "X_train['age_categories'] = pd.cut(X_train['age'], bins, labels=group_names)\n",
    "age_categories\n",
    "pd.value_counts(X_train['age_categories'])"
   ]
  },
  {
   "cell_type": "code",
   "execution_count": 49,
   "id": "3f98c78c-62d2-43b3-a921-28a36a3171ac",
   "metadata": {},
   "outputs": [
    {
     "data": {
      "text/plain": [
       "Pipeline(steps=[('preprocessing',\n",
       "                 ColumnTransformer(transformers=[('categoricals',\n",
       "                                                  Pipeline(steps=[('imputer_cat',\n",
       "                                                                   SimpleImputer(strategy='most_frequent')),\n",
       "                                                                  ('onehot',\n",
       "                                                                   OneHotEncoder(handle_unknown='ignore'))]),\n",
       "                                                  Index(['country', 'source'], dtype='object')),\n",
       "                                                 ('numericals',\n",
       "                                                  Pipeline(steps=[('imputer_num',\n",
       "                                                                   SimpleImputer(strategy='median')),\n",
       "                                                                  ('scaler',\n",
       "                                                                   StandardScaler())]),\n",
       "                                                  Index(['age', 'new_user', 'total_pages_visited'], dtype='object'))])),\n",
       "                ('classifier', AdaBoostClassifier(n_estimators=350))])"
      ]
     },
     "execution_count": 49,
     "metadata": {},
     "output_type": "execute_result"
    }
   ],
   "source": [
    "CV.best_estimator_"
   ]
  },
  {
   "cell_type": "code",
   "execution_count": 50,
   "id": "b6834c0d-4709-4099-a584-a8c705f02b97",
   "metadata": {},
   "outputs": [
    {
     "data": {
      "text/plain": [
       "Pipeline(steps=[('preprocessing',\n",
       "                 ColumnTransformer(transformers=[('categoricals',\n",
       "                                                  Pipeline(steps=[('imputer_cat',\n",
       "                                                                   SimpleImputer(strategy='most_frequent')),\n",
       "                                                                  ('onehot',\n",
       "                                                                   OneHotEncoder(handle_unknown='ignore'))]),\n",
       "                                                  Index(['country', 'source'], dtype='object')),\n",
       "                                                 ('numericals',\n",
       "                                                  Pipeline(steps=[('imputer_num',\n",
       "                                                                   SimpleImputer(strategy='median')),\n",
       "                                                                  ('scaler',\n",
       "                                                                   StandardScaler())]),\n",
       "                                                  Index(['age', 'new_user', 'total_pages_visited'], dtype='object'))])),\n",
       "                ('classifier', AdaBoostClassifier(n_estimators=350))])"
      ]
     },
     "execution_count": 50,
     "metadata": {},
     "output_type": "execute_result"
    }
   ],
   "source": [
    "Pipeline(steps=[('preprocessing', preprocessor),\n",
    "                      ('classifier', AdaBoostClassifier(n_estimators=350))])"
   ]
  },
  {
   "cell_type": "code",
   "execution_count": null,
   "id": "1520cd7d-d115-4415-a9ae-fde88f28d6ad",
   "metadata": {},
   "outputs": [],
   "source": [
    "\n",
    "preprocessor = ColumnTransformer([\n",
    "        ('categoricals', cat_transformer, cat_features),\n",
    "        ('numericals', num_transformer, num_features)\n",
    "    ],\n",
    "    remainder = 'drop'\n",
    ")"
   ]
  }
 ],
 "metadata": {
  "kernelspec": {
   "display_name": "kernel-pez-jedha",
   "language": "python",
   "name": "kernel-pez-jedha"
  },
  "language_info": {
   "codemirror_mode": {
    "name": "ipython",
    "version": 3
   },
   "file_extension": ".py",
   "mimetype": "text/x-python",
   "name": "python",
   "nbconvert_exporter": "python",
   "pygments_lexer": "ipython3",
   "version": "3.7.11"
  }
 },
 "nbformat": 4,
 "nbformat_minor": 5
}
