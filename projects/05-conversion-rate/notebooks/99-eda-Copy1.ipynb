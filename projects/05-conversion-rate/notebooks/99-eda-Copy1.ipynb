{
 "cells": [
  {
   "cell_type": "code",
   "execution_count": 1,
   "id": "916bc66d-976f-4a6d-a4d0-e137b3670fda",
   "metadata": {
    "tags": []
   },
   "outputs": [],
   "source": [
    "import pandas as pd\n",
    "import numpy as np\n",
    "\n",
    "from sklearn.model_selection import train_test_split\n",
    "from sklearn.impute import SimpleImputer\n",
    "from sklearn.preprocessing import StandardScaler\n",
    "from sklearn.preprocessing import OneHotEncoder\n",
    "from sklearn.compose import ColumnTransformer\n",
    "from sklearn.linear_model import LogisticRegression\n",
    "from sklearn.ensemble import  RandomForestClassifier, AdaBoostClassifier\n",
    "from sklearn.neighbors import KNeighborsClassifier\n",
    "from sklearn.svm import LinearSVC\n",
    "from xgboost import XGBClassifier\n",
    "from sklearn.metrics import precision_score, recall_score, f1_score, confusion_matrix\n",
    "from sklearn.pipeline import Pipeline\n",
    "\n",
    "import matplotlib.pyplot as plt\n",
    "import plotly.express as px\n",
    "import plotly.graph_objects as go\n",
    "import plotly.io as pio\n",
    "# setting Jedha color palette as default\n",
    "pio.templates[\"jedha\"] = go.layout.Template(\n",
    "    layout_colorway=[\"#4B9AC7\", \"#4BE8E0\", \"#9DD4F3\", \"#97FBF6\", \"#2A7FAF\", \"#23B1AB\", \"#0E3449\", \"#015955\"]\n",
    ")\n",
    "pio.templates.default = \"jedha\"\n",
    "from IPython.display import display"
   ]
  },
  {
   "cell_type": "code",
   "execution_count": 2,
   "id": "2e52bc01-7de1-4978-bdc6-826133826e82",
   "metadata": {},
   "outputs": [
    {
     "name": "stdout",
     "output_type": "stream",
     "text": [
      "Set with labels (our train+test) : (284580, 6)\n"
     ]
    }
   ],
   "source": [
    "data = pd.read_csv('./../data/raw/conversion_data_train.csv')\n",
    "print('Set with labels (our train+test) :', data.shape)"
   ]
  },
  {
   "cell_type": "code",
   "execution_count": 3,
   "id": "78da0cdc-8e28-49f5-8bd8-b4e17000973c",
   "metadata": {},
   "outputs": [
    {
     "name": "stdout",
     "output_type": "stream",
     "text": [
      "<class 'pandas.core.frame.DataFrame'>\n",
      "RangeIndex: 284580 entries, 0 to 284579\n",
      "Data columns (total 6 columns):\n",
      " #   Column               Non-Null Count   Dtype \n",
      "---  ------               --------------   ----- \n",
      " 0   country              284580 non-null  object\n",
      " 1   age                  284580 non-null  int64 \n",
      " 2   new_user             284580 non-null  int64 \n",
      " 3   source               284580 non-null  object\n",
      " 4   total_pages_visited  284580 non-null  int64 \n",
      " 5   converted            284580 non-null  int64 \n",
      "dtypes: int64(4), object(2)\n",
      "memory usage: 13.0+ MB\n"
     ]
    }
   ],
   "source": [
    "data.info()"
   ]
  },
  {
   "cell_type": "markdown",
   "id": "3531eef9-f1ea-49da-9b77-29f224da3170",
   "metadata": {},
   "source": [
    "* 0 missing values"
   ]
  },
  {
   "cell_type": "code",
   "execution_count": 4,
   "id": "26709dce-8a73-4b5d-9cbc-922cb722868a",
   "metadata": {},
   "outputs": [
    {
     "data": {
      "text/html": [
       "<div>\n",
       "<style scoped>\n",
       "    .dataframe tbody tr th:only-of-type {\n",
       "        vertical-align: middle;\n",
       "    }\n",
       "\n",
       "    .dataframe tbody tr th {\n",
       "        vertical-align: top;\n",
       "    }\n",
       "\n",
       "    .dataframe thead th {\n",
       "        text-align: right;\n",
       "    }\n",
       "</style>\n",
       "<table border=\"1\" class=\"dataframe\">\n",
       "  <thead>\n",
       "    <tr style=\"text-align: right;\">\n",
       "      <th></th>\n",
       "      <th>age</th>\n",
       "      <th>new_user</th>\n",
       "      <th>total_pages_visited</th>\n",
       "      <th>converted</th>\n",
       "    </tr>\n",
       "  </thead>\n",
       "  <tbody>\n",
       "    <tr>\n",
       "      <th>count</th>\n",
       "      <td>284580.000000</td>\n",
       "      <td>284580.000000</td>\n",
       "      <td>284580.000000</td>\n",
       "      <td>284580.000000</td>\n",
       "    </tr>\n",
       "    <tr>\n",
       "      <th>mean</th>\n",
       "      <td>30.564203</td>\n",
       "      <td>0.685452</td>\n",
       "      <td>4.873252</td>\n",
       "      <td>0.032258</td>\n",
       "    </tr>\n",
       "    <tr>\n",
       "      <th>std</th>\n",
       "      <td>8.266789</td>\n",
       "      <td>0.464336</td>\n",
       "      <td>3.341995</td>\n",
       "      <td>0.176685</td>\n",
       "    </tr>\n",
       "    <tr>\n",
       "      <th>min</th>\n",
       "      <td>17.000000</td>\n",
       "      <td>0.000000</td>\n",
       "      <td>1.000000</td>\n",
       "      <td>0.000000</td>\n",
       "    </tr>\n",
       "    <tr>\n",
       "      <th>25%</th>\n",
       "      <td>24.000000</td>\n",
       "      <td>0.000000</td>\n",
       "      <td>2.000000</td>\n",
       "      <td>0.000000</td>\n",
       "    </tr>\n",
       "    <tr>\n",
       "      <th>50%</th>\n",
       "      <td>30.000000</td>\n",
       "      <td>1.000000</td>\n",
       "      <td>4.000000</td>\n",
       "      <td>0.000000</td>\n",
       "    </tr>\n",
       "    <tr>\n",
       "      <th>75%</th>\n",
       "      <td>36.000000</td>\n",
       "      <td>1.000000</td>\n",
       "      <td>7.000000</td>\n",
       "      <td>0.000000</td>\n",
       "    </tr>\n",
       "    <tr>\n",
       "      <th>max</th>\n",
       "      <td>123.000000</td>\n",
       "      <td>1.000000</td>\n",
       "      <td>29.000000</td>\n",
       "      <td>1.000000</td>\n",
       "    </tr>\n",
       "  </tbody>\n",
       "</table>\n",
       "</div>"
      ],
      "text/plain": [
       "                 age       new_user  total_pages_visited      converted\n",
       "count  284580.000000  284580.000000        284580.000000  284580.000000\n",
       "mean       30.564203       0.685452             4.873252       0.032258\n",
       "std         8.266789       0.464336             3.341995       0.176685\n",
       "min        17.000000       0.000000             1.000000       0.000000\n",
       "25%        24.000000       0.000000             2.000000       0.000000\n",
       "50%        30.000000       1.000000             4.000000       0.000000\n",
       "75%        36.000000       1.000000             7.000000       0.000000\n",
       "max       123.000000       1.000000            29.000000       1.000000"
      ]
     },
     "execution_count": 4,
     "metadata": {},
     "output_type": "execute_result"
    }
   ],
   "source": [
    "data.describe()"
   ]
  },
  {
   "cell_type": "markdown",
   "id": "fccfa7c2-1b50-4b8a-8cab-0c328dd4f313",
   "metadata": {},
   "source": [
    "* In average, 4 pages are visited per user \\n\n",
    "* 75 % of all users have visited less than 7 pages"
   ]
  },
  {
   "cell_type": "code",
   "execution_count": 5,
   "id": "44f0a0d4-f1a2-4ea2-bbaa-70206dd9aeab",
   "metadata": {},
   "outputs": [
    {
     "data": {
      "text/plain": [
       "0    96.774194\n",
       "1     3.225806\n",
       "Name: converted, dtype: float64"
      ]
     },
     "execution_count": 5,
     "metadata": {},
     "output_type": "execute_result"
    }
   ],
   "source": [
    "data['converted'].value_counts()*100/data.shape[0]"
   ]
  },
  {
   "cell_type": "markdown",
   "id": "449b4aea-78db-4426-a934-6aaa1281f6c5",
   "metadata": {},
   "source": [
    "<b> /!\\ From all users, there are 3% converted users </b>"
   ]
  },
  {
   "cell_type": "raw",
   "id": "d707e721-32af-4989-8100-6085ae4cdff1",
   "metadata": {},
   "source": [
    "from pandas.plotting import scatter_matrix\n",
    "num_attributes = ['age','new_user', 'total_pages_visited', 'converted']\n",
    "scatter_matrix(data[num_attributes], figsize=(12,8))"
   ]
  },
  {
   "cell_type": "code",
   "execution_count": 6,
   "id": "8e3b1f77-8bcd-4123-9ae5-039ba7a73878",
   "metadata": {},
   "outputs": [
    {
     "data": {
      "text/plain": [
       "Text(0, 0.5, 'total pages visited')"
      ]
     },
     "execution_count": 6,
     "metadata": {},
     "output_type": "execute_result"
    },
    {
     "data": {
      "image/png": "[encoded data removed]",
      "text/plain": [
       "<Figure size 576x432 with 1 Axes>"
      ]
     },
     "metadata": {
      "needs_background": "light"
     },
     "output_type": "display_data"
    }
   ],
   "source": [
    "plt.figure(figsize=(8,6))\n",
    "data_sample = data.sample(10000)\n",
    "plt.scatter(data_sample['age'], data_sample['total_pages_visited'], c=data_sample['converted'])\n",
    "plt.xlabel('age')\n",
    "plt.ylabel('total pages visited')"
   ]
  },
  {
   "cell_type": "code",
   "execution_count": 7,
   "id": "c32a2f4e-73ba-4ea8-a13a-734618840b1a",
   "metadata": {},
   "outputs": [],
   "source": [
    "import seaborn as sns"
   ]
  },
  {
   "cell_type": "code",
   "execution_count": 8,
   "id": "7663689a-31ba-445a-867a-dc178c213d47",
   "metadata": {},
   "outputs": [
    {
     "data": {
      "text/plain": [
       "<AxesSubplot:xlabel='total_pages_visited', ylabel='age'>"
      ]
     },
     "execution_count": 8,
     "metadata": {},
     "output_type": "execute_result"
    },
    {
     "data": {
      "image/png": "[encoded data removed]",
      "text/plain": [
       "<Figure size 576x432 with 1 Axes>"
      ]
     },
     "metadata": {
      "needs_background": "light"
     },
     "output_type": "display_data"
    }
   ],
   "source": [
    "plt.figure(figsize=(8,6))\n",
    "sns.scatterplot(y='age',x='total_pages_visited', hue='converted', data=data_sample)"
   ]
  },
  {
   "cell_type": "code",
   "execution_count": 9,
   "id": "7d7a55fe-4d30-4ade-a71a-d63379ef9bb5",
   "metadata": {
    "tags": []
   },
   "outputs": [
    {
     "data": {
      "text/plain": [
       "<AxesSubplot:xlabel='total_pages_visited', ylabel='new_user'>"
      ]
     },
     "execution_count": 9,
     "metadata": {},
     "output_type": "execute_result"
    },
    {
     "data": {
      "image/png": "[encoded data removed]",
      "text/plain": [
       "<Figure size 432x288 with 1 Axes>"
      ]
     },
     "metadata": {
      "needs_background": "light"
     },
     "output_type": "display_data"
    }
   ],
   "source": [
    "sns.scatterplot(y='new_user',x='total_pages_visited', hue='converted', data=data_sample)"
   ]
  },
  {
   "cell_type": "markdown",
   "id": "8c670c26-e31a-4b96-a8e0-86f6a6f74bd9",
   "metadata": {},
   "source": [
    "It seems that the variable total_pages_visited has an important impact in the conversion rate\n",
    "- From the graphics above, users having visited more than 15 pages have been coverted\n"
   ]
  },
  {
   "cell_type": "code",
   "execution_count": 10,
   "id": "f2e1c037-b7be-41f1-87b0-fcc3a8974eef",
   "metadata": {
    "tags": []
   },
   "outputs": [
    {
     "data": {
      "text/plain": [
       "<AxesSubplot:xlabel='country', ylabel='total_pages_visited'>"
      ]
     },
     "execution_count": 10,
     "metadata": {},
     "output_type": "execute_result"
    },
    {
     "data": {
      "image/png": "[encoded data removed]",
      "text/plain": [
       "<Figure size 720x432 with 1 Axes>"
      ]
     },
     "metadata": {
      "needs_background": "light"
     },
     "output_type": "display_data"
    }
   ],
   "source": [
    "plt.figure(figsize=(10,6))\n",
    "sns.boxplot(x='country', y='total_pages_visited', hue='converted',data=data)"
   ]
  },
  {
   "cell_type": "markdown",
   "id": "b7fcea5b-f41c-44b5-97f6-9645331684c6",
   "metadata": {},
   "source": [
    "Germany and US after visited more than 15 pages have been converted. \n",
    "China and UK with less than 15 pages visited were converted"
   ]
  },
  {
   "cell_type": "code",
   "execution_count": 11,
   "id": "d7da08a7-9cda-4b38-905e-d2cb3a6b4dd3",
   "metadata": {},
   "outputs": [
    {
     "data": {
      "text/plain": [
       "<AxesSubplot:xlabel='country', ylabel='age'>"
      ]
     },
     "execution_count": 11,
     "metadata": {},
     "output_type": "execute_result"
    },
    {
     "data": {
      "image/png": "[encoded data removed]",
      "text/plain": [
       "<Figure size 720x432 with 1 Axes>"
      ]
     },
     "metadata": {
      "needs_background": "light"
     },
     "output_type": "display_data"
    }
   ],
   "source": [
    "plt.figure(figsize=(10,6))\n",
    "sns.boxplot(x='country', y='age', hue='converted',data=data)"
   ]
  },
  {
   "cell_type": "code",
   "execution_count": 12,
   "id": "8ad7217e-0778-4e04-b02a-5a7003a13e46",
   "metadata": {},
   "outputs": [],
   "source": [
    "def describe_per_country(data):\n",
    "    grouped = data.groupby(['country']).describe()\n",
    "    print('**total_pages_visited**')\n",
    "    print(grouped['total_pages_visited'])\n",
    "    print('\\n')\n",
    "    print('**age**')\n",
    "    print(grouped['age'])"
   ]
  },
  {
   "cell_type": "code",
   "execution_count": 13,
   "id": "7acc4aec-a50d-4f3f-97aa-d6b5a6830f69",
   "metadata": {},
   "outputs": [
    {
     "name": "stdout",
     "output_type": "stream",
     "text": [
      "**total_pages_visited**\n",
      "            count      mean       std  min  25%  50%  75%   max\n",
      "country                                                        \n",
      "China     69122.0  4.551604  2.805554  1.0  2.0  4.0  6.0  26.0\n",
      "Germany   11693.0  5.207646  3.782125  1.0  2.0  4.0  7.0  27.0\n",
      "UK        43641.0  5.078985  3.628525  1.0  2.0  4.0  7.0  27.0\n",
      "US       160124.0  4.931609  3.428069  1.0  2.0  4.0  7.0  29.0\n",
      "\n",
      "\n",
      "**age**\n",
      "            count       mean       std   min   25%   50%   75%    max\n",
      "country                                                              \n",
      "China     69122.0  30.664014  8.275166  17.0  24.0  30.0  36.0   69.0\n",
      "Germany   11693.0  30.457966  8.293478  17.0  24.0  30.0  36.0  123.0\n",
      "UK        43641.0  30.433675  8.239715  17.0  24.0  30.0  36.0  111.0\n",
      "US       160124.0  30.564450  8.268073  17.0  24.0  30.0  36.0   79.0\n"
     ]
    }
   ],
   "source": [
    "describe_per_country(data)"
   ]
  },
  {
   "cell_type": "raw",
   "id": "6c6d69c7-4753-4072-af62-221eb1fb61a4",
   "metadata": {},
   "source": [
    "df_desc=data.describe()\n",
    "iqr = (df_desc.loc['75%', 'total_pages_visited']-df_desc.loc['25%','total_pages_visited']) \n",
    "maximum = df_desc.loc['75%'] + 1.5*iqr\n",
    "minimum = df_desc['25%']"
   ]
  },
  {
   "cell_type": "code",
   "execution_count": 14,
   "id": "3864d65e-993f-4a91-b1cf-90ab3acd870e",
   "metadata": {},
   "outputs": [
    {
     "data": {
      "text/plain": [
       "<AxesSubplot:xlabel='converted', ylabel='age'>"
      ]
     },
     "execution_count": 14,
     "metadata": {},
     "output_type": "execute_result"
    },
    {
     "data": {
      "image/png": "[encoded data removed]",
      "text/plain": [
       "<Figure size 720x432 with 1 Axes>"
      ]
     },
     "metadata": {
      "needs_background": "light"
     },
     "output_type": "display_data"
    }
   ],
   "source": [
    "plt.figure(figsize=(10,6))\n",
    "sns.boxplot(x='converted', y='age', data=data)"
   ]
  },
  {
   "cell_type": "code",
   "execution_count": 15,
   "id": "356a0473-d706-4bed-97d8-b3bc81880cc7",
   "metadata": {},
   "outputs": [
    {
     "data": {
      "text/plain": [
       "country                0.072739\n",
       "age                    0.072739\n",
       "new_user               0.072739\n",
       "source                 0.072739\n",
       "total_pages_visited    0.072739\n",
       "converted              0.072739\n",
       "dtype: float64"
      ]
     },
     "execution_count": 15,
     "metadata": {},
     "output_type": "execute_result"
    }
   ],
   "source": [
    "data[data['age']>60].count()*100/data.shape[0]"
   ]
  },
  {
   "cell_type": "markdown",
   "id": "bf91fad1-aa84-4114-8051-7d536003fd94",
   "metadata": {
    "tags": []
   },
   "source": [
    "## Baseline:  Only total_pages_visited taken into account"
   ]
  },
  {
   "cell_type": "code",
   "execution_count": 16,
   "id": "d21a715e-4015-4cf8-8b9a-d02c521d51eb",
   "metadata": {},
   "outputs": [],
   "source": [
    "num_attributes = ['total_pages_visited']\n",
    "target_label = ['converted']\n",
    "X = data.drop(target_label, axis=1)[num_attributes]\n",
    "y = data.loc[:, target_label]"
   ]
  },
  {
   "cell_type": "code",
   "execution_count": 17,
   "id": "e2bc6511-13f7-48c2-b461-d9b55ffb0091",
   "metadata": {},
   "outputs": [],
   "source": [
    "X_train, X_test, y_train, y_test = train_test_split(X, y, test_size=0.3, random_state=42)\n"
   ]
  },
  {
   "cell_type": "code",
   "execution_count": 18,
   "id": "2a595122-68ef-45b9-b156-a0a92b576cb9",
   "metadata": {},
   "outputs": [
    {
     "data": {
      "text/plain": [
       "converted\n",
       "0            96.774194\n",
       "1             3.225806\n",
       "dtype: float64"
      ]
     },
     "execution_count": 18,
     "metadata": {},
     "output_type": "execute_result"
    }
   ],
   "source": [
    "# Verifying we have the same proportion of conversion rates than original dataset\n",
    "y.value_counts()*100/y.shape[0]"
   ]
  },
  {
   "cell_type": "markdown",
   "id": "4e938164-d9c7-4eb0-8e03-be4ab5b6d34b",
   "metadata": {},
   "source": [
    "### LogisticRegression with default parameters"
   ]
  },
  {
   "cell_type": "code",
   "execution_count": 19,
   "id": "c2990f60-afda-4034-b46b-fdc0818faba3",
   "metadata": {},
   "outputs": [
    {
     "data": {
      "text/plain": [
       "0.9829121612802827"
      ]
     },
     "execution_count": 19,
     "metadata": {},
     "output_type": "execute_result"
    }
   ],
   "source": [
    "log_reg = LogisticRegression()\n",
    "log_reg.fit(X_train, y_train.values.ravel())\n",
    "log_reg.score(X_train, y_train)"
   ]
  },
  {
   "cell_type": "code",
   "execution_count": 20,
   "id": "6b10c79e-2980-40eb-8040-4c6b4db2b513",
   "metadata": {},
   "outputs": [
    {
     "name": "stdout",
     "output_type": "stream",
     "text": [
      "<class 'numpy.ndarray'>\n"
     ]
    },
    {
     "data": {
      "text/plain": [
       "array([[191935,    859],\n",
       "       [  2545,   3867]])"
      ]
     },
     "execution_count": 20,
     "metadata": {},
     "output_type": "execute_result"
    }
   ],
   "source": [
    "from sklearn.metrics import confusion_matrix\n",
    "conf_matrix = confusion_matrix(y_train, log_reg.predict(X_train))\n",
    "print(type(conf_matrix))\n",
    "conf_matrix"
   ]
  },
  {
   "cell_type": "code",
   "execution_count": 21,
   "id": "8f2549af-0871-4007-bb10-0f4cb1c673e3",
   "metadata": {},
   "outputs": [],
   "source": [
    "def labels_conf_matrix(conf_matrix):\n",
    "    group_names = ['True Neg','False Pos','False Neg','True Pos']\n",
    "    group_counts = ['{0:0.0f}'.format(value) for value in conf_matrix.flatten()]\n",
    "    group_percentages = ['{0:.2%}'.format(value) for value in conf_matrix.flatten()/np.sum(conf_matrix)]\n",
    "    labels = [f'{v1}\\n{v2}\\n{v3}' for v1, v2, v3 in zip(group_names,group_counts,group_percentages)]\n",
    "    labels = np.asarray(labels).reshape(2,2)\n",
    "    return labels"
   ]
  },
  {
   "cell_type": "code",
   "execution_count": 22,
   "id": "636a1315-67c7-49ae-8c8f-8271b77f7ec0",
   "metadata": {},
   "outputs": [],
   "source": [
    "labels =labels_conf_matrix(conf_matrix)"
   ]
  },
  {
   "cell_type": "markdown",
   "id": "758cc861-0e27-4c30-8adb-d903e8526f03",
   "metadata": {},
   "source": [
    "### Confusion matrix"
   ]
  },
  {
   "cell_type": "code",
   "execution_count": 23,
   "id": "4e124775-08fd-4451-8442-e16480e49279",
   "metadata": {
    "jupyter": {
     "source_hidden": true
    },
    "tags": []
   },
   "outputs": [
    {
     "data": {
      "text/plain": [
       "<AxesSubplot:>"
      ]
     },
     "execution_count": 23,
     "metadata": {},
     "output_type": "execute_result"
    },
    {
     "data": {
      "image/png": "[encoded data removed]",
      "text/plain": [
       "<Figure size 432x288 with 2 Axes>"
      ]
     },
     "metadata": {
      "needs_background": "light"
     },
     "output_type": "display_data"
    }
   ],
   "source": [
    "sns.heatmap(conf_matrix, annot=labels,fmt='', cmap='Blues')"
   ]
  },
  {
   "cell_type": "markdown",
   "id": "c049c0d6-bd53-4d90-ba5f-8a1f30303ae3",
   "metadata": {},
   "source": [
    "### Metrics: precision, recall, f1"
   ]
  },
  {
   "cell_type": "code",
   "execution_count": 26,
   "id": "e7e65a3a-7815-4437-b3eb-cee51f39f522",
   "metadata": {
    "tags": []
   },
   "outputs": [],
   "source": [
    "def predict_compare(model, X, y_true):\n",
    "    y_pred = model.predict(X)\n",
    "    precision = precision_score(y_true, y_pred)\n",
    "    recall = recall_score(y_true, y_pred)\n",
    "    f1 = f1_score(y_true, y_pred)\n",
    "    return precision, recall, f1"
   ]
  },
  {
   "cell_type": "code",
   "execution_count": 27,
   "id": "e554160b-3f3f-4376-bad9-8876f8b86f53",
   "metadata": {},
   "outputs": [
    {
     "name": "stdout",
     "output_type": "stream",
     "text": [
      "**Train***\n",
      "Precision=0.8182395260262378\n",
      "Recall=0.6030879600748597\n",
      "f1_score=0.6943796013646976\n",
      "**Test***\n",
      "Precision=0.8301698301698301\n",
      "Recall=0.6004335260115607\n",
      "f1_score=0.6968553459119496\n"
     ]
    }
   ],
   "source": [
    "p, r, f1 = predict_compare(log_reg, X_train, y_train)\n",
    "print('**Train***')\n",
    "print('Precision={}'.format(p))\n",
    "print('Recall={}'.format(r))\n",
    "print('f1_score={}'.format(f1))\n",
    "p, r, f1 = predict_compare(log_reg, X_test, y_test)\n",
    "print('**Test***')\n",
    "print('Precision={}'.format(p))\n",
    "print('Recall={}'.format(r))\n",
    "print('f1_score={}'.format(f1))\n"
   ]
  },
  {
   "cell_type": "code",
   "execution_count": 28,
   "id": "709d46d5-6bca-45f5-8969-0c0159346db1",
   "metadata": {},
   "outputs": [
    {
     "data": {
      "text/plain": [
       "{'C': 1.0,\n",
       " 'class_weight': None,\n",
       " 'dual': False,\n",
       " 'fit_intercept': True,\n",
       " 'intercept_scaling': 1,\n",
       " 'l1_ratio': None,\n",
       " 'max_iter': 100,\n",
       " 'multi_class': 'auto',\n",
       " 'n_jobs': None,\n",
       " 'penalty': 'l2',\n",
       " 'random_state': None,\n",
       " 'solver': 'lbfgs',\n",
       " 'tol': 0.0001,\n",
       " 'verbose': 0,\n",
       " 'warm_start': False}"
      ]
     },
     "execution_count": 28,
     "metadata": {},
     "output_type": "execute_result"
    }
   ],
   "source": [
    "log_reg.get_params()"
   ]
  },
  {
   "cell_type": "markdown",
   "id": "ea8a06fa-36f8-4b7f-bb9d-5d71b7829a60",
   "metadata": {},
   "source": [
    "## Cleaning\n"
   ]
  },
  {
   "cell_type": "raw",
   "id": "0bb7974e-3161-4c05-85dd-f031e930eb35",
   "metadata": {},
   "source": [
    "### Remove outliers"
   ]
  },
  {
   "cell_type": "raw",
   "id": "62eccc6a-47ce-4dd5-b243-52f0503af893",
   "metadata": {},
   "source": [
    "data[data['age']>70].index\n",
    "data = data.drop(index=data[data['age']>70].index, axis=0)\n",
    "data.describe()"
   ]
  },
  {
   "cell_type": "markdown",
   "id": "f9f93403-cdb0-46d2-bf3a-d9595a42c2bf",
   "metadata": {},
   "source": [
    "## Pre-processing pipeline"
   ]
  },
  {
   "cell_type": "code",
   "execution_count": 29,
   "id": "5797b628-71da-4b3a-bf7c-451e43272c01",
   "metadata": {},
   "outputs": [
    {
     "name": "stdout",
     "output_type": "stream",
     "text": [
      "US         56.266779\n",
      "China      24.289128\n",
      "UK         15.335231\n",
      "Germany     4.108862\n",
      "Name: country, dtype: float64\n"
     ]
    },
    {
     "data": {
      "text/html": [
       "<div>\n",
       "<style scoped>\n",
       "    .dataframe tbody tr th:only-of-type {\n",
       "        vertical-align: middle;\n",
       "    }\n",
       "\n",
       "    .dataframe tbody tr th {\n",
       "        vertical-align: top;\n",
       "    }\n",
       "\n",
       "    .dataframe thead th {\n",
       "        text-align: right;\n",
       "    }\n",
       "</style>\n",
       "<table border=\"1\" class=\"dataframe\">\n",
       "  <thead>\n",
       "    <tr style=\"text-align: right;\">\n",
       "      <th></th>\n",
       "      <th></th>\n",
       "      <th>age</th>\n",
       "      <th>new_user</th>\n",
       "      <th>source</th>\n",
       "      <th>total_pages_visited</th>\n",
       "    </tr>\n",
       "    <tr>\n",
       "      <th>country</th>\n",
       "      <th>converted</th>\n",
       "      <th></th>\n",
       "      <th></th>\n",
       "      <th></th>\n",
       "      <th></th>\n",
       "    </tr>\n",
       "  </thead>\n",
       "  <tbody>\n",
       "    <tr>\n",
       "      <th rowspan=\"2\" valign=\"top\">China</th>\n",
       "      <th>0</th>\n",
       "      <td>24.257854</td>\n",
       "      <td>24.257854</td>\n",
       "      <td>24.257854</td>\n",
       "      <td>24.257854</td>\n",
       "    </tr>\n",
       "    <tr>\n",
       "      <th>1</th>\n",
       "      <td>0.031274</td>\n",
       "      <td>0.031274</td>\n",
       "      <td>0.031274</td>\n",
       "      <td>0.031274</td>\n",
       "    </tr>\n",
       "    <tr>\n",
       "      <th rowspan=\"2\" valign=\"top\">Germany</th>\n",
       "      <th>0</th>\n",
       "      <td>3.852344</td>\n",
       "      <td>3.852344</td>\n",
       "      <td>3.852344</td>\n",
       "      <td>3.852344</td>\n",
       "    </tr>\n",
       "    <tr>\n",
       "      <th>1</th>\n",
       "      <td>0.256518</td>\n",
       "      <td>0.256518</td>\n",
       "      <td>0.256518</td>\n",
       "      <td>0.256518</td>\n",
       "    </tr>\n",
       "    <tr>\n",
       "      <th rowspan=\"2\" valign=\"top\">UK</th>\n",
       "      <th>0</th>\n",
       "      <td>14.530185</td>\n",
       "      <td>14.530185</td>\n",
       "      <td>14.530185</td>\n",
       "      <td>14.530185</td>\n",
       "    </tr>\n",
       "    <tr>\n",
       "      <th>1</th>\n",
       "      <td>0.805046</td>\n",
       "      <td>0.805046</td>\n",
       "      <td>0.805046</td>\n",
       "      <td>0.805046</td>\n",
       "    </tr>\n",
       "    <tr>\n",
       "      <th rowspan=\"2\" valign=\"top\">US</th>\n",
       "      <th>0</th>\n",
       "      <td>54.133811</td>\n",
       "      <td>54.133811</td>\n",
       "      <td>54.133811</td>\n",
       "      <td>54.133811</td>\n",
       "    </tr>\n",
       "    <tr>\n",
       "      <th>1</th>\n",
       "      <td>2.132968</td>\n",
       "      <td>2.132968</td>\n",
       "      <td>2.132968</td>\n",
       "      <td>2.132968</td>\n",
       "    </tr>\n",
       "  </tbody>\n",
       "</table>\n",
       "</div>"
      ],
      "text/plain": [
       "                         age   new_user     source  total_pages_visited\n",
       "country converted                                                      \n",
       "China   0          24.257854  24.257854  24.257854            24.257854\n",
       "        1           0.031274   0.031274   0.031274             0.031274\n",
       "Germany 0           3.852344   3.852344   3.852344             3.852344\n",
       "        1           0.256518   0.256518   0.256518             0.256518\n",
       "UK      0          14.530185  14.530185  14.530185            14.530185\n",
       "        1           0.805046   0.805046   0.805046             0.805046\n",
       "US      0          54.133811  54.133811  54.133811            54.133811\n",
       "        1           2.132968   2.132968   2.132968             2.132968"
      ]
     },
     "execution_count": 29,
     "metadata": {},
     "output_type": "execute_result"
    }
   ],
   "source": [
    "print(data.country.value_counts()*100/data.shape[0])\n",
    "data.groupby(by=['country', 'converted']).count()*100/data.shape[0]"
   ]
  },
  {
   "cell_type": "markdown",
   "id": "9cba4cbd-7312-41ed-a0f5-c5a3a6f0d487",
   "metadata": {},
   "source": [
    "### Re-split data with all features"
   ]
  },
  {
   "cell_type": "markdown",
   "id": "4142c989-24d9-4821-850d-fcf9a8211e21",
   "metadata": {},
   "source": [
    "All features <br>\n",
    "Test_set ratio : 20% "
   ]
  },
  {
   "cell_type": "code",
   "execution_count": 99,
   "id": "d6ab040b-5e19-4ca8-97b9-5bd374a64761",
   "metadata": {},
   "outputs": [],
   "source": [
    "target_label = ['converted']\n",
    "X = data.drop(target_label, axis=1)\n",
    "y = data[target_label].values\n",
    "X_train, X_test, y_train, y_test = train_test_split(X, y, test_size=0.2, random_state=42)\n"
   ]
  },
  {
   "cell_type": "markdown",
   "id": "a9b693fe-3505-45da-9d18-1a3156e5afe0",
   "metadata": {},
   "source": [
    "### Create transformation pipeline"
   ]
  },
  {
   "cell_type": "code",
   "execution_count": 39,
   "id": "248bf9f4-8b69-4d4e-b2d6-b922d5f8d415",
   "metadata": {
    "tags": []
   },
   "outputs": [],
   "source": [
    "num_features = X_train.select_dtypes(include=np.number).columns.to_list()\n",
    "cat_features = X_train.select_dtypes(include=object).columns.to_list()\n",
    "# Transformer for extra features from Date\n",
    "# transformer for numerical features\n",
    "num_transformer = Pipeline([\n",
    "        ('imputer_num', SimpleImputer(strategy = 'median')),\n",
    "        ('scaler', StandardScaler())\n",
    "    ])\n",
    "# transformer for categorical features\n",
    "cat_transformer = Pipeline([\n",
    "        ('imputer_cat', SimpleImputer(strategy = 'most_frequent')),\n",
    "        ('onehot', OneHotEncoder(handle_unknown='ignore'))])\n",
    "\n",
    "preprocessor = ColumnTransformer([\n",
    "        ('categoricals', cat_transformer, cat_features),\n",
    "        ('numericals', num_transformer, num_features)\n",
    "    ],\n",
    "    remainder = 'drop'\n",
    ")"
   ]
  },
  {
   "cell_type": "code",
   "execution_count": 40,
   "id": "0d1faf49-9665-424b-8a35-1655f6627201",
   "metadata": {},
   "outputs": [],
   "source": [
    "classifiers = [\n",
    "    LogisticRegression(),\n",
    "    #KNeighborsClassifier(3),\n",
    "    LinearSVC(),\n",
    "    #NuSVC(probability=True),\n",
    "    RandomForestClassifier(),\n",
    "    AdaBoostClassifier(),\n",
    "    XGBClassifier(),\n",
    "    #GradientBoostingClassifier()\n",
    "    ]\n"
   ]
  },
  {
   "cell_type": "markdown",
   "id": "a5f92774-8c4f-42f3-b352-7d75b90234be",
   "metadata": {},
   "source": [
    "### Train models to pick 1-3 best performances"
   ]
  },
  {
   "cell_type": "code",
   "execution_count": 41,
   "id": "b83cac7c-4fc2-45fe-bce0-0000a0fb79d0",
   "metadata": {},
   "outputs": [
    {
     "name": "stderr",
     "output_type": "stream",
     "text": [
      "/home/carmina/miniconda3/envs/pez-jedha/lib/python3.7/site-packages/sklearn/svm/_base.py:977: ConvergenceWarning: Liblinear failed to converge, increase the number of iterations.\n",
      "  \"the number of iterations.\", ConvergenceWarning)\n",
      "/home/carmina/miniconda3/envs/pez-jedha/lib/python3.7/site-packages/xgboost/sklearn.py:888: UserWarning: The use of label encoder in XGBClassifier is deprecated and will be removed in a future release. To remove this warning, do the following: 1) Pass option use_label_encoder=False when constructing XGBClassifier object; and 2) Encode your labels (y) as integers starting with 0, i.e. 0, 1, 2, ..., [num_class - 1].\n",
      "  warnings.warn(label_encoder_deprecation_msg, UserWarning)\n"
     ]
    },
    {
     "name": "stdout",
     "output_type": "stream",
     "text": [
      "[22:14:34] WARNING: /tmp/build/80754af9/xgboost-split_1619724447847/work/src/learner.cc:1061: Starting in XGBoost 1.3.0, the default evaluation metric used with the objective 'binary:logistic' was changed from 'error' to 'logloss'. Explicitly set eval_metric if you'd like to restore the old behavior.\n"
     ]
    },
    {
     "data": {
      "text/html": [
       "<div>\n",
       "<style scoped>\n",
       "    .dataframe tbody tr th:only-of-type {\n",
       "        vertical-align: middle;\n",
       "    }\n",
       "\n",
       "    .dataframe tbody tr th {\n",
       "        vertical-align: top;\n",
       "    }\n",
       "\n",
       "    .dataframe thead th {\n",
       "        text-align: right;\n",
       "    }\n",
       "</style>\n",
       "<table border=\"1\" class=\"dataframe\">\n",
       "  <thead>\n",
       "    <tr style=\"text-align: right;\">\n",
       "      <th></th>\n",
       "      <th>classifier</th>\n",
       "      <th>train_precision</th>\n",
       "      <th>train_recall</th>\n",
       "      <th>train_f1</th>\n",
       "      <th>test_precision</th>\n",
       "      <th>test_recall</th>\n",
       "      <th>test_f1</th>\n",
       "    </tr>\n",
       "  </thead>\n",
       "  <tbody>\n",
       "    <tr>\n",
       "      <th>0</th>\n",
       "      <td>LogisticRegression()</td>\n",
       "      <td>0.857994</td>\n",
       "      <td>0.688200</td>\n",
       "      <td>0.763774</td>\n",
       "      <td>0.847113</td>\n",
       "      <td>0.694833</td>\n",
       "      <td>0.763454</td>\n",
       "    </tr>\n",
       "    <tr>\n",
       "      <th>1</th>\n",
       "      <td>LinearSVC()</td>\n",
       "      <td>0.869088</td>\n",
       "      <td>0.670036</td>\n",
       "      <td>0.756690</td>\n",
       "      <td>0.861073</td>\n",
       "      <td>0.673843</td>\n",
       "      <td>0.756039</td>\n",
       "    </tr>\n",
       "    <tr>\n",
       "      <th>2</th>\n",
       "      <td>RandomForestClassifier()</td>\n",
       "      <td>0.892452</td>\n",
       "      <td>0.729855</td>\n",
       "      <td>0.803005</td>\n",
       "      <td>0.803526</td>\n",
       "      <td>0.686760</td>\n",
       "      <td>0.740569</td>\n",
       "    </tr>\n",
       "    <tr>\n",
       "      <th>3</th>\n",
       "      <td>AdaBoostClassifier()</td>\n",
       "      <td>0.849975</td>\n",
       "      <td>0.684786</td>\n",
       "      <td>0.758490</td>\n",
       "      <td>0.847167</td>\n",
       "      <td>0.692142</td>\n",
       "      <td>0.761848</td>\n",
       "    </tr>\n",
       "    <tr>\n",
       "      <th>4</th>\n",
       "      <td>XGBClassifier(base_score=0.5, booster='gbtree'...</td>\n",
       "      <td>0.862616</td>\n",
       "      <td>0.698033</td>\n",
       "      <td>0.771646</td>\n",
       "      <td>0.838014</td>\n",
       "      <td>0.690527</td>\n",
       "      <td>0.757156</td>\n",
       "    </tr>\n",
       "  </tbody>\n",
       "</table>\n",
       "</div>"
      ],
      "text/plain": [
       "                                          classifier  train_precision  \\\n",
       "0                               LogisticRegression()         0.857994   \n",
       "1                                        LinearSVC()         0.869088   \n",
       "2                           RandomForestClassifier()         0.892452   \n",
       "3                               AdaBoostClassifier()         0.849975   \n",
       "4  XGBClassifier(base_score=0.5, booster='gbtree'...         0.862616   \n",
       "\n",
       "   train_recall  train_f1  test_precision  test_recall   test_f1  \n",
       "0      0.688200  0.763774        0.847113     0.694833  0.763454  \n",
       "1      0.670036  0.756690        0.861073     0.673843  0.756039  \n",
       "2      0.729855  0.803005        0.803526     0.686760  0.740569  \n",
       "3      0.684786  0.758490        0.847167     0.692142  0.761848  \n",
       "4      0.698033  0.771646        0.838014     0.690527  0.757156  "
      ]
     },
     "execution_count": 41,
     "metadata": {},
     "output_type": "execute_result"
    }
   ],
   "source": [
    "headers = ['classifier', 'train_precision', 'train_recall', 'train_f1','test_precision', 'test_recall', 'test_f1']\n",
    "values = list()\n",
    "res_pipelines = list()\n",
    "for classifier in classifiers:\n",
    "    pipe = Pipeline(steps=[('preprocessing', preprocessor),\n",
    "                      ('classifier', classifier)])\n",
    "    pipe.fit(X_train, y_train.values.ravel())\n",
    "    \n",
    "    p, r, f1 = predict_compare(pipe, X_train, y_train.values.ravel())\n",
    "    p_test, r_test, f1_test = predict_compare(pipe, X_test, y_test.values.ravel())\n",
    "    values.append([str(classifier), p, r, f1, p_test, r_test, f1_test])\n",
    "    #print(\"model score: %.3f\" % pipe.score(X_test, y_test))   \n",
    "    \n",
    "#print(values)\n",
    "clf_perf = pd.DataFrame(values, columns=headers)\n",
    "clf_perf"
   ]
  },
  {
   "cell_type": "code",
   "execution_count": null,
   "id": "17177078-db6c-4f08-9cac-16ce4b9b8763",
   "metadata": {},
   "outputs": [],
   "source": []
  },
  {
   "cell_type": "markdown",
   "id": "6076d0c5-ff8e-42eb-b975-a055730a136a",
   "metadata": {},
   "source": [
    "### Feature importances from RandomForest classifier"
   ]
  },
  {
   "cell_type": "code",
   "execution_count": 42,
   "id": "d8b18b57-f66e-4764-9c5c-1e36ae7e2dc4",
   "metadata": {},
   "outputs": [],
   "source": [
    "cat_encoder_attribs = np.asarray(pipe.named_steps['preprocessing'].named_transformers_['categoricals'].named_steps['onehot'].categories_, dtype=object)"
   ]
  },
  {
   "cell_type": "code",
   "execution_count": 43,
   "id": "dbceb616-0f2f-4210-987c-20ba12a80426",
   "metadata": {},
   "outputs": [],
   "source": [
    "cat_attribs = np.concatenate([cat_list for cat_list in cat_encoder_attribs])"
   ]
  },
  {
   "cell_type": "code",
   "execution_count": 44,
   "id": "ffa33b65-d4b3-4262-bc74-452932042515",
   "metadata": {},
   "outputs": [
    {
     "data": {
      "text/plain": [
       "array(['China', 'Germany', 'UK', 'US', 'Ads', 'Direct', 'Seo', 'age',\n",
       "       'new_user', 'total_pages_visited'], dtype=object)"
      ]
     },
     "execution_count": 44,
     "metadata": {},
     "output_type": "execute_result"
    }
   ],
   "source": [
    "all_features = np.concatenate([cat_attribs, num_features])\n",
    "all_features"
   ]
  },
  {
   "cell_type": "code",
   "execution_count": null,
   "id": "1eba702d-2ba6-497c-99b3-a8885631c9f1",
   "metadata": {},
   "outputs": [],
   "source": [
    "pipe.named_steps['preprocessing']"
   ]
  },
  {
   "cell_type": "code",
   "execution_count": 45,
   "id": "d0b301b9-4ea7-4b58-a2de-6348f9a112cc",
   "metadata": {},
   "outputs": [
    {
     "data": {
      "text/plain": [
       "[(0.6110039, 'total_pages_visited'),\n",
       " (0.1650179, 'China'),\n",
       " (0.13887408, 'new_user'),\n",
       " (0.020104991, 'US'),\n",
       " (0.017243225, 'age'),\n",
       " (0.010911038, 'Direct'),\n",
       " (0.010494949, 'Germany'),\n",
       " (0.01023513, 'UK'),\n",
       " (0.008662763, 'Ads'),\n",
       " (0.0074520144, 'Seo')]"
      ]
     },
     "execution_count": 45,
     "metadata": {},
     "output_type": "execute_result"
    }
   ],
   "source": [
    "sorted(zip(pipe.steps[1][1].feature_importances_, all_features), reverse=True)"
   ]
  },
  {
   "cell_type": "markdown",
   "id": "b749077a-a112-4509-8de1-c3185082b0dd",
   "metadata": {},
   "source": [
    "### SearchCV to find best parameters for RandomForestClassifier"
   ]
  },
  {
   "cell_type": "code",
   "execution_count": 50,
   "id": "6236af03-4134-41be-81b9-6fb91ecceb5b",
   "metadata": {},
   "outputs": [
    {
     "name": "stdout",
     "output_type": "stream",
     "text": [
      "{'classifier__max_depth': 10, 'classifier__n_estimators': 400}\n",
      "0.9859793379717479\n"
     ]
    },
    {
     "data": {
      "text/plain": [
       "0.9855225244219552"
      ]
     },
     "execution_count": 50,
     "metadata": {},
     "output_type": "execute_result"
    }
   ],
   "source": [
    "ran_forest = Pipeline(steps=[('preprocessing', preprocessor),\n",
    "                      ('classifier', RandomForestClassifier())])\n",
    "param_grid = { \n",
    "    'classifier__n_estimators': [10, 100, 400],\n",
    "    #'classifier__max_features': ['auto', 'sqrt', 'log2'],\n",
    "    'classifier__max_depth' : [6,10,12],\n",
    "    #'classifier__criterion' :['gini', 'entropy']\n",
    "}\n",
    "\n",
    "from sklearn.model_selection import GridSearchCV\n",
    "CV = GridSearchCV(ran_forest, param_grid, n_jobs= 4, cv=3)\n",
    "                  \n",
    "CV.fit(X_train, y_train.values.ravel())  \n",
    "print(CV.best_params_)    \n",
    "print(CV.best_score_)\n",
    "CV.score(X_test, y_test.values.ravel())\n"
   ]
  },
  {
   "cell_type": "code",
   "execution_count": 51,
   "id": "7707db73-bfeb-48c7-9c26-42da240f7c63",
   "metadata": {},
   "outputs": [
    {
     "name": "stdout",
     "output_type": "stream",
     "text": [
      "0.9855225244219552\n"
     ]
    }
   ],
   "source": [
    "print(CV.score(X_test, y_test.values.ravel()))"
   ]
  },
  {
   "cell_type": "code",
   "execution_count": 53,
   "id": "795f9e33-fbce-4533-bc3b-10a2adfb7b38",
   "metadata": {},
   "outputs": [
    {
     "data": {
      "text/plain": [
       "0.7540298507462686"
      ]
     },
     "execution_count": 53,
     "metadata": {},
     "output_type": "execute_result"
    }
   ],
   "source": [
    "print(f1_score(y_test, CV.predict(X_test)))"
   ]
  },
  {
   "cell_type": "code",
   "execution_count": 47,
   "id": "b5f0acb9-b89d-4c1c-b78e-101b8e11ce0f",
   "metadata": {},
   "outputs": [
    {
     "data": {
      "text/html": [
       "<div>\n",
       "<style scoped>\n",
       "    .dataframe tbody tr th:only-of-type {\n",
       "        vertical-align: middle;\n",
       "    }\n",
       "\n",
       "    .dataframe tbody tr th {\n",
       "        vertical-align: top;\n",
       "    }\n",
       "\n",
       "    .dataframe thead th {\n",
       "        text-align: right;\n",
       "    }\n",
       "</style>\n",
       "<table border=\"1\" class=\"dataframe\">\n",
       "  <thead>\n",
       "    <tr style=\"text-align: right;\">\n",
       "      <th></th>\n",
       "      <th>country</th>\n",
       "      <th>age</th>\n",
       "      <th>new_user</th>\n",
       "      <th>source</th>\n",
       "      <th>total_pages_visited</th>\n",
       "    </tr>\n",
       "  </thead>\n",
       "  <tbody>\n",
       "    <tr>\n",
       "      <th>256001</th>\n",
       "      <td>China</td>\n",
       "      <td>28</td>\n",
       "      <td>0</td>\n",
       "      <td>Direct</td>\n",
       "      <td>3</td>\n",
       "    </tr>\n",
       "    <tr>\n",
       "      <th>97792</th>\n",
       "      <td>US</td>\n",
       "      <td>19</td>\n",
       "      <td>0</td>\n",
       "      <td>Seo</td>\n",
       "      <td>1</td>\n",
       "    </tr>\n",
       "    <tr>\n",
       "      <th>121376</th>\n",
       "      <td>US</td>\n",
       "      <td>28</td>\n",
       "      <td>1</td>\n",
       "      <td>Seo</td>\n",
       "      <td>5</td>\n",
       "    </tr>\n",
       "    <tr>\n",
       "      <th>272924</th>\n",
       "      <td>US</td>\n",
       "      <td>22</td>\n",
       "      <td>1</td>\n",
       "      <td>Ads</td>\n",
       "      <td>7</td>\n",
       "    </tr>\n",
       "    <tr>\n",
       "      <th>239529</th>\n",
       "      <td>UK</td>\n",
       "      <td>27</td>\n",
       "      <td>1</td>\n",
       "      <td>Seo</td>\n",
       "      <td>7</td>\n",
       "    </tr>\n",
       "    <tr>\n",
       "      <th>...</th>\n",
       "      <td>...</td>\n",
       "      <td>...</td>\n",
       "      <td>...</td>\n",
       "      <td>...</td>\n",
       "      <td>...</td>\n",
       "    </tr>\n",
       "    <tr>\n",
       "      <th>204144</th>\n",
       "      <td>US</td>\n",
       "      <td>33</td>\n",
       "      <td>0</td>\n",
       "      <td>Ads</td>\n",
       "      <td>1</td>\n",
       "    </tr>\n",
       "    <tr>\n",
       "      <th>172953</th>\n",
       "      <td>US</td>\n",
       "      <td>27</td>\n",
       "      <td>1</td>\n",
       "      <td>Ads</td>\n",
       "      <td>2</td>\n",
       "    </tr>\n",
       "    <tr>\n",
       "      <th>161581</th>\n",
       "      <td>China</td>\n",
       "      <td>29</td>\n",
       "      <td>0</td>\n",
       "      <td>Seo</td>\n",
       "      <td>1</td>\n",
       "    </tr>\n",
       "    <tr>\n",
       "      <th>173040</th>\n",
       "      <td>UK</td>\n",
       "      <td>29</td>\n",
       "      <td>1</td>\n",
       "      <td>Seo</td>\n",
       "      <td>1</td>\n",
       "    </tr>\n",
       "    <tr>\n",
       "      <th>61176</th>\n",
       "      <td>US</td>\n",
       "      <td>20</td>\n",
       "      <td>0</td>\n",
       "      <td>Seo</td>\n",
       "      <td>15</td>\n",
       "    </tr>\n",
       "  </tbody>\n",
       "</table>\n",
       "<p>56916 rows × 5 columns</p>\n",
       "</div>"
      ],
      "text/plain": [
       "       country  age  new_user  source  total_pages_visited\n",
       "256001   China   28         0  Direct                    3\n",
       "97792       US   19         0     Seo                    1\n",
       "121376      US   28         1     Seo                    5\n",
       "272924      US   22         1     Ads                    7\n",
       "239529      UK   27         1     Seo                    7\n",
       "...        ...  ...       ...     ...                  ...\n",
       "204144      US   33         0     Ads                    1\n",
       "172953      US   27         1     Ads                    2\n",
       "161581   China   29         0     Seo                    1\n",
       "173040      UK   29         1     Seo                    1\n",
       "61176       US   20         0     Seo                   15\n",
       "\n",
       "[56916 rows x 5 columns]"
      ]
     },
     "execution_count": 47,
     "metadata": {},
     "output_type": "execute_result"
    }
   ],
   "source": [
    "X_test"
   ]
  },
  {
   "cell_type": "code",
   "execution_count": 57,
   "id": "46e3db23-0f88-436d-949f-b5df8bcf6880",
   "metadata": {},
   "outputs": [
    {
     "data": {
      "text/plain": [
       "dict_keys(['bootstrap', 'ccp_alpha', 'class_weight', 'criterion', 'max_depth', 'max_features', 'max_leaf_nodes', 'max_samples', 'min_impurity_decrease', 'min_impurity_split', 'min_samples_leaf', 'min_samples_split', 'min_weight_fraction_leaf', 'n_estimators', 'n_jobs', 'oob_score', 'random_state', 'verbose', 'warm_start'])"
      ]
     },
     "execution_count": 57,
     "metadata": {},
     "output_type": "execute_result"
    }
   ],
   "source": [
    "ran_forest.named_steps['classifier'].get_params().keys()"
   ]
  },
  {
   "cell_type": "code",
   "execution_count": 58,
   "id": "df602524-5f1f-4a1f-be2c-287b906bf1cd",
   "metadata": {},
   "outputs": [
    {
     "name": "stdout",
     "output_type": "stream",
     "text": [
      "{'classifier__max_depth': 10, 'classifier__max_features': 5, 'classifier__n_estimators': 400}\n",
      "0.9859441984679176\n"
     ]
    },
    {
     "data": {
      "text/plain": [
       "0.9854873849181249"
      ]
     },
     "execution_count": 58,
     "metadata": {},
     "output_type": "execute_result"
    }
   ],
   "source": [
    "ran_forest = Pipeline(steps=[('preprocessing', preprocessor),\n",
    "                      ('classifier', RandomForestClassifier())])\n",
    "param_grid = { \n",
    "    #'C':[0.1, 0.5, 1],\n",
    "    'classifier__n_estimators': [400],\n",
    "    'classifier__max_features': [5, 8, 10],\n",
    "    'classifier__max_depth' : [10],\n",
    "    #'classifier__criterion' :['gini', 'entropy']\n",
    "}\n",
    "\n",
    "from sklearn.model_selection import GridSearchCV\n",
    "CV = GridSearchCV(ran_forest, param_grid, n_jobs= 4, cv=3)\n",
    "                  \n",
    "CV.fit(X_train, y_train.values.ravel())  \n",
    "print(CV.best_params_)    \n",
    "print(CV.best_score_)\n",
    "print(CV.best_estimator_)\n",
    "CV.score(X_test, y_test.values.ravel())"
   ]
  },
  {
   "cell_type": "code",
   "execution_count": 101,
   "id": "24ad85f2-f52c-4f80-a62e-58f750e1700c",
   "metadata": {},
   "outputs": [
    {
     "name": "stdout",
     "output_type": "stream",
     "text": [
      "0.7551867219917012\n"
     ]
    }
   ],
   "source": [
    "best_estimator = CV.best_estimator_\n",
    "print(f1_score(y_test, best_estimator.predict(X_test)))"
   ]
  },
  {
   "cell_type": "code",
   "execution_count": 102,
   "id": "c8d34606-9c3d-4ac4-bc2f-b1b686700f26",
   "metadata": {},
   "outputs": [
    {
     "data": {
      "text/plain": [
       "0.6856835306781486"
      ]
     },
     "execution_count": 102,
     "metadata": {},
     "output_type": "execute_result"
    }
   ],
   "source": [
    "recall_score(y_test, best_estimator.predict(X_test))"
   ]
  },
  {
   "cell_type": "code",
   "execution_count": 62,
   "id": "f999b5ef-fda7-46c0-8944-393ebb1123db",
   "metadata": {},
   "outputs": [],
   "source": [
    "y_pred =  CV.predict(X_test)"
   ]
  },
  {
   "cell_type": "code",
   "execution_count": null,
   "id": "b6cffe11-a46f-46ac-a5b2-8e44a1634edd",
   "metadata": {},
   "outputs": [],
   "source": []
  }
 ],
 "metadata": {
  "kernelspec": {
   "display_name": "kernel-pez-jedha",
   "language": "python",
   "name": "kernel-pez-jedha"
  },
  "language_info": {
   "codemirror_mode": {
    "name": "ipython",
    "version": 3
   },
   "file_extension": ".py",
   "mimetype": "text/x-python",
   "name": "python",
   "nbconvert_exporter": "python",
   "pygments_lexer": "ipython3",
   "version": "3.7.11"
  }
 },
 "nbformat": 4,
 "nbformat_minor": 5
}
