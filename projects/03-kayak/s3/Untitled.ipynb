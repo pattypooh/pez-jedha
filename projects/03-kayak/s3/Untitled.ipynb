{
 "cells": [
  {
   "cell_type": "markdown",
   "id": "a2a3ac89-aba7-4c37-9478-5d7cac8491c5",
   "metadata": {},
   "source": [
    "### Save files in S3"
   ]
  },
  {
   "cell_type": "code",
   "execution_count": 1,
   "id": "51290dc0-d0a4-4b05-93f4-003b8489a8b6",
   "metadata": {},
   "outputs": [],
   "source": [
    "import pandas as pd, requests\n",
    "import os \n",
    "import logging\n",
    "from typing import Dict, Tuple, List\n",
    "import operator\n",
    "import numpy as np\n",
    "from datetime import datetime as dt\n",
    "from datetime import date\n",
    "import matplotlib.pyplot as plt\n",
    "import seaborn as sns\n",
    "sns.set_style()"
   ]
  },
  {
   "cell_type": "code",
   "execution_count": null,
   "id": "6cc6a174-9509-41bc-a969-a9e9455d8e33",
   "metadata": {},
   "outputs": [],
   "source": []
  }
 ],
 "metadata": {
  "kernelspec": {
   "display_name": "kernel-pez-jedha",
   "language": "python",
   "name": "kernel-pez-jedha"
  },
  "language_info": {
   "codemirror_mode": {
    "name": "ipython",
    "version": 3
   },
   "file_extension": ".py",
   "mimetype": "text/x-python",
   "name": "python",
   "nbconvert_exporter": "python",
   "pygments_lexer": "ipython3",
   "version": "3.7.11"
  }
 },
 "nbformat": 4,
 "nbformat_minor": 5
}
