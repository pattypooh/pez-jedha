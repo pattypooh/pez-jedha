{
 "cells": [
  {
   "cell_type": "markdown",
   "id": "a2a3ac89-aba7-4c37-9478-5d7cac8491c5",
   "metadata": {},
   "source": [
    "### Save files in S3"
   ]
  },
  {
   "cell_type": "code",
   "execution_count": 1,
   "id": "51290dc0-d0a4-4b05-93f4-003b8489a8b6",
   "metadata": {},
   "outputs": [],
   "source": [
    "import pandas as pd, requests\n",
    "import os \n",
    "import logging\n",
    "from typing import Dict, Tuple, List\n",
    "import operator\n",
    "import numpy as np\n",
    "from datetime import datetime as dt\n",
    "from datetime import date\n",
    "import matplotlib.pyplot as plt\n",
    "import seaborn as sns\n",
    "sns.set_style()"
   ]
  },
  {
   "cell_type": "code",
   "execution_count": 1,
   "id": "6cc6a174-9509-41bc-a969-a9e9455d8e33",
   "metadata": {},
   "outputs": [],
   "source": [
    "from box import Box\n",
    "import yaml # Only required for different loaders\n",
    "import pandas as pd"
   ]
  },
  {
   "cell_type": "markdown",
   "id": "9b1b6d01-50b0-456d-8717-395607624732",
   "metadata": {},
   "source": [
    "### Upload configuration file"
   ]
  },
  {
   "cell_type": "code",
   "execution_count": 5,
   "id": "afb2d716-e134-4451-bb3c-44f58c7ca2cc",
   "metadata": {},
   "outputs": [
    {
     "name": "stdout",
     "output_type": "stream",
     "text": [
      "/home/carmina/repo/pez-jedha/projects/03-kayak/s3\n"
     ]
    }
   ],
   "source": [
    "!pwd"
   ]
  },
  {
   "cell_type": "code",
   "execution_count": 31,
   "id": "b84c222b-979c-4254-af3e-e313344b0e39",
   "metadata": {},
   "outputs": [],
   "source": [
    "conf = Box.from_yaml(filename=\"./config.yaml\")"
   ]
  },
  {
   "cell_type": "markdown",
   "id": "2d64aab2-7e48-424b-a2b7-8b7375a3c9a6",
   "metadata": {},
   "source": [
    "### Create file booking_result.csv in S3 bucket"
   ]
  },
  {
   "cell_type": "code",
   "execution_count": 20,
   "id": "e4403b8c-b1b3-45f8-baa1-eb576aede896",
   "metadata": {},
   "outputs": [],
   "source": [
    "import boto3\n",
    "session = boto3.Session(aws_access_key_id=conf.accessKeyId, aws_secret_access_key=conf.secretAccessKey)"
   ]
  },
  {
   "cell_type": "code",
   "execution_count": 21,
   "id": "83fcc97b-94b2-4c50-bee3-8e45a8fbb79b",
   "metadata": {},
   "outputs": [],
   "source": [
    "s3 = session.resource(\"s3\")"
   ]
  },
  {
   "cell_type": "code",
   "execution_count": 22,
   "id": "1e999eb1-184d-4fbb-aafb-8a343822b320",
   "metadata": {},
   "outputs": [],
   "source": [
    "#s3.create_bucket(Bucket=\"a-bucket-name\")"
   ]
  },
  {
   "cell_type": "code",
   "execution_count": 23,
   "id": "13ecb247-039c-4564-bada-9ab53758c192",
   "metadata": {},
   "outputs": [],
   "source": [
    "bucket = s3.Bucket('kayak-bucket')\n"
   ]
  },
  {
   "cell_type": "code",
   "execution_count": 24,
   "id": "991be05f-68e6-4315-b147-808b31ae5845",
   "metadata": {},
   "outputs": [
    {
     "name": "stdout",
     "output_type": "stream",
     "text": [
      "None\n"
     ]
    }
   ],
   "source": [
    "result = bucket.upload_file('../data/booking_result.csv','booking_result.csv')\n",
    "\n",
    "print(result)\n"
   ]
  },
  {
   "cell_type": "markdown",
   "id": "b410c1cd-da7f-435d-9f68-e143f0bb52a6",
   "metadata": {},
   "source": [
    "### Create file weather.csv in S3 bucket"
   ]
  },
  {
   "cell_type": "code",
   "execution_count": 25,
   "id": "3d2a90da-37a7-4b11-a9af-0f4c47602190",
   "metadata": {},
   "outputs": [
    {
     "name": "stdout",
     "output_type": "stream",
     "text": [
      "None\n"
     ]
    }
   ],
   "source": [
    "result = bucket.upload_file('../data/weather.csv','weather.csv')\n",
    "print(result)\n"
   ]
  },
  {
   "cell_type": "markdown",
   "id": "d2a5de55-f64b-4594-afc7-d1dffca69adc",
   "metadata": {},
   "source": [
    "### ETL: Process files"
   ]
  },
  {
   "cell_type": "code",
   "execution_count": null,
   "id": "b42b174b-1670-4855-be3a-30c233fb33c6",
   "metadata": {},
   "outputs": [],
   "source": [
    "import botocore"
   ]
  },
  {
   "cell_type": "code",
   "execution_count": 28,
   "id": "47400727-d399-48b9-9a00-1b00082d33fb",
   "metadata": {},
   "outputs": [],
   "source": [
    "OBJECT_KEY = 'booking_result.csv' \n",
    "\n",
    "def download_file(object_key, download_path):\n",
    "    try:\n",
    "        bucket.download_file(object_key, download_path)\n",
    "    except botocore.exceptions.ClientError as e:\n",
    "        if e.response['Error']['Code'] == \"404\":\n",
    "            print(\"The object does not exist.\")\n",
    "        else:\n",
    "            raise"
   ]
  },
  {
   "cell_type": "code",
   "execution_count": null,
   "id": "9b011f36-6545-415e-9b79-7bd1ad7cbc36",
   "metadata": {},
   "outputs": [],
   "source": [
    "download_file(OBJECT_KEY, f'../data/s3_download/{OBJECT_KEY}')"
   ]
  },
  {
   "cell_type": "code",
   "execution_count": 29,
   "id": "14377ab1-7c08-41ef-a7a4-8300943b7f89",
   "metadata": {},
   "outputs": [],
   "source": [
    "download_file('weather.csv', f'../data/s3_download/weather.csv')"
   ]
  },
  {
   "cell_type": "markdown",
   "id": "4d8dd446-ecd1-4361-ba5d-d679185d3563",
   "metadata": {},
   "source": [
    "### Create objects for City and Hotel"
   ]
  },
  {
   "cell_type": "code",
   "execution_count": 32,
   "id": "5c061a09-a2e3-473f-a74d-09ee98eb36bf",
   "metadata": {},
   "outputs": [],
   "source": [
    "from sqlalchemy import create_engine"
   ]
  },
  {
   "cell_type": "code",
   "execution_count": 1,
   "id": "223cf5b9-feee-4f79-96f4-f5b8da2d92e0",
   "metadata": {},
   "outputs": [],
   "source": [
    "#print(f'postgresql+psycopg2://{conf.userRDS}:{conf.mdp}@{conf.endpoint}/cert-db')"
   ]
  },
  {
   "cell_type": "code",
   "execution_count": 68,
   "id": "1c8bbce3-6d5b-49fb-9b91-ad17cc126f2b",
   "metadata": {},
   "outputs": [],
   "source": [
    "engine = create_engine(f'postgresql+psycopg2://{conf.userRDS}:{conf.mdp}@{conf.endpoint}/kayak')"
   ]
  },
  {
   "cell_type": "code",
   "execution_count": 36,
   "id": "33f029c2-b902-4166-aa60-c16f641b0799",
   "metadata": {},
   "outputs": [],
   "source": [
    "from sqlalchemy.ext.declarative import declarative_base\n",
    "Base = declarative_base()"
   ]
  },
  {
   "cell_type": "code",
   "execution_count": 37,
   "id": "f8fce7e2-65bb-4a86-b823-33f676b75361",
   "metadata": {},
   "outputs": [],
   "source": [
    "from sqlalchemy import Column, Integer, String , Float \n",
    "\n",
    "class City(Base):\n",
    "    __tablename__ = \"CITY\"\n",
    "\n",
    "    place_id = Column(String, primary_key=True)\n",
    "    place = Column(String)\n",
    "    lat = Column(Float)\n",
    "    lon = Column(Float)\n",
    "\n",
    "    def __repr__(self):\n",
    "        return \"<CITY(place_id='{}', place='{}', lat='{}, lon={} ')>\".format(self.place_id, self.place, self.lat, self.lon)"
   ]
  },
  {
   "cell_type": "code",
   "execution_count": 38,
   "id": "7ed3df2e-00b1-4f79-ba20-a32ab5e6bb78",
   "metadata": {},
   "outputs": [],
   "source": [
    "class Hotel(Base):\n",
    "    __tablename__ = \"HOTEL\"\n",
    "\n",
    "    hotel_id = Column(Integer, primary_key=True)\n",
    "    place_id = Column(String, )\n",
    "    \n",
    "    place = Column(String)\n",
    "    lat = Column(Float)\n",
    "    lon = Column(Float)\n",
    "\n",
    "    def __repr__(self):\n",
    "        return \"<CITY(place_id='{}', place='{}', lat='{}, lon={} ')>\".format(self.place_id, self.place, self.lat, self.lon)"
   ]
  },
  {
   "cell_type": "markdown",
   "id": "89e4de49-744c-4b0e-9d75-a1e77647990a",
   "metadata": {},
   "source": [
    "### Persist values in Database"
   ]
  },
  {
   "cell_type": "markdown",
   "id": "23d18e7a-497c-4c72-af75-72638726999d",
   "metadata": {},
   "source": [
    "Sessionmaker  will allow to talk to our database. The `bind` argument takes an `engine` as parameter which corresponds to the database. "
   ]
  },
  {
   "cell_type": "code",
   "execution_count": 58,
   "id": "8a4b7528-d97f-49cd-9ab0-95d84c6fdaf3",
   "metadata": {},
   "outputs": [],
   "source": [
    "cities_df = pd.read_csv('../data/cities.csv', sep='\\t' )"
   ]
  },
  {
   "cell_type": "code",
   "execution_count": 59,
   "id": "5528873d-f5ed-4436-95ff-993a466e3719",
   "metadata": {},
   "outputs": [
    {
     "data": {
      "text/html": [
       "<div>\n",
       "<style scoped>\n",
       "    .dataframe tbody tr th:only-of-type {\n",
       "        vertical-align: middle;\n",
       "    }\n",
       "\n",
       "    .dataframe tbody tr th {\n",
       "        vertical-align: top;\n",
       "    }\n",
       "\n",
       "    .dataframe thead th {\n",
       "        text-align: right;\n",
       "    }\n",
       "</style>\n",
       "<table border=\"1\" class=\"dataframe\">\n",
       "  <thead>\n",
       "    <tr style=\"text-align: right;\">\n",
       "      <th></th>\n",
       "      <th>place</th>\n",
       "      <th>place_id</th>\n",
       "      <th>licence</th>\n",
       "      <th>osm_type</th>\n",
       "      <th>osm_id</th>\n",
       "      <th>boundingbox</th>\n",
       "      <th>lat</th>\n",
       "      <th>lon</th>\n",
       "      <th>display_name</th>\n",
       "      <th>place_rank</th>\n",
       "      <th>category</th>\n",
       "      <th>type</th>\n",
       "      <th>importance</th>\n",
       "      <th>icon</th>\n",
       "    </tr>\n",
       "  </thead>\n",
       "  <tbody>\n",
       "    <tr>\n",
       "      <th>0</th>\n",
       "      <td>Mont Saint Michel</td>\n",
       "      <td>151486647</td>\n",
       "      <td>Data © OpenStreetMap contributors, ODbL 1.0. h...</td>\n",
       "      <td>way</td>\n",
       "      <td>211285890</td>\n",
       "      <td>['48.6349172', '48.637031', '-1.5133292', '-1....</td>\n",
       "      <td>48.635954</td>\n",
       "      <td>-1.511460</td>\n",
       "      <td>Mont Saint-Michel, Le Mont-Saint-Michel, Avran...</td>\n",
       "      <td>20</td>\n",
       "      <td>place</td>\n",
       "      <td>islet</td>\n",
       "      <td>0.865437</td>\n",
       "      <td>NaN</td>\n",
       "    </tr>\n",
       "    <tr>\n",
       "      <th>1</th>\n",
       "      <td>St Malo</td>\n",
       "      <td>282098015</td>\n",
       "      <td>Data © OpenStreetMap contributors, ODbL 1.0. h...</td>\n",
       "      <td>relation</td>\n",
       "      <td>905534</td>\n",
       "      <td>['48.5979853', '48.6949736', '-2.0765246', '-1...</td>\n",
       "      <td>48.649518</td>\n",
       "      <td>-2.026041</td>\n",
       "      <td>Saint-Malo, Ille-et-Vilaine, Bretagne, France ...</td>\n",
       "      <td>16</td>\n",
       "      <td>boundary</td>\n",
       "      <td>administrative</td>\n",
       "      <td>0.786467</td>\n",
       "      <td>https://nominatim.openstreetmap.org/ui/mapicon...</td>\n",
       "    </tr>\n",
       "    <tr>\n",
       "      <th>2</th>\n",
       "      <td>Bayeux</td>\n",
       "      <td>281962470</td>\n",
       "      <td>Data © OpenStreetMap contributors, ODbL 1.0. h...</td>\n",
       "      <td>relation</td>\n",
       "      <td>145776</td>\n",
       "      <td>['49.2608124', '49.2934736', '-0.7275671', '-0...</td>\n",
       "      <td>49.276462</td>\n",
       "      <td>-0.702474</td>\n",
       "      <td>Bayeux, Calvados, Normandie, France métropolit...</td>\n",
       "      <td>16</td>\n",
       "      <td>boundary</td>\n",
       "      <td>administrative</td>\n",
       "      <td>0.792700</td>\n",
       "      <td>https://nominatim.openstreetmap.org/ui/mapicon...</td>\n",
       "    </tr>\n",
       "    <tr>\n",
       "      <th>3</th>\n",
       "      <td>Le Havre</td>\n",
       "      <td>282341149</td>\n",
       "      <td>Data © OpenStreetMap contributors, ODbL 1.0. h...</td>\n",
       "      <td>relation</td>\n",
       "      <td>104492</td>\n",
       "      <td>['49.4516697', '49.5401463', '0.0667992', '0.1...</td>\n",
       "      <td>49.493898</td>\n",
       "      <td>0.107973</td>\n",
       "      <td>Le Havre, Seine-Maritime, Normandie, France mé...</td>\n",
       "      <td>16</td>\n",
       "      <td>boundary</td>\n",
       "      <td>administrative</td>\n",
       "      <td>0.932333</td>\n",
       "      <td>https://nominatim.openstreetmap.org/ui/mapicon...</td>\n",
       "    </tr>\n",
       "    <tr>\n",
       "      <th>4</th>\n",
       "      <td>Rouen</td>\n",
       "      <td>122848</td>\n",
       "      <td>Data © OpenStreetMap contributors, ODbL 1.0. h...</td>\n",
       "      <td>node</td>\n",
       "      <td>26686587</td>\n",
       "      <td>['49.2804591', '49.6004591', '0.9339658', '1.2...</td>\n",
       "      <td>49.440459</td>\n",
       "      <td>1.093966</td>\n",
       "      <td>Rouen, Seine-Maritime, Normandie, France métro...</td>\n",
       "      <td>16</td>\n",
       "      <td>place</td>\n",
       "      <td>city</td>\n",
       "      <td>0.860073</td>\n",
       "      <td>https://nominatim.openstreetmap.org/ui/mapicon...</td>\n",
       "    </tr>\n",
       "  </tbody>\n",
       "</table>\n",
       "</div>"
      ],
      "text/plain": [
       "               place   place_id  \\\n",
       "0  Mont Saint Michel  151486647   \n",
       "1            St Malo  282098015   \n",
       "2             Bayeux  281962470   \n",
       "3           Le Havre  282341149   \n",
       "4              Rouen     122848   \n",
       "\n",
       "                                             licence  osm_type     osm_id  \\\n",
       "0  Data © OpenStreetMap contributors, ODbL 1.0. h...       way  211285890   \n",
       "1  Data © OpenStreetMap contributors, ODbL 1.0. h...  relation     905534   \n",
       "2  Data © OpenStreetMap contributors, ODbL 1.0. h...  relation     145776   \n",
       "3  Data © OpenStreetMap contributors, ODbL 1.0. h...  relation     104492   \n",
       "4  Data © OpenStreetMap contributors, ODbL 1.0. h...      node   26686587   \n",
       "\n",
       "                                         boundingbox        lat       lon  \\\n",
       "0  ['48.6349172', '48.637031', '-1.5133292', '-1....  48.635954 -1.511460   \n",
       "1  ['48.5979853', '48.6949736', '-2.0765246', '-1...  48.649518 -2.026041   \n",
       "2  ['49.2608124', '49.2934736', '-0.7275671', '-0...  49.276462 -0.702474   \n",
       "3  ['49.4516697', '49.5401463', '0.0667992', '0.1...  49.493898  0.107973   \n",
       "4  ['49.2804591', '49.6004591', '0.9339658', '1.2...  49.440459  1.093966   \n",
       "\n",
       "                                        display_name  place_rank  category  \\\n",
       "0  Mont Saint-Michel, Le Mont-Saint-Michel, Avran...          20     place   \n",
       "1  Saint-Malo, Ille-et-Vilaine, Bretagne, France ...          16  boundary   \n",
       "2  Bayeux, Calvados, Normandie, France métropolit...          16  boundary   \n",
       "3  Le Havre, Seine-Maritime, Normandie, France mé...          16  boundary   \n",
       "4  Rouen, Seine-Maritime, Normandie, France métro...          16     place   \n",
       "\n",
       "             type  importance  \\\n",
       "0           islet    0.865437   \n",
       "1  administrative    0.786467   \n",
       "2  administrative    0.792700   \n",
       "3  administrative    0.932333   \n",
       "4            city    0.860073   \n",
       "\n",
       "                                                icon  \n",
       "0                                                NaN  \n",
       "1  https://nominatim.openstreetmap.org/ui/mapicon...  \n",
       "2  https://nominatim.openstreetmap.org/ui/mapicon...  \n",
       "3  https://nominatim.openstreetmap.org/ui/mapicon...  \n",
       "4  https://nominatim.openstreetmap.org/ui/mapicon...  "
      ]
     },
     "execution_count": 59,
     "metadata": {},
     "output_type": "execute_result"
    }
   ],
   "source": [
    "cities_df = cities_df.drop(columns= 'Unnamed: 0')\n",
    "cities_df = cities_df.astype({'place_id': 'str'})\n",
    "cities_df.head(5)"
   ]
  },
  {
   "cell_type": "code",
   "execution_count": 70,
   "id": "dbc28b75-aac5-4be5-b8dc-04eea84da649",
   "metadata": {},
   "outputs": [],
   "source": [
    "cities_df.to_sql('CITY', con=engine, if_exists='append', index=False, index_label='place_id')"
   ]
  },
  {
   "cell_type": "code",
   "execution_count": 72,
   "id": "07a6ffe6-e6b4-415d-b8bb-ab289af30510",
   "metadata": {},
   "outputs": [],
   "source": [
    "hotels_df = pd.read_csv('../data/booking_result.csv', sep=',')\n"
   ]
  },
  {
   "cell_type": "code",
   "execution_count": 79,
   "id": "24303ec4-4387-4fec-a03e-7130f10a4ee0",
   "metadata": {},
   "outputs": [],
   "source": [
    "cities_red_df = cities_df[['place_id','place']]"
   ]
  },
  {
   "cell_type": "code",
   "execution_count": 81,
   "id": "9dddfbfc-1b80-4ce2-9bca-a39b8f8dae90",
   "metadata": {},
   "outputs": [
    {
     "data": {
      "text/html": [
       "<div>\n",
       "<style scoped>\n",
       "    .dataframe tbody tr th:only-of-type {\n",
       "        vertical-align: middle;\n",
       "    }\n",
       "\n",
       "    .dataframe tbody tr th {\n",
       "        vertical-align: top;\n",
       "    }\n",
       "\n",
       "    .dataframe thead th {\n",
       "        text-align: right;\n",
       "    }\n",
       "</style>\n",
       "<table border=\"1\" class=\"dataframe\">\n",
       "  <thead>\n",
       "    <tr style=\"text-align: right;\">\n",
       "      <th></th>\n",
       "      <th>city</th>\n",
       "      <th>name</th>\n",
       "      <th>url</th>\n",
       "      <th>latitude</th>\n",
       "      <th>longitude</th>\n",
       "      <th>desc</th>\n",
       "      <th>etoiles</th>\n",
       "      <th>note</th>\n",
       "      <th>reviews</th>\n",
       "      <th>place_id</th>\n",
       "      <th>place</th>\n",
       "    </tr>\n",
       "  </thead>\n",
       "  <tbody>\n",
       "    <tr>\n",
       "      <th>0</th>\n",
       "      <td>Mont Saint Michel</td>\n",
       "      <td>Mercure Mont Saint Michel</td>\n",
       "      <td>/hotel/fr/mont-saint-michel.fr.html</td>\n",
       "      <td>-1.510545</td>\n",
       "      <td>48.614247</td>\n",
       "      <td>Installé dans des espaces verts à seulement 2 ...</td>\n",
       "      <td>4.0</td>\n",
       "      <td>8,2</td>\n",
       "      <td>3 140</td>\n",
       "      <td>151486647</td>\n",
       "      <td>Mont Saint Michel</td>\n",
       "    </tr>\n",
       "    <tr>\n",
       "      <th>1</th>\n",
       "      <td>Mont Saint Michel</td>\n",
       "      <td>Hôtel Vert</td>\n",
       "      <td>/hotel/fr/vert.fr.html</td>\n",
       "      <td>-1.509617</td>\n",
       "      <td>48.614700</td>\n",
       "      <td>Situé à 2 km du Mont-Saint-Michel, sur la côte...</td>\n",
       "      <td>2.0</td>\n",
       "      <td>8,1</td>\n",
       "      <td>3 670</td>\n",
       "      <td>151486647</td>\n",
       "      <td>Mont Saint Michel</td>\n",
       "    </tr>\n",
       "    <tr>\n",
       "      <th>2</th>\n",
       "      <td>Mont Saint Michel</td>\n",
       "      <td>Hotel De La Digue</td>\n",
       "      <td>/hotel/fr/de-la-digue.fr.html</td>\n",
       "      <td>-1.510918</td>\n",
       "      <td>48.616882</td>\n",
       "      <td>L'hôtel De La Digue est un établissement tradi...</td>\n",
       "      <td>3.0</td>\n",
       "      <td>7,2</td>\n",
       "      <td>1 926</td>\n",
       "      <td>151486647</td>\n",
       "      <td>Mont Saint Michel</td>\n",
       "    </tr>\n",
       "    <tr>\n",
       "      <th>3</th>\n",
       "      <td>Mont Saint Michel</td>\n",
       "      <td>Le Saint Aubert</td>\n",
       "      <td>/hotel/fr/hotel-saint-aubert.fr.html</td>\n",
       "      <td>-1.510105</td>\n",
       "      <td>48.612938</td>\n",
       "      <td>Niché dans un écrin de verdure, à seulement 2 ...</td>\n",
       "      <td>3.0</td>\n",
       "      <td>7,4</td>\n",
       "      <td>1 257</td>\n",
       "      <td>151486647</td>\n",
       "      <td>Mont Saint Michel</td>\n",
       "    </tr>\n",
       "    <tr>\n",
       "      <th>4</th>\n",
       "      <td>Mont Saint Michel</td>\n",
       "      <td>La Vieille Auberge</td>\n",
       "      <td>/hotel/fr/la-vieille-auberge-le-mont-saint-mic...</td>\n",
       "      <td>-1.511457</td>\n",
       "      <td>48.636063</td>\n",
       "      <td>La Vieille Auberge se trouve dans le village m...</td>\n",
       "      <td>2.0</td>\n",
       "      <td>7,5</td>\n",
       "      <td>1 260</td>\n",
       "      <td>151486647</td>\n",
       "      <td>Mont Saint Michel</td>\n",
       "    </tr>\n",
       "    <tr>\n",
       "      <th>...</th>\n",
       "      <td>...</td>\n",
       "      <td>...</td>\n",
       "      <td>...</td>\n",
       "      <td>...</td>\n",
       "      <td>...</td>\n",
       "      <td>...</td>\n",
       "      <td>...</td>\n",
       "      <td>...</td>\n",
       "      <td>...</td>\n",
       "      <td>...</td>\n",
       "      <td>...</td>\n",
       "    </tr>\n",
       "    <tr>\n",
       "      <th>7209</th>\n",
       "      <td>La Rochelle</td>\n",
       "      <td>La Blanche La Rochelle Vue sur les Tours</td>\n",
       "      <td>/hotel/fr/la-blanche-la-rochelle-vue-sur-les-t...</td>\n",
       "      <td>-1.151293</td>\n",
       "      <td>46.158128</td>\n",
       "      <td>Hébergement La Blanche - Vue sur Rochelle L'ap...</td>\n",
       "      <td>NaN</td>\n",
       "      <td>NaN</td>\n",
       "      <td>NaN</td>\n",
       "      <td>281822562</td>\n",
       "      <td>La Rochelle</td>\n",
       "    </tr>\n",
       "    <tr>\n",
       "      <th>7210</th>\n",
       "      <td>La Rochelle</td>\n",
       "      <td>Full Moon</td>\n",
       "      <td>/hotel/fr/full-moon.fr.html</td>\n",
       "      <td>-1.151186</td>\n",
       "      <td>46.152663</td>\n",
       "      <td>Installé à La Rochelle, le Full Moon est un vo...</td>\n",
       "      <td>NaN</td>\n",
       "      <td>NaN</td>\n",
       "      <td>NaN</td>\n",
       "      <td>281822562</td>\n",
       "      <td>La Rochelle</td>\n",
       "    </tr>\n",
       "    <tr>\n",
       "      <th>7211</th>\n",
       "      <td>La Rochelle</td>\n",
       "      <td>BEAU STUDIO MODERNE 5MN CENTRE VILLE +PARKING ...</td>\n",
       "      <td>/hotel/fr/beau-studio-moderne-5mn-centre-ville...</td>\n",
       "      <td>-1.138740</td>\n",
       "      <td>46.160229</td>\n",
       "      <td>BEAU STUDIO MODERNE 5MN CENTRE VILLE +PARKING ...</td>\n",
       "      <td>NaN</td>\n",
       "      <td>NaN</td>\n",
       "      <td>NaN</td>\n",
       "      <td>281822562</td>\n",
       "      <td>La Rochelle</td>\n",
       "    </tr>\n",
       "    <tr>\n",
       "      <th>7212</th>\n",
       "      <td>La Rochelle</td>\n",
       "      <td>Maison agréable 110m2 avec jardin et jacuzzi</td>\n",
       "      <td>/hotel/fr/maison-agreable-110m2-avec-jardin-et...</td>\n",
       "      <td>-1.180585</td>\n",
       "      <td>46.165280</td>\n",
       "      <td>Située à La Rochelle, à seulement 3 km du Chef...</td>\n",
       "      <td>NaN</td>\n",
       "      <td>NaN</td>\n",
       "      <td>NaN</td>\n",
       "      <td>281822562</td>\n",
       "      <td>La Rochelle</td>\n",
       "    </tr>\n",
       "    <tr>\n",
       "      <th>7213</th>\n",
       "      <td>La Rochelle</td>\n",
       "      <td>Escale Rochelaise, large vacation family home</td>\n",
       "      <td>/hotel/fr/escale-rochelaise-large-vacation-fam...</td>\n",
       "      <td>-1.151651</td>\n",
       "      <td>46.164951</td>\n",
       "      <td>Située dans le centre-ville de La Rochelle, à ...</td>\n",
       "      <td>4.0</td>\n",
       "      <td>NaN</td>\n",
       "      <td>NaN</td>\n",
       "      <td>281822562</td>\n",
       "      <td>La Rochelle</td>\n",
       "    </tr>\n",
       "  </tbody>\n",
       "</table>\n",
       "<p>7214 rows × 11 columns</p>\n",
       "</div>"
      ],
      "text/plain": [
       "                   city                                               name  \\\n",
       "0     Mont Saint Michel                          Mercure Mont Saint Michel   \n",
       "1     Mont Saint Michel                                         Hôtel Vert   \n",
       "2     Mont Saint Michel                                  Hotel De La Digue   \n",
       "3     Mont Saint Michel                                    Le Saint Aubert   \n",
       "4     Mont Saint Michel                                 La Vieille Auberge   \n",
       "...                 ...                                                ...   \n",
       "7209        La Rochelle           La Blanche La Rochelle Vue sur les Tours   \n",
       "7210        La Rochelle                                          Full Moon   \n",
       "7211        La Rochelle  BEAU STUDIO MODERNE 5MN CENTRE VILLE +PARKING ...   \n",
       "7212        La Rochelle       Maison agréable 110m2 avec jardin et jacuzzi   \n",
       "7213        La Rochelle      Escale Rochelaise, large vacation family home   \n",
       "\n",
       "                                                    url  latitude  longitude  \\\n",
       "0                   /hotel/fr/mont-saint-michel.fr.html -1.510545  48.614247   \n",
       "1                                /hotel/fr/vert.fr.html -1.509617  48.614700   \n",
       "2                         /hotel/fr/de-la-digue.fr.html -1.510918  48.616882   \n",
       "3                  /hotel/fr/hotel-saint-aubert.fr.html -1.510105  48.612938   \n",
       "4     /hotel/fr/la-vieille-auberge-le-mont-saint-mic... -1.511457  48.636063   \n",
       "...                                                 ...       ...        ...   \n",
       "7209  /hotel/fr/la-blanche-la-rochelle-vue-sur-les-t... -1.151293  46.158128   \n",
       "7210                        /hotel/fr/full-moon.fr.html -1.151186  46.152663   \n",
       "7211  /hotel/fr/beau-studio-moderne-5mn-centre-ville... -1.138740  46.160229   \n",
       "7212  /hotel/fr/maison-agreable-110m2-avec-jardin-et... -1.180585  46.165280   \n",
       "7213  /hotel/fr/escale-rochelaise-large-vacation-fam... -1.151651  46.164951   \n",
       "\n",
       "                                                   desc  etoiles note reviews  \\\n",
       "0     Installé dans des espaces verts à seulement 2 ...      4.0  8,2   3 140   \n",
       "1     Situé à 2 km du Mont-Saint-Michel, sur la côte...      2.0  8,1   3 670   \n",
       "2     L'hôtel De La Digue est un établissement tradi...      3.0  7,2   1 926   \n",
       "3     Niché dans un écrin de verdure, à seulement 2 ...      3.0  7,4   1 257   \n",
       "4     La Vieille Auberge se trouve dans le village m...      2.0  7,5   1 260   \n",
       "...                                                 ...      ...  ...     ...   \n",
       "7209  Hébergement La Blanche - Vue sur Rochelle L'ap...      NaN  NaN     NaN   \n",
       "7210  Installé à La Rochelle, le Full Moon est un vo...      NaN  NaN     NaN   \n",
       "7211  BEAU STUDIO MODERNE 5MN CENTRE VILLE +PARKING ...      NaN  NaN     NaN   \n",
       "7212  Située à La Rochelle, à seulement 3 km du Chef...      NaN  NaN     NaN   \n",
       "7213  Située dans le centre-ville de La Rochelle, à ...      4.0  NaN     NaN   \n",
       "\n",
       "       place_id              place  \n",
       "0     151486647  Mont Saint Michel  \n",
       "1     151486647  Mont Saint Michel  \n",
       "2     151486647  Mont Saint Michel  \n",
       "3     151486647  Mont Saint Michel  \n",
       "4     151486647  Mont Saint Michel  \n",
       "...         ...                ...  \n",
       "7209  281822562        La Rochelle  \n",
       "7210  281822562        La Rochelle  \n",
       "7211  281822562        La Rochelle  \n",
       "7212  281822562        La Rochelle  \n",
       "7213  281822562        La Rochelle  \n",
       "\n",
       "[7214 rows x 11 columns]"
      ]
     },
     "execution_count": 81,
     "metadata": {},
     "output_type": "execute_result"
    }
   ],
   "source": [
    "joined_city_hotel = pd.merge(left=hotels_df, right=cities_red_df, how='inner', left_on='city', right_on='place', suffixes=(None, '_y'))\n",
    "joined_city_hotel\n"
   ]
  },
  {
   "cell_type": "code",
   "execution_count": 84,
   "id": "d47f2bdd-1957-4733-a20d-9c7209dfc54e",
   "metadata": {},
   "outputs": [],
   "source": [
    "new_columns = ['place_id',\n",
    " 'place',\n",
    " 'name',\n",
    " 'url',\n",
    " 'latitude',\n",
    " 'longitude',\n",
    " 'desc',\n",
    " 'etoiles',\n",
    " 'note',\n",
    " 'reviews']\n",
    "joined_city_hotel = joined_city_hotel[new_columns]"
   ]
  },
  {
   "cell_type": "code",
   "execution_count": 85,
   "id": "2b95e5da-bda1-4f60-a0f2-729b348d3afd",
   "metadata": {},
   "outputs": [],
   "source": [
    "joined_city_hotel.to_sql('HOTEL', con=engine, if_exists='append', index=True)"
   ]
  },
  {
   "cell_type": "code",
   "execution_count": null,
   "id": "e476fa2e-0132-4a05-bdd6-de23d1678744",
   "metadata": {},
   "outputs": [],
   "source": []
  }
 ],
 "metadata": {
  "kernelspec": {
   "display_name": "kernel-pez-jedha",
   "language": "python",
   "name": "kernel-pez-jedha"
  },
  "language_info": {
   "codemirror_mode": {
    "name": "ipython",
    "version": 3
   },
   "file_extension": ".py",
   "mimetype": "text/x-python",
   "name": "python",
   "nbconvert_exporter": "python",
   "pygments_lexer": "ipython3",
   "version": "3.7.11"
  }
 },
 "nbformat": 4,
 "nbformat_minor": 5
}
