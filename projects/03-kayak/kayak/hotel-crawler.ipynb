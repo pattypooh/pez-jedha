{
 "cells": [
  {
   "cell_type": "code",
   "execution_count": 1,
   "source": [
    "import os \n",
    "import logging\n",
    "\n",
    "# Import scrapy and scrapy.crawler \n",
    "import scrapy\n",
    "from scrapy.crawler import CrawlerProcess"
   ],
   "outputs": [],
   "metadata": {}
  },
  {
   "cell_type": "markdown",
   "source": [
    "process = CrawlerProcess(\n",
    "    settings = {\n",
    "    'USER_AGENT': 'Mozilla/4.0 (compatible; MSIE 7.0; Windows NT 5.1)',\n",
    "    'LOG_LEVEL': logging.INFO,\n",
    "    \"FEEDS\": {\n",
    "        'src/' + filename : {\"format\": \"json\"},\n",
    "    }\n",
    "})\n"
   ],
   "metadata": {}
  },
  {
   "cell_type": "code",
   "execution_count": 2,
   "source": [
    "from spiders.booking_spider import BookingSpider"
   ],
   "outputs": [],
   "metadata": {}
  },
  {
   "cell_type": "code",
   "execution_count": 3,
   "source": [
    "# Name of the file where the results will be saved\n",
    "filename = \"booking_result.csv\"\n",
    "\n",
    "# If file already exists, delete it before crawling (because Scrapy will \n",
    "# concatenate the last and new results otherwise)\n",
    "if filename in os.listdir('./../data/'):\n",
    "        os.remove('./../data/' + filename)\n",
    "\n",
    "# Declare a new CrawlerProcess with some settings\n",
    "## USER_AGENT => Simulates a browser on an OS\n",
    "## LOG_LEVEL => Minimal Level of Log \n",
    "## FEEDS => Where the file will be stored \n",
    "## More info on built-in settings => https://docs.scrapy.org/en/latest/topics/settings.html?highlight=settings#settings\n",
    "process = CrawlerProcess(\n",
    "    settings = {\n",
    "    #'USER_AGENT': 'Mozilla/4.0 (compatible; MSIE 7.0; Windows NT 5.1)',\n",
    "    'LOG_LEVEL': logging.INFO,\n",
    "    \"FEEDS\": {\n",
    "        './../data/' + filename : {\"format\": \"csv\"},\n",
    "    }\n",
    "})\n",
    "\n",
    "# Start the crawling using the spider you defined above\n",
    "process.crawl(BookingSpider)\n",
    "process.start()"
   ],
   "outputs": [
    {
     "output_type": "stream",
     "name": "stderr",
     "text": [
      "2021-09-07 04:29:36 [scrapy.utils.log] INFO: Scrapy 2.5.0 started (bot: scrapybot)\n",
      "2021-09-07 04:29:36 [scrapy.utils.log] INFO: Versions: lxml 4.6.3.0, libxml2 2.9.12, cssselect 1.1.0, parsel 1.6.0, w3lib 1.22.0, Twisted 21.7.0, Python 3.7.11 (default, Jul 27 2021, 14:32:16) - [GCC 7.5.0], pyOpenSSL 20.0.1 (OpenSSL 1.1.1l  24 Aug 2021), cryptography 3.4.7, Platform Linux-5.4.72-microsoft-standard-WSL2-x86_64-with-debian-bullseye-sid\n",
      "2021-09-07 04:29:36 [scrapy.crawler] INFO: Overridden settings:\n",
      "{'AUTOTHROTTLE_ENABLED': 'True', 'LOG_LEVEL': 20}\n",
      "2021-09-07 04:29:36 [scrapy.extensions.telnet] INFO: Telnet Password: eebbf0cd6b461044\n",
      "2021-09-07 04:29:36 [scrapy.middleware] INFO: Enabled extensions:\n",
      "['scrapy.extensions.corestats.CoreStats',\n",
      " 'scrapy.extensions.telnet.TelnetConsole',\n",
      " 'scrapy.extensions.memusage.MemoryUsage',\n",
      " 'scrapy.extensions.feedexport.FeedExporter',\n",
      " 'scrapy.extensions.logstats.LogStats',\n",
      " 'scrapy.extensions.throttle.AutoThrottle']\n",
      "2021-09-07 04:29:36 [scrapy.middleware] INFO: Enabled downloader middlewares:\n",
      "['scrapy.downloadermiddlewares.httpauth.HttpAuthMiddleware',\n",
      " 'scrapy.downloadermiddlewares.downloadtimeout.DownloadTimeoutMiddleware',\n",
      " 'scrapy.downloadermiddlewares.defaultheaders.DefaultHeadersMiddleware',\n",
      " 'scrapy.downloadermiddlewares.useragent.UserAgentMiddleware',\n",
      " 'scrapy.downloadermiddlewares.retry.RetryMiddleware',\n",
      " 'scrapy.downloadermiddlewares.redirect.MetaRefreshMiddleware',\n",
      " 'scrapy.downloadermiddlewares.httpcompression.HttpCompressionMiddleware',\n",
      " 'scrapy.downloadermiddlewares.redirect.RedirectMiddleware',\n",
      " 'scrapy.downloadermiddlewares.cookies.CookiesMiddleware',\n",
      " 'scrapy.downloadermiddlewares.httpproxy.HttpProxyMiddleware',\n",
      " 'scrapy.downloadermiddlewares.stats.DownloaderStats']\n",
      "2021-09-07 04:29:36 [scrapy.middleware] INFO: Enabled spider middlewares:\n",
      "['scrapy.spidermiddlewares.httperror.HttpErrorMiddleware',\n",
      " 'scrapy.spidermiddlewares.offsite.OffsiteMiddleware',\n",
      " 'scrapy.spidermiddlewares.referer.RefererMiddleware',\n",
      " 'scrapy.spidermiddlewares.urllength.UrlLengthMiddleware',\n",
      " 'scrapy.spidermiddlewares.depth.DepthMiddleware']\n",
      "2021-09-07 04:29:36 [scrapy.middleware] INFO: Enabled item pipelines:\n",
      "[]\n",
      "2021-09-07 04:29:36 [scrapy.core.engine] INFO: Spider opened\n",
      "2021-09-07 04:29:36 [scrapy.extensions.logstats] INFO: Crawled 0 pages (at 0 pages/min), scraped 0 items (at 0 items/min)\n",
      "2021-09-07 04:29:36 [scrapy.extensions.telnet] INFO: Telnet console listening on 127.0.0.1:6023\n"
     ]
    },
    {
     "output_type": "stream",
     "name": "stdout",
     "text": [
      "*****starting with url=https://www.booking.com/searchresults.fr.html?lang=fr&ss=Mont Saint Michel******\n",
      "*****starting with url=https://www.booking.com/searchresults.fr.html?lang=fr&ss=St Malo******\n",
      "*****starting with url=https://www.booking.com/searchresults.fr.html?lang=fr&ss=Bayeux******\n",
      "*****starting with url=https://www.booking.com/searchresults.fr.html?lang=fr&ss=Le Havre******\n",
      "*****starting with url=https://www.booking.com/searchresults.fr.html?lang=fr&ss=Rouen******\n",
      "*****starting with url=https://www.booking.com/searchresults.fr.html?lang=fr&ss=Paris******\n",
      "*****starting with url=https://www.booking.com/searchresults.fr.html?lang=fr&ss=Amiens******\n",
      "*****starting with url=https://www.booking.com/searchresults.fr.html?lang=fr&ss=Lille******\n",
      "*****starting with url=https://www.booking.com/searchresults.fr.html?lang=fr&ss=Strasbourg******\n",
      "*****starting with url=https://www.booking.com/searchresults.fr.html?lang=fr&ss=Chateau du Haut Koenigsbourg******\n",
      "*****starting with url=https://www.booking.com/searchresults.fr.html?lang=fr&ss=Colmar******\n",
      "*****starting with url=https://www.booking.com/searchresults.fr.html?lang=fr&ss=Eguisheim******\n",
      "*****starting with url=https://www.booking.com/searchresults.fr.html?lang=fr&ss=Besancon******\n",
      "*****starting with url=https://www.booking.com/searchresults.fr.html?lang=fr&ss=Dijon******\n",
      "*****starting with url=https://www.booking.com/searchresults.fr.html?lang=fr&ss=Annecy******\n",
      "*****starting with url=https://www.booking.com/searchresults.fr.html?lang=fr&ss=Grenoble******\n",
      "*****starting with url=https://www.booking.com/searchresults.fr.html?lang=fr&ss=Lyon******\n"
     ]
    },
    {
     "output_type": "stream",
     "name": "stderr",
     "text": [
      "2021-09-07 04:29:38 [root] INFO: Retrieving next page\n",
      "2021-09-07 04:29:44 [root] INFO: Retrieving next page\n",
      "2021-09-07 04:29:46 [root] INFO: Retrieving next page\n",
      "2021-09-07 04:29:48 [root] INFO: Retrieving next page\n",
      "2021-09-07 04:29:50 [root] INFO: Retrieving next page\n",
      "2021-09-07 04:29:52 [root] INFO: Retrieving next page\n",
      "2021-09-07 04:29:52 [root] INFO: There is no next page. The crawling process will terminate\n"
     ]
    },
    {
     "output_type": "stream",
     "name": "stdout",
     "text": [
      "There is no next page. The crawling process will terminate: url can't be None\n"
     ]
    },
    {
     "output_type": "stream",
     "name": "stderr",
     "text": [
      "2021-09-07 04:29:52 [root] INFO: Retrieving next page\n"
     ]
    },
    {
     "output_type": "stream",
     "name": "stdout",
     "text": [
      "*****starting with url=https://www.booking.com/searchresults.fr.html?lang=fr&ss=Gorges du Verdon******\n"
     ]
    },
    {
     "output_type": "stream",
     "name": "stderr",
     "text": [
      "2021-09-07 04:29:54 [root] INFO: Retrieving next page\n",
      "2021-09-07 04:29:54 [root] INFO: Retrieving next page\n"
     ]
    },
    {
     "output_type": "stream",
     "name": "stdout",
     "text": [
      "*****starting with url=https://www.booking.com/searchresults.fr.html?lang=fr&ss=Bormes les Mimosas******\n"
     ]
    },
    {
     "output_type": "stream",
     "name": "stderr",
     "text": [
      "2021-09-07 04:29:55 [root] INFO: Retrieving next page\n",
      "2021-09-07 04:29:56 [root] INFO: Retrieving next page\n",
      "2021-09-07 04:29:56 [root] INFO: Retrieving next page\n",
      "2021-09-07 04:29:57 [root] INFO: Retrieving next page\n",
      "2021-09-07 04:29:58 [root] INFO: Retrieving next page\n",
      "2021-09-07 04:29:59 [root] INFO: Retrieving next page\n",
      "2021-09-07 04:29:59 [root] INFO: Retrieving next page\n",
      "2021-09-07 04:30:00 [root] INFO: Retrieving next page\n",
      "2021-09-07 04:30:00 [root] INFO: Retrieving next page\n",
      "2021-09-07 04:30:01 [root] INFO: Retrieving next page\n",
      "2021-09-07 04:30:01 [root] INFO: Retrieving next page\n",
      "2021-09-07 04:30:02 [root] INFO: Retrieving next page\n",
      "2021-09-07 04:30:02 [root] INFO: Retrieving next page\n",
      "2021-09-07 04:30:02 [root] INFO: There is no next page. The crawling process will terminate\n"
     ]
    },
    {
     "output_type": "stream",
     "name": "stdout",
     "text": [
      "There is no next page. The crawling process will terminate: url can't be None\n"
     ]
    },
    {
     "output_type": "stream",
     "name": "stderr",
     "text": [
      "2021-09-07 04:30:02 [root] INFO: Retrieving next page\n",
      "2021-09-07 04:30:03 [root] INFO: Retrieving next page\n",
      "2021-09-07 04:30:04 [root] INFO: Retrieving next page\n",
      "2021-09-07 04:30:04 [root] INFO: Retrieving next page\n",
      "2021-09-07 04:30:04 [root] INFO: Retrieving next page\n"
     ]
    },
    {
     "output_type": "stream",
     "name": "stdout",
     "text": [
      "*****starting with url=https://www.booking.com/searchresults.fr.html?lang=fr&ss=Cassis******\n"
     ]
    },
    {
     "output_type": "stream",
     "name": "stderr",
     "text": [
      "2021-09-07 04:30:05 [root] INFO: Retrieving next page\n",
      "2021-09-07 04:30:05 [root] INFO: Retrieving next page\n",
      "2021-09-07 04:30:05 [root] INFO: There is no next page. The crawling process will terminate\n"
     ]
    },
    {
     "output_type": "stream",
     "name": "stdout",
     "text": [
      "There is no next page. The crawling process will terminate: url can't be None\n"
     ]
    },
    {
     "output_type": "stream",
     "name": "stderr",
     "text": [
      "2021-09-07 04:30:05 [root] INFO: Retrieving next page\n",
      "2021-09-07 04:30:06 [root] INFO: Retrieving next page\n",
      "2021-09-07 04:30:06 [root] INFO: Retrieving next page\n",
      "2021-09-07 04:30:07 [root] INFO: Retrieving next page\n",
      "2021-09-07 04:30:07 [root] INFO: Retrieving next page\n",
      "2021-09-07 04:30:07 [root] INFO: Retrieving next page\n",
      "2021-09-07 04:30:08 [root] INFO: Retrieving next page\n",
      "2021-09-07 04:30:08 [root] INFO: Retrieving next page\n",
      "2021-09-07 04:30:09 [root] INFO: Retrieving next page\n",
      "2021-09-07 04:30:09 [root] INFO: There is no next page. The crawling process will terminate\n"
     ]
    },
    {
     "output_type": "stream",
     "name": "stdout",
     "text": [
      "There is no next page. The crawling process will terminate: url can't be None\n",
      "*****starting with url=https://www.booking.com/searchresults.fr.html?lang=fr&ss=Marseille******\n"
     ]
    },
    {
     "output_type": "stream",
     "name": "stderr",
     "text": [
      "2021-09-07 04:30:09 [root] INFO: Retrieving next page\n",
      "2021-09-07 04:30:09 [root] INFO: Retrieving next page\n",
      "2021-09-07 04:30:10 [root] INFO: Retrieving next page\n",
      "2021-09-07 04:30:10 [root] INFO: Retrieving next page\n",
      "2021-09-07 04:30:11 [root] INFO: Retrieving next page\n",
      "2021-09-07 04:30:11 [root] INFO: Retrieving next page\n",
      "2021-09-07 04:30:12 [root] INFO: Retrieving next page\n",
      "2021-09-07 04:30:12 [root] INFO: Retrieving next page\n",
      "2021-09-07 04:30:13 [root] INFO: Retrieving next page\n",
      "2021-09-07 04:30:13 [root] INFO: Retrieving next page\n",
      "2021-09-07 04:30:13 [root] INFO: Retrieving next page\n",
      "2021-09-07 04:30:14 [root] INFO: Retrieving next page\n",
      "2021-09-07 04:30:15 [root] INFO: Retrieving next page\n",
      "2021-09-07 04:30:15 [root] INFO: Retrieving next page\n",
      "2021-09-07 04:30:16 [root] INFO: Retrieving next page\n",
      "2021-09-07 04:30:16 [root] INFO: There is no next page. The crawling process will terminate\n",
      "2021-09-07 04:30:16 [root] INFO: Retrieving next page\n"
     ]
    },
    {
     "output_type": "stream",
     "name": "stdout",
     "text": [
      "*****starting with url=https://www.booking.com/searchresults.fr.html?lang=fr&ss=Aix en Provence******\n",
      "There is no next page. The crawling process will terminate: url can't be None\n"
     ]
    },
    {
     "output_type": "stream",
     "name": "stderr",
     "text": [
      "2021-09-07 04:30:17 [root] INFO: Retrieving next page\n",
      "2021-09-07 04:30:17 [root] INFO: Retrieving next page\n",
      "2021-09-07 04:30:18 [root] INFO: Retrieving next page\n",
      "2021-09-07 04:30:19 [root] INFO: Retrieving next page\n",
      "2021-09-07 04:30:19 [root] INFO: Retrieving next page\n"
     ]
    },
    {
     "output_type": "stream",
     "name": "stdout",
     "text": [
      "*****starting with url=https://www.booking.com/searchresults.fr.html?lang=fr&ss=Avignon******\n"
     ]
    },
    {
     "output_type": "stream",
     "name": "stderr",
     "text": [
      "2021-09-07 04:30:19 [root] INFO: Retrieving next page\n",
      "2021-09-07 04:30:19 [root] INFO: Retrieving next page\n",
      "2021-09-07 04:30:20 [root] INFO: Retrieving next page\n",
      "2021-09-07 04:30:20 [root] INFO: Retrieving next page\n",
      "2021-09-07 04:30:20 [root] INFO: Retrieving next page\n",
      "2021-09-07 04:30:20 [root] INFO: There is no next page. The crawling process will terminate\n"
     ]
    },
    {
     "output_type": "stream",
     "name": "stdout",
     "text": [
      "There is no next page. The crawling process will terminate: url can't be None\n"
     ]
    },
    {
     "output_type": "stream",
     "name": "stderr",
     "text": [
      "2021-09-07 04:30:21 [root] INFO: Retrieving next page\n",
      "2021-09-07 04:30:21 [root] INFO: Retrieving next page\n",
      "2021-09-07 04:30:22 [root] INFO: Retrieving next page\n",
      "2021-09-07 04:30:22 [root] INFO: Retrieving next page\n",
      "2021-09-07 04:30:23 [root] INFO: Retrieving next page\n",
      "2021-09-07 04:30:23 [root] INFO: There is no next page. The crawling process will terminate\n"
     ]
    },
    {
     "output_type": "stream",
     "name": "stdout",
     "text": [
      "There is no next page. The crawling process will terminate: url can't be None\n"
     ]
    },
    {
     "output_type": "stream",
     "name": "stderr",
     "text": [
      "2021-09-07 04:30:23 [root] INFO: Retrieving next page\n"
     ]
    },
    {
     "output_type": "stream",
     "name": "stdout",
     "text": [
      "*****starting with url=https://www.booking.com/searchresults.fr.html?lang=fr&ss=Uzes******\n"
     ]
    },
    {
     "output_type": "stream",
     "name": "stderr",
     "text": [
      "2021-09-07 04:30:24 [root] INFO: Retrieving next page\n",
      "2021-09-07 04:30:24 [root] INFO: Retrieving next page\n",
      "2021-09-07 04:30:25 [root] INFO: Retrieving next page\n",
      "2021-09-07 04:30:25 [root] INFO: Retrieving next page\n",
      "2021-09-07 04:30:25 [root] INFO: Retrieving next page\n",
      "2021-09-07 04:30:26 [root] INFO: Retrieving next page\n"
     ]
    },
    {
     "output_type": "stream",
     "name": "stdout",
     "text": [
      "*****starting with url=https://www.booking.com/searchresults.fr.html?lang=fr&ss=Nimes******\n"
     ]
    },
    {
     "output_type": "stream",
     "name": "stderr",
     "text": [
      "2021-09-07 04:30:26 [root] INFO: Retrieving next page\n",
      "2021-09-07 04:30:27 [root] INFO: Retrieving next page\n",
      "2021-09-07 04:30:27 [root] INFO: Retrieving next page\n",
      "2021-09-07 04:30:28 [root] INFO: Retrieving next page\n",
      "2021-09-07 04:30:28 [root] INFO: Retrieving next page\n",
      "2021-09-07 04:30:28 [root] INFO: Retrieving next page\n",
      "2021-09-07 04:30:29 [root] INFO: Retrieving next page\n",
      "2021-09-07 04:30:29 [root] INFO: Retrieving next page\n",
      "2021-09-07 04:30:30 [root] INFO: Retrieving next page\n",
      "2021-09-07 04:30:30 [root] INFO: There is no next page. The crawling process will terminate\n"
     ]
    },
    {
     "output_type": "stream",
     "name": "stdout",
     "text": [
      "There is no next page. The crawling process will terminate: url can't be None\n"
     ]
    },
    {
     "output_type": "stream",
     "name": "stderr",
     "text": [
      "2021-09-07 04:30:30 [root] INFO: Retrieving next page\n",
      "2021-09-07 04:30:31 [root] INFO: Retrieving next page\n",
      "2021-09-07 04:30:31 [root] INFO: Retrieving next page\n",
      "2021-09-07 04:30:32 [root] INFO: Retrieving next page\n",
      "2021-09-07 04:30:32 [root] INFO: Retrieving next page\n",
      "2021-09-07 04:30:32 [root] INFO: Retrieving next page\n",
      "2021-09-07 04:30:33 [root] INFO: Retrieving next page\n",
      "2021-09-07 04:30:33 [root] INFO: Retrieving next page\n",
      "2021-09-07 04:30:33 [root] INFO: Retrieving next page\n",
      "2021-09-07 04:30:34 [root] INFO: Retrieving next page\n",
      "2021-09-07 04:30:34 [root] INFO: Retrieving next page\n",
      "2021-09-07 04:30:35 [root] INFO: Retrieving next page\n",
      "2021-09-07 04:30:35 [root] INFO: Retrieving next page\n",
      "2021-09-07 04:30:36 [root] INFO: Retrieving next page\n",
      "2021-09-07 04:30:36 [scrapy.extensions.logstats] INFO: Crawled 100 pages (at 100 pages/min), scraped 2314 items (at 2314 items/min)\n",
      "2021-09-07 04:30:36 [root] INFO: Retrieving next page\n",
      "2021-09-07 04:30:37 [root] INFO: Retrieving next page\n",
      "2021-09-07 04:30:37 [root] INFO: There is no next page. The crawling process will terminate\n"
     ]
    },
    {
     "output_type": "stream",
     "name": "stdout",
     "text": [
      "There is no next page. The crawling process will terminate: url can't be None\n"
     ]
    },
    {
     "output_type": "stream",
     "name": "stderr",
     "text": [
      "2021-09-07 04:30:37 [root] INFO: Retrieving next page\n"
     ]
    },
    {
     "output_type": "stream",
     "name": "stdout",
     "text": [
      "*****starting with url=https://www.booking.com/searchresults.fr.html?lang=fr&ss=Aigues Mortes******\n"
     ]
    },
    {
     "output_type": "stream",
     "name": "stderr",
     "text": [
      "2021-09-07 04:30:38 [root] INFO: Retrieving next page\n",
      "2021-09-07 04:30:38 [root] INFO: Retrieving next page\n",
      "2021-09-07 04:30:38 [root] INFO: Retrieving next page\n"
     ]
    },
    {
     "output_type": "stream",
     "name": "stdout",
     "text": [
      "*****starting with url=https://www.booking.com/searchresults.fr.html?lang=fr&ss=Saintes Maries de la mer******\n"
     ]
    },
    {
     "output_type": "stream",
     "name": "stderr",
     "text": [
      "2021-09-07 04:30:39 [root] INFO: Retrieving next page\n",
      "2021-09-07 04:30:39 [root] INFO: Retrieving next page\n",
      "2021-09-07 04:30:39 [root] INFO: There is no next page. The crawling process will terminate\n"
     ]
    },
    {
     "output_type": "stream",
     "name": "stdout",
     "text": [
      "There is no next page. The crawling process will terminate: url can't be None\n"
     ]
    },
    {
     "output_type": "stream",
     "name": "stderr",
     "text": [
      "2021-09-07 04:30:40 [root] INFO: Retrieving next page\n",
      "2021-09-07 04:30:40 [root] INFO: Retrieving next page\n",
      "2021-09-07 04:30:40 [root] INFO: Retrieving next page\n",
      "2021-09-07 04:30:41 [root] INFO: Retrieving next page\n",
      "2021-09-07 04:30:41 [root] INFO: Retrieving next page\n",
      "2021-09-07 04:30:42 [root] INFO: Retrieving next page\n",
      "2021-09-07 04:30:42 [root] INFO: Retrieving next page\n",
      "2021-09-07 04:30:43 [root] INFO: Retrieving next page\n",
      "2021-09-07 04:30:43 [root] INFO: Retrieving next page\n",
      "2021-09-07 04:30:44 [root] INFO: Retrieving next page\n",
      "2021-09-07 04:30:44 [root] INFO: There is no next page. The crawling process will terminate\n"
     ]
    },
    {
     "output_type": "stream",
     "name": "stdout",
     "text": [
      "There is no next page. The crawling process will terminate: url can't be None\n",
      "*****starting with url=https://www.booking.com/searchresults.fr.html?lang=fr&ss=Collioure******\n"
     ]
    },
    {
     "output_type": "stream",
     "name": "stderr",
     "text": [
      "2021-09-07 04:30:44 [root] INFO: Retrieving next page\n"
     ]
    },
    {
     "output_type": "stream",
     "name": "stdout",
     "text": [
      "*****starting with url=https://www.booking.com/searchresults.fr.html?lang=fr&ss=Carcassonne******\n"
     ]
    },
    {
     "output_type": "stream",
     "name": "stderr",
     "text": [
      "2021-09-07 04:30:44 [root] INFO: Retrieving next page\n",
      "2021-09-07 04:30:45 [root] INFO: Retrieving next page\n",
      "2021-09-07 04:30:45 [root] INFO: Retrieving next page\n",
      "2021-09-07 04:30:46 [root] INFO: Retrieving next page\n",
      "2021-09-07 04:30:46 [root] INFO: Retrieving next page\n",
      "2021-09-07 04:30:46 [root] INFO: Retrieving next page\n",
      "2021-09-07 04:30:46 [root] INFO: Retrieving next page\n",
      "2021-09-07 04:30:47 [root] INFO: Retrieving next page\n",
      "2021-09-07 04:30:47 [root] INFO: Retrieving next page\n",
      "2021-09-07 04:30:48 [root] INFO: Retrieving next page\n",
      "2021-09-07 04:30:48 [root] INFO: Retrieving next page\n",
      "2021-09-07 04:30:49 [root] INFO: Retrieving next page\n",
      "2021-09-07 04:30:49 [root] INFO: Retrieving next page\n",
      "2021-09-07 04:30:49 [root] INFO: Retrieving next page\n",
      "2021-09-07 04:30:49 [root] INFO: Retrieving next page\n",
      "2021-09-07 04:30:49 [root] INFO: There is no next page. The crawling process will terminate\n"
     ]
    },
    {
     "output_type": "stream",
     "name": "stdout",
     "text": [
      "There is no next page. The crawling process will terminate: url can't be None\n"
     ]
    },
    {
     "output_type": "stream",
     "name": "stderr",
     "text": [
      "2021-09-07 04:30:50 [root] INFO: Retrieving next page\n",
      "2021-09-07 04:30:51 [root] INFO: Retrieving next page\n",
      "2021-09-07 04:30:51 [root] INFO: Retrieving next page\n",
      "2021-09-07 04:30:52 [root] INFO: Retrieving next page\n",
      "2021-09-07 04:30:52 [root] INFO: There is no next page. The crawling process will terminate\n",
      "2021-09-07 04:30:52 [root] INFO: Retrieving next page\n"
     ]
    },
    {
     "output_type": "stream",
     "name": "stdout",
     "text": [
      "*****starting with url=https://www.booking.com/searchresults.fr.html?lang=fr&ss=Ariege******\n",
      "There is no next page. The crawling process will terminate: url can't be None\n"
     ]
    },
    {
     "output_type": "stream",
     "name": "stderr",
     "text": [
      "2021-09-07 04:30:52 [root] INFO: Retrieving next page\n",
      "2021-09-07 04:30:53 [root] INFO: Retrieving next page\n",
      "2021-09-07 04:30:53 [root] INFO: Retrieving next page\n",
      "2021-09-07 04:30:54 [root] INFO: Retrieving next page\n",
      "2021-09-07 04:30:54 [root] INFO: Retrieving next page\n",
      "2021-09-07 04:30:55 [root] INFO: Retrieving next page\n",
      "2021-09-07 04:30:55 [root] INFO: Retrieving next page\n",
      "2021-09-07 04:30:56 [root] INFO: Retrieving next page\n",
      "2021-09-07 04:30:56 [root] INFO: Retrieving next page\n",
      "2021-09-07 04:30:56 [root] INFO: Retrieving next page\n",
      "2021-09-07 04:30:57 [root] INFO: Retrieving next page\n",
      "2021-09-07 04:30:57 [root] INFO: There is no next page. The crawling process will terminate\n"
     ]
    },
    {
     "output_type": "stream",
     "name": "stdout",
     "text": [
      "There is no next page. The crawling process will terminate: url can't be None\n"
     ]
    },
    {
     "output_type": "stream",
     "name": "stderr",
     "text": [
      "2021-09-07 04:30:57 [root] INFO: Retrieving next page\n"
     ]
    },
    {
     "output_type": "stream",
     "name": "stdout",
     "text": [
      "*****starting with url=https://www.booking.com/searchresults.fr.html?lang=fr&ss=Toulouse******\n"
     ]
    },
    {
     "output_type": "stream",
     "name": "stderr",
     "text": [
      "2021-09-07 04:30:58 [root] INFO: Retrieving next page\n",
      "2021-09-07 04:30:58 [root] INFO: Retrieving next page\n",
      "2021-09-07 04:30:59 [root] INFO: Retrieving next page\n",
      "2021-09-07 04:30:59 [root] INFO: Retrieving next page\n",
      "2021-09-07 04:30:59 [root] INFO: Retrieving next page\n",
      "2021-09-07 04:31:00 [root] INFO: Retrieving next page\n",
      "2021-09-07 04:31:01 [root] INFO: Retrieving next page\n"
     ]
    },
    {
     "output_type": "stream",
     "name": "stdout",
     "text": [
      "*****starting with url=https://www.booking.com/searchresults.fr.html?lang=fr&ss=Montauban******\n"
     ]
    },
    {
     "output_type": "stream",
     "name": "stderr",
     "text": [
      "2021-09-07 04:31:01 [root] INFO: Retrieving next page\n",
      "2021-09-07 04:31:01 [root] INFO: Retrieving next page\n",
      "2021-09-07 04:31:01 [root] INFO: Retrieving next page\n",
      "2021-09-07 04:31:02 [root] INFO: Retrieving next page\n",
      "2021-09-07 04:31:02 [root] INFO: Retrieving next page\n",
      "2021-09-07 04:31:03 [root] INFO: Retrieving next page\n",
      "2021-09-07 04:31:03 [root] INFO: Retrieving next page\n",
      "2021-09-07 04:31:03 [root] INFO: There is no next page. The crawling process will terminate\n"
     ]
    },
    {
     "output_type": "stream",
     "name": "stdout",
     "text": [
      "There is no next page. The crawling process will terminate: url can't be None\n"
     ]
    },
    {
     "output_type": "stream",
     "name": "stderr",
     "text": [
      "2021-09-07 04:31:04 [root] INFO: Retrieving next page\n",
      "2021-09-07 04:31:04 [root] INFO: There is no next page. The crawling process will terminate\n"
     ]
    },
    {
     "output_type": "stream",
     "name": "stdout",
     "text": [
      "There is no next page. The crawling process will terminate: url can't be None\n"
     ]
    },
    {
     "output_type": "stream",
     "name": "stderr",
     "text": [
      "2021-09-07 04:31:04 [root] INFO: Retrieving next page\n"
     ]
    },
    {
     "output_type": "stream",
     "name": "stdout",
     "text": [
      "*****starting with url=https://www.booking.com/searchresults.fr.html?lang=fr&ss=Biarritz******\n",
      "*****starting with url=https://www.booking.com/searchresults.fr.html?lang=fr&ss=Bayonne******\n"
     ]
    },
    {
     "output_type": "stream",
     "name": "stderr",
     "text": [
      "2021-09-07 04:31:04 [root] INFO: Retrieving next page\n",
      "2021-09-07 04:31:05 [root] INFO: Retrieving next page\n",
      "2021-09-07 04:31:05 [root] INFO: Retrieving next page\n",
      "2021-09-07 04:31:05 [root] INFO: There is no next page. The crawling process will terminate\n"
     ]
    },
    {
     "output_type": "stream",
     "name": "stdout",
     "text": [
      "There is no next page. The crawling process will terminate: url can't be None\n"
     ]
    },
    {
     "output_type": "stream",
     "name": "stderr",
     "text": [
      "2021-09-07 04:31:06 [root] INFO: Retrieving next page\n",
      "2021-09-07 04:31:06 [root] INFO: Retrieving next page\n",
      "2021-09-07 04:31:07 [root] INFO: Retrieving next page\n",
      "2021-09-07 04:31:07 [root] INFO: Retrieving next page\n",
      "2021-09-07 04:31:07 [root] INFO: Retrieving next page\n",
      "2021-09-07 04:31:08 [root] INFO: Retrieving next page\n",
      "2021-09-07 04:31:09 [root] INFO: Retrieving next page\n",
      "2021-09-07 04:31:09 [root] INFO: Retrieving next page\n",
      "2021-09-07 04:31:10 [root] INFO: Retrieving next page\n",
      "2021-09-07 04:31:10 [root] INFO: Retrieving next page\n",
      "2021-09-07 04:31:10 [root] INFO: Retrieving next page\n",
      "2021-09-07 04:31:11 [root] INFO: Retrieving next page\n",
      "2021-09-07 04:31:11 [root] INFO: There is no next page. The crawling process will terminate\n"
     ]
    },
    {
     "output_type": "stream",
     "name": "stdout",
     "text": [
      "There is no next page. The crawling process will terminate: url can't be None\n"
     ]
    },
    {
     "output_type": "stream",
     "name": "stderr",
     "text": [
      "2021-09-07 04:31:12 [root] INFO: Retrieving next page\n"
     ]
    },
    {
     "output_type": "stream",
     "name": "stdout",
     "text": [
      "*****starting with url=https://www.booking.com/searchresults.fr.html?lang=fr&ss=La Rochelle******\n"
     ]
    },
    {
     "output_type": "stream",
     "name": "stderr",
     "text": [
      "2021-09-07 04:31:12 [root] INFO: Retrieving next page\n",
      "2021-09-07 04:31:12 [root] INFO: Retrieving next page\n",
      "2021-09-07 04:31:12 [root] INFO: Retrieving next page\n",
      "2021-09-07 04:31:13 [root] INFO: Retrieving next page\n",
      "2021-09-07 04:31:13 [root] INFO: Retrieving next page\n",
      "2021-09-07 04:31:13 [root] INFO: Retrieving next page\n",
      "2021-09-07 04:31:14 [root] INFO: Retrieving next page\n",
      "2021-09-07 04:31:15 [root] INFO: Retrieving next page\n",
      "2021-09-07 04:31:15 [root] INFO: Retrieving next page\n",
      "2021-09-07 04:31:15 [root] INFO: Retrieving next page\n",
      "2021-09-07 04:31:16 [root] INFO: Retrieving next page\n",
      "2021-09-07 04:31:17 [root] INFO: Retrieving next page\n",
      "2021-09-07 04:31:17 [root] INFO: Retrieving next page\n",
      "2021-09-07 04:31:17 [root] INFO: Retrieving next page\n",
      "2021-09-07 04:31:18 [root] INFO: Retrieving next page\n",
      "2021-09-07 04:31:18 [root] INFO: There is no next page. The crawling process will terminate\n"
     ]
    },
    {
     "output_type": "stream",
     "name": "stdout",
     "text": [
      "There is no next page. The crawling process will terminate: url can't be None\n"
     ]
    },
    {
     "output_type": "stream",
     "name": "stderr",
     "text": [
      "2021-09-07 04:31:18 [root] INFO: Retrieving next page\n",
      "2021-09-07 04:31:19 [root] INFO: Retrieving next page\n",
      "2021-09-07 04:31:19 [root] INFO: Retrieving next page\n",
      "2021-09-07 04:31:20 [root] INFO: Retrieving next page\n",
      "2021-09-07 04:31:20 [root] INFO: Retrieving next page\n",
      "2021-09-07 04:31:21 [root] INFO: Retrieving next page\n",
      "2021-09-07 04:31:21 [root] INFO: Retrieving next page\n",
      "2021-09-07 04:31:21 [root] INFO: Retrieving next page\n",
      "2021-09-07 04:31:22 [root] INFO: Retrieving next page\n",
      "2021-09-07 04:31:22 [root] INFO: There is no next page. The crawling process will terminate\n"
     ]
    },
    {
     "output_type": "stream",
     "name": "stdout",
     "text": [
      "There is no next page. The crawling process will terminate: url can't be None\n"
     ]
    },
    {
     "output_type": "stream",
     "name": "stderr",
     "text": [
      "2021-09-07 04:31:22 [root] INFO: Retrieving next page\n",
      "2021-09-07 04:31:22 [root] INFO: Retrieving next page\n",
      "2021-09-07 04:31:22 [root] INFO: There is no next page. The crawling process will terminate\n"
     ]
    },
    {
     "output_type": "stream",
     "name": "stdout",
     "text": [
      "There is no next page. The crawling process will terminate: url can't be None\n"
     ]
    },
    {
     "output_type": "stream",
     "name": "stderr",
     "text": [
      "2021-09-07 04:31:23 [root] INFO: Retrieving next page\n",
      "2021-09-07 04:31:23 [root] INFO: Retrieving next page\n",
      "2021-09-07 04:31:24 [root] INFO: Retrieving next page\n",
      "2021-09-07 04:31:24 [root] INFO: Retrieving next page\n",
      "2021-09-07 04:31:24 [root] INFO: Retrieving next page\n",
      "2021-09-07 04:31:24 [root] INFO: There is no next page. The crawling process will terminate\n"
     ]
    },
    {
     "output_type": "stream",
     "name": "stdout",
     "text": [
      "There is no next page. The crawling process will terminate: url can't be None\n"
     ]
    },
    {
     "output_type": "stream",
     "name": "stderr",
     "text": [
      "2021-09-07 04:31:25 [root] INFO: Retrieving next page\n",
      "2021-09-07 04:31:26 [root] INFO: Retrieving next page\n",
      "2021-09-07 04:31:26 [root] INFO: Retrieving next page\n",
      "2021-09-07 04:31:26 [root] INFO: Retrieving next page\n",
      "2021-09-07 04:31:27 [root] INFO: Retrieving next page\n",
      "2021-09-07 04:31:27 [root] INFO: Retrieving next page\n",
      "2021-09-07 04:31:28 [root] INFO: Retrieving next page\n",
      "2021-09-07 04:31:28 [root] INFO: Retrieving next page\n",
      "2021-09-07 04:31:29 [root] INFO: Retrieving next page\n",
      "2021-09-07 04:31:29 [root] INFO: Retrieving next page\n",
      "2021-09-07 04:31:29 [root] INFO: Retrieving next page\n",
      "2021-09-07 04:31:30 [root] INFO: Retrieving next page\n",
      "2021-09-07 04:31:30 [root] INFO: Retrieving next page\n",
      "2021-09-07 04:31:30 [root] INFO: There is no next page. The crawling process will terminate\n"
     ]
    },
    {
     "output_type": "stream",
     "name": "stdout",
     "text": [
      "There is no next page. The crawling process will terminate: url can't be None\n"
     ]
    },
    {
     "output_type": "stream",
     "name": "stderr",
     "text": [
      "2021-09-07 04:31:31 [root] INFO: Retrieving next page\n",
      "2021-09-07 04:31:31 [root] INFO: Retrieving next page\n",
      "2021-09-07 04:31:32 [root] INFO: Retrieving next page\n",
      "2021-09-07 04:31:32 [root] INFO: Retrieving next page\n",
      "2021-09-07 04:31:32 [root] INFO: Retrieving next page\n",
      "2021-09-07 04:31:33 [root] INFO: Retrieving next page\n",
      "2021-09-07 04:31:33 [root] INFO: Retrieving next page\n",
      "2021-09-07 04:31:34 [root] INFO: Retrieving next page\n",
      "2021-09-07 04:31:34 [root] INFO: Retrieving next page\n",
      "2021-09-07 04:31:34 [root] INFO: There is no next page. The crawling process will terminate\n"
     ]
    },
    {
     "output_type": "stream",
     "name": "stdout",
     "text": [
      "There is no next page. The crawling process will terminate: url can't be None\n"
     ]
    },
    {
     "output_type": "stream",
     "name": "stderr",
     "text": [
      "2021-09-07 04:31:35 [root] INFO: Retrieving next page\n",
      "2021-09-07 04:31:35 [root] INFO: There is no next page. The crawling process will terminate\n"
     ]
    },
    {
     "output_type": "stream",
     "name": "stdout",
     "text": [
      "There is no next page. The crawling process will terminate: url can't be None\n"
     ]
    },
    {
     "output_type": "stream",
     "name": "stderr",
     "text": [
      "2021-09-07 04:31:35 [root] INFO: Retrieving next page\n",
      "2021-09-07 04:31:36 [scrapy.extensions.logstats] INFO: Crawled 238 pages (at 138 pages/min), scraped 5475 items (at 3161 items/min)\n",
      "2021-09-07 04:31:36 [root] INFO: Retrieving next page\n",
      "2021-09-07 04:31:37 [root] INFO: Retrieving next page\n",
      "2021-09-07 04:31:37 [root] INFO: Retrieving next page\n",
      "2021-09-07 04:31:37 [root] INFO: Retrieving next page\n",
      "2021-09-07 04:31:38 [root] INFO: Retrieving next page\n",
      "2021-09-07 04:31:38 [root] INFO: Retrieving next page\n",
      "2021-09-07 04:31:38 [root] INFO: There is no next page. The crawling process will terminate\n"
     ]
    },
    {
     "output_type": "stream",
     "name": "stdout",
     "text": [
      "There is no next page. The crawling process will terminate: url can't be None\n"
     ]
    },
    {
     "output_type": "stream",
     "name": "stderr",
     "text": [
      "2021-09-07 04:31:38 [root] INFO: Retrieving next page\n",
      "2021-09-07 04:31:39 [root] INFO: Retrieving next page\n",
      "2021-09-07 04:31:39 [root] INFO: Retrieving next page\n",
      "2021-09-07 04:31:39 [root] INFO: Retrieving next page\n",
      "2021-09-07 04:31:40 [root] INFO: Retrieving next page\n",
      "2021-09-07 04:31:40 [root] INFO: Retrieving next page\n",
      "2021-09-07 04:31:41 [root] INFO: Retrieving next page\n",
      "2021-09-07 04:31:41 [root] INFO: Retrieving next page\n",
      "2021-09-07 04:31:41 [root] INFO: There is no next page. The crawling process will terminate\n"
     ]
    },
    {
     "output_type": "stream",
     "name": "stdout",
     "text": [
      "There is no next page. The crawling process will terminate: url can't be None\n"
     ]
    },
    {
     "output_type": "stream",
     "name": "stderr",
     "text": [
      "2021-09-07 04:31:41 [root] INFO: Retrieving next page\n",
      "2021-09-07 04:31:41 [root] INFO: There is no next page. The crawling process will terminate\n"
     ]
    },
    {
     "output_type": "stream",
     "name": "stdout",
     "text": [
      "There is no next page. The crawling process will terminate: url can't be None\n"
     ]
    },
    {
     "output_type": "stream",
     "name": "stderr",
     "text": [
      "2021-09-07 04:31:42 [root] INFO: Retrieving next page\n",
      "2021-09-07 04:31:42 [root] INFO: Retrieving next page\n",
      "2021-09-07 04:31:43 [root] INFO: Retrieving next page\n",
      "2021-09-07 04:31:43 [root] INFO: Retrieving next page\n",
      "2021-09-07 04:31:44 [root] INFO: Retrieving next page\n",
      "2021-09-07 04:31:44 [root] INFO: Retrieving next page\n",
      "2021-09-07 04:31:44 [root] INFO: Retrieving next page\n",
      "2021-09-07 04:31:44 [root] INFO: Retrieving next page\n",
      "2021-09-07 04:31:45 [root] INFO: Retrieving next page\n",
      "2021-09-07 04:31:45 [root] INFO: Retrieving next page\n",
      "2021-09-07 04:31:46 [root] INFO: Retrieving next page\n",
      "2021-09-07 04:31:46 [root] INFO: Retrieving next page\n",
      "2021-09-07 04:31:47 [root] INFO: Retrieving next page\n",
      "2021-09-07 04:31:47 [root] INFO: Retrieving next page\n",
      "2021-09-07 04:31:47 [root] INFO: Retrieving next page\n",
      "2021-09-07 04:31:48 [root] INFO: Retrieving next page\n",
      "2021-09-07 04:31:48 [root] INFO: Retrieving next page\n",
      "2021-09-07 04:31:49 [root] INFO: Retrieving next page\n",
      "2021-09-07 04:31:49 [root] INFO: Retrieving next page\n",
      "2021-09-07 04:31:50 [root] INFO: Retrieving next page\n",
      "2021-09-07 04:31:50 [root] INFO: Retrieving next page\n",
      "2021-09-07 04:31:50 [root] INFO: Retrieving next page\n",
      "2021-09-07 04:31:51 [root] INFO: Retrieving next page\n",
      "2021-09-07 04:31:51 [root] INFO: Retrieving next page\n",
      "2021-09-07 04:31:51 [root] INFO: Retrieving next page\n",
      "2021-09-07 04:31:52 [root] INFO: Retrieving next page\n",
      "2021-09-07 04:31:52 [root] INFO: Retrieving next page\n",
      "2021-09-07 04:31:53 [root] INFO: Retrieving next page\n",
      "2021-09-07 04:31:53 [root] INFO: Retrieving next page\n",
      "2021-09-07 04:31:53 [root] INFO: Retrieving next page\n",
      "2021-09-07 04:31:54 [root] INFO: Retrieving next page\n",
      "2021-09-07 04:31:54 [root] INFO: Retrieving next page\n",
      "2021-09-07 04:31:55 [root] INFO: Retrieving next page\n",
      "2021-09-07 04:31:56 [root] INFO: Retrieving next page\n",
      "2021-09-07 04:31:56 [root] INFO: Retrieving next page\n",
      "2021-09-07 04:31:56 [root] INFO: Retrieving next page\n",
      "2021-09-07 04:31:57 [root] INFO: Retrieving next page\n",
      "2021-09-07 04:31:57 [root] INFO: Retrieving next page\n",
      "2021-09-07 04:31:58 [root] INFO: Retrieving next page\n",
      "2021-09-07 04:31:58 [root] INFO: There is no next page. The crawling process will terminate\n"
     ]
    },
    {
     "output_type": "stream",
     "name": "stdout",
     "text": [
      "There is no next page. The crawling process will terminate: url can't be None\n"
     ]
    },
    {
     "output_type": "stream",
     "name": "stderr",
     "text": [
      "2021-09-07 04:31:59 [root] INFO: Retrieving next page\n",
      "2021-09-07 04:31:59 [root] INFO: Retrieving next page\n",
      "2021-09-07 04:31:59 [root] INFO: Retrieving next page\n",
      "2021-09-07 04:31:59 [root] INFO: There is no next page. The crawling process will terminate\n"
     ]
    },
    {
     "output_type": "stream",
     "name": "stdout",
     "text": [
      "There is no next page. The crawling process will terminate: url can't be None\n"
     ]
    },
    {
     "output_type": "stream",
     "name": "stderr",
     "text": [
      "2021-09-07 04:31:59 [root] INFO: Retrieving next page\n",
      "2021-09-07 04:32:00 [root] INFO: Retrieving next page\n",
      "2021-09-07 04:32:00 [root] INFO: Retrieving next page\n",
      "2021-09-07 04:32:01 [root] INFO: Retrieving next page\n",
      "2021-09-07 04:32:01 [root] INFO: Retrieving next page\n",
      "2021-09-07 04:32:02 [root] INFO: Retrieving next page\n",
      "2021-09-07 04:32:02 [root] INFO: Retrieving next page\n",
      "2021-09-07 04:32:02 [root] INFO: Retrieving next page\n",
      "2021-09-07 04:32:02 [root] INFO: There is no next page. The crawling process will terminate\n"
     ]
    },
    {
     "output_type": "stream",
     "name": "stdout",
     "text": [
      "There is no next page. The crawling process will terminate: url can't be None\n"
     ]
    },
    {
     "output_type": "stream",
     "name": "stderr",
     "text": [
      "2021-09-07 04:32:03 [root] INFO: Retrieving next page\n",
      "2021-09-07 04:32:03 [root] INFO: Retrieving next page\n",
      "2021-09-07 04:32:03 [root] INFO: Retrieving next page\n",
      "2021-09-07 04:32:04 [root] INFO: Retrieving next page\n",
      "2021-09-07 04:32:04 [root] INFO: Retrieving next page\n",
      "2021-09-07 04:32:05 [root] INFO: Retrieving next page\n",
      "2021-09-07 04:32:05 [root] INFO: Retrieving next page\n",
      "2021-09-07 04:32:06 [root] INFO: Retrieving next page\n",
      "2021-09-07 04:32:06 [root] INFO: Retrieving next page\n",
      "2021-09-07 04:32:06 [root] INFO: Retrieving next page\n",
      "2021-09-07 04:32:07 [root] INFO: Retrieving next page\n",
      "2021-09-07 04:32:07 [root] INFO: Retrieving next page\n",
      "2021-09-07 04:32:07 [root] INFO: Retrieving next page\n",
      "2021-09-07 04:32:08 [root] INFO: Retrieving next page\n",
      "2021-09-07 04:32:08 [root] INFO: Retrieving next page\n",
      "2021-09-07 04:32:09 [root] INFO: Retrieving next page\n",
      "2021-09-07 04:32:09 [root] INFO: Retrieving next page\n",
      "2021-09-07 04:32:09 [root] INFO: Retrieving next page\n",
      "2021-09-07 04:32:10 [root] INFO: Retrieving next page\n",
      "2021-09-07 04:32:10 [root] INFO: Retrieving next page\n",
      "2021-09-07 04:32:11 [root] INFO: Retrieving next page\n",
      "2021-09-07 04:32:11 [root] INFO: Retrieving next page\n",
      "2021-09-07 04:32:11 [root] INFO: Retrieving next page\n",
      "2021-09-07 04:32:12 [root] INFO: Retrieving next page\n",
      "2021-09-07 04:32:12 [root] INFO: Retrieving next page\n",
      "2021-09-07 04:32:13 [root] INFO: Retrieving next page\n",
      "2021-09-07 04:32:13 [root] INFO: Retrieving next page\n",
      "2021-09-07 04:32:14 [root] INFO: Retrieving next page\n",
      "2021-09-07 04:32:14 [root] INFO: Retrieving next page\n",
      "2021-09-07 04:32:14 [root] INFO: There is no next page. The crawling process will terminate\n"
     ]
    },
    {
     "output_type": "stream",
     "name": "stdout",
     "text": [
      "There is no next page. The crawling process will terminate: url can't be None\n"
     ]
    },
    {
     "output_type": "stream",
     "name": "stderr",
     "text": [
      "2021-09-07 04:32:14 [root] INFO: Retrieving next page\n",
      "2021-09-07 04:32:15 [root] INFO: Retrieving next page\n",
      "2021-09-07 04:32:15 [root] INFO: Retrieving next page\n",
      "2021-09-07 04:32:16 [root] INFO: Retrieving next page\n",
      "2021-09-07 04:32:17 [root] INFO: Retrieving next page\n",
      "2021-09-07 04:32:17 [root] INFO: Retrieving next page\n",
      "2021-09-07 04:32:18 [root] INFO: Retrieving next page\n",
      "2021-09-07 04:32:18 [root] INFO: Retrieving next page\n",
      "2021-09-07 04:32:18 [root] INFO: There is no next page. The crawling process will terminate\n"
     ]
    },
    {
     "output_type": "stream",
     "name": "stdout",
     "text": [
      "There is no next page. The crawling process will terminate: url can't be None\n"
     ]
    },
    {
     "output_type": "stream",
     "name": "stderr",
     "text": [
      "2021-09-07 04:32:19 [root] INFO: Retrieving next page\n",
      "2021-09-07 04:32:19 [root] INFO: Retrieving next page\n",
      "2021-09-07 04:32:19 [root] INFO: There is no next page. The crawling process will terminate\n"
     ]
    },
    {
     "output_type": "stream",
     "name": "stdout",
     "text": [
      "There is no next page. The crawling process will terminate: url can't be None\n"
     ]
    },
    {
     "output_type": "stream",
     "name": "stderr",
     "text": [
      "2021-09-07 04:32:21 [root] INFO: Retrieving next page\n",
      "2021-09-07 04:32:22 [root] INFO: Retrieving next page\n",
      "2021-09-07 04:32:24 [root] INFO: Retrieving next page\n",
      "2021-09-07 04:32:25 [root] INFO: Retrieving next page\n",
      "2021-09-07 04:32:26 [root] INFO: Retrieving next page\n",
      "2021-09-07 04:32:28 [root] INFO: Retrieving next page\n",
      "2021-09-07 04:32:30 [root] INFO: Retrieving next page\n",
      "2021-09-07 04:32:31 [root] INFO: Retrieving next page\n",
      "2021-09-07 04:32:31 [root] INFO: There is no next page. The crawling process will terminate\n",
      "2021-09-07 04:32:31 [scrapy.core.engine] INFO: Closing spider (finished)\n",
      "2021-09-07 04:32:31 [scrapy.extensions.feedexport] INFO: Stored csv feed (8158 items) in: ./../data/booking_result.csv\n",
      "2021-09-07 04:32:31 [scrapy.statscollectors] INFO: Dumping Scrapy stats:\n",
      "{'downloader/request_bytes': 565572,\n",
      " 'downloader/request_count': 349,\n",
      " 'downloader/request_method_count/GET': 349,\n",
      " 'downloader/response_bytes': 59192089,\n",
      " 'downloader/response_count': 349,\n",
      " 'downloader/response_status_count/200': 349,\n",
      " 'elapsed_time_seconds': 174.686572,\n",
      " 'feedexport/success_count/FileFeedStorage': 1,\n",
      " 'finish_reason': 'finished',\n",
      " 'finish_time': datetime.datetime(2021, 9, 7, 2, 32, 31, 408689),\n",
      " 'httpcompression/response_bytes': 359403730,\n",
      " 'httpcompression/response_count': 349,\n",
      " 'item_scraped_count': 8158,\n",
      " 'log_count/INFO': 397,\n",
      " 'memusage/max': 282521600,\n",
      " 'memusage/startup': 88268800,\n",
      " 'request_depth_max': 39,\n",
      " 'response_received_count': 349,\n",
      " 'scheduler/dequeued': 349,\n",
      " 'scheduler/dequeued/memory': 349,\n",
      " 'scheduler/enqueued': 349,\n",
      " 'scheduler/enqueued/memory': 349,\n",
      " 'start_time': datetime.datetime(2021, 9, 7, 2, 29, 36, 722117)}\n",
      "2021-09-07 04:32:31 [scrapy.core.engine] INFO: Spider closed (finished)\n"
     ]
    },
    {
     "output_type": "stream",
     "name": "stdout",
     "text": [
      "There is no next page. The crawling process will terminate: url can't be None\n"
     ]
    }
   ],
   "metadata": {}
  }
 ],
 "metadata": {
  "orig_nbformat": 4,
  "language_info": {
   "name": "python",
   "version": "3.7.11",
   "mimetype": "text/x-python",
   "codemirror_mode": {
    "name": "ipython",
    "version": 3
   },
   "pygments_lexer": "ipython3",
   "nbconvert_exporter": "python",
   "file_extension": ".py"
  },
  "kernelspec": {
   "name": "python3",
   "display_name": "Python 3.7.11 64-bit ('pez-jedha': conda)"
  },
  "interpreter": {
   "hash": "d228d5b469f0fe34efcdbd21b769eeeb85df70f39f109e1cdb9fb653250c805e"
  }
 },
 "nbformat": 4,
 "nbformat_minor": 2
}