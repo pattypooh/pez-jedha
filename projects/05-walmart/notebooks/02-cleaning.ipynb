{
 "cells": [
  {
   "cell_type": "code",
   "execution_count": 2,
   "metadata": {},
   "outputs": [],
   "source": [
    "import pandas as pd\n",
    "import numpy as np\n",
    "from sklearn.pipeline import Pipeline\n",
    "from sklearn.model_selection import train_test_split\n",
    "from sklearn.impute import SimpleImputer\n",
    "from sklearn.preprocessing import  OneHotEncoder, StandardScaler\n",
    "from sklearn.compose import ColumnTransformer\n",
    "from sklearn.model_selection import cross_val_score, GridSearchCV\n",
    "from sklearn.metrics import r2_score\n",
    "from sklearn.linear_model import LinearRegression, Ridge"
   ]
  },
  {
   "cell_type": "code",
   "execution_count": 5,
   "metadata": {},
   "outputs": [],
   "source": [
    "col_types = {'Store': np.int8,\n",
    "             'Date':str,\n",
    "             'Weekly_Sales':np.float64,\n",
    "             'Holiday_Flag':np.float16,\n",
    "             'Temperature':np.float16,\n",
    "             'Fuel_Price':np.float16,\n",
    "             'CPI':np.float16,\n",
    "            'Unemployment':np.float16,}\n",
    "data = pd.read_csv('./../data/raw/Walmart_Store_sales.csv', date_parser=True, usecols=col_types.keys(), dtype=col_types)#,  usecols=col_types.keys(), dtype=col_types)"
   ]
  },
  {
   "cell_type": "code",
   "execution_count": 6,
   "metadata": {},
   "outputs": [
    {
     "name": "stdout",
     "output_type": "stream",
     "text": [
      "<class 'pandas.core.frame.DataFrame'>\n",
      "RangeIndex: 150 entries, 0 to 149\n",
      "Data columns (total 8 columns):\n",
      " #   Column        Non-Null Count  Dtype  \n",
      "---  ------        --------------  -----  \n",
      " 0   Store         150 non-null    int8   \n",
      " 1   Date          132 non-null    object \n",
      " 2   Weekly_Sales  136 non-null    float64\n",
      " 3   Holiday_Flag  138 non-null    float16\n",
      " 4   Temperature   132 non-null    float16\n",
      " 5   Fuel_Price    136 non-null    float16\n",
      " 6   CPI           138 non-null    float16\n",
      " 7   Unemployment  135 non-null    float16\n",
      "dtypes: float16(5), float64(1), int8(1), object(1)\n",
      "memory usage: 4.1+ KB\n"
     ]
    }
   ],
   "source": [
    "data.info()"
   ]
  },
  {
   "cell_type": "code",
   "execution_count": 7,
   "metadata": {},
   "outputs": [
    {
     "data": {
      "text/html": [
       "<div>\n",
       "<style scoped>\n",
       "    .dataframe tbody tr th:only-of-type {\n",
       "        vertical-align: middle;\n",
       "    }\n",
       "\n",
       "    .dataframe tbody tr th {\n",
       "        vertical-align: top;\n",
       "    }\n",
       "\n",
       "    .dataframe thead th {\n",
       "        text-align: right;\n",
       "    }\n",
       "</style>\n",
       "<table border=\"1\" class=\"dataframe\">\n",
       "  <thead>\n",
       "    <tr style=\"text-align: right;\">\n",
       "      <th></th>\n",
       "      <th>Store</th>\n",
       "      <th>Weekly_Sales</th>\n",
       "      <th>Holiday_Flag</th>\n",
       "      <th>Temperature</th>\n",
       "      <th>Fuel_Price</th>\n",
       "      <th>CPI</th>\n",
       "      <th>Unemployment</th>\n",
       "    </tr>\n",
       "  </thead>\n",
       "  <tbody>\n",
       "    <tr>\n",
       "      <th>count</th>\n",
       "      <td>150.000000</td>\n",
       "      <td>1.360000e+02</td>\n",
       "      <td>138.000000</td>\n",
       "      <td>132.000000</td>\n",
       "      <td>136.000000</td>\n",
       "      <td>138.00000</td>\n",
       "      <td>135.000000</td>\n",
       "    </tr>\n",
       "    <tr>\n",
       "      <th>mean</th>\n",
       "      <td>9.866667</td>\n",
       "      <td>1.249536e+06</td>\n",
       "      <td>0.079712</td>\n",
       "      <td>61.406250</td>\n",
       "      <td>3.322266</td>\n",
       "      <td>180.00000</td>\n",
       "      <td>7.601562</td>\n",
       "    </tr>\n",
       "    <tr>\n",
       "      <th>std</th>\n",
       "      <td>6.231191</td>\n",
       "      <td>6.474630e+05</td>\n",
       "      <td>0.271973</td>\n",
       "      <td>18.375000</td>\n",
       "      <td>0.478271</td>\n",
       "      <td>40.28125</td>\n",
       "      <td>1.577148</td>\n",
       "    </tr>\n",
       "    <tr>\n",
       "      <th>min</th>\n",
       "      <td>1.000000</td>\n",
       "      <td>2.689290e+05</td>\n",
       "      <td>0.000000</td>\n",
       "      <td>18.796875</td>\n",
       "      <td>2.513672</td>\n",
       "      <td>126.12500</td>\n",
       "      <td>5.144531</td>\n",
       "    </tr>\n",
       "    <tr>\n",
       "      <th>25%</th>\n",
       "      <td>4.000000</td>\n",
       "      <td>6.050757e+05</td>\n",
       "      <td>0.000000</td>\n",
       "      <td>45.593750</td>\n",
       "      <td>2.851562</td>\n",
       "      <td>132.00000</td>\n",
       "      <td>6.597656</td>\n",
       "    </tr>\n",
       "    <tr>\n",
       "      <th>50%</th>\n",
       "      <td>9.000000</td>\n",
       "      <td>1.261424e+06</td>\n",
       "      <td>0.000000</td>\n",
       "      <td>63.000000</td>\n",
       "      <td>3.451172</td>\n",
       "      <td>198.00000</td>\n",
       "      <td>7.468750</td>\n",
       "    </tr>\n",
       "    <tr>\n",
       "      <th>75%</th>\n",
       "      <td>15.750000</td>\n",
       "      <td>1.806386e+06</td>\n",
       "      <td>0.000000</td>\n",
       "      <td>76.312500</td>\n",
       "      <td>3.707031</td>\n",
       "      <td>214.87500</td>\n",
       "      <td>8.148438</td>\n",
       "    </tr>\n",
       "    <tr>\n",
       "      <th>max</th>\n",
       "      <td>20.000000</td>\n",
       "      <td>2.771397e+06</td>\n",
       "      <td>1.000000</td>\n",
       "      <td>91.625000</td>\n",
       "      <td>4.191406</td>\n",
       "      <td>227.00000</td>\n",
       "      <td>14.312500</td>\n",
       "    </tr>\n",
       "  </tbody>\n",
       "</table>\n",
       "</div>"
      ],
      "text/plain": [
       "            Store  Weekly_Sales  Holiday_Flag  Temperature  Fuel_Price  \\\n",
       "count  150.000000  1.360000e+02    138.000000   132.000000  136.000000   \n",
       "mean     9.866667  1.249536e+06      0.079712    61.406250    3.322266   \n",
       "std      6.231191  6.474630e+05      0.271973    18.375000    0.478271   \n",
       "min      1.000000  2.689290e+05      0.000000    18.796875    2.513672   \n",
       "25%      4.000000  6.050757e+05      0.000000    45.593750    2.851562   \n",
       "50%      9.000000  1.261424e+06      0.000000    63.000000    3.451172   \n",
       "75%     15.750000  1.806386e+06      0.000000    76.312500    3.707031   \n",
       "max     20.000000  2.771397e+06      1.000000    91.625000    4.191406   \n",
       "\n",
       "             CPI  Unemployment  \n",
       "count  138.00000    135.000000  \n",
       "mean   180.00000      7.601562  \n",
       "std     40.28125      1.577148  \n",
       "min    126.12500      5.144531  \n",
       "25%    132.00000      6.597656  \n",
       "50%    198.00000      7.468750  \n",
       "75%    214.87500      8.148438  \n",
       "max    227.00000     14.312500  "
      ]
     },
     "execution_count": 7,
     "metadata": {},
     "output_type": "execute_result"
    }
   ],
   "source": [
    "data.describe()"
   ]
  },
  {
   "cell_type": "markdown",
   "metadata": {},
   "source": [
    "### Missing values"
   ]
  },
  {
   "cell_type": "code",
   "execution_count": 8,
   "metadata": {},
   "outputs": [],
   "source": [
    "def missing_values(data):\n",
    "    return pd.concat([data.isna().sum(), \n",
    "        np.round(data.isna().sum()*100/data.shape[0])], \n",
    "        axis=1).rename({0:'count_missing', 1:'%_missing'}, axis=1)"
   ]
  },
  {
   "cell_type": "code",
   "execution_count": 9,
   "metadata": {},
   "outputs": [
    {
     "data": {
      "text/html": [
       "<div>\n",
       "<style scoped>\n",
       "    .dataframe tbody tr th:only-of-type {\n",
       "        vertical-align: middle;\n",
       "    }\n",
       "\n",
       "    .dataframe tbody tr th {\n",
       "        vertical-align: top;\n",
       "    }\n",
       "\n",
       "    .dataframe thead th {\n",
       "        text-align: right;\n",
       "    }\n",
       "</style>\n",
       "<table border=\"1\" class=\"dataframe\">\n",
       "  <thead>\n",
       "    <tr style=\"text-align: right;\">\n",
       "      <th></th>\n",
       "      <th>count_missing</th>\n",
       "      <th>%_missing</th>\n",
       "    </tr>\n",
       "  </thead>\n",
       "  <tbody>\n",
       "    <tr>\n",
       "      <th>Store</th>\n",
       "      <td>0</td>\n",
       "      <td>0.0</td>\n",
       "    </tr>\n",
       "    <tr>\n",
       "      <th>Date</th>\n",
       "      <td>18</td>\n",
       "      <td>12.0</td>\n",
       "    </tr>\n",
       "    <tr>\n",
       "      <th>Weekly_Sales</th>\n",
       "      <td>14</td>\n",
       "      <td>9.0</td>\n",
       "    </tr>\n",
       "    <tr>\n",
       "      <th>Holiday_Flag</th>\n",
       "      <td>12</td>\n",
       "      <td>8.0</td>\n",
       "    </tr>\n",
       "    <tr>\n",
       "      <th>Temperature</th>\n",
       "      <td>18</td>\n",
       "      <td>12.0</td>\n",
       "    </tr>\n",
       "    <tr>\n",
       "      <th>Fuel_Price</th>\n",
       "      <td>14</td>\n",
       "      <td>9.0</td>\n",
       "    </tr>\n",
       "    <tr>\n",
       "      <th>CPI</th>\n",
       "      <td>12</td>\n",
       "      <td>8.0</td>\n",
       "    </tr>\n",
       "    <tr>\n",
       "      <th>Unemployment</th>\n",
       "      <td>15</td>\n",
       "      <td>10.0</td>\n",
       "    </tr>\n",
       "  </tbody>\n",
       "</table>\n",
       "</div>"
      ],
      "text/plain": [
       "              count_missing  %_missing\n",
       "Store                     0        0.0\n",
       "Date                     18       12.0\n",
       "Weekly_Sales             14        9.0\n",
       "Holiday_Flag             12        8.0\n",
       "Temperature              18       12.0\n",
       "Fuel_Price               14        9.0\n",
       "CPI                      12        8.0\n",
       "Unemployment             15       10.0"
      ]
     },
     "execution_count": 9,
     "metadata": {},
     "output_type": "execute_result"
    }
   ],
   "source": [
    "missing_values(data)"
   ]
  },
  {
   "cell_type": "markdown",
   "metadata": {},
   "source": [
    "### Change Store type to str"
   ]
  },
  {
   "cell_type": "code",
   "execution_count": 23,
   "metadata": {},
   "outputs": [],
   "source": [
    "data = data.astype({'Store':'str'})"
   ]
  },
  {
   "cell_type": "markdown",
   "metadata": {},
   "source": [
    "### Split in train and test set"
   ]
  },
  {
   "cell_type": "code",
   "execution_count": 24,
   "metadata": {},
   "outputs": [],
   "source": [
    "# Drop empty dates\n",
    "data = data.dropna(subset=['Weekly_Sales', 'Date'], axis=0)\n",
    "X= data.drop('Weekly_Sales', axis=1)\n",
    "y= data.loc[:,'Weekly_Sales']\n",
    "X_train, X_test, y_train, y_test = train_test_split(X, y, test_size = 0.2)"
   ]
  },
  {
   "cell_type": "code",
   "execution_count": 25,
   "metadata": {},
   "outputs": [
    {
     "name": "stdout",
     "output_type": "stream",
     "text": [
      "Train data\n"
     ]
    },
    {
     "data": {
      "text/plain": [
       "(94, 7)"
      ]
     },
     "execution_count": 25,
     "metadata": {},
     "output_type": "execute_result"
    }
   ],
   "source": [
    "print(f'Train data')\n",
    "X_train.shape"
   ]
  },
  {
   "cell_type": "code",
   "execution_count": 26,
   "metadata": {},
   "outputs": [
    {
     "name": "stdout",
     "output_type": "stream",
     "text": [
      "Train data\n"
     ]
    },
    {
     "data": {
      "text/plain": [
       "(24, 7)"
      ]
     },
     "execution_count": 26,
     "metadata": {},
     "output_type": "execute_result"
    }
   ],
   "source": [
    "print(f'Train data')\n",
    "X_test.shape"
   ]
  },
  {
   "cell_type": "markdown",
   "metadata": {},
   "source": [
    "### Create new features from the date column"
   ]
  },
  {
   "cell_type": "code",
   "execution_count": 27,
   "metadata": {},
   "outputs": [],
   "source": [
    "from sklearn.base import BaseEstimator, TransformerMixin\n",
    "\n",
    "#Create a Transformer to use it in the pipeline\n",
    "class DateAttributesAdder(BaseEstimator, TransformerMixin):\n",
    "    def __init__(self, date_ix = 1):\n",
    "        self.date_ix = date_ix\n",
    "        self.new_features = []\n",
    "    def fit(self, X, y=None):\n",
    "        return self #Nothing else to do\n",
    "\n",
    "    def transform(self, X):\n",
    "        '''\n",
    "        X is an array-like of shape (n_samples, 1).  1D array\n",
    "        '''\n",
    "        if isinstance(X, pd.DataFrame):\n",
    "            dates = pd.to_datetime(X.iloc[:, 0])\n",
    "        else:\n",
    "            dates = pd.to_datetime(X)\n",
    "        #dates = pd.to_datetime(X) # old code --> dates = pd.to_datetime(X[self.date_ix])\n",
    "        year=dates.dt.year #Because of null values, year could be NA\n",
    "        month=dates.dt.month.astype(np.int8)\n",
    "        day=dates.dt.day.astype(np.int8)\n",
    "        dayofweek=dates.dt.dayofweek.astype(np.int8)\n",
    "        weekday=dates.dt.strftime(\"%A\")\n",
    "        week=dates.dt.isocalendar().week.astype(np.int8)\n",
    "        self.new_features=['year', 'month', 'day', 'dayofweek', 'week']\n",
    "        return np.c_[year.values, month.values, day.values, dayofweek.values, week.values]\n",
    "\n"
   ]
  },
  {
   "cell_type": "code",
   "execution_count": 28,
   "metadata": {},
   "outputs": [
    {
     "data": {
      "text/plain": [
       "array([[2012,    6,    7,    3,   23],\n",
       "       [2012,   10,   19,    4,   42],\n",
       "       [2012,   12,   10,    0,   50],\n",
       "       [2011,   12,    8,    3,   49],\n",
       "       [2011,    5,   27,    4,   21],\n",
       "       [2012,    6,    1,    4,   22],\n",
       "       [2011,   12,    8,    3,   49],\n",
       "       [2010,   12,    2,    3,   48],\n",
       "       [2012,   10,    2,    1,   40],\n",
       "       [2011,   11,   18,    4,   46],\n",
       "       [2010,   12,   11,    5,   49],\n",
       "       [2011,    5,   13,    4,   19],\n",
       "       [2011,    3,   25,    4,   12],\n",
       "       [2010,    6,    8,    1,   23],\n",
       "       [2010,    8,   27,    4,   34],\n",
       "       [2010,    4,   16,    4,   15],\n",
       "       [2011,    4,   22,    4,   16],\n",
       "       [2011,    7,   22,    4,   29],\n",
       "       [2010,   10,   12,    1,   41],\n",
       "       [2010,    2,   26,    4,    8],\n",
       "       [2010,    6,   25,    4,   25],\n",
       "       [2010,    7,   30,    4,   30],\n",
       "       [2012,    2,   24,    4,    8],\n",
       "       [2010,   12,    3,    4,   48],\n",
       "       [2010,    2,   19,    4,    7],\n",
       "       [2011,    7,   10,    6,   27],\n",
       "       [2012,    6,   22,    4,   25],\n",
       "       [2010,    5,   28,    4,   21],\n",
       "       [2010,    2,    7,    6,    5],\n",
       "       [2012,    1,   13,    4,    2],\n",
       "       [2012,   10,   19,    4,   42],\n",
       "       [2011,    6,    5,    6,   22],\n",
       "       [2010,    4,    6,    1,   14],\n",
       "       [2012,    4,    5,    3,   14],\n",
       "       [2011,    4,   15,    4,   15],\n",
       "       [2010,    4,   30,    4,   17],\n",
       "       [2012,   10,    2,    1,   40],\n",
       "       [2010,    8,   20,    4,   33],\n",
       "       [2010,    5,   28,    4,   21],\n",
       "       [2010,   10,   15,    4,   41],\n",
       "       [2012,    4,   27,    4,   17],\n",
       "       [2012,    7,    9,    0,   28],\n",
       "       [2010,    8,   27,    4,   34],\n",
       "       [2011,    8,    7,    6,   31],\n",
       "       [2010,   10,    9,    5,   40],\n",
       "       [2010,   12,   11,    5,   49],\n",
       "       [2012,    3,   30,    4,   13],\n",
       "       [2010,   12,    2,    3,   48],\n",
       "       [2012,   10,   19,    4,   42],\n",
       "       [2011,    3,    6,    6,    9],\n",
       "       [2010,    4,   30,    4,   17],\n",
       "       [2011,    5,   13,    4,   19],\n",
       "       [2012,    5,   25,    4,   21],\n",
       "       [2011,   12,    8,    3,   49],\n",
       "       [2011,    7,   29,    4,   30],\n",
       "       [2011,    6,    5,    6,   22],\n",
       "       [2010,    6,   25,    4,   25],\n",
       "       [2010,   11,   26,    4,   47],\n",
       "       [2012,    2,    3,    4,    5],\n",
       "       [2011,    8,   26,    4,   34],\n",
       "       [2010,    6,   18,    4,   24],\n",
       "       [2012,    4,   20,    4,   16],\n",
       "       [2010,   12,   17,    4,   50],\n",
       "       [2010,    2,    4,    3,    5],\n",
       "       [2011,    5,   27,    4,   21],\n",
       "       [2010,    5,    2,    6,   17],\n",
       "       [2012,    2,   17,    4,    7],\n",
       "       [2010,    2,    7,    6,    5],\n",
       "       [2010,   12,   31,    4,   52],\n",
       "       [2010,    5,   28,    4,   21],\n",
       "       [2011,    7,    1,    4,   26],\n",
       "       [2012,    4,   20,    4,   16],\n",
       "       [2012,    6,   22,    4,   25],\n",
       "       [2010,    6,   25,    4,   25],\n",
       "       [2010,   12,   11,    5,   49],\n",
       "       [2011,    9,   23,    4,   38],\n",
       "       [2010,    1,   10,    6,    1],\n",
       "       [2010,    5,   14,    4,   19],\n",
       "       [2011,    9,   23,    4,   38],\n",
       "       [2012,    3,   16,    4,   11],\n",
       "       [2011,    2,   18,    4,    7],\n",
       "       [2011,    5,   20,    4,   20],\n",
       "       [2012,    3,    2,    4,    9],\n",
       "       [2012,   12,   10,    0,   50],\n",
       "       [2010,   12,   17,    4,   50],\n",
       "       [2010,    7,   30,    4,   30],\n",
       "       [2011,    6,   24,    4,   25],\n",
       "       [2011,    3,   25,    4,   12],\n",
       "       [2011,    7,    1,    4,   26],\n",
       "       [2010,    9,   17,    4,   37],\n",
       "       [2010,   10,   12,    1,   41],\n",
       "       [2010,    6,   18,    4,   24],\n",
       "       [2011,   12,   16,    4,   50],\n",
       "       [2012,    9,   14,    4,   37]])"
      ]
     },
     "execution_count": 28,
     "metadata": {},
     "output_type": "execute_result"
    }
   ],
   "source": [
    "attr_adder = DateAttributesAdder(date_ix = 0)\n",
    "attr_adder.transform(pd.DataFrame(X_train['Date']))\n"
   ]
  },
  {
   "cell_type": "code",
   "execution_count": 29,
   "metadata": {},
   "outputs": [],
   "source": [
    "def explode_date(df:pd.DataFrame):\n",
    "    data = df.copy()\n",
    "    if data.dtypes['Date'] == 'object':\n",
    "        data['Date'] = pd.to_datetime(data['Date'])\n",
    "    data['year']=data['Date'].dt.year #Because of null values, year could be \n",
    "    data['month']=data['Date'].dt.month.astype(np.int8)\n",
    "    data['day']=data['Date'].dt.day.astype(np.int8)\n",
    "    data['dayOfWeek']=data['Date'].dt.dayofweek.astype(np.int8)\n",
    "    data['weekday']=data['Date'].dt.strftime(\"%A\")\n",
    "    data['week']=data['Date'].dt.isocalendar().week.astype(np.int8)\n",
    "    return data"
   ]
  },
  {
   "cell_type": "code",
   "execution_count": 30,
   "metadata": {},
   "outputs": [],
   "source": [
    "#X_train = explode_date(X_train)\n",
    "#X_train.head()"
   ]
  },
  {
   "cell_type": "markdown",
   "metadata": {},
   "source": [
    "### Transform holiday flat to int"
   ]
  },
  {
   "cell_type": "code",
   "execution_count": 31,
   "metadata": {},
   "outputs": [],
   "source": [
    "def float_to_int(x):\n",
    "    if not np.isnan(x):\n",
    "        return int(x)\n",
    "    return np.NaN"
   ]
  },
  {
   "cell_type": "markdown",
   "metadata": {},
   "source": [
    "### Pre/processing"
   ]
  },
  {
   "cell_type": "code",
   "execution_count": 32,
   "metadata": {
    "tags": []
   },
   "outputs": [],
   "source": [
    "num_idx = [3, 4, 5, 6 ] #[3, 4, 5, 6, 7, 8, 9, 10, 12]\n",
    "cat_idx = [0, 2]\n",
    "date_idx = [1]\n",
    "num_features = X_train.columns[num_idx] #['Temperature', 'Fuel_Price', 'CPI', Unemployment', 'year', 'month','day', 'dayOfWeek', 'week']\n",
    "cat_features = X_train.columns[cat_idx] #['Store', 'Holiday_Flag']\n",
    "date_feature = X_train.columns[date_idx]\n"
   ]
  },
  {
   "cell_type": "code",
   "execution_count": 33,
   "metadata": {
    "tags": []
   },
   "outputs": [],
   "source": [
    "# Transformer for extra features from Date\n",
    "date_transformer = Pipeline([\n",
    "        #('imputer_date', SimpleImputer(strategy = 'most_frequent')),\n",
    "        ('attr_adder', DateAttributesAdder(date_ix=0)),\n",
    "        ('scaler', StandardScaler())\n",
    "    ])\n",
    "\n",
    "# transformer for numerical features\n",
    "num_transformer = Pipeline([\n",
    "        ('imputer_num', SimpleImputer(strategy = 'median')),\n",
    "        ('scaler', StandardScaler())\n",
    "    ])\n",
    "# transformer for categorical features\n",
    "cat_transformer = Pipeline([\n",
    "        ('imputer_cat', SimpleImputer(strategy = 'most_frequent')),\n",
    "        ('onehot', OneHotEncoder(handle_unknown='ignore'))])\n",
    "\n",
    "preprocessor = ColumnTransformer([\n",
    "        ('date', date_transformer, date_feature),\n",
    "        ('categoricals', cat_transformer, cat_features),\n",
    "        ('numericals', num_transformer, num_features)\n",
    "    ],\n",
    "    remainder = 'drop'\n",
    ")"
   ]
  },
  {
   "cell_type": "code",
   "execution_count": 34,
   "metadata": {},
   "outputs": [],
   "source": [
    "#trans_X_train = preprocessor.transformers[0][1][1].get_feature_names(['Store', 'Holiday_Flag'])"
   ]
  },
  {
   "cell_type": "code",
   "execution_count": 35,
   "metadata": {},
   "outputs": [],
   "source": [
    "full_pipeline = Pipeline([\n",
    "        ('preprocessing', preprocessor),\n",
    "        ('lin_reg', LinearRegression())\n",
    "    ])"
   ]
  },
  {
   "cell_type": "code",
   "execution_count": 36,
   "metadata": {},
   "outputs": [
    {
     "data": {
      "text/plain": [
       "Pipeline(steps=[('preprocessing',\n",
       "                 ColumnTransformer(transformers=[('date',\n",
       "                                                  Pipeline(steps=[('attr_adder',\n",
       "                                                                   DateAttributesAdder(date_ix=0)),\n",
       "                                                                  ('scaler',\n",
       "                                                                   StandardScaler())]),\n",
       "                                                  Index(['Date'], dtype='object')),\n",
       "                                                 ('categoricals',\n",
       "                                                  Pipeline(steps=[('imputer_cat',\n",
       "                                                                   SimpleImputer(strategy='most_frequent')),\n",
       "                                                                  ('onehot',\n",
       "                                                                   OneHotEncoder(handle_unknown='ignore'))]),\n",
       "                                                  Index(['Store', 'Holiday_Flag'], dtype='object')),\n",
       "                                                 ('numericals',\n",
       "                                                  Pipeline(steps=[('imputer_num',\n",
       "                                                                   SimpleImputer(strategy='median')),\n",
       "                                                                  ('scaler',\n",
       "                                                                   StandardScaler())]),\n",
       "                                                  Index(['Temperature', 'Fuel_Price', 'CPI', 'Unemployment'], dtype='object'))])),\n",
       "                ('lin_reg', LinearRegression())])"
      ]
     },
     "execution_count": 36,
     "metadata": {},
     "output_type": "execute_result"
    }
   ],
   "source": [
    "full_pipeline.fit(X_train, y_train)"
   ]
  },
  {
   "cell_type": "code",
   "execution_count": 37,
   "metadata": {},
   "outputs": [],
   "source": [
    "y_pred = full_pipeline.predict(X_train)"
   ]
  },
  {
   "cell_type": "code",
   "execution_count": 38,
   "metadata": {},
   "outputs": [],
   "source": [
    "from sklearn.metrics import r2_score"
   ]
  },
  {
   "cell_type": "code",
   "execution_count": 39,
   "metadata": {},
   "outputs": [
    {
     "name": "stdout",
     "output_type": "stream",
     "text": [
      "0.9698245315928727\n"
     ]
    }
   ],
   "source": [
    "print(r2_score(y_train, y_pred))"
   ]
  },
  {
   "cell_type": "code",
   "execution_count": 40,
   "metadata": {},
   "outputs": [
    {
     "name": "stdout",
     "output_type": "stream",
     "text": [
      "0.9395265229021438\n"
     ]
    }
   ],
   "source": [
    "#X_test = explode_date(X_test)\n",
    "#X_test_tr = preprocessor.transform(X_test)\n",
    "y_pred_test = full_pipeline.predict(X_test)\n",
    "print(r2_score(y_test, y_pred_test))"
   ]
  },
  {
   "cell_type": "code",
   "execution_count": 43,
   "metadata": {},
   "outputs": [],
   "source": [
    "from sklearn.linear_model import Ridge, Lasso\n",
    "from sklearn.ensemble import RandomForestRegressor\n",
    "from sklearn.ensemble import AdaBoostRegressor\n",
    "from sklearn.neighbors import KNeighborsRegressor"
   ]
  },
  {
   "cell_type": "code",
   "execution_count": 52,
   "metadata": {},
   "outputs": [
    {
     "name": "stdout",
     "output_type": "stream",
     "text": [
      "KNeighborsRegressor(n_neighbors=3)\n",
      "model score train: 0.323\n",
      "model score test: 0.323\n",
      "RandomForestRegressor()\n",
      "model score train: 0.576\n",
      "model score test: 0.576\n",
      "AdaBoostRegressor()\n",
      "model score train: 0.583\n",
      "model score test: 0.583\n",
      "Ridge()\n",
      "model score train: 0.881\n",
      "model score test: 0.881\n",
      "Lasso()\n",
      "model score train: 0.941\n",
      "model score test: 0.941\n"
     ]
    },
    {
     "name": "stderr",
     "output_type": "stream",
     "text": [
      "/home/carmina/miniconda3/envs/pez-jedha/lib/python3.7/site-packages/sklearn/linear_model/_coordinate_descent.py:531: ConvergenceWarning: Objective did not converge. You might want to increase the number of iterations. Duality gap: 585678915475.783, tolerance: 3893666853.6647453\n",
      "  positive)\n"
     ]
    }
   ],
   "source": [
    "regressors = [\n",
    "    KNeighborsRegressor(3),\n",
    "    #SVC(kernel=\"rbf\", C=0.025, probability=True),\n",
    "    #DecisionTreeClassifier(),\n",
    "    RandomForestRegressor(),\n",
    "    AdaBoostRegressor(),\n",
    "    Ridge(),\n",
    "    Lasso(),\n",
    "   # GradientBoostingClassifier()\n",
    "    ]\n",
    "for regressor in regressors:\n",
    "    pipe = Pipeline(steps=[('preprocessor', preprocessor),\n",
    "                      ('regressor', regressor)])\n",
    "    pipe.fit(X_train, y_train)   \n",
    "    print(regressor)\n",
    "    print(\"model score train: %.3f\" % pipe.score(X_test, y_test))\n",
    "    print(\"model score test: %.3f\" % pipe.score(X_test, y_test))"
   ]
  },
  {
   "cell_type": "code",
   "execution_count": null,
   "metadata": {},
   "outputs": [],
   "source": []
  }
 ],
 "metadata": {
  "interpreter": {
   "hash": "d228d5b469f0fe34efcdbd21b769eeeb85df70f39f109e1cdb9fb653250c805e"
  },
  "kernelspec": {
   "display_name": "kernel-pez-jedha",
   "language": "python",
   "name": "kernel-pez-jedha"
  },
  "language_info": {
   "codemirror_mode": {
    "name": "ipython",
    "version": 3
   },
   "file_extension": ".py",
   "mimetype": "text/x-python",
   "name": "python",
   "nbconvert_exporter": "python",
   "pygments_lexer": "ipython3",
   "version": "3.7.11"
  }
 },
 "nbformat": 4,
 "nbformat_minor": 4
}
