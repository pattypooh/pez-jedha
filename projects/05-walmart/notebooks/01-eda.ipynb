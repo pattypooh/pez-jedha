{
 "cells": [
  {
   "cell_type": "code",
   "execution_count": 1,
   "id": "a2851ae9",
   "metadata": {},
   "outputs": [],
   "source": [
    "import numpy as np\n",
    "import scipy\n",
    "import pandas as pd\n",
    "import matplotlib.pyplot as plt\n",
    "import seaborn as sns\n",
    "from sklearn.pipeline import Pipeline\n",
    "from sklearn.model_selection import train_test_split\n",
    "from sklearn.impute import SimpleImputer\n",
    "from sklearn.preprocessing import  OneHotEncoder, StandardScaler\n",
    "from sklearn.compose import ColumnTransformer\n",
    "from sklearn.model_selection import cross_val_score, GridSearchCV\n",
    "from sklearn.metrics import r2_score\n",
    "from sklearn.linear_model import LinearRegression, Ridge\n",
    "from pandas_profiling import ProfileReport"
   ]
  },
  {
   "cell_type": "code",
   "execution_count": 2,
   "id": "eeb7ab3d",
   "metadata": {},
   "outputs": [],
   "source": [
    "%matplotlib inline"
   ]
  },
  {
   "cell_type": "code",
   "execution_count": 3,
   "id": "909e3235",
   "metadata": {},
   "outputs": [],
   "source": [
    "col_types = {'Store': str,\n",
    "             'Date':str,\n",
    "             'Weekly_Sales':np.float64,\n",
    "             'Holiday_Flag':np.float16,\n",
    "             'Temperature':np.float16,\n",
    "             'Fuel_Price':np.float16,\n",
    "             'CPI':np.float16,\n",
    "            'Unemployment':np.float16,}\n",
    "data = pd.read_csv('./../data/raw/Walmart_Store_sales.csv', date_parser=True)#, usecols=col_types.keys(), dtype=col_types)"
   ]
  },
  {
   "cell_type": "code",
   "execution_count": 4,
   "id": "ad222d5b",
   "metadata": {},
   "outputs": [
    {
     "name": "stdout",
     "output_type": "stream",
     "text": [
      "<class 'pandas.core.frame.DataFrame'>\n",
      "RangeIndex: 150 entries, 0 to 149\n",
      "Data columns (total 8 columns):\n",
      " #   Column        Non-Null Count  Dtype  \n",
      "---  ------        --------------  -----  \n",
      " 0   Store         150 non-null    float64\n",
      " 1   Date          132 non-null    object \n",
      " 2   Weekly_Sales  136 non-null    float64\n",
      " 3   Holiday_Flag  138 non-null    float64\n",
      " 4   Temperature   132 non-null    float64\n",
      " 5   Fuel_Price    136 non-null    float64\n",
      " 6   CPI           138 non-null    float64\n",
      " 7   Unemployment  135 non-null    float64\n",
      "dtypes: float64(7), object(1)\n",
      "memory usage: 9.5+ KB\n"
     ]
    }
   ],
   "source": [
    "data.info()"
   ]
  },
  {
   "cell_type": "markdown",
   "id": "507d9263",
   "metadata": {},
   "source": [
    "The dataset has 7 numerical variables and 1 categorical.  \n",
    "The Store and holiday flag are categorical features"
   ]
  },
  {
   "cell_type": "code",
   "execution_count": 5,
   "id": "e1ea78a5-e4eb-4845-9d20-f0e9962947a6",
   "metadata": {},
   "outputs": [
    {
     "data": {
      "text/html": [
       "<div>\n",
       "<style scoped>\n",
       "    .dataframe tbody tr th:only-of-type {\n",
       "        vertical-align: middle;\n",
       "    }\n",
       "\n",
       "    .dataframe tbody tr th {\n",
       "        vertical-align: top;\n",
       "    }\n",
       "\n",
       "    .dataframe thead th {\n",
       "        text-align: right;\n",
       "    }\n",
       "</style>\n",
       "<table border=\"1\" class=\"dataframe\">\n",
       "  <thead>\n",
       "    <tr style=\"text-align: right;\">\n",
       "      <th></th>\n",
       "      <th>Store</th>\n",
       "      <th>Date</th>\n",
       "      <th>Weekly_Sales</th>\n",
       "      <th>Holiday_Flag</th>\n",
       "      <th>Temperature</th>\n",
       "      <th>Fuel_Price</th>\n",
       "      <th>CPI</th>\n",
       "      <th>Unemployment</th>\n",
       "    </tr>\n",
       "  </thead>\n",
       "  <tbody>\n",
       "    <tr>\n",
       "      <th>0</th>\n",
       "      <td>6.0</td>\n",
       "      <td>18-02-2011</td>\n",
       "      <td>1572117.54</td>\n",
       "      <td>NaN</td>\n",
       "      <td>59.61</td>\n",
       "      <td>3.045</td>\n",
       "      <td>214.777523</td>\n",
       "      <td>6.858</td>\n",
       "    </tr>\n",
       "    <tr>\n",
       "      <th>1</th>\n",
       "      <td>13.0</td>\n",
       "      <td>25-03-2011</td>\n",
       "      <td>1807545.43</td>\n",
       "      <td>0.0</td>\n",
       "      <td>42.38</td>\n",
       "      <td>3.435</td>\n",
       "      <td>128.616064</td>\n",
       "      <td>7.470</td>\n",
       "    </tr>\n",
       "    <tr>\n",
       "      <th>2</th>\n",
       "      <td>17.0</td>\n",
       "      <td>27-07-2012</td>\n",
       "      <td>NaN</td>\n",
       "      <td>0.0</td>\n",
       "      <td>NaN</td>\n",
       "      <td>NaN</td>\n",
       "      <td>130.719581</td>\n",
       "      <td>5.936</td>\n",
       "    </tr>\n",
       "    <tr>\n",
       "      <th>3</th>\n",
       "      <td>11.0</td>\n",
       "      <td>NaN</td>\n",
       "      <td>1244390.03</td>\n",
       "      <td>0.0</td>\n",
       "      <td>84.57</td>\n",
       "      <td>NaN</td>\n",
       "      <td>214.556497</td>\n",
       "      <td>7.346</td>\n",
       "    </tr>\n",
       "    <tr>\n",
       "      <th>4</th>\n",
       "      <td>6.0</td>\n",
       "      <td>28-05-2010</td>\n",
       "      <td>1644470.66</td>\n",
       "      <td>0.0</td>\n",
       "      <td>78.89</td>\n",
       "      <td>2.759</td>\n",
       "      <td>212.412888</td>\n",
       "      <td>7.092</td>\n",
       "    </tr>\n",
       "  </tbody>\n",
       "</table>\n",
       "</div>"
      ],
      "text/plain": [
       "   Store        Date  Weekly_Sales  Holiday_Flag  Temperature  Fuel_Price  \\\n",
       "0    6.0  18-02-2011    1572117.54           NaN        59.61       3.045   \n",
       "1   13.0  25-03-2011    1807545.43           0.0        42.38       3.435   \n",
       "2   17.0  27-07-2012           NaN           0.0          NaN         NaN   \n",
       "3   11.0         NaN    1244390.03           0.0        84.57         NaN   \n",
       "4    6.0  28-05-2010    1644470.66           0.0        78.89       2.759   \n",
       "\n",
       "          CPI  Unemployment  \n",
       "0  214.777523         6.858  \n",
       "1  128.616064         7.470  \n",
       "2  130.719581         5.936  \n",
       "3  214.556497         7.346  \n",
       "4  212.412888         7.092  "
      ]
     },
     "execution_count": 5,
     "metadata": {},
     "output_type": "execute_result"
    }
   ],
   "source": [
    "data.head(5)"
   ]
  },
  {
   "cell_type": "markdown",
   "id": "452dfcb8",
   "metadata": {},
   "source": [
    "## <b> Count missing values"
   ]
  },
  {
   "cell_type": "code",
   "execution_count": 6,
   "id": "89ce1299",
   "metadata": {},
   "outputs": [],
   "source": [
    "def missing_values(data):\n",
    "    return pd.concat([data.isna().sum(), \n",
    "        np.round(data.isna().sum()*100/data.shape[0])], \n",
    "        axis=1).rename({0:'count_missing', 1:'%_missing'}, axis=1)"
   ]
  },
  {
   "cell_type": "code",
   "execution_count": 7,
   "id": "6edbb3ff",
   "metadata": {},
   "outputs": [
    {
     "data": {
      "text/html": [
       "<div>\n",
       "<style scoped>\n",
       "    .dataframe tbody tr th:only-of-type {\n",
       "        vertical-align: middle;\n",
       "    }\n",
       "\n",
       "    .dataframe tbody tr th {\n",
       "        vertical-align: top;\n",
       "    }\n",
       "\n",
       "    .dataframe thead th {\n",
       "        text-align: right;\n",
       "    }\n",
       "</style>\n",
       "<table border=\"1\" class=\"dataframe\">\n",
       "  <thead>\n",
       "    <tr style=\"text-align: right;\">\n",
       "      <th></th>\n",
       "      <th>count_missing</th>\n",
       "      <th>%_missing</th>\n",
       "    </tr>\n",
       "  </thead>\n",
       "  <tbody>\n",
       "    <tr>\n",
       "      <th>Store</th>\n",
       "      <td>0</td>\n",
       "      <td>0.0</td>\n",
       "    </tr>\n",
       "    <tr>\n",
       "      <th>Date</th>\n",
       "      <td>18</td>\n",
       "      <td>12.0</td>\n",
       "    </tr>\n",
       "    <tr>\n",
       "      <th>Weekly_Sales</th>\n",
       "      <td>14</td>\n",
       "      <td>9.0</td>\n",
       "    </tr>\n",
       "    <tr>\n",
       "      <th>Holiday_Flag</th>\n",
       "      <td>12</td>\n",
       "      <td>8.0</td>\n",
       "    </tr>\n",
       "    <tr>\n",
       "      <th>Temperature</th>\n",
       "      <td>18</td>\n",
       "      <td>12.0</td>\n",
       "    </tr>\n",
       "    <tr>\n",
       "      <th>Fuel_Price</th>\n",
       "      <td>14</td>\n",
       "      <td>9.0</td>\n",
       "    </tr>\n",
       "    <tr>\n",
       "      <th>CPI</th>\n",
       "      <td>12</td>\n",
       "      <td>8.0</td>\n",
       "    </tr>\n",
       "    <tr>\n",
       "      <th>Unemployment</th>\n",
       "      <td>15</td>\n",
       "      <td>10.0</td>\n",
       "    </tr>\n",
       "  </tbody>\n",
       "</table>\n",
       "</div>"
      ],
      "text/plain": [
       "              count_missing  %_missing\n",
       "Store                     0        0.0\n",
       "Date                     18       12.0\n",
       "Weekly_Sales             14        9.0\n",
       "Holiday_Flag             12        8.0\n",
       "Temperature              18       12.0\n",
       "Fuel_Price               14        9.0\n",
       "CPI                      12        8.0\n",
       "Unemployment             15       10.0"
      ]
     },
     "execution_count": 7,
     "metadata": {},
     "output_type": "execute_result"
    }
   ],
   "source": [
    "missing_values(data)"
   ]
  },
  {
   "cell_type": "code",
   "execution_count": 8,
   "id": "ff6949b2",
   "metadata": {},
   "outputs": [],
   "source": [
    "data = data.dropna(subset=['Weekly_Sales', 'Date'], axis=0)"
   ]
  },
  {
   "cell_type": "code",
   "execution_count": 9,
   "id": "da54cefa",
   "metadata": {},
   "outputs": [
    {
     "data": {
      "text/html": [
       "<div>\n",
       "<style scoped>\n",
       "    .dataframe tbody tr th:only-of-type {\n",
       "        vertical-align: middle;\n",
       "    }\n",
       "\n",
       "    .dataframe tbody tr th {\n",
       "        vertical-align: top;\n",
       "    }\n",
       "\n",
       "    .dataframe thead th {\n",
       "        text-align: right;\n",
       "    }\n",
       "</style>\n",
       "<table border=\"1\" class=\"dataframe\">\n",
       "  <thead>\n",
       "    <tr style=\"text-align: right;\">\n",
       "      <th></th>\n",
       "      <th>count_missing</th>\n",
       "      <th>%_missing</th>\n",
       "    </tr>\n",
       "  </thead>\n",
       "  <tbody>\n",
       "    <tr>\n",
       "      <th>Store</th>\n",
       "      <td>0</td>\n",
       "      <td>0.0</td>\n",
       "    </tr>\n",
       "    <tr>\n",
       "      <th>Date</th>\n",
       "      <td>0</td>\n",
       "      <td>0.0</td>\n",
       "    </tr>\n",
       "    <tr>\n",
       "      <th>Weekly_Sales</th>\n",
       "      <td>0</td>\n",
       "      <td>0.0</td>\n",
       "    </tr>\n",
       "    <tr>\n",
       "      <th>Holiday_Flag</th>\n",
       "      <td>9</td>\n",
       "      <td>8.0</td>\n",
       "    </tr>\n",
       "    <tr>\n",
       "      <th>Temperature</th>\n",
       "      <td>11</td>\n",
       "      <td>9.0</td>\n",
       "    </tr>\n",
       "    <tr>\n",
       "      <th>Fuel_Price</th>\n",
       "      <td>11</td>\n",
       "      <td>9.0</td>\n",
       "    </tr>\n",
       "    <tr>\n",
       "      <th>CPI</th>\n",
       "      <td>9</td>\n",
       "      <td>8.0</td>\n",
       "    </tr>\n",
       "    <tr>\n",
       "      <th>Unemployment</th>\n",
       "      <td>11</td>\n",
       "      <td>9.0</td>\n",
       "    </tr>\n",
       "  </tbody>\n",
       "</table>\n",
       "</div>"
      ],
      "text/plain": [
       "              count_missing  %_missing\n",
       "Store                     0        0.0\n",
       "Date                      0        0.0\n",
       "Weekly_Sales              0        0.0\n",
       "Holiday_Flag              9        8.0\n",
       "Temperature              11        9.0\n",
       "Fuel_Price               11        9.0\n",
       "CPI                       9        8.0\n",
       "Unemployment             11        9.0"
      ]
     },
     "execution_count": 9,
     "metadata": {},
     "output_type": "execute_result"
    }
   ],
   "source": [
    "missing_values(data)"
   ]
  },
  {
   "cell_type": "code",
   "execution_count": 10,
   "id": "e4a4e5c6",
   "metadata": {},
   "outputs": [
    {
     "data": {
      "text/html": [
       "<div>\n",
       "<style scoped>\n",
       "    .dataframe tbody tr th:only-of-type {\n",
       "        vertical-align: middle;\n",
       "    }\n",
       "\n",
       "    .dataframe tbody tr th {\n",
       "        vertical-align: top;\n",
       "    }\n",
       "\n",
       "    .dataframe thead th {\n",
       "        text-align: right;\n",
       "    }\n",
       "</style>\n",
       "<table border=\"1\" class=\"dataframe\">\n",
       "  <thead>\n",
       "    <tr style=\"text-align: right;\">\n",
       "      <th></th>\n",
       "      <th>Store</th>\n",
       "      <th>Date</th>\n",
       "      <th>Weekly_Sales</th>\n",
       "      <th>Holiday_Flag</th>\n",
       "      <th>Temperature</th>\n",
       "      <th>Fuel_Price</th>\n",
       "      <th>CPI</th>\n",
       "      <th>Unemployment</th>\n",
       "    </tr>\n",
       "  </thead>\n",
       "  <tbody>\n",
       "    <tr>\n",
       "      <th>0</th>\n",
       "      <td>6.0</td>\n",
       "      <td>2011-02-18</td>\n",
       "      <td>1572117.54</td>\n",
       "      <td>NaN</td>\n",
       "      <td>59.61</td>\n",
       "      <td>3.045</td>\n",
       "      <td>214.777523</td>\n",
       "      <td>6.858</td>\n",
       "    </tr>\n",
       "    <tr>\n",
       "      <th>1</th>\n",
       "      <td>13.0</td>\n",
       "      <td>2011-03-25</td>\n",
       "      <td>1807545.43</td>\n",
       "      <td>0.0</td>\n",
       "      <td>42.38</td>\n",
       "      <td>3.435</td>\n",
       "      <td>128.616064</td>\n",
       "      <td>7.470</td>\n",
       "    </tr>\n",
       "    <tr>\n",
       "      <th>4</th>\n",
       "      <td>6.0</td>\n",
       "      <td>2010-05-28</td>\n",
       "      <td>1644470.66</td>\n",
       "      <td>0.0</td>\n",
       "      <td>78.89</td>\n",
       "      <td>2.759</td>\n",
       "      <td>212.412888</td>\n",
       "      <td>7.092</td>\n",
       "    </tr>\n",
       "    <tr>\n",
       "      <th>5</th>\n",
       "      <td>4.0</td>\n",
       "      <td>2010-05-28</td>\n",
       "      <td>1857533.70</td>\n",
       "      <td>0.0</td>\n",
       "      <td>NaN</td>\n",
       "      <td>2.756</td>\n",
       "      <td>126.160226</td>\n",
       "      <td>7.896</td>\n",
       "    </tr>\n",
       "    <tr>\n",
       "      <th>6</th>\n",
       "      <td>15.0</td>\n",
       "      <td>2011-03-06</td>\n",
       "      <td>695396.19</td>\n",
       "      <td>0.0</td>\n",
       "      <td>69.80</td>\n",
       "      <td>4.069</td>\n",
       "      <td>134.855161</td>\n",
       "      <td>7.658</td>\n",
       "    </tr>\n",
       "  </tbody>\n",
       "</table>\n",
       "</div>"
      ],
      "text/plain": [
       "   Store        Date  Weekly_Sales  Holiday_Flag  Temperature  Fuel_Price  \\\n",
       "0    6.0  2011-02-18    1572117.54           NaN        59.61       3.045   \n",
       "1   13.0  2011-03-25    1807545.43           0.0        42.38       3.435   \n",
       "4    6.0  2010-05-28    1644470.66           0.0        78.89       2.759   \n",
       "5    4.0  2010-05-28    1857533.70           0.0          NaN       2.756   \n",
       "6   15.0  2011-03-06     695396.19           0.0        69.80       4.069   \n",
       "\n",
       "          CPI  Unemployment  \n",
       "0  214.777523         6.858  \n",
       "1  128.616064         7.470  \n",
       "4  212.412888         7.092  \n",
       "5  126.160226         7.896  \n",
       "6  134.855161         7.658  "
      ]
     },
     "execution_count": 10,
     "metadata": {},
     "output_type": "execute_result"
    }
   ],
   "source": [
    "data['Date']=pd.to_datetime(data['Date']).dt.date\n",
    "data.head()"
   ]
  },
  {
   "cell_type": "markdown",
   "id": "59fa8cba",
   "metadata": {},
   "source": [
    "## <b> Some data cleaning"
   ]
  },
  {
   "cell_type": "code",
   "execution_count": 11,
   "id": "84ec3e6e",
   "metadata": {},
   "outputs": [
    {
     "data": {
      "text/html": [
       "<div>\n",
       "<style scoped>\n",
       "    .dataframe tbody tr th:only-of-type {\n",
       "        vertical-align: middle;\n",
       "    }\n",
       "\n",
       "    .dataframe tbody tr th {\n",
       "        vertical-align: top;\n",
       "    }\n",
       "\n",
       "    .dataframe thead th {\n",
       "        text-align: right;\n",
       "    }\n",
       "</style>\n",
       "<table border=\"1\" class=\"dataframe\">\n",
       "  <thead>\n",
       "    <tr style=\"text-align: right;\">\n",
       "      <th></th>\n",
       "      <th>Store</th>\n",
       "      <th>Weekly_Sales</th>\n",
       "      <th>Holiday_Flag</th>\n",
       "      <th>Temperature</th>\n",
       "      <th>Fuel_Price</th>\n",
       "    </tr>\n",
       "  </thead>\n",
       "  <tbody>\n",
       "    <tr>\n",
       "      <th>count</th>\n",
       "      <td>118.000000</td>\n",
       "      <td>1.180000e+02</td>\n",
       "      <td>109.000000</td>\n",
       "      <td>107.000000</td>\n",
       "      <td>107.000000</td>\n",
       "    </tr>\n",
       "    <tr>\n",
       "      <th>mean</th>\n",
       "      <td>9.949153</td>\n",
       "      <td>1.257271e+06</td>\n",
       "      <td>0.073394</td>\n",
       "      <td>60.711589</td>\n",
       "      <td>3.291542</td>\n",
       "    </tr>\n",
       "    <tr>\n",
       "      <th>std</th>\n",
       "      <td>6.066367</td>\n",
       "      <td>6.625056e+05</td>\n",
       "      <td>0.261987</td>\n",
       "      <td>17.961676</td>\n",
       "      <td>0.486784</td>\n",
       "    </tr>\n",
       "    <tr>\n",
       "      <th>min</th>\n",
       "      <td>1.000000</td>\n",
       "      <td>2.689290e+05</td>\n",
       "      <td>0.000000</td>\n",
       "      <td>18.790000</td>\n",
       "      <td>2.514000</td>\n",
       "    </tr>\n",
       "    <tr>\n",
       "      <th>25%</th>\n",
       "      <td>4.250000</td>\n",
       "      <td>5.774276e+05</td>\n",
       "      <td>0.000000</td>\n",
       "      <td>45.465000</td>\n",
       "      <td>2.824000</td>\n",
       "    </tr>\n",
       "    <tr>\n",
       "      <th>50%</th>\n",
       "      <td>9.000000</td>\n",
       "      <td>1.331001e+06</td>\n",
       "      <td>0.000000</td>\n",
       "      <td>61.790000</td>\n",
       "      <td>3.308000</td>\n",
       "    </tr>\n",
       "    <tr>\n",
       "      <th>75%</th>\n",
       "      <td>15.000000</td>\n",
       "      <td>1.810591e+06</td>\n",
       "      <td>0.000000</td>\n",
       "      <td>75.430000</td>\n",
       "      <td>3.691500</td>\n",
       "    </tr>\n",
       "    <tr>\n",
       "      <th>max</th>\n",
       "      <td>20.000000</td>\n",
       "      <td>2.771397e+06</td>\n",
       "      <td>1.000000</td>\n",
       "      <td>91.650000</td>\n",
       "      <td>4.193000</td>\n",
       "    </tr>\n",
       "  </tbody>\n",
       "</table>\n",
       "</div>"
      ],
      "text/plain": [
       "            Store  Weekly_Sales  Holiday_Flag  Temperature  Fuel_Price\n",
       "count  118.000000  1.180000e+02    109.000000   107.000000  107.000000\n",
       "mean     9.949153  1.257271e+06      0.073394    60.711589    3.291542\n",
       "std      6.066367  6.625056e+05      0.261987    17.961676    0.486784\n",
       "min      1.000000  2.689290e+05      0.000000    18.790000    2.514000\n",
       "25%      4.250000  5.774276e+05      0.000000    45.465000    2.824000\n",
       "50%      9.000000  1.331001e+06      0.000000    61.790000    3.308000\n",
       "75%     15.000000  1.810591e+06      0.000000    75.430000    3.691500\n",
       "max     20.000000  2.771397e+06      1.000000    91.650000    4.193000"
      ]
     },
     "execution_count": 11,
     "metadata": {},
     "output_type": "execute_result"
    }
   ],
   "source": [
    "data.iloc[: ,:-2].describe()"
   ]
  },
  {
   "cell_type": "code",
   "execution_count": 12,
   "id": "12ed7ede",
   "metadata": {},
   "outputs": [
    {
     "name": "stdout",
     "output_type": "stream",
     "text": [
      "<class 'pandas.core.frame.DataFrame'>\n",
      "Int64Index: 118 entries, 0 to 149\n",
      "Data columns (total 8 columns):\n",
      " #   Column        Non-Null Count  Dtype  \n",
      "---  ------        --------------  -----  \n",
      " 0   Store         118 non-null    float64\n",
      " 1   Date          118 non-null    object \n",
      " 2   Weekly_Sales  118 non-null    float64\n",
      " 3   Holiday_Flag  109 non-null    float64\n",
      " 4   Temperature   107 non-null    float64\n",
      " 5   Fuel_Price    107 non-null    float64\n",
      " 6   CPI           109 non-null    float64\n",
      " 7   Unemployment  107 non-null    float64\n",
      "dtypes: float64(7), object(1)\n",
      "memory usage: 8.3+ KB\n"
     ]
    }
   ],
   "source": [
    "data.info()"
   ]
  },
  {
   "cell_type": "code",
   "execution_count": 13,
   "id": "415ffcb5",
   "metadata": {},
   "outputs": [
    {
     "data": {
      "application/vnd.jupyter.widget-view+json": {
       "model_id": "dda6d8fca11844669278363aca7b396c",
       "version_major": 2,
       "version_minor": 0
      },
      "text/plain": [
       "Summarize dataset:   0%|          | 0/22 [00:00<?, ?it/s]"
      ]
     },
     "metadata": {},
     "output_type": "display_data"
    },
    {
     "data": {
      "application/vnd.jupyter.widget-view+json": {
       "model_id": "bf12839f7df04852acf866fbc3f740e4",
       "version_major": 2,
       "version_minor": 0
      },
      "text/plain": [
       "Generate report structure:   0%|          | 0/1 [00:00<?, ?it/s]"
      ]
     },
     "metadata": {},
     "output_type": "display_data"
    },
    {
     "data": {
      "application/vnd.jupyter.widget-view+json": {
       "model_id": "",
       "version_major": 2,
       "version_minor": 0
      },
      "text/plain": [
       "Render widgets:   0%|          | 0/1 [00:00<?, ?it/s]"
      ]
     },
     "metadata": {},
     "output_type": "display_data"
    },
    {
     "data": {
      "application/vnd.jupyter.widget-view+json": {
       "model_id": "8394dd4b5eef40e98295a6603f6165c7",
       "version_major": 2,
       "version_minor": 0
      },
      "text/plain": [
       "VBox(children=(Tab(children=(Tab(children=(GridBox(children=(VBox(children=(GridspecLayout(children=(HTML(valu…"
      ]
     },
     "metadata": {},
     "output_type": "display_data"
    }
   ],
   "source": [
    "profile = ProfileReport(data, title=\"Pandas Profiling Report\")\n",
    "profile.to_widgets()"
   ]
  },
  {
   "cell_type": "code",
   "execution_count": 276,
   "id": "0a2fe18d",
   "metadata": {},
   "outputs": [
    {
     "name": "stderr",
     "output_type": "stream",
     "text": [
      "/home/carmina/miniconda3/envs/pez-jedha/lib/python3.7/site-packages/pandas/core/frame.py:3607: SettingWithCopyWarning: \n",
      "A value is trying to be set on a copy of a slice from a DataFrame.\n",
      "Try using .loc[row_indexer,col_indexer] = value instead\n",
      "\n",
      "See the caveats in the documentation: https://pandas.pydata.org/pandas-docs/stable/user_guide/indexing.html#returning-a-view-versus-a-copy\n",
      "  self._set_item(key, value)\n"
     ]
    },
    {
     "data": {
      "text/html": [
       "<div>\n",
       "<style scoped>\n",
       "    .dataframe tbody tr th:only-of-type {\n",
       "        vertical-align: middle;\n",
       "    }\n",
       "\n",
       "    .dataframe tbody tr th {\n",
       "        vertical-align: top;\n",
       "    }\n",
       "\n",
       "    .dataframe thead th {\n",
       "        text-align: right;\n",
       "    }\n",
       "</style>\n",
       "<table border=\"1\" class=\"dataframe\">\n",
       "  <thead>\n",
       "    <tr style=\"text-align: right;\">\n",
       "      <th></th>\n",
       "      <th>Store</th>\n",
       "      <th>Date</th>\n",
       "      <th>Weekly_Sales</th>\n",
       "      <th>Holiday_Flag</th>\n",
       "      <th>Temperature</th>\n",
       "      <th>Fuel_Price</th>\n",
       "      <th>CPI</th>\n",
       "      <th>Unemployment</th>\n",
       "      <th>Year</th>\n",
       "      <th>Month</th>\n",
       "      <th>dayOfWeek</th>\n",
       "      <th>weekday</th>\n",
       "      <th>week</th>\n",
       "    </tr>\n",
       "  </thead>\n",
       "  <tbody>\n",
       "    <tr>\n",
       "      <th>14</th>\n",
       "      <td>17.0</td>\n",
       "      <td>2010-01-10</td>\n",
       "      <td>829207.27</td>\n",
       "      <td>0.0</td>\n",
       "      <td>60.07</td>\n",
       "      <td>2.853</td>\n",
       "      <td>126.234600</td>\n",
       "      <td>6.885</td>\n",
       "      <td>2010</td>\n",
       "      <td>1</td>\n",
       "      <td>6</td>\n",
       "      <td>Sunday</td>\n",
       "      <td>1</td>\n",
       "    </tr>\n",
       "    <tr>\n",
       "      <th>20</th>\n",
       "      <td>7.0</td>\n",
       "      <td>2010-02-04</td>\n",
       "      <td>561145.14</td>\n",
       "      <td>0.0</td>\n",
       "      <td>38.26</td>\n",
       "      <td>2.725</td>\n",
       "      <td>189.704822</td>\n",
       "      <td>8.963</td>\n",
       "      <td>2010</td>\n",
       "      <td>2</td>\n",
       "      <td>3</td>\n",
       "      <td>Thursday</td>\n",
       "      <td>5</td>\n",
       "    </tr>\n",
       "    <tr>\n",
       "      <th>47</th>\n",
       "      <td>19.0</td>\n",
       "      <td>2010-02-07</td>\n",
       "      <td>1549018.68</td>\n",
       "      <td>0.0</td>\n",
       "      <td>66.25</td>\n",
       "      <td>2.958</td>\n",
       "      <td>132.521867</td>\n",
       "      <td>8.099</td>\n",
       "      <td>2010</td>\n",
       "      <td>2</td>\n",
       "      <td>6</td>\n",
       "      <td>Sunday</td>\n",
       "      <td>5</td>\n",
       "    </tr>\n",
       "    <tr>\n",
       "      <th>99</th>\n",
       "      <td>13.0</td>\n",
       "      <td>2010-02-07</td>\n",
       "      <td>2018314.71</td>\n",
       "      <td>0.0</td>\n",
       "      <td>78.82</td>\n",
       "      <td>2.814</td>\n",
       "      <td>126.139200</td>\n",
       "      <td>7.951</td>\n",
       "      <td>2010</td>\n",
       "      <td>2</td>\n",
       "      <td>6</td>\n",
       "      <td>Sunday</td>\n",
       "      <td>5</td>\n",
       "    </tr>\n",
       "    <tr>\n",
       "      <th>112</th>\n",
       "      <td>2.0</td>\n",
       "      <td>2010-02-19</td>\n",
       "      <td>2124451.54</td>\n",
       "      <td>0.0</td>\n",
       "      <td>39.69</td>\n",
       "      <td>2.514</td>\n",
       "      <td>210.945160</td>\n",
       "      <td>NaN</td>\n",
       "      <td>2010</td>\n",
       "      <td>2</td>\n",
       "      <td>4</td>\n",
       "      <td>Friday</td>\n",
       "      <td>7</td>\n",
       "    </tr>\n",
       "    <tr>\n",
       "      <th>115</th>\n",
       "      <td>15.0</td>\n",
       "      <td>2010-02-19</td>\n",
       "      <td>660838.75</td>\n",
       "      <td>0.0</td>\n",
       "      <td>NaN</td>\n",
       "      <td>2.909</td>\n",
       "      <td>131.637000</td>\n",
       "      <td>NaN</td>\n",
       "      <td>2010</td>\n",
       "      <td>2</td>\n",
       "      <td>4</td>\n",
       "      <td>Friday</td>\n",
       "      <td>7</td>\n",
       "    </tr>\n",
       "    <tr>\n",
       "      <th>106</th>\n",
       "      <td>14.0</td>\n",
       "      <td>2010-02-26</td>\n",
       "      <td>2095591.63</td>\n",
       "      <td>0.0</td>\n",
       "      <td>34.89</td>\n",
       "      <td>NaN</td>\n",
       "      <td>NaN</td>\n",
       "      <td>8.992</td>\n",
       "      <td>2010</td>\n",
       "      <td>2</td>\n",
       "      <td>4</td>\n",
       "      <td>Friday</td>\n",
       "      <td>8</td>\n",
       "    </tr>\n",
       "    <tr>\n",
       "      <th>23</th>\n",
       "      <td>19.0</td>\n",
       "      <td>2010-03-26</td>\n",
       "      <td>1427023.45</td>\n",
       "      <td>0.0</td>\n",
       "      <td>39.07</td>\n",
       "      <td>2.963</td>\n",
       "      <td>131.863129</td>\n",
       "      <td>8.350</td>\n",
       "      <td>2010</td>\n",
       "      <td>3</td>\n",
       "      <td>4</td>\n",
       "      <td>Friday</td>\n",
       "      <td>12</td>\n",
       "    </tr>\n",
       "    <tr>\n",
       "      <th>143</th>\n",
       "      <td>3.0</td>\n",
       "      <td>2010-04-06</td>\n",
       "      <td>396968.80</td>\n",
       "      <td>0.0</td>\n",
       "      <td>78.53</td>\n",
       "      <td>2.705</td>\n",
       "      <td>214.495838</td>\n",
       "      <td>7.343</td>\n",
       "      <td>2010</td>\n",
       "      <td>4</td>\n",
       "      <td>1</td>\n",
       "      <td>Tuesday</td>\n",
       "      <td>14</td>\n",
       "    </tr>\n",
       "    <tr>\n",
       "      <th>28</th>\n",
       "      <td>17.0</td>\n",
       "      <td>2010-04-16</td>\n",
       "      <td>757738.76</td>\n",
       "      <td>0.0</td>\n",
       "      <td>45.22</td>\n",
       "      <td>2.915</td>\n",
       "      <td>126.562100</td>\n",
       "      <td>6.635</td>\n",
       "      <td>2010</td>\n",
       "      <td>4</td>\n",
       "      <td>4</td>\n",
       "      <td>Friday</td>\n",
       "      <td>15</td>\n",
       "    </tr>\n",
       "  </tbody>\n",
       "</table>\n",
       "</div>"
      ],
      "text/plain": [
       "    Store        Date  Weekly_Sales  Holiday_Flag  Temperature  Fuel_Price  \\\n",
       "14   17.0  2010-01-10     829207.27           0.0        60.07       2.853   \n",
       "20    7.0  2010-02-04     561145.14           0.0        38.26       2.725   \n",
       "47   19.0  2010-02-07    1549018.68           0.0        66.25       2.958   \n",
       "99   13.0  2010-02-07    2018314.71           0.0        78.82       2.814   \n",
       "112   2.0  2010-02-19    2124451.54           0.0        39.69       2.514   \n",
       "115  15.0  2010-02-19     660838.75           0.0          NaN       2.909   \n",
       "106  14.0  2010-02-26    2095591.63           0.0        34.89         NaN   \n",
       "23   19.0  2010-03-26    1427023.45           0.0        39.07       2.963   \n",
       "143   3.0  2010-04-06     396968.80           0.0        78.53       2.705   \n",
       "28   17.0  2010-04-16     757738.76           0.0        45.22       2.915   \n",
       "\n",
       "            CPI  Unemployment  Year  Month  dayOfWeek   weekday  week  \n",
       "14   126.234600         6.885  2010      1          6    Sunday     1  \n",
       "20   189.704822         8.963  2010      2          3  Thursday     5  \n",
       "47   132.521867         8.099  2010      2          6    Sunday     5  \n",
       "99   126.139200         7.951  2010      2          6    Sunday     5  \n",
       "112  210.945160           NaN  2010      2          4    Friday     7  \n",
       "115  131.637000           NaN  2010      2          4    Friday     7  \n",
       "106         NaN         8.992  2010      2          4    Friday     8  \n",
       "23   131.863129         8.350  2010      3          4    Friday    12  \n",
       "143  214.495838         7.343  2010      4          1   Tuesday    14  \n",
       "28   126.562100         6.635  2010      4          4    Friday    15  "
      ]
     },
     "execution_count": 276,
     "metadata": {},
     "output_type": "execute_result"
    }
   ],
   "source": [
    "#data['Date2']=pd.to_datetime(data['Date']).dt.date\n",
    "\n",
    "data['Year']=pd.to_datetime(data['Date']).dt.year #Because of null values, year could be float, so casting is used to force it to int.\n",
    "data['Month']=pd.to_datetime(data['Date']).dt.month.astype(np.int8)\n",
    "data['dayOfWeek']=pd.to_datetime(data['Date']).dt.dayofweek.astype(np.int8)\n",
    "data['weekday']=pd.to_datetime(data['Date']).dt.strftime(\"%A\")\n",
    "data['week']=pd.to_datetime(data['Date']).dt.isocalendar().week.astype(np.int8)\n",
    "data['Store'] = data['Store'].astype('str')\n",
    "data.sort_values(by=['Date','Month']).head(10)"
   ]
  },
  {
   "cell_type": "markdown",
   "id": "0b09674a",
   "metadata": {},
   "source": [
    "## Check weeks with holidays"
   ]
  },
  {
   "cell_type": "code",
   "execution_count": 122,
   "id": "807f3b55",
   "metadata": {},
   "outputs": [
    {
     "data": {
      "text/html": [
       "<div>\n",
       "<style scoped>\n",
       "    .dataframe tbody tr th:only-of-type {\n",
       "        vertical-align: middle;\n",
       "    }\n",
       "\n",
       "    .dataframe tbody tr th {\n",
       "        vertical-align: top;\n",
       "    }\n",
       "\n",
       "    .dataframe thead th {\n",
       "        text-align: right;\n",
       "    }\n",
       "</style>\n",
       "<table border=\"1\" class=\"dataframe\">\n",
       "  <thead>\n",
       "    <tr style=\"text-align: right;\">\n",
       "      <th></th>\n",
       "      <th>Store</th>\n",
       "      <th>Date</th>\n",
       "      <th>Year</th>\n",
       "      <th>Month</th>\n",
       "      <th>week</th>\n",
       "    </tr>\n",
       "  </thead>\n",
       "  <tbody>\n",
       "    <tr>\n",
       "      <th>135</th>\n",
       "      <td>12.0</td>\n",
       "      <td>2010-10-09</td>\n",
       "      <td>2010</td>\n",
       "      <td>10</td>\n",
       "      <td>40</td>\n",
       "    </tr>\n",
       "    <tr>\n",
       "      <th>114</th>\n",
       "      <td>11.0</td>\n",
       "      <td>2010-11-26</td>\n",
       "      <td>2010</td>\n",
       "      <td>11</td>\n",
       "      <td>47</td>\n",
       "    </tr>\n",
       "    <tr>\n",
       "      <th>44</th>\n",
       "      <td>1.0</td>\n",
       "      <td>2010-12-02</td>\n",
       "      <td>2010</td>\n",
       "      <td>12</td>\n",
       "      <td>48</td>\n",
       "    </tr>\n",
       "    <tr>\n",
       "      <th>107</th>\n",
       "      <td>8.0</td>\n",
       "      <td>2010-12-02</td>\n",
       "      <td>2010</td>\n",
       "      <td>12</td>\n",
       "      <td>48</td>\n",
       "    </tr>\n",
       "    <tr>\n",
       "      <th>110</th>\n",
       "      <td>20.0</td>\n",
       "      <td>2010-12-31</td>\n",
       "      <td>2010</td>\n",
       "      <td>12</td>\n",
       "      <td>52</td>\n",
       "    </tr>\n",
       "    <tr>\n",
       "      <th>122</th>\n",
       "      <td>7.0</td>\n",
       "      <td>2012-07-09</td>\n",
       "      <td>2012</td>\n",
       "      <td>7</td>\n",
       "      <td>28</td>\n",
       "    </tr>\n",
       "    <tr>\n",
       "      <th>32</th>\n",
       "      <td>7.0</td>\n",
       "      <td>2012-10-02</td>\n",
       "      <td>2012</td>\n",
       "      <td>10</td>\n",
       "      <td>40</td>\n",
       "    </tr>\n",
       "    <tr>\n",
       "      <th>33</th>\n",
       "      <td>14.0</td>\n",
       "      <td>2012-10-02</td>\n",
       "      <td>2012</td>\n",
       "      <td>10</td>\n",
       "      <td>40</td>\n",
       "    </tr>\n",
       "  </tbody>\n",
       "</table>\n",
       "</div>"
      ],
      "text/plain": [
       "    Store        Date  Year  Month  week\n",
       "135  12.0  2010-10-09  2010     10    40\n",
       "114  11.0  2010-11-26  2010     11    47\n",
       "44    1.0  2010-12-02  2010     12    48\n",
       "107   8.0  2010-12-02  2010     12    48\n",
       "110  20.0  2010-12-31  2010     12    52\n",
       "122   7.0  2012-07-09  2012      7    28\n",
       "32    7.0  2012-10-02  2012     10    40\n",
       "33   14.0  2012-10-02  2012     10    40"
      ]
     },
     "execution_count": 122,
     "metadata": {},
     "output_type": "execute_result"
    }
   ],
   "source": [
    "data[data['Holiday_Flag']==1][['Store','Date','Year','Month', 'week']].sort_values('Date')"
   ]
  },
  {
   "cell_type": "code",
   "execution_count": 129,
   "id": "7d4e2cc6",
   "metadata": {},
   "outputs": [
    {
     "name": "stdout",
     "output_type": "stream",
     "text": [
      "Weeks with holidays: [28 40 47 48 52]\n"
     ]
    }
   ],
   "source": [
    "holiday_weeks = data[data['Holiday_Flag']==1].week.to_list()\n",
    "del holiday_weeks[2]\n",
    "holiday_weeks = np.unique(holiday_weeks)\n",
    "print(f'Weeks with holidays: {holiday_weeks}')"
   ]
  },
  {
   "cell_type": "markdown",
   "id": "1b0e8dae",
   "metadata": {},
   "source": [
    "## <b> Sales per Store"
   ]
  },
  {
   "cell_type": "code",
   "execution_count": 38,
   "id": "8efdc059",
   "metadata": {},
   "outputs": [
    {
     "data": {
      "text/plain": [
       "Index(['14.0', '13.0', '4.0', '1.0', '2.0', '19.0', '6.0', '18.0', '20.0',\n",
       "       '10.0', '8.0', '12.0', '17.0', '3.0', '7.0', '16.0', '5.0', '9.0',\n",
       "       '15.0', '11.0'],\n",
       "      dtype='object', name='Store')"
      ]
     },
     "execution_count": 38,
     "metadata": {},
     "output_type": "execute_result"
    },
    {
     "data": {
      "image/png": "[encoded data removed]",
      "text/plain": [
       "<Figure size 1080x360 with 1 Axes>"
      ]
     },
     "metadata": {
      "needs_background": "light"
     },
     "output_type": "display_data"
    }
   ],
   "source": [
    "sales_per_store = data.groupby('Store').Weekly_Sales.sum().sort_values(ascending=False)\n",
    "sales_per_store\n",
    "plt.figure(figsize=(15, 5))\n",
    "sns.barplot(x=sales_per_store.index, y=sales_per_store.values)\n",
    "sales_per_store.index"
   ]
  },
  {
   "cell_type": "markdown",
   "id": "057087dc",
   "metadata": {},
   "source": [
    "### The stores 14, 13, 2, 1, 4 have the top sales"
   ]
  },
  {
   "cell_type": "code",
   "execution_count": 39,
   "id": "0687903f",
   "metadata": {},
   "outputs": [],
   "source": [
    "def sales_per_month(data):\n",
    "    sales_month = data.groupby('Month')['Weekly_Sales'].agg('sum')\n",
    "    return sales_month"
   ]
  },
  {
   "cell_type": "markdown",
   "id": "f53cc9e2",
   "metadata": {},
   "source": [
    "#data['Date2']=pd.to_datetime(data['Date']).dt.date\n",
    "\n",
    "data['Year']=pd.to_datetime(data['Date']).dt.year.astype('Int16') #Because of null values, year could be float, so casting is used to force it to int.\n",
    "data['Month']=pd.to_datetime(data['Date']).dt.month.astype('Int16')\n",
    "data['dayOfWeek']=pd.to_datetime(data['Date']).dt.dayofweek.astype('Int16')\n",
    "data['weekday']=pd.to_datetime(data['Date']).dt.strftime(\"%A\")\n",
    "data['week']=pd.to_datetime(data['Date']).dt.isocalendar().week\n",
    "data.sort_values(by=['Date','Month']).head(10)"
   ]
  },
  {
   "cell_type": "markdown",
   "id": "3f1ef554",
   "metadata": {},
   "source": []
  },
  {
   "cell_type": "markdown",
   "id": "e224082b",
   "metadata": {},
   "source": [
    "## Sales per month"
   ]
  },
  {
   "cell_type": "code",
   "execution_count": 43,
   "id": "1b336631",
   "metadata": {},
   "outputs": [
    {
     "data": {
      "text/plain": [
       "<AxesSubplot:xlabel='Month'>"
      ]
     },
     "execution_count": 43,
     "metadata": {},
     "output_type": "execute_result"
    },
    {
     "data": {
      "image/png": "[encoded data removed]",
      "text/plain": [
       "<Figure size 432x288 with 1 Axes>"
      ]
     },
     "metadata": {
      "needs_background": "light"
     },
     "output_type": "display_data"
    }
   ],
   "source": [
    "sales_month = data.groupby('Month')['Weekly_Sales'].agg('sum')\n",
    "sns.barplot(x=sales_month.index, y=sales_month.values)\n"
   ]
  },
  {
   "cell_type": "code",
   "execution_count": 46,
   "id": "cc312a19",
   "metadata": {},
   "outputs": [
    {
     "data": {
      "text/plain": [
       "<AxesSubplot:xlabel='Month'>"
      ]
     },
     "execution_count": 46,
     "metadata": {},
     "output_type": "execute_result"
    },
    {
     "data": {
      "image/png": "[encoded data removed]",
      "text/plain": [
       "<Figure size 432x288 with 1 Axes>"
      ]
     },
     "metadata": {
      "needs_background": "light"
     },
     "output_type": "display_data"
    }
   ],
   "source": [
    "filter_holiday = data['Holiday_Flag'] == 1\n",
    "data[filter_holiday]\n",
    "sns.barplot(x=sales_per_month(data[filter_holiday]).index, y=sales_per_month(data[filter_holiday]).values)"
   ]
  },
  {
   "cell_type": "markdown",
   "id": "e53d2603",
   "metadata": {},
   "source": [
    "It seems that there is a positive correlation between the holiday with the weekly sales"
   ]
  },
  {
   "cell_type": "code",
   "execution_count": 49,
   "id": "2172a4b6",
   "metadata": {},
   "outputs": [],
   "source": []
  },
  {
   "cell_type": "markdown",
   "id": "30299cb7",
   "metadata": {},
   "source": [
    "# 1. Checking for correlations"
   ]
  },
  {
   "cell_type": "code",
   "execution_count": null,
   "id": "9a003af1",
   "metadata": {},
   "outputs": [],
   "source": [
    "sns.pairplot(data=data)"
   ]
  },
  {
   "cell_type": "markdown",
   "id": "34bdf5dc",
   "metadata": {},
   "source": [
    "At first glance to the heatmap and the graphs, there is no varible with strong correlation with Weekly_Sales"
   ]
  },
  {
   "cell_type": "markdown",
   "id": "d003f188",
   "metadata": {},
   "source": [
    "## Visualize distributions"
   ]
  },
  {
   "cell_type": "code",
   "execution_count": null,
   "id": "7500a7f3",
   "metadata": {},
   "outputs": [],
   "source": [
    "data.hist(figsize=(20,15))\n",
    "plt.show()"
   ]
  },
  {
   "cell_type": "markdown",
   "id": "7fca2f41",
   "metadata": {},
   "source": [
    "## 2. Perform some cleaning"
   ]
  },
  {
   "cell_type": "code",
   "execution_count": null,
   "id": "c6c4bfcd",
   "metadata": {},
   "outputs": [],
   "source": [
    "# First, split the date according"
   ]
  },
  {
   "cell_type": "code",
   "execution_count": null,
   "id": "9a0a4309",
   "metadata": {},
   "outputs": [],
   "source": [
    "data_train, data_test = train_test_split(data, test_size=0.2)"
   ]
  },
  {
   "cell_type": "code",
   "execution_count": null,
   "id": "eaeeebd9",
   "metadata": {},
   "outputs": [],
   "source": [
    "data_train.hist(figsize=(20,15))\n",
    "plt.show()"
   ]
  },
  {
   "cell_type": "markdown",
   "id": "2c44eb01",
   "metadata": {},
   "source": [
    "After split, check the pourcentage of data per year"
   ]
  },
  {
   "cell_type": "code",
   "execution_count": null,
   "id": "35b5e5e7",
   "metadata": {},
   "outputs": [],
   "source": [
    "# Original data\n",
    "data['Year'].value_counts()*100/data.shape[0]"
   ]
  },
  {
   "cell_type": "code",
   "execution_count": null,
   "id": "00d02d28",
   "metadata": {},
   "outputs": [],
   "source": [
    "print('Data instances per year')\n",
    "data_train['Year'].value_counts()*100/data_train.shape[0]"
   ]
  },
  {
   "cell_type": "code",
   "execution_count": null,
   "id": "169566b7",
   "metadata": {},
   "outputs": [],
   "source": [
    "sns.displot(x='Weekly_Sales', kind='kde', data=data, aspect=1.5 )"
   ]
  },
  {
   "cell_type": "code",
   "execution_count": null,
   "id": "e941cb76",
   "metadata": {},
   "outputs": [],
   "source": [
    "data.describe()"
   ]
  },
  {
   "cell_type": "code",
   "execution_count": null,
   "id": "78257604",
   "metadata": {},
   "outputs": [],
   "source": []
  }
 ],
 "metadata": {
  "interpreter": {
   "hash": "d228d5b469f0fe34efcdbd21b769eeeb85df70f39f109e1cdb9fb653250c805e"
  },
  "kernelspec": {
   "display_name": "kernel-pez-jedha",
   "language": "python",
   "name": "kernel-pez-jedha"
  },
  "language_info": {
   "codemirror_mode": {
    "name": "ipython",
    "version": 3
   },
   "file_extension": ".py",
   "mimetype": "text/x-python",
   "name": "python",
   "nbconvert_exporter": "python",
   "pygments_lexer": "ipython3",
   "version": "3.7.11"
  }
 },
 "nbformat": 4,
 "nbformat_minor": 5
}
