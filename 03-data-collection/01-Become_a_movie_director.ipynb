{
 "cells": [
  {
   "cell_type": "markdown",
   "metadata": {},
   "source": [
    "# Become a movie director\n",
    "\n",
    "Let's use BeautifulSoup to get some information about the top-250 rated movies on <a href=\"http://www.imdb.com/\" target=\"_blank\">IMDB</a>.\n",
    "\n",
    "To complete this exercise, feel free to look at <a href=\"https://www.crummy.com/software/BeautifulSoup/bs4/doc/\" target=\"_blank\">BeautifulSoup documentation</a>."
   ]
  },
  {
   "cell_type": "markdown",
   "metadata": {},
   "source": [
    "1. Import `Beautifulsoup` and `requests` libraries:"
   ]
  },
  {
   "cell_type": "code",
   "execution_count": 1,
   "metadata": {},
   "outputs": [],
   "source": [
    "import requests\n",
    "from bs4 import BeautifulSoup"
   ]
  },
  {
   "cell_type": "markdown",
   "metadata": {},
   "source": [
    "2. With `requests`, get the source code of the webpage at this url: <a href=\"http://www.imdb.com/chart/top\" target=\"_blank\">http://www.imdb.com/chart/top</a>"
   ]
  },
  {
   "cell_type": "code",
   "execution_count": 2,
   "metadata": {},
   "outputs": [],
   "source": [
    "page = requests.get(\"http://www.imdb.com/chart/top\")"
   ]
  },
  {
   "cell_type": "code",
   "execution_count": 3,
   "metadata": {},
   "outputs": [],
   "source": [
    "soup = BeautifulSoup(page.content, 'html.parser')"
   ]
  },
  {
   "cell_type": "markdown",
   "metadata": {},
   "source": [
    "3. Use Beautifulsoup to extract the following items from the webpage HTML code, for each of the 250 movies: ranking, title, url, crew, rating and number of voters.\n",
    "\n",
    "Use the `.select` method to find tags you need on the website, then store those tags into lists.\n",
    "\n",
    "Finally, create a list named `imdb` in which each item is a dictionary containing the information related to one movie.\n",
    "\n",
    "**Hint**: You can check out the <a href=\"https://docs.python.org/3/library/string.html\" target=\"_blank\">string documentation</a>, in particular the `.split`, `.join` and `.replace` methods."
   ]
  },
  {
   "cell_type": "markdown",
   "metadata": {},
   "source": [
    "#ranking, title, url, crew, rating and number of voters."
   ]
  },
  {
   "cell_type": "code",
   "execution_count": 55,
   "metadata": {},
   "outputs": [
    {
     "data": {
      "text/plain": [
       "'9.2 based on 2,412,369 user ratings'"
      ]
     },
     "execution_count": 55,
     "metadata": {},
     "output_type": "execute_result"
    }
   ],
   "source": [
    "ratings[0].strong.get_text()\n",
    "ratings[0].strong['title']"
   ]
  },
  {
   "cell_type": "code",
   "execution_count": 4,
   "metadata": {},
   "outputs": [],
   "source": [
    "tds = soup.find_all('td', [\"titleColumn\"])\n",
    "#films = soup.find_all(\"tr\", {''})"
   ]
  },
  {
   "cell_type": "code",
   "execution_count": 71,
   "metadata": {},
   "outputs": [
    {
     "data": {
      "text/plain": [
       "250"
      ]
     },
     "execution_count": 71,
     "metadata": {},
     "output_type": "execute_result"
    }
   ],
   "source": [
    "len(tds)"
   ]
  },
  {
   "cell_type": "code",
   "execution_count": 79,
   "metadata": {},
   "outputs": [
    {
     "name": "stdout",
     "output_type": "stream",
     "text": [
      "\n",
      "      1.\n",
      "      The Shawshank Redemption\n",
      "(1994)\n",
      "\n",
      "\n",
      "      1.\n",
      "      \n"
     ]
    }
   ],
   "source": [
    "#print(tds[0])\n",
    "print(tds[0].get_text())\n",
    "print(tds[0].contents[0])\n",
    "#print(tds[1].a['title'])\n",
    "#print(tds[2].a.get_text())\n",
    "#title = tds[3].a.get_text()\n",
    "#print(tds[3].a.get_text())\n",
    "starring = tds[3].a['title']\n",
    "#print(starring)\n",
    "year = tds[39].select('span', class_=\"secondaryInfo\")[0].get_text() \n"
   ]
  },
  {
   "cell_type": "code",
   "execution_count": 64,
   "metadata": {},
   "outputs": [
    {
     "name": "stdout",
     "output_type": "stream",
     "text": [
      " num - The Shawshank Redemption - (1994) - Starring: Frank Darabont (dir.), Tim Robbins, Morgan Freeman - Rating: 9.2 based on 2,412,369 user ratings\n",
      " num - The Godfather - (1972) - Starring: Francis Ford Coppola (dir.), Marlon Brando, Al Pacino - Rating: 9.1 based on 1,668,980 user ratings\n",
      " num - The Godfather: Part II - (1974) - Starring: Francis Ford Coppola (dir.), Al Pacino, Robert De Niro - Rating: 9.0 based on 1,159,459 user ratings\n",
      " num - The Dark Knight - (2008) - Starring: Christopher Nolan (dir.), Christian Bale, Heath Ledger - Rating: 9.0 based on 2,370,742 user ratings\n",
      " num - 12 Angry Men - (1957) - Starring: Sidney Lumet (dir.), Henry Fonda, Lee J. Cobb - Rating: 8.9 based on 710,881 user ratings\n",
      " num - Schindler's List - (1993) - Starring: Steven Spielberg (dir.), Liam Neeson, Ralph Fiennes - Rating: 8.9 based on 1,242,729 user ratings\n",
      " num - The Lord of the Rings: The Return of the King - (2003) - Starring: Peter Jackson (dir.), Elijah Wood, Viggo Mortensen - Rating: 8.9 based on 1,680,616 user ratings\n",
      " num - Pulp Fiction - (1994) - Starring: Quentin Tarantino (dir.), John Travolta, Uma Thurman - Rating: 8.8 based on 1,872,759 user ratings\n",
      " num - Il buono, il brutto, il cattivo - (1966) - Starring: Sergio Leone (dir.), Clint Eastwood, Eli Wallach - Rating: 8.8 based on 703,841 user ratings\n",
      " num - The Lord of the Rings: The Fellowship of the Ring - (2001) - Starring: Peter Jackson (dir.), Elijah Wood, Ian McKellen - Rating: 8.8 based on 1,701,640 user ratings\n",
      " num - Fight Club - (1999) - Starring: David Fincher (dir.), Brad Pitt, Edward Norton - Rating: 8.8 based on 1,903,440 user ratings\n",
      " num - Forrest Gump - (1994) - Starring: Robert Zemeckis (dir.), Tom Hanks, Robin Wright - Rating: 8.7 based on 1,863,585 user ratings\n",
      " num - Inception - (2010) - Starring: Christopher Nolan (dir.), Leonardo DiCaprio, Joseph Gordon-Levitt - Rating: 8.7 based on 2,127,802 user ratings\n",
      " num - The Lord of the Rings: The Two Towers - (2002) - Starring: Peter Jackson (dir.), Elijah Wood, Ian McKellen - Rating: 8.7 based on 1,519,584 user ratings\n",
      " num - Star Wars: Episode V - The Empire Strikes Back - (1980) - Starring: Irvin Kershner (dir.), Mark Hamill, Harrison Ford - Rating: 8.7 based on 1,184,305 user ratings\n",
      " num - The Matrix - (1999) - Starring: Lana Wachowski (dir.), Keanu Reeves, Laurence Fishburne - Rating: 8.6 based on 1,720,121 user ratings\n",
      " num - Goodfellas - (1990) - Starring: Martin Scorsese (dir.), Robert De Niro, Ray Liotta - Rating: 8.6 based on 1,048,849 user ratings\n",
      " num - One Flew Over the Cuckoo's Nest - (1975) - Starring: Milos Forman (dir.), Jack Nicholson, Louise Fletcher - Rating: 8.6 based on 937,682 user ratings\n",
      " num - Shichinin no samurai - (1954) - Starring: Akira Kurosawa (dir.), Toshirô Mifune, Takashi Shimura - Rating: 8.6 based on 322,904 user ratings\n",
      " num - Se7en - (1995) - Starring: David Fincher (dir.), Morgan Freeman, Brad Pitt - Rating: 8.6 based on 1,486,023 user ratings\n",
      " num - The Silence of the Lambs - (1991) - Starring: Jonathan Demme (dir.), Jodie Foster, Anthony Hopkins - Rating: 8.6 based on 1,305,991 user ratings\n"
     ]
    }
   ],
   "source": [
    "for i, td in enumerate(tds):\n",
    "    ranking = td.string\n",
    "    title = td.a.get_text()\n",
    "    starring = td.a['title']\n",
    "    year = td.select('span', class_=\"secondaryInfo\")[0].get_text()\n",
    "    rating = ratings[i].strong['title']\n",
    "    print(f' num - {title} - {year} - Starring: {starring} - Rating: {rating}')\n",
    "    if i == 20:\n",
    "        break"
   ]
  },
  {
   "cell_type": "code",
   "execution_count": 59,
   "metadata": {},
   "outputs": [
    {
     "name": "stdout",
     "output_type": "stream",
     "text": [
      "250\n"
     ]
    }
   ],
   "source": [
    "ratings = soup.select('td.imdbRating')\n",
    "print(len(ratings))"
   ]
  },
  {
   "cell_type": "code",
   "execution_count": 25,
   "metadata": {},
   "outputs": [
    {
     "name": "stdout",
     "output_type": "stream",
     "text": [
      "\n",
      "\n",
      "<span data-value=\"1\" name=\"rk\"></span>\n",
      "\n",
      "\n",
      "<span data-value=\"9.219969977197412\" name=\"ir\"></span>\n",
      "\n",
      "\n",
      "<span data-value=\"7.791552E11\" name=\"us\"></span>\n",
      "\n",
      "\n",
      "<span data-value=\"2411885\" name=\"nv\"></span>\n",
      "\n",
      "\n",
      "<span data-value=\"-1.7800300228025883\" name=\"ur\"></span>\n",
      "\n",
      "\n",
      "<a href=\"/title/tt0111161/\"> <img alt=\"The Shawshank Redemption\" height=\"67\" src=\"https://m.media-amazon.com/images/M/MV5BMDFkYTc0MGEtZmNhMC00ZDIzLWFmNTEtODM1ZmRlYWMwMWFmXkEyXkFqcGdeQXVyMTMxODk2OTU@._V1_UY67_CR0,0,45,67_AL_.jpg\" width=\"45\"/>\n",
      "</a>\n",
      " \n"
     ]
    }
   ],
   "source": [
    "for i, film in enumerate(td):\n",
    "    print(film)\n",
    "    #print(film.find_all('td.posterColumn')) \n",
    "    #if i == 10:\n",
    "    #    break;"
   ]
  },
  {
   "cell_type": "markdown",
   "metadata": {},
   "source": [
    "4. To check your code, loop over the `imdb` list and print some information for each movie:"
   ]
  },
  {
   "cell_type": "code",
   "execution_count": 7,
   "metadata": {
    "tags": [
     "outputPrepend"
    ]
   },
   "outputs": [
    {
     "name": "stdout",
     "output_type": "stream",
     "text": [
      "rd Furlong\n",
      "40 - Les temps modernes (1936) - Starring: Charles Chaplin (dir.), Charles Chaplin, Paulette Goddard\n",
      "41 - Psychose (1960) - Starring: Alfred Hitchcock (dir.), Anthony Perkins, Janet Leigh\n",
      "42 - Gladiator (2000) - Starring: Ridley Scott (dir.), Russell Crowe, Joaquin Phoenix\n",
      "43 - Les lumières de la ville (1931) - Starring: Charles Chaplin (dir.), Charles Chaplin, Virginia Cherrill\n",
      "44 - Les infiltrés (2006) - Starring: Martin Scorsese (dir.), Leonardo DiCaprio, Matt Damon\n",
      "45 - Intouchables (2011) - Starring: Olivier Nakache (dir.), François Cluzet, Omar Sy\n",
      "46 - Whiplash (2014) - Starring: Damien Chazelle (dir.), Miles Teller, J.K. Simmons\n",
      "47 - Le prestige (2006) - Starring: Christopher Nolan (dir.), Christian Bale, Hugh Jackman\n",
      "48 - Le tombeau des lucioles (1988) - Starring: Isao Takahata (dir.), Tsutomu Tatsumi, Ayano Shiraishi\n",
      "49 - Il était une fois dans l'Ouest (1968) - Starring: Sergio Leone (dir.), Henry Fonda, Charles Bronson\n",
      "50 - Casablanca (1942) - Starring: Michael Curtiz (dir.), Humphrey Bogart, Ingrid Bergman\n",
      "51 - Cinéma Paradiso (1988) - Starring: Giuseppe Tornatore (dir.), Philippe Noiret, Enzo Cannavale\n",
      "52 - Fenêtre sur cour (1954) - Starring: Alfred Hitchcock (dir.), James Stewart, Grace Kelly\n",
      "53 - Alien - Le 8ème passager (1979) - Starring: Ridley Scott (dir.), Sigourney Weaver, Tom Skerritt\n",
      "54 - Apocalypse Now (1979) - Starring: Francis Ford Coppola (dir.), Martin Sheen, Marlon Brando\n",
      "55 - Memento (2000) - Starring: Christopher Nolan (dir.), Guy Pearce, Carrie-Anne Moss\n",
      "56 - Les aventuriers de l'arche perdue (1981) - Starring: Steven Spielberg (dir.), Harrison Ford, Karen Allen\n",
      "57 - Le dictateur (1940) - Starring: Charles Chaplin (dir.), Charles Chaplin, Paulette Goddard\n",
      "58 - Joker (2019) - Starring: Todd Phillips (dir.), Joaquin Phoenix, Robert De Niro\n",
      "59 - Django Unchained (2012) - Starring: Quentin Tarantino (dir.), Jamie Foxx, Christoph Waltz\n",
      "60 - La vie des autres (2006) - Starring: Florian Henckel von Donnersmarck (dir.), Ulrich Mühe, Martina Gedeck\n",
      "61 - Les sentiers de la gloire (1957) - Starring: Stanley Kubrick (dir.), Kirk Douglas, Ralph Meeker\n",
      "62 - Shining (1980) - Starring: Stanley Kubrick (dir.), Jack Nicholson, Shelley Duvall\n",
      "63 - WALL·E (2008) - Starring: Andrew Stanton (dir.), Ben Burtt, Elissa Knight\n",
      "64 - Avengers: Infinity War (2018) - Starring: Anthony Russo (dir.), Robert Downey Jr., Chris Hemsworth\n",
      "65 - Boulevard du Crépuscule (1950) - Starring: Billy Wilder (dir.), William Holden, Gloria Swanson\n",
      "66 - Princesse Mononoké (1997) - Starring: Hayao Miyazaki (dir.), Yôji Matsuda, Yuriko Ishida\n",
      "67 - Témoin à charge (1957) - Starring: Billy Wilder (dir.), Tyrone Power, Marlene Dietrich\n",
      "68 - Spider-Man: New Generation (2018) - Starring: Bob Persichetti (dir.), Shameik Moore, Jake Johnson\n",
      "69 - Old Boy (2003) - Starring: Chan-wook Park (dir.), Min-sik Choi, Ji-Tae Yoo\n",
      "70 - Docteur Folamour, ou: Comment j'ai appris à ne plus m'en faire et à aimer la bombe (1964) - Starring: Stanley Kubrick (dir.), Peter Sellers, George C. Scott\n",
      "71 - The Dark Knight Rises (2012) - Starring: Christopher Nolan (dir.), Christian Bale, Tom Hardy\n",
      "72 - Il était une fois en Amérique (1984) - Starring: Sergio Leone (dir.), Robert De Niro, James Woods\n",
      "73 - Aliens - Le retour (1986) - Starring: James Cameron (dir.), Sigourney Weaver, Michael Biehn\n",
      "74 - Avengers: Endgame (2019) - Starring: Anthony Russo (dir.), Robert Downey Jr., Chris Evans\n",
      "75 - Your Name (2016) - Starring: Makoto Shinkai (dir.), Ryûnosuke Kamiki, Mone Kamishiraishi\n",
      "76 - Coco (2017) - Starring: Lee Unkrich (dir.), Anthony Gonzalez, Gael García Bernal\n",
      "77 - American Beauty (1999) - Starring: Sam Mendes (dir.), Kevin Spacey, Annette Bening\n",
      "78 - Braveheart (1995) - Starring: Mel Gibson (dir.), Mel Gibson, Sophie Marceau\n",
      "79 - 3 Idiots (2009) - Starring: Rajkumar Hirani (dir.), Aamir Khan, Madhavan\n",
      "80 - Le bateau (1981) - Starring: Wolfgang Petersen (dir.), Jürgen Prochnow, Herbert Grönemeyer\n",
      "81 - Toy Story (1995) - Starring: John Lasseter (dir.), Tom Hanks, Tim Allen\n",
      "82 - Entre le ciel et l'enfer (1963) - Starring: Akira Kurosawa (dir.), Toshirô Mifune, Yutaka Sada\n",
      "83 - Amadeus (1984) - Starring: Milos Forman (dir.), F. Murray Abraham, Tom Hulce\n",
      "84 - Taare Zameen Par (2007) - Starring: Aamir Khan (dir.), Darsheel Safary, Aamir Khan\n",
      "85 - Le retour du Jedi (1983) - Starring: Richard Marquand (dir.), Mark Hamill, Harrison Ford\n",
      "86 - Inglourious Basterds (2009) - Starring: Quentin Tarantino (dir.), Brad Pitt, Diane Kruger\n",
      "87 - Reservoir Dogs (1992) - Starring: Quentin Tarantino (dir.), Harvey Keitel, Tim Roth\n",
      "88 - Will Hunting (1997) - Starring: Gus Van Sant (dir.), Robin Williams, Matt Damon\n",
      "89 - Capharnaüm (2018) - Starring: Nadine Labaki (dir.), Zain Al Rafeea, Yordanos Shiferaw\n",
      "90 - 2001: L'odyssée de l'espace (1968) - Starring: Stanley Kubrick (dir.), Keir Dullea, Gary Lockwood\n",
      "91 - Requiem for a Dream (2000) - Starring: Darren Aronofsky (dir.), Ellen Burstyn, Jared Leto\n",
      "92 - Sueurs froides (1958) - Starring: Alfred Hitchcock (dir.), James Stewart, Kim Novak\n",
      "93 - M le maudit (1931) - Starring: Fritz Lang (dir.), Peter Lorre, Ellen Widmann\n",
      "94 - Dangal (2016) - Starring: Nitesh Tiwari (dir.), Aamir Khan, Sakshi Tanwar\n",
      "95 - 1917 (2019) - Starring: Sam Mendes (dir.), Dean-Charles Chapman, George MacKay\n",
      "96 - Eternal Sunshine of the Spotless Mind (2004) - Starring: Michel Gondry (dir.), Jim Carrey, Kate Winslet\n",
      "97 - La chasse (2012) - Starring: Thomas Vinterberg (dir.), Mads Mikkelsen, Thomas Bo Larsen\n",
      "98 - Citizen Kane (1941) - Starring: Orson Welles (dir.), Orson Welles, Joseph Cotten\n",
      "99 - Full Metal Jacket (1987) - Starring: Stanley Kubrick (dir.), Matthew Modine, R. Lee Ermey\n",
      "10 -  Voleur de bicyclette (1948) - Starring: Vittorio De Sica (dir.), Lamberto Maggiorani, Enzo Staiola\n",
      "101 - Le Kid (1921) - Starring: Charles Chaplin (dir.), Charles Chaplin, Edna Purviance\n",
      "102 - Orange mécanique (1971) - Starring: Stanley Kubrick (dir.), Malcolm McDowell, Patrick Magee\n",
      "103 - La mort aux trousses (1959) - Starring: Alfred Hitchcock (dir.), Cary Grant, Eva Marie Saint\n",
      "104 - Snatch - Tu braques ou tu raques (2000) - Starring: Guy Ritchie (dir.), Jason Statham, Brad Pitt\n",
      "105 - Chantons sous la pluie (1952) - Starring: Stanley Donen (dir.), Gene Kelly, Donald O'Connor\n",
      "106 - Scarface (1983) - Starring: Brian De Palma (dir.), Al Pacino, Michelle Pfeiffer\n",
      "107 - Taxi Driver (1976) - Starring: Martin Scorsese (dir.), Robert De Niro, Jodie Foster\n",
      "108 - Le fabuleux destin d'Amélie Poulain (2001) - Starring: Jean-Pierre Jeunet (dir.), Audrey Tautou, Mathieu Kassovitz\n",
      "109 - Lawrence d'Arabie (1962) - Starring: David Lean (dir.), Peter O'Toole, Alec Guinness\n",
      "110 - Vivre (1952) - Starring: Akira Kurosawa (dir.), Takashi Shimura, Nobuo Kaneko\n",
      "111 - Toy Story 3 (2010) - Starring: Lee Unkrich (dir.), Tom Hanks, Tim Allen\n",
      "112 - L'arnaque (1973) - Starring: George Roy Hill (dir.), Paul Newman, Robert Redford\n",
      "113 - Metropolis (1927) - Starring: Fritz Lang (dir.), Brigitte Helm, Alfred Abel\n",
      "114 - Une séparation (2011) - Starring: Asghar Farhadi (dir.), Payman Maadi, Leila Hatami\n",
      "115 - Et pour quelques dollars de plus (1965) - Starring: Sergio Leone (dir.), Clint Eastwood, Lee Van Cleef\n",
      "116 - Incendies (2010) - Starring: Denis Villeneuve (dir.), Lubna Azabal, Mélissa Désormeaux-Poulin\n",
      "117 - La garçonnière (1960) - Starring: Billy Wilder (dir.), Jack Lemmon, Shirley MacLaine\n",
      "118 - Assurance sur la mort (1944) - Starring: Billy Wilder (dir.), Fred MacMurray, Barbara Stanwyck\n",
      "119 - Du silence et des ombres (1962) - Starring: Robert Mulligan (dir.), Gregory Peck, John Megna\n",
      "120 - Requiem pour un massacre - Va et regarde (1985) - Starring: Elem Klimov (dir.), Aleksey Kravchenko, Olga Mironova\n",
      "121 - Indiana Jones et la dernière croisade (1989) - Starring: Steven Spielberg (dir.), Harrison Ford, Sean Connery\n",
      "122 - Là-haut (2009) - Starring: Pete Docter (dir.), Edward Asner, Jordan Nagai\n",
      "123 - LA Confidential (1997) - Starring: Curtis Hanson (dir.), Kevin Spacey, Russell Crowe\n",
      "124 - Heat (1995) - Starring: Michael Mann (dir.), Al Pacino, Robert De Niro\n",
      "125 - Monty Python, sacré Graal (1975) - Starring: Terry Gilliam (dir.), Graham Chapman, John Cleese\n",
      "126 - Piège de cristal (1988) - Starring: John McTiernan (dir.), Bruce Willis, Alan Rickman\n",
      "127 - Rashomon (1950) - Starring: Akira Kurosawa (dir.), Toshirô Mifune, Machiko Kyô\n",
      "128 - Le garde du corps (1961) - Starring: Akira Kurosawa (dir.), Toshirô Mifune, Eijirô Tôno\n",
      "129 - Anand (1971) - Starring: Hrishikesh Mukherjee (dir.), Rajesh Khanna, Amitabh Bachchan\n",
      "130 - Batman Begins (2005) - Starring: Christopher Nolan (dir.), Christian Bale, Michael Caine\n",
      "131 - Green Book: Sur les routes du sud (2018) - Starring: Peter Farrelly (dir.), Viggo Mortensen, Mahershala Ali\n",
      "132 - La chute (2004) - Starring: Oliver Hirschbiegel (dir.), Bruno Ganz, Alexandra Maria Lara\n",
      "133 - Les enfants du ciel (1997) - Starring: Majid Majidi (dir.), Mohammad Amir Naji, Amir Farrokh Hashemian\n",
      "134 - Impitoyable (1992) - Starring: Clint Eastwood (dir.), Clint Eastwood, Gene Hackman\n",
      "135 - Certains l'aiment chaud (1959) - Starring: Billy Wilder (dir.), Marilyn Monroe, Tony Curtis\n",
      "136 - Ran (1985) - Starring: Akira Kurosawa (dir.), Tatsuya Nakadai, Akira Terao\n",
      "137 - Le château ambulant (2004) - Starring: Hayao Miyazaki (dir.), Chieko Baishô, Takuya Kimura\n",
      "138 - Un homme d'exception (2001) - Starring: Ron Howard (dir.), Russell Crowe, Ed Harris\n",
      "139 - La grande évasion (1963) - Starring: John Sturges (dir.), Steve McQueen, James Garner\n",
      "140 - Ève (1950) - Starring: Joseph L. Mankiewicz (dir.), Bette Davis, Anne Baxter\n",
      "141 - Casino (1995) - Starring: Martin Scorsese (dir.), Robert De Niro, Sharon Stone\n",
      "142 - Le labyrinthe de Pan (2006) - Starring: Guillermo del Toro (dir.), Ivana Baquero, Ariadna Gil\n",
      "143 - Le loup de Wall Street (2013) - Starring: Martin Scorsese (dir.), Leonardo DiCaprio, Jonah Hill\n",
      "144 - Dans ses yeux (2009) - Starring: Juan José Campanella (dir.), Ricardo Darín, Soledad Villamil\n",
      "145 - Arnaques, crimes et botanique (1998) - Starring: Guy Ritchie (dir.), Jason Flemyng, Dexter Fletcher\n",
      "146 - Mon voisin Totoro (1988) - Starring: Hayao Miyazaki (dir.), Hitoshi Takagi, Noriko Hidaka\n",
      "147 - Raging Bull (1980) - Starring: Martin Scorsese (dir.), Robert De Niro, Cathy Moriarty\n",
      "148 - There Will Be Blood (2007) - Starring: Paul Thomas Anderson (dir.), Daniel Day-Lewis, Paul Dano\n",
      "149 - Jugement à Nuremberg (1961) - Starring: Stanley Kramer (dir.), Spencer Tracy, Burt Lancaster\n",
      "150 - Le trésor de la Sierra Madre (1948) - Starring: John Huston (dir.), Humphrey Bogart, Walter Huston\n",
      "151 - 3 Billboards: Les panneaux de la vengeance (2017) - Starring: Martin McDonagh (dir.), Frances McDormand, Woody Harrelson\n",
      "152 - Mon père et mon fils (2005) - Starring: Çagan Irmak (dir.), Çetin Tekindor, Fikret Kuskan\n",
      "153 - Le crime était presque parfait (1954) - Starring: Alfred Hitchcock (dir.), Ray Milland, Grace Kelly\n",
      "154 - La ruée vers l'or (1925) - Starring: Charles Chaplin (dir.), Charles Chaplin, Mack Swain\n",
      "155 - Chinatown (1974) - Starring: Roman Polanski (dir.), Jack Nicholson, Faye Dunaway\n",
      "156 - V pour vendetta (2005) - Starring: James McTeigue (dir.), Hugo Weaving, Natalie Portman\n",
      "157 - No Country for Old Men - Non, ce pays n'est pas pour le vieil homme (2007) - Starring: Ethan Coen (dir.), Tommy Lee Jones, Javier Bardem\n",
      "158 - Shutter Island (2010) - Starring: Martin Scorsese (dir.), Leonardo DiCaprio, Emily Mortimer\n",
      "159 - Le septième sceau (1957) - Starring: Ingmar Bergman (dir.), Max von Sydow, Gunnar Björnstrand\n",
      "160 - Vice-versa (2015) - Starring: Pete Docter (dir.), Amy Poehler, Bill Hader\n",
      "161 - Warrior (2011) - Starring: Gavin O'Connor (dir.), Tom Hardy, Nick Nolte\n",
      "162 - Elephant Man (1980) - Starring: David Lynch (dir.), Anthony Hopkins, John Hurt\n",
      "163 - Trainspotting (1996) - Starring: Danny Boyle (dir.), Ewan McGregor, Ewen Bremner\n",
      "164 - Sixième sens (1999) - Starring: M. Night Shyamalan (dir.), Bruce Willis, Haley Joel Osment\n",
      "165 - The Thing (1982) - Starring: John Carpenter (dir.), Kurt Russell, Wilford Brimley\n",
      "166 - Jurassic Park (1993) - Starring: Steven Spielberg (dir.), Sam Neill, Laura Dern\n",
      "167 - Autant en emporte le vent (1939) - Starring: Victor Fleming (dir.), Clark Gable, Vivien Leigh\n",
      "168 - Les fraises sauvages (1957) - Starring: Ingmar Bergman (dir.), Victor Sjöström, Bibi Andersson\n",
      "169 - Blade Runner (1982) - Starring: Ridley Scott (dir.), Harrison Ford, Rutger Hauer\n",
      "170 - Le monde de Nemo (2003) - Starring: Andrew Stanton (dir.), Albert Brooks, Ellen DeGeneres\n",
      "171 - The Truman Show (1998) - Starring: Peter Weir (dir.), Jim Carrey, Ed Harris\n",
      "172 - Room (2015) - Starring: Lenny Abrahamson (dir.), Brie Larson, Jacob Tremblay\n",
      "173 - Le pont de la rivière Kwaï (1957) - Starring: David Lean (dir.), William Holden, Alec Guinness\n",
      "174 - Stalker (1979) - Starring: Andrei Tarkovsky (dir.), Alisa Freyndlikh, Aleksandr Kaydanovskiy\n",
      "175 - Kill Bill: Volume I (2003) - Starring: Quentin Tarantino (dir.), Uma Thurman, David Carradine\n",
      "176 - Fargo (1996) - Starring: Joel Coen (dir.), William H. Macy, Frances McDormand\n",
      "177 - Voyage à Tokyo (1953) - Starring: Yasujirô Ozu (dir.), Chishû Ryû, Chieko Higashiyama\n",
      "178 - Le troisième homme (1949) - Starring: Carol Reed (dir.), Orson Welles, Joseph Cotten\n",
      "179 - Sur les quais (1954) - Starring: Elia Kazan (dir.), Marlon Brando, Karl Malden\n",
      "180 - Gran Torino (2008) - Starring: Clint Eastwood (dir.), Clint Eastwood, Bee Vang\n",
      "181 - Memories of Murder (2003) - Starring: Bong Joon Ho (dir.), Kang-ho Song, Sang-kyung Kim\n",
      "182 - Voyage au bout de l'enfer (1978) - Starring: Michael Cimino (dir.), Robert De Niro, Christopher Walken\n",
      "183 - Les nouveaux sauvages (2014) - Starring: Damián Szifron (dir.), Darío Grandinetti, María Marull\n",
      "184 - La légende de Klaus (2019) - Starring: Sergio Pablos (dir.), Jason Schwartzman, J.K. Simmons\n",
      "185 - Andhadhun (2018) - Starring: Sriram Raghavan (dir.), Ayushmann Khurrana, Tabu\n",
      "186 - Au nom du père (1993) - Starring: Jim Sheridan (dir.), Daniel Day-Lewis, Pete Postlethwaite\n",
      "187 - Mary et Max (2009) - Starring: Adam Elliot (dir.), Toni Collette, Philip Seymour Hoffman\n",
      "188 - Gone Girl (2014) - Starring: David Fincher (dir.), Ben Affleck, Rosamund Pike\n",
      "189 - Tu ne tueras point (2016) - Starring: Mel Gibson (dir.), Andrew Garfield, Sam Worthington\n",
      "190 - The Big Lebowski (1998) - Starring: Joel Coen (dir.), Jeff Bridges, John Goodman\n",
      "191 - The Grand Budapest hotel (2014) - Starring: Wes Anderson (dir.), Ralph Fiennes, F. Murray Abraham\n",
      "192 - Before Sunrise (1995) - Starring: Richard Linklater (dir.), Ethan Hawke, Julie Delpy\n",
      "193 - Eskiya le bandit (1996) - Starring: Yavuz Turgul (dir.), Sener Sen, Ugur Yücel\n",
      "194 - Arrête-moi si tu peux (2002) - Starring: Steven Spielberg (dir.), Leonardo DiCaprio, Tom Hanks\n",
      "195 - Persona (1966) - Starring: Ingmar Bergman (dir.), Bibi Andersson, Liv Ullmann\n",
      "196 - Jeux dangereux (1942) - Starring: Ernst Lubitsch (dir.), Carole Lombard, Jack Benny\n",
      "197 - Le Mans 66 (2019) - Starring: James Mangold (dir.), Matt Damon, Christian Bale\n",
      "198 - Le mécano de la Générale (1926) - Starring: Clyde Bruckman (dir.), Buster Keaton, Marion Mack\n",
      "199 - Prisoners (2013) - Starring: Denis Villeneuve (dir.), Hugh Jackman, Jake Gyllenhaal\n",
      "200 - Dragons (2010) - Starring: Dean DeBlois (dir.), Jay Baruchel, Gerard Butler\n",
      "201 - Sherlock Junior (1924) - Starring: Buster Keaton (dir.), Buster Keaton, Kathryn McGuire\n",
      "202 - Mr Smith au sénat (1939) - Starring: Frank Capra (dir.), James Stewart, Jean Arthur\n",
      "203 - 12 Years a Slave (2013) - Starring: Steve McQueen (dir.), Chiwetel Ejiofor, Michael Kenneth Williams\n",
      "204 - Barry Lyndon (1975) - Starring: Stanley Kubrick (dir.), Ryan O'Neal, Marisa Berenson\n",
      "205 - Mad Max: Fury Road (2015) - Starring: George Miller (dir.), Tom Hardy, Charlize Theron\n",
      "206 - Network - Main basse sur la TV (1976) - Starring: Sidney Lumet (dir.), Faye Dunaway, William Holden\n",
      "207 - Stand by me - Compte sur moi (1986) - Starring: Rob Reiner (dir.), Wil Wheaton, River Phoenix\n",
      "208 - Million Dollar Baby (2004) - Starring: Clint Eastwood (dir.), Hilary Swank, Clint Eastwood\n",
      "209 - Luke la main froide (1967) - Starring: Stuart Rosenberg (dir.), Paul Newman, George Kennedy\n",
      "210 - Into the Wild (2007) - Starring: Sean Penn (dir.), Emile Hirsch, Vince Vaughn\n",
      "211 - Hatchi (2009) - Starring: Lasse Hallström (dir.), Richard Gere, Joan Allen\n",
      "212 - Ben-Hur (1959) - Starring: William Wyler (dir.), Charlton Heston, Jack Hawkins\n",
      "213 - Le cercle des poètes disparus (1989) - Starring: Peter Weir (dir.), Robin Williams, Robert Sean Leonard\n",
      "214 - Le salaire de la peur (1953) - Starring: Henri-Georges Clouzot (dir.), Yves Montand, Charles Vanel\n",
      "215 - Platoon (1986) - Starring: Oliver Stone (dir.), Charlie Sheen, Tom Berenger\n",
      "216 - Harry Potter et les reliques de la mort: Partie 2 (2011) - Starring: David Yates (dir.), Daniel Radcliffe, Emma Watson\n",
      "217 - Monty Python: La Vie de Brian (1979) - Starring: Terry Jones (dir.), Graham Chapman, John Cleese\n",
      "218 - Logan (2017) - Starring: James Mangold (dir.), Hugh Jackman, Patrick Stewart\n",
      "219 - Rush (2013) - Starring: Ron Howard (dir.), Daniel Brühl, Chris Hemsworth\n",
      "220 - Du rififi chez les hommes (1955) - Starring: Jules Dassin (dir.), Jean Servais, Carl Möhner\n",
      "221 - Mademoiselle (2016) - Starring: Chan-wook Park (dir.), Min-hee Kim, Jung-woo Ha\n",
      "222 - La passion de Jeanne d'Arc (1928) - Starring: Carl Theodor Dreyer (dir.), Maria Falconetti, Eugene Silvain\n",
      "223 - Les quatre cents coups (1959) - Starring: François Truffaut (dir.), Jean-Pierre Léaud, Albert Rémy\n",
      "224 - Andreï Roublev (1966) - Starring: Andrei Tarkovsky (dir.), Anatoliy Solonitsyn, Ivan Lapikov\n",
      "225 - Hôtel Rwanda (2004) - Starring: Terry George (dir.), Don Cheadle, Sophie Okonedo\n",
      "226 - Spotlight (2015) - Starring: Tom McCarthy (dir.), Mark Ruffalo, Michael Keaton\n",
      "227 - Amours chiennes (2000) - Starring: Alejandro G. Iñárritu (dir.), Emilio Echevarría, Gael García Bernal\n",
      "228 - Nausicaä de la vallée du vent (1984) - Starring: Hayao Miyazaki (dir.), Sumi Shimamoto, Mahito Tsujimura\n",
      "229 - Rang De Basanti (2006) - Starring: Rakeysh Omprakash Mehra (dir.), Aamir Khan, Soha Ali Khan\n",
      "230 - Rocky (1976) - Starring: John G. Avildsen (dir.), Sylvester Stallone, Talia Shire\n",
      "231 - La haine (1995) - Starring: Mathieu Kassovitz (dir.), Vincent Cassel, Hubert Koundé\n",
      "232 - Gangs of Wasseypur (2012) - Starring: Anurag Kashyap (dir.), Manoj Bajpayee, Richa Chadha\n",
      "233 - Monstres & Cie (2001) - Starring: Pete Docter (dir.), Billy Crystal, John Goodman\n",
      "234 - Rebecca (1940) - Starring: Alfred Hitchcock (dir.), Laurence Olivier, Joan Fontaine\n",
      "235 - Portrait de la jeune fille en feu (2019) - Starring: Céline Sciamma (dir.), Noémie Merlant, Adèle Haenel\n",
      "236 - Before Sunset (2004) - Starring: Richard Linklater (dir.), Ethan Hawke, Julie Delpy\n",
      "237 - New York - Miami (1934) - Starring: Frank Capra (dir.), Clark Gable, Claudette Colbert\n",
      "238 - Le cirque (1928) - Starring: Charles Chaplin (dir.), Charles Chaplin, Merna Kennedy\n",
      "239 - In the Mood for Love (2000) - Starring: Kar-Wai Wong (dir.), Tony Chiu-Wai Leung, Maggie Cheung\n",
      "240 - Paris, Texas (1984) - Starring: Wim Wenders (dir.), Harry Dean Stanton, Nastassja Kinski\n",
      "241 - Drishyam (2015) - Starring: Nishikant Kamat (dir.), Ajay Devgn, Shriya Saran\n",
      "242 - L'accusé (2016) - Starring: Oriol Paulo (dir.), Mario Casas, Ana Wagener\n",
      "243 - La couleur des sentiments (2011) - Starring: Tate Taylor (dir.), Emma Stone, Viola Davis\n",
      "244 - Princess Bride (1987) - Starring: Rob Reiner (dir.), Cary Elwes, Mandy Patinkin\n",
      "245 - La bataille d'Alger (1966) - Starring: Gillo Pontecorvo (dir.), Brahim Hadjadj, Jean Martin\n",
      "246 - Terminator (1984) - Starring: James Cameron (dir.), Arnold Schwarzenegger, Linda Hamilton\n",
      "247 - Le château de l'araignée (1957) - Starring: Akira Kurosawa (dir.), Toshirô Mifune, Minoru Chiaki\n",
      "248 - Swades: Nous, le peuple (2004) - Starring: Ashutosh Gowariker (dir.), Shah Rukh Khan, Gayatri Joshi\n",
      "249 - Trois couleurs: Rouge (1994) - Starring: Krzysztof Kieslowski (dir.), Irène Jacob, Jean-Louis Trintignant\n",
      "250 - Silent Voice (2016) - Starring: Naoko Yamada (dir.), Miyu Irino, Saori Hayami\n"
     ]
    }
   ],
   "source": []
  }
 ],
 "metadata": {
  "kernelspec": {
   "display_name": "Python 3",
   "language": "python",
   "name": "python3"
  },
  "language_info": {
   "codemirror_mode": {
    "name": "ipython",
    "version": 3
   },
   "file_extension": ".py",
   "mimetype": "text/x-python",
   "name": "python",
   "nbconvert_exporter": "python",
   "pygments_lexer": "ipython3",
   "version": "3.8.6"
  }
 },
 "nbformat": 4,
 "nbformat_minor": 4
}
