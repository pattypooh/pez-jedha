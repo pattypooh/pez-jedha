{
 "cells": [
  {
   "cell_type": "code",
   "execution_count": 1,
   "metadata": {},
   "outputs": [],
   "source": [
    "import os \n",
    "import logging\n",
    "# Import scrapy and scrapy.crawler \n",
    "import scrapy\n",
    "from scrapy.crawler import CrawlerProcess\n"
   ]
  },
  {
   "cell_type": "code",
   "execution_count": 2,
   "metadata": {},
   "outputs": [],
   "source": [
    "class YelpCrawler (scrapy.Spider):\n",
    "    name = \"yelp-spy\"\n",
    "    start_urls = ['https://www.yelp.fr/']\n",
    "    \n",
    "    def parse(self, response):\n",
    "        key_desc = \"reastaurant japonais\"\n",
    "        key_loc = \"Paris\"\n",
    "        return scrapy.FormRequest.from_response(response, formdata={'find_desc':key_desc, 'find_loc':key_loc},\n",
    "                                               callback=self.after_search)\n",
    "        #pass\n",
    "    \n",
    "    def after_search(self ,response):\n",
    "        #.css-1661a90\n",
    "        rest_list = response.css('h4.css-1l5lt1i')\n",
    "        for tag in rest_list:\n",
    "            #print(tag)\n",
    "            yield{\n",
    "                'name':tag.css('span a::text').get(),\n",
    "                #'url': tag.css('span a::attr(href)').getall() # PEZ: It creates a list with one element\n",
    "                #'url': tag.css('span a::attr(href)').extract_first(),# PEZ: This works fine also!\n",
    "                'url': tag.css('span a').attrib['href'], #PEZ: This works fine!\n",
    "                'next-link': response.css('a.next-link').attrib['href']\n",
    "            }\n",
    "            try:\n",
    "                # Identify what the next page is. type(next_page) is str\n",
    "                next_page = response.css('a.next-link').attrib['href']\n",
    "            except KeyError:\n",
    "                logging.info('There is no next page. The crawling process will terminate')\n",
    "            else:\n",
    "                # if the next page is found\n",
    "                yield response.follow(next_page, callback = self.after_search)"
   ]
  },
  {
   "cell_type": "code",
   "execution_count": 3,
   "metadata": {},
   "outputs": [],
   "source": [
    "def remove_file(filename):\n",
    "    if filename in os.listdir(\"data/\"):\n",
    "        os.remove(\"data/\" + filename)"
   ]
  },
  {
   "cell_type": "code",
   "execution_count": 4,
   "metadata": {},
   "outputs": [
    {
     "name": "stderr",
     "output_type": "stream",
     "text": [
      "2021-07-04 15:01:35 [scrapy.utils.log] INFO: Scrapy 2.5.0 started (bot: scrapybot)\n",
      "2021-07-04 15:01:35 [scrapy.utils.log] INFO: Versions: lxml 4.6.3.0, libxml2 2.9.10, cssselect 1.1.0, parsel 1.6.0, w3lib 1.22.0, Twisted 21.2.0, Python 3.8.6 | packaged by conda-forge | (default, Oct  7 2020, 19:08:05) - [GCC 7.5.0], pyOpenSSL 19.1.0 (OpenSSL 1.1.1h  22 Sep 2020), cryptography 3.1.1, Platform Linux-5.4.89+-x86_64-with-glibc2.10\n"
     ]
    }
   ],
   "source": [
    "filename = \"restaurant_japonais-paris.json\"\n",
    "remove_file(filename)\n",
    "process = CrawlerProcess(settings={\n",
    "    'USER_AGENT': 'Mozilla/4.0 (compatible; MSIE 7.0; Windows NT 5.1)',\n",
    "    'LOG_LEVEL': logging.INFO,\n",
    "    \"FEEDS\": {\n",
    "        'data/' + filename : {\"format\": \"json\"},\n",
    "    },\n",
    "    \"AUTOTHROTTLE_ENABLED\": True  # AutoThrottle Here!\n",
    "})\n"
   ]
  },
  {
   "cell_type": "code",
   "execution_count": 5,
   "metadata": {},
   "outputs": [
    {
     "name": "stderr",
     "output_type": "stream",
     "text": [
      "2021-07-04 15:01:35 [scrapy.crawler] INFO: Overridden settings:\n",
      "{'LOG_LEVEL': 20,\n",
      " 'USER_AGENT': 'Mozilla/4.0 (compatible; MSIE 7.0; Windows NT 5.1)'}\n",
      "2021-07-04 15:01:35 [scrapy.extensions.telnet] INFO: Telnet Password: f32edee4ed188d5c\n",
      "2021-07-04 15:01:35 [scrapy.middleware] INFO: Enabled extensions:\n",
      "['scrapy.extensions.corestats.CoreStats',\n",
      " 'scrapy.extensions.telnet.TelnetConsole',\n",
      " 'scrapy.extensions.memusage.MemoryUsage',\n",
      " 'scrapy.extensions.feedexport.FeedExporter',\n",
      " 'scrapy.extensions.logstats.LogStats']\n",
      "2021-07-04 15:01:35 [scrapy.middleware] INFO: Enabled downloader middlewares:\n",
      "['scrapy.downloadermiddlewares.httpauth.HttpAuthMiddleware',\n",
      " 'scrapy.downloadermiddlewares.downloadtimeout.DownloadTimeoutMiddleware',\n",
      " 'scrapy.downloadermiddlewares.defaultheaders.DefaultHeadersMiddleware',\n",
      " 'scrapy.downloadermiddlewares.useragent.UserAgentMiddleware',\n",
      " 'scrapy.downloadermiddlewares.retry.RetryMiddleware',\n",
      " 'scrapy.downloadermiddlewares.redirect.MetaRefreshMiddleware',\n",
      " 'scrapy.downloadermiddlewares.httpcompression.HttpCompressionMiddleware',\n",
      " 'scrapy.downloadermiddlewares.redirect.RedirectMiddleware',\n",
      " 'scrapy.downloadermiddlewares.cookies.CookiesMiddleware',\n",
      " 'scrapy.downloadermiddlewares.httpproxy.HttpProxyMiddleware',\n",
      " 'scrapy.downloadermiddlewares.stats.DownloaderStats']\n",
      "2021-07-04 15:01:35 [scrapy.middleware] INFO: Enabled spider middlewares:\n",
      "['scrapy.spidermiddlewares.httperror.HttpErrorMiddleware',\n",
      " 'scrapy.spidermiddlewares.offsite.OffsiteMiddleware',\n",
      " 'scrapy.spidermiddlewares.referer.RefererMiddleware',\n",
      " 'scrapy.spidermiddlewares.urllength.UrlLengthMiddleware',\n",
      " 'scrapy.spidermiddlewares.depth.DepthMiddleware']\n",
      "2021-07-04 15:01:35 [scrapy.middleware] INFO: Enabled item pipelines:\n",
      "[]\n",
      "2021-07-04 15:01:35 [scrapy.core.engine] INFO: Spider opened\n",
      "2021-07-04 15:01:35 [scrapy.extensions.logstats] INFO: Crawled 0 pages (at 0 pages/min), scraped 0 items (at 0 items/min)\n",
      "2021-07-04 15:01:35 [scrapy.extensions.telnet] INFO: Telnet console listening on 127.0.0.1:6023\n",
      "2021-07-04 15:02:35 [scrapy.extensions.logstats] INFO: Crawled 24 pages (at 24 pages/min), scraped 230 items (at 230 items/min)\n",
      "2021-07-04 15:02:36 [scrapy.core.scraper] ERROR: Spider error processing <GET https://www.yelp.fr/search?find_desc=reastaurant%20japonais&find_loc=Paris&start=230> (referer: https://www.yelp.fr/search?find_desc=reastaurant%20japonais&find_loc=Paris&start=220)\n",
      "Traceback (most recent call last):\n",
      "  File \"/opt/conda/lib/python3.8/site-packages/scrapy/utils/defer.py\", line 120, in iter_errback\n",
      "    yield next(it)\n",
      "  File \"/opt/conda/lib/python3.8/site-packages/scrapy/utils/python.py\", line 353, in __next__\n",
      "    return next(self.data)\n",
      "  File \"/opt/conda/lib/python3.8/site-packages/scrapy/utils/python.py\", line 353, in __next__\n",
      "    return next(self.data)\n",
      "  File \"/opt/conda/lib/python3.8/site-packages/scrapy/core/spidermw.py\", line 56, in _evaluate_iterable\n",
      "    for r in iterable:\n",
      "  File \"/opt/conda/lib/python3.8/site-packages/scrapy/spidermiddlewares/offsite.py\", line 29, in process_spider_output\n",
      "    for x in result:\n",
      "  File \"/opt/conda/lib/python3.8/site-packages/scrapy/core/spidermw.py\", line 56, in _evaluate_iterable\n",
      "    for r in iterable:\n",
      "  File \"/opt/conda/lib/python3.8/site-packages/scrapy/spidermiddlewares/referer.py\", line 342, in <genexpr>\n",
      "    return (_set_referer(r) for r in result or ())\n",
      "  File \"/opt/conda/lib/python3.8/site-packages/scrapy/core/spidermw.py\", line 56, in _evaluate_iterable\n",
      "    for r in iterable:\n",
      "  File \"/opt/conda/lib/python3.8/site-packages/scrapy/spidermiddlewares/urllength.py\", line 40, in <genexpr>\n",
      "    return (r for r in result or () if _filter(r))\n",
      "  File \"/opt/conda/lib/python3.8/site-packages/scrapy/core/spidermw.py\", line 56, in _evaluate_iterable\n",
      "    for r in iterable:\n",
      "  File \"/opt/conda/lib/python3.8/site-packages/scrapy/spidermiddlewares/depth.py\", line 58, in <genexpr>\n",
      "    return (r for r in result or () if _filter(r))\n",
      "  File \"/opt/conda/lib/python3.8/site-packages/scrapy/core/spidermw.py\", line 56, in _evaluate_iterable\n",
      "    for r in iterable:\n",
      "  File \"<ipython-input-2-c621409a8519>\", line 22, in after_search\n",
      "    'next-link': response.css('a.next-link').attrib['href']\n",
      "KeyError: 'href'\n",
      "2021-07-04 15:02:36 [scrapy.core.engine] INFO: Closing spider (finished)\n",
      "2021-07-04 15:02:36 [scrapy.extensions.feedexport] INFO: Stored json feed (230 items) in: data/restaurant_japonais-paris.json\n",
      "2021-07-04 15:02:36 [scrapy.statscollectors] INFO: Dumping Scrapy stats:\n",
      "{'downloader/request_bytes': 12541,\n",
      " 'downloader/request_count': 26,\n",
      " 'downloader/request_method_count/GET': 26,\n",
      " 'downloader/response_bytes': 1275887,\n",
      " 'downloader/response_count': 26,\n",
      " 'downloader/response_status_count/200': 25,\n",
      " 'downloader/response_status_count/302': 1,\n",
      " 'dupefilter/filtered': 207,\n",
      " 'elapsed_time_seconds': 60.79666,\n",
      " 'feedexport/success_count/FileFeedStorage': 1,\n",
      " 'finish_reason': 'finished',\n",
      " 'finish_time': datetime.datetime(2021, 7, 4, 15, 2, 36, 519020),\n",
      " 'httpcompression/response_bytes': 7466062,\n",
      " 'httpcompression/response_count': 25,\n",
      " 'item_scraped_count': 230,\n",
      " 'log_count/ERROR': 1,\n",
      " 'log_count/INFO': 12,\n",
      " 'memusage/max': 108367872,\n",
      " 'memusage/startup': 78024704,\n",
      " 'request_depth_max': 24,\n",
      " 'response_received_count': 25,\n",
      " 'scheduler/dequeued': 26,\n",
      " 'scheduler/dequeued/memory': 26,\n",
      " 'scheduler/enqueued': 26,\n",
      " 'scheduler/enqueued/memory': 26,\n",
      " 'spider_exceptions/KeyError': 1,\n",
      " 'start_time': datetime.datetime(2021, 7, 4, 15, 1, 35, 722360)}\n",
      "2021-07-04 15:02:36 [scrapy.core.engine] INFO: Spider closed (finished)\n"
     ]
    }
   ],
   "source": [
    "process.crawl(YelpCrawler)\n",
    "process.start()"
   ]
  },
  {
   "cell_type": "code",
   "execution_count": null,
   "metadata": {},
   "outputs": [],
   "source": []
  }
 ],
 "metadata": {
  "kernelspec": {
   "display_name": "Python 3",
   "language": "python",
   "name": "python3"
  },
  "language_info": {
   "codemirror_mode": {
    "name": "ipython",
    "version": 3
   },
   "file_extension": ".py",
   "mimetype": "text/x-python",
   "name": "python",
   "nbconvert_exporter": "python",
   "pygments_lexer": "ipython3",
   "version": "3.8.6"
  }
 },
 "nbformat": 4,
 "nbformat_minor": 4
}
