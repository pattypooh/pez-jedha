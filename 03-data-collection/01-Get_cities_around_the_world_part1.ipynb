{
 "cells": [
  {
   "cell_type": "markdown",
   "metadata": {
    "colab_type": "text",
    "id": "hxVLQcfegi2z"
   },
   "source": [
    "# Get Cities of The World Quality of Life Data\n",
    "\n",
    "In this exercise, we will try to get scoring information about the quality of life for several cities around the world. 🌍\n",
    "\n",
    "For this exercise, we will be using the following API:\n",
    "\n",
    "- <a href=\"https://developers.teleport.org/api/getting_started/\" target=\"_blank\">Teleport</a>\n",
    "\n",
    "We will also need to use a website called RandomList.com that will give us a random cities around the world to get a scoring. \n",
    "\n",
    "Then we will store the data we got into an S3 Bucket! \n",
    "\n",
    "Quite a project, right? 🥵\n",
    "\n",
    "🥰🥰 You'll learn a lot during this exercise 🥰🥰 \n",
    "\n",
    "So let's go 💪💪💪"
   ]
  },
  {
   "cell_type": "markdown",
   "metadata": {
    "colab_type": "text",
    "id": "aj9WjfGxICJI"
   },
   "source": [
    "## Part 1: Get data for 1 City \n",
    "\n",
    "To simplify this exercise, let's start by trying to scrape data for only 1 city: Paris. In another part, we'll try to get scores for 100 different cities.\n",
    "\n",
    "- Import the library called `requests`:"
   ]
  },
  {
   "cell_type": "code",
   "execution_count": 1,
   "metadata": {
    "colab": {},
    "colab_type": "code",
    "id": "UJOVO8rAduG5"
   },
   "outputs": [],
   "source": [
    "import requests"
   ]
  },
  {
   "cell_type": "markdown",
   "metadata": {
    "colab_type": "text",
    "id": "q6vYEoJfIghv"
   },
   "source": [
    "* Check teleport's API, to find a way to search information on Paris. Especially, we would need its `geonameid`\n",
    "\n",
    "  * Here is the link for the documentation 👉👉👉 [Teleport API](https://developers.teleport.org/api/getting_started/)"
   ]
  },
  {
   "cell_type": "code",
   "execution_count": 2,
   "metadata": {
    "colab": {
     "base_uri": "https://localhost:8080/",
     "height": 34
    },
    "colab_type": "code",
    "executionInfo": {
     "elapsed": 514,
     "status": "ok",
     "timestamp": 1576164583531,
     "user": {
      "displayName": "Antoine Krajnc",
      "photoUrl": "https://lh3.googleusercontent.com/a-/AAuE7mC4XzNDVGvURzl4T5duDbMr6bUdhkYkDul_37G0OA=s64",
      "userId": "08465960390418158788"
     },
     "user_tz": -60
    },
    "id": "yJUETL9Fhdzf",
    "outputId": "6252424b-7cec-4931-8a14-c7a42e2b24c5"
   },
   "outputs": [],
   "source": [
    "url = \"https://api.teleport.org/api/cities\"\n",
    "city = \"Paris\"\n",
    "params = {'search': 'Paris'}\n",
    "result = requests.get(url, params=params, allow_redirects=False)\n"
   ]
  },
  {
   "cell_type": "code",
   "execution_count": 3,
   "metadata": {},
   "outputs": [
    {
     "data": {
      "text/plain": [
       "b'<a href=\"/api/cities/?search=Paris\">Moved Permanently</a>.\\n\\n'"
      ]
     },
     "execution_count": 3,
     "metadata": {},
     "output_type": "execute_result"
    }
   ],
   "source": [
    "result.content"
   ]
  },
  {
   "cell_type": "markdown",
   "metadata": {
    "colab_type": "text",
    "id": "cSDu5yUfJJRq"
   },
   "source": [
    "ℹ️ℹ️You should get the following result ℹ️ℹ️"
   ]
  },
  {
   "cell_type": "code",
   "execution_count": 3,
   "metadata": {
    "colab": {
     "base_uri": "https://localhost:8080/",
     "height": 1000
    },
    "colab_type": "code",
    "executionInfo": {
     "elapsed": 470,
     "status": "ok",
     "timestamp": 1576164789281,
     "user": {
      "displayName": "Antoine Krajnc",
      "photoUrl": "https://lh3.googleusercontent.com/a-/AAuE7mC4XzNDVGvURzl4T5duDbMr6bUdhkYkDul_37G0OA=s64",
      "userId": "08465960390418158788"
     },
     "user_tz": -60
    },
    "id": "LCckwB39lvPE",
    "outputId": "919402c2-9fdb-49fb-a811-39366a7d0283"
   },
   "outputs": [
    {
     "data": {
      "text/plain": [
       "{'_embedded': {'city:search-results': [{'_links': {'city:item': {'href': 'https://api.teleport.org/api/cities/geonameid:2988507/'}},\n",
       "    'matching_alternate_names': [{'name': 'Paris'},\n",
       "     {'name': 'paris'},\n",
       "     {'name': 'Parisi'}],\n",
       "    'matching_full_name': 'Paris, Île-de-France, France'},\n",
       "   {'_links': {'city:item': {'href': 'https://api.teleport.org/api/cities/geonameid:4717560/'}},\n",
       "    'matching_alternate_names': [{'name': 'Paris'}],\n",
       "    'matching_full_name': 'Paris, Texas, United States'},\n",
       "   {'_links': {'city:item': {'href': 'https://api.teleport.org/api/cities/geonameid:3489854/'}},\n",
       "    'matching_alternate_names': [],\n",
       "    'matching_full_name': 'Kingston, Kingston, Jamaica'},\n",
       "   {'_links': {'city:item': {'href': 'https://api.teleport.org/api/cities/geonameid:966166/'}},\n",
       "    'matching_alternate_names': [{'name': 'Paris'}],\n",
       "    'matching_full_name': 'Parys, Orange Free State, South Africa (Paris)'},\n",
       "   {'_links': {'city:item': {'href': 'https://api.teleport.org/api/cities/geonameid:3489297/'}},\n",
       "    'matching_alternate_names': [],\n",
       "    'matching_full_name': 'New Kingston, St. Andrew, Jamaica'},\n",
       "   {'_links': {'city:item': {'href': 'https://api.teleport.org/api/cities/geonameid:6942553/'}},\n",
       "    'matching_alternate_names': [{'name': 'Paris'}],\n",
       "    'matching_full_name': 'Paris, Ontario, Canada'},\n",
       "   {'_links': {'city:item': {'href': 'https://api.teleport.org/api/cities/geonameid:4647963/'}},\n",
       "    'matching_alternate_names': [{'name': 'Paris'}],\n",
       "    'matching_full_name': 'Paris, Tennessee, United States'},\n",
       "   {'_links': {'city:item': {'href': 'https://api.teleport.org/api/cities/geonameid:4303602/'}},\n",
       "    'matching_alternate_names': [{'name': 'Paris'}],\n",
       "    'matching_full_name': 'Paris, Kentucky, United States'},\n",
       "   {'_links': {'city:item': {'href': 'https://api.teleport.org/api/cities/geonameid:4246659/'}},\n",
       "    'matching_alternate_names': [{'name': 'Paris'}],\n",
       "    'matching_full_name': 'Paris, Illinois, United States'},\n",
       "   {'_links': {'city:item': {'href': 'https://api.teleport.org/api/cities/geonameid:4974617/'}},\n",
       "    'matching_alternate_names': [{'name': 'Paris'},\n",
       "     {'name': 'Paris Hill'},\n",
       "     {'name': 'parisu'}],\n",
       "    'matching_full_name': 'Paris, Maine, United States'},\n",
       "   {'_links': {'city:item': {'href': 'https://api.teleport.org/api/cities/geonameid:8504417/'}},\n",
       "    'matching_alternate_names': [{'name': 'Paris La Defense'}],\n",
       "    'matching_full_name': 'La Defense, Île-de-France, France (Paris La Defense)'},\n",
       "   {'_links': {'city:item': {'href': 'https://api.teleport.org/api/cities/geonameid:1694660/'}},\n",
       "    'matching_alternate_names': [{'name': 'Parista'}],\n",
       "    'matching_full_name': 'Parista, Central Luzon, Philippines'},\n",
       "   {'_links': {'city:item': {'href': 'https://api.teleport.org/api/cities/geonameid:4125402/'}},\n",
       "    'matching_alternate_names': [{'name': 'Paris'}],\n",
       "    'matching_full_name': 'Paris, Arkansas, United States'},\n",
       "   {'_links': {'city:item': {'href': 'https://api.teleport.org/api/cities/geonameid:3488465/'}},\n",
       "    'matching_alternate_names': [],\n",
       "    'matching_full_name': 'Spanish Town, Saint Catherine, Jamaica'},\n",
       "   {'_links': {'city:item': {'href': 'https://api.teleport.org/api/cities/geonameid:3488981/'}},\n",
       "    'matching_alternate_names': [],\n",
       "    'matching_full_name': 'Portmore, Saint Catherine, Jamaica'},\n",
       "   {'_links': {'city:item': {'href': 'https://api.teleport.org/api/cities/geonameid:3489460/'}},\n",
       "    'matching_alternate_names': [],\n",
       "    'matching_full_name': 'Montego Bay, St. James, Jamaica'},\n",
       "   {'_links': {'city:item': {'href': 'https://api.teleport.org/api/cities/geonameid:4225346/'}},\n",
       "    'matching_alternate_names': [{'name': 'Paris'}],\n",
       "    'matching_full_name': 'Swainsboro, Georgia, United States (Paris)'},\n",
       "   {'_links': {'city:item': {'href': 'https://api.teleport.org/api/cities/geonameid:4432542/'}},\n",
       "    'matching_alternate_names': [{'name': 'Paris'}],\n",
       "    'matching_full_name': 'Kosciusko, Mississippi, United States (Paris)'},\n",
       "   {'_links': {'city:item': {'href': 'https://api.teleport.org/api/cities/geonameid:6098747/'}},\n",
       "    'matching_alternate_names': [{'name': 'parisaundo'}],\n",
       "    'matching_full_name': 'Parry Sound, Ontario, Canada (parisaundo)'},\n",
       "   {'_links': {'city:item': {'href': 'https://api.teleport.org/api/cities/geonameid:4402452/'}},\n",
       "    'matching_alternate_names': [{'name': 'Paris'}],\n",
       "    'matching_full_name': 'Paris, Missouri, United States'},\n",
       "   {'_links': {'city:item': {'href': 'https://api.teleport.org/api/cities/geonameid:2999139/'}},\n",
       "    'matching_alternate_names': [{'name': 'Paris-Plage'}],\n",
       "    'matching_full_name': 'Le Touquet-Paris-Plage, Hauts-de-France, France (Paris-Plage)'},\n",
       "   {'_links': {'city:item': {'href': 'https://api.teleport.org/api/cities/geonameid:3489577/'}},\n",
       "    'matching_alternate_names': [],\n",
       "    'matching_full_name': 'Mandeville, Manchester, Jamaica'},\n",
       "   {'_links': {'city:item': {'href': 'https://api.teleport.org/api/cities/geonameid:3489523/'}},\n",
       "    'matching_alternate_names': [],\n",
       "    'matching_full_name': 'May Pen, Clarendon, Jamaica'},\n",
       "   {'_links': {'city:item': {'href': 'https://api.teleport.org/api/cities/geonameid:3489227/'}},\n",
       "    'matching_alternate_names': [],\n",
       "    'matching_full_name': 'Old Harbour, Saint Catherine, Jamaica'},\n",
       "   {'_links': {'city:item': {'href': 'https://api.teleport.org/api/cities/geonameid:5603240/'}},\n",
       "    'matching_alternate_names': [{'name': 'Paris'}],\n",
       "    'matching_full_name': 'Paris, Idaho, United States'}]},\n",
       " '_links': {'curies': [{'href': 'https://developers.teleport.org/api/resources/Location/#!/relations/{rel}/',\n",
       "    'name': 'location',\n",
       "    'templated': True},\n",
       "   {'href': 'https://developers.teleport.org/api/resources/City/#!/relations/{rel}/',\n",
       "    'name': 'city',\n",
       "    'templated': True},\n",
       "   {'href': 'https://developers.teleport.org/api/resources/UrbanArea/#!/relations/{rel}/',\n",
       "    'name': 'ua',\n",
       "    'templated': True},\n",
       "   {'href': 'https://developers.teleport.org/api/resources/Country/#!/relations/{rel}/',\n",
       "    'name': 'country',\n",
       "    'templated': True},\n",
       "   {'href': 'https://developers.teleport.org/api/resources/Admin1Division/#!/relations/{rel}/',\n",
       "    'name': 'a1',\n",
       "    'templated': True},\n",
       "   {'href': 'https://developers.teleport.org/api/resources/Timezone/#!/relations/{rel}/',\n",
       "    'name': 'tz',\n",
       "    'templated': True}],\n",
       "  'self': {'href': 'https://api.teleport.org/api/cities/?search=Paris&geohash='}},\n",
       " 'count': 25}"
      ]
     },
     "execution_count": 3,
     "metadata": {},
     "output_type": "execute_result"
    }
   ],
   "source": []
  },
  {
   "cell_type": "markdown",
   "metadata": {
    "colab_type": "text",
    "id": "3GOvxg6AI-kt"
   },
   "source": [
    "* Now that you got the a list of search results, try to isolate Paris' `geonameid`"
   ]
  },
  {
   "cell_type": "code",
   "execution_count": 4,
   "metadata": {
    "colab": {
     "base_uri": "https://localhost:8080/",
     "height": 34
    },
    "colab_type": "code",
    "executionInfo": {
     "elapsed": 527,
     "status": "ok",
     "timestamp": 1576165621157,
     "user": {
      "displayName": "Antoine Krajnc",
      "photoUrl": "https://lh3.googleusercontent.com/a-/AAuE7mC4XzNDVGvURzl4T5duDbMr6bUdhkYkDul_37G0OA=s64",
      "userId": "08465960390418158788"
     },
     "user_tz": -60
    },
    "id": "ovuJoYQxnK_D",
    "outputId": "3847266b-01e8-45fc-f569-14da31ff022a"
   },
   "outputs": [
    {
     "data": {
      "text/plain": [
       "'https://api.teleport.org/api/cities/geonameid:2988507/'"
      ]
     },
     "execution_count": 4,
     "metadata": {},
     "output_type": "execute_result"
    }
   ],
   "source": []
  },
  {
   "cell_type": "markdown",
   "metadata": {
    "colab_type": "text",
    "id": "bQsO1QvZJbNj"
   },
   "source": [
    "* Use `requests` to get information about Paris "
   ]
  },
  {
   "cell_type": "code",
   "execution_count": 5,
   "metadata": {
    "colab": {
     "base_uri": "https://localhost:8080/",
     "height": 595
    },
    "colab_type": "code",
    "executionInfo": {
     "elapsed": 454,
     "status": "ok",
     "timestamp": 1576165630383,
     "user": {
      "displayName": "Antoine Krajnc",
      "photoUrl": "https://lh3.googleusercontent.com/a-/AAuE7mC4XzNDVGvURzl4T5duDbMr6bUdhkYkDul_37G0OA=s64",
      "userId": "08465960390418158788"
     },
     "user_tz": -60
    },
    "id": "mFIKzq8Popxm",
    "outputId": "4a0f06dd-ebc9-4b5a-9f65-3d00b43123d9"
   },
   "outputs": [
    {
     "data": {
      "text/plain": [
       "{'_links': {'city:admin1_division': {'href': 'https://api.teleport.org/api/countries/iso_alpha2:FR/admin1_divisions/geonames:11/',\n",
       "   'name': 'Île-de-France'},\n",
       "  'city:alternate-names': {'href': 'https://api.teleport.org/api/cities/geonameid:2988507/alternate_names/'},\n",
       "  'city:country': {'href': 'https://api.teleport.org/api/countries/iso_alpha2:FR/',\n",
       "   'name': 'France'},\n",
       "  'city:timezone': {'href': 'https://api.teleport.org/api/timezones/iana:Europe%2FParis/',\n",
       "   'name': 'Europe/Paris'},\n",
       "  'city:urban_area': {'href': 'https://api.teleport.org/api/urban_areas/slug:paris/',\n",
       "   'name': 'Paris'},\n",
       "  'curies': [{'href': 'https://developers.teleport.org/api/resources/Location/#!/relations/{rel}/',\n",
       "    'name': 'location',\n",
       "    'templated': True},\n",
       "   {'href': 'https://developers.teleport.org/api/resources/City/#!/relations/{rel}/',\n",
       "    'name': 'city',\n",
       "    'templated': True},\n",
       "   {'href': 'https://developers.teleport.org/api/resources/UrbanArea/#!/relations/{rel}/',\n",
       "    'name': 'ua',\n",
       "    'templated': True},\n",
       "   {'href': 'https://developers.teleport.org/api/resources/Country/#!/relations/{rel}/',\n",
       "    'name': 'country',\n",
       "    'templated': True},\n",
       "   {'href': 'https://developers.teleport.org/api/resources/Admin1Division/#!/relations/{rel}/',\n",
       "    'name': 'a1',\n",
       "    'templated': True},\n",
       "   {'href': 'https://developers.teleport.org/api/resources/Timezone/#!/relations/{rel}/',\n",
       "    'name': 'tz',\n",
       "    'templated': True}],\n",
       "  'self': {'href': 'https://api.teleport.org/api/cities/geonameid:2988507/'}},\n",
       " 'full_name': 'Paris, Île-de-France, France',\n",
       " 'geoname_id': 2988507,\n",
       " 'location': {'geohash': 'u09tvmqrep8np02g7x9y',\n",
       "  'latlon': {'latitude': 48.85341, 'longitude': 2.3488}},\n",
       " 'name': 'Paris',\n",
       " 'population': 2138551}"
      ]
     },
     "execution_count": 5,
     "metadata": {},
     "output_type": "execute_result"
    }
   ],
   "source": []
  },
  {
   "cell_type": "markdown",
   "metadata": {
    "colab_type": "text",
    "id": "r-n9wjJAJgiZ"
   },
   "source": [
    "* You should now be able to get Paris' quality of life scores "
   ]
  },
  {
   "cell_type": "code",
   "execution_count": 6,
   "metadata": {
    "colab": {
     "base_uri": "https://localhost:8080/",
     "height": 34
    },
    "colab_type": "code",
    "executionInfo": {
     "elapsed": 647,
     "status": "ok",
     "timestamp": 1576165698786,
     "user": {
      "displayName": "Antoine Krajnc",
      "photoUrl": "https://lh3.googleusercontent.com/a-/AAuE7mC4XzNDVGvURzl4T5duDbMr6bUdhkYkDul_37G0OA=s64",
      "userId": "08465960390418158788"
     },
     "user_tz": -60
    },
    "id": "2eZac7brxHpG",
    "outputId": "9e6c0a9f-8647-4546-f831-4f99a3e601e0"
   },
   "outputs": [
    {
     "data": {
      "text/plain": [
       "<Response [200]>"
      ]
     },
     "execution_count": 6,
     "metadata": {},
     "output_type": "execute_result"
    }
   ],
   "source": []
  },
  {
   "cell_type": "code",
   "execution_count": 7,
   "metadata": {
    "colab": {
     "base_uri": "https://localhost:8080/",
     "height": 955
    },
    "colab_type": "code",
    "executionInfo": {
     "elapsed": 578,
     "status": "ok",
     "timestamp": 1576165701060,
     "user": {
      "displayName": "Antoine Krajnc",
      "photoUrl": "https://lh3.googleusercontent.com/a-/AAuE7mC4XzNDVGvURzl4T5duDbMr6bUdhkYkDul_37G0OA=s64",
      "userId": "08465960390418158788"
     },
     "user_tz": -60
    },
    "id": "LOCdCGnmxmCl",
    "outputId": "57210ea5-e785-49f8-8490-4ef76d332f6c"
   },
   "outputs": [
    {
     "data": {
      "text/plain": [
       "{'_links': {'curies': [{'href': 'https://developers.teleport.org/api/resources/Location/#!/relations/{rel}/',\n",
       "    'name': 'location',\n",
       "    'templated': True},\n",
       "   {'href': 'https://developers.teleport.org/api/resources/City/#!/relations/{rel}/',\n",
       "    'name': 'city',\n",
       "    'templated': True},\n",
       "   {'href': 'https://developers.teleport.org/api/resources/UrbanArea/#!/relations/{rel}/',\n",
       "    'name': 'ua',\n",
       "    'templated': True},\n",
       "   {'href': 'https://developers.teleport.org/api/resources/Country/#!/relations/{rel}/',\n",
       "    'name': 'country',\n",
       "    'templated': True},\n",
       "   {'href': 'https://developers.teleport.org/api/resources/Admin1Division/#!/relations/{rel}/',\n",
       "    'name': 'a1',\n",
       "    'templated': True},\n",
       "   {'href': 'https://developers.teleport.org/api/resources/Timezone/#!/relations/{rel}/',\n",
       "    'name': 'tz',\n",
       "    'templated': True}],\n",
       "  'self': {'href': 'https://api.teleport.org/api/urban_areas/slug:paris/scores/'}},\n",
       " 'categories': [{'color': '#f3c32c',\n",
       "   'name': 'Housing',\n",
       "   'score_out_of_10': 3.5835},\n",
       "  {'color': '#f3d630', 'name': 'Cost of Living', 'score_out_of_10': 3.664},\n",
       "  {'color': '#f4eb33', 'name': 'Startups', 'score_out_of_10': 9.2765},\n",
       "  {'color': '#d2ed31',\n",
       "   'name': 'Venture Capital',\n",
       "   'score_out_of_10': 7.513000000000001},\n",
       "  {'color': '#7adc29', 'name': 'Travel Connectivity', 'score_out_of_10': 10.0},\n",
       "  {'color': '#36cc24',\n",
       "   'name': 'Commute',\n",
       "   'score_out_of_10': 5.330500000000001},\n",
       "  {'color': '#19ad51',\n",
       "   'name': 'Business Freedom',\n",
       "   'score_out_of_10': 8.088333333333333},\n",
       "  {'color': '#0d6999', 'name': 'Safety', 'score_out_of_10': 6.2465},\n",
       "  {'color': '#051fa5',\n",
       "   'name': 'Healthcare',\n",
       "   'score_out_of_10': 8.207666666666666},\n",
       "  {'color': '#150e78', 'name': 'Education', 'score_out_of_10': 7.085},\n",
       "  {'color': '#3d14a4',\n",
       "   'name': 'Environmental Quality',\n",
       "   'score_out_of_10': 4.36225},\n",
       "  {'color': '#5c14a1', 'name': 'Economy', 'score_out_of_10': 4.2045},\n",
       "  {'color': '#88149f',\n",
       "   'name': 'Taxation',\n",
       "   'score_out_of_10': 2.6480000000000006},\n",
       "  {'color': '#b9117d',\n",
       "   'name': 'Internet Access',\n",
       "   'score_out_of_10': 9.716000000000001},\n",
       "  {'color': '#d10d54', 'name': 'Leisure & Culture', 'score_out_of_10': 9.8165},\n",
       "  {'color': '#e70c26', 'name': 'Tolerance', 'score_out_of_10': 5.579},\n",
       "  {'color': '#f1351b', 'name': 'Outdoors', 'score_out_of_10': 4.433}],\n",
       " 'summary': '<p>\\n    Paris, the most visited city in the world, is a historical, cultural and esthetic gem that has played a major role in European history for centuries. Its <b>overwhelming beauty</b>, architectural wonders and national <b>cuisine</b> call to people from around the world, adding to its\\xa0exciting and <b>diverse environment</b>.\\xa0As a global <b>economic center</b>, Paris offers opportunities in a wide range of industries and business markets.\\n</p>\\n\\n\\n    <p>Paris is one of the top ten city matches for 9.5% of Teleport users.</p>\\n',\n",
       " 'teleport_city_score': 64.34202702702702}"
      ]
     },
     "execution_count": 7,
     "metadata": {},
     "output_type": "execute_result"
    }
   ],
   "source": []
  },
  {
   "cell_type": "markdown",
   "metadata": {
    "colab_type": "text",
    "id": "5GstOo4oJnR1"
   },
   "source": [
    "* Use `Pandas` to create a DataFrame where you'll get all the scores for Paris "
   ]
  },
  {
   "cell_type": "code",
   "execution_count": 8,
   "metadata": {
    "colab": {
     "base_uri": "https://localhost:8080/",
     "height": 204
    },
    "colab_type": "code",
    "executionInfo": {
     "elapsed": 1076,
     "status": "ok",
     "timestamp": 1576166497901,
     "user": {
      "displayName": "Antoine Krajnc",
      "photoUrl": "https://lh3.googleusercontent.com/a-/AAuE7mC4XzNDVGvURzl4T5duDbMr6bUdhkYkDul_37G0OA=s64",
      "userId": "08465960390418158788"
     },
     "user_tz": -60
    },
    "id": "WEwQ79D6xoYJ",
    "outputId": "48915434-b83c-479d-a0f7-a4d04b4c13a0"
   },
   "outputs": [
    {
     "data": {
      "text/html": [
       "<div>\n",
       "<style scoped>\n",
       "    .dataframe tbody tr th:only-of-type {\n",
       "        vertical-align: middle;\n",
       "    }\n",
       "\n",
       "    .dataframe tbody tr th {\n",
       "        vertical-align: top;\n",
       "    }\n",
       "\n",
       "    .dataframe thead th {\n",
       "        text-align: right;\n",
       "    }\n",
       "</style>\n",
       "<table border=\"1\" class=\"dataframe\">\n",
       "  <thead>\n",
       "    <tr style=\"text-align: right;\">\n",
       "      <th></th>\n",
       "      <th>color</th>\n",
       "      <th>name</th>\n",
       "      <th>score_out_of_10</th>\n",
       "    </tr>\n",
       "  </thead>\n",
       "  <tbody>\n",
       "    <tr>\n",
       "      <th>0</th>\n",
       "      <td>#f3c32c</td>\n",
       "      <td>Housing</td>\n",
       "      <td>3.5835</td>\n",
       "    </tr>\n",
       "    <tr>\n",
       "      <th>1</th>\n",
       "      <td>#f3d630</td>\n",
       "      <td>Cost of Living</td>\n",
       "      <td>3.6640</td>\n",
       "    </tr>\n",
       "    <tr>\n",
       "      <th>2</th>\n",
       "      <td>#f4eb33</td>\n",
       "      <td>Startups</td>\n",
       "      <td>9.2765</td>\n",
       "    </tr>\n",
       "    <tr>\n",
       "      <th>3</th>\n",
       "      <td>#d2ed31</td>\n",
       "      <td>Venture Capital</td>\n",
       "      <td>7.5130</td>\n",
       "    </tr>\n",
       "    <tr>\n",
       "      <th>4</th>\n",
       "      <td>#7adc29</td>\n",
       "      <td>Travel Connectivity</td>\n",
       "      <td>10.0000</td>\n",
       "    </tr>\n",
       "  </tbody>\n",
       "</table>\n",
       "</div>"
      ],
      "text/plain": [
       "     color                 name  score_out_of_10\n",
       "0  #f3c32c              Housing           3.5835\n",
       "1  #f3d630       Cost of Living           3.6640\n",
       "2  #f4eb33             Startups           9.2765\n",
       "3  #d2ed31      Venture Capital           7.5130\n",
       "4  #7adc29  Travel Connectivity          10.0000"
      ]
     },
     "execution_count": 8,
     "metadata": {},
     "output_type": "execute_result"
    }
   ],
   "source": []
  }
 ],
 "metadata": {
  "colab": {
   "collapsed_sections": [],
   "name": "6b. Solution - Get Cities of The World Quality of Life Data.ipynb",
   "provenance": []
  },
  "kernelspec": {
   "display_name": "Python 3",
   "language": "python",
   "name": "python3"
  },
  "language_info": {
   "codemirror_mode": {
    "name": "ipython",
    "version": 3
   },
   "file_extension": ".py",
   "mimetype": "text/x-python",
   "name": "python",
   "nbconvert_exporter": "python",
   "pygments_lexer": "ipython3",
   "version": "3.9.1"
  }
 },
 "nbformat": 4,
 "nbformat_minor": 4
}
