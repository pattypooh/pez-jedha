{
 "cells": [
  {
   "cell_type": "markdown",
   "metadata": {
    "colab_type": "text",
    "id": "XiHhKZq7RW_F"
   },
   "source": [
    "# Introduction to Boto3\n",
    "\n",
    "## What is Boto3\n",
    "\n",
    "Boto3 is AWS SDK. This will allow you to programmatically access to your AWS account and services. This is especially useful when you need to build an web app or to create ETL processes. \n",
    "\n",
    "🙋**What the heck is an SDK ?!** 🙋\n",
    "\n",
    "SDK stands for \"Software Development Kit\". This is basically a kit that provide a set of tools, librairies and documentation to help you utilize someone's service \n"
   ]
  },
  {
   "cell_type": "markdown",
   "metadata": {
    "colab_type": "text",
    "id": "sdM5HH6iRmot"
   },
   "source": [
    "## Boto3 Basic commands \n",
    "\n",
    "You will use Boto3 quite a lot throughout the whole program. You'll see that this SDK is fairly simple to use. However, Boto3 lets you use ANY service you need in AWS. \n",
    "\n",
    "We'll definitely not going to cover all services that Boto3 lets you use. Rather, we'll teach how to use basics of Boto3 and teach you how to check documentation \n",
    "\n",
    "### Documentation \n",
    "\n",
    "Your best friend when you use Boto3 is to read the 📜documentation 📜! Therefore, here is the link for Boto3 documentation : \n",
    "\n",
    "[Boto3](https://boto3.amazonaws.com/v1/documentation/api/latest/guide/quickstart.html)\n",
    "\n",
    "This will show you how to install Boto3 on your computer but also will give you a quickstart tutorial on how to use it.  \n",
    "\n",
    "There are two main things you need to know about the documentation : \n",
    "\n",
    "  * [Quickstart](https://boto3.amazonaws.com/v1/documentation/api/latest/guide/quickstart.html) : It's going to make you up & running on Boto3 \n",
    "  * [Available Services](https://boto3.amazonaws.com/v1/documentation/api/latest/reference/services/index.html) : It's going to list you all the different AWS services that you can access to using Boto3. Once you chose the service you want to use then you can check all available functions that you can use.  \n",
    "\n",
    "### Select a resource\n",
    "\n",
    "The first thing you need to do when you are using Boto3 is to set up a session and use a given resource. You can set up a session using `boto3.Session()`\n",
    "\n",
    "\n",
    "\n"
   ]
  },
  {
   "cell_type": "code",
   "execution_count": 0,
   "metadata": {
    "colab": {},
    "colab_type": "code",
    "id": "QZWIDDE4aej-"
   },
   "outputs": [],
   "source": [
    "import boto3\n",
    "session = boto3.Session(aws_access_key_id=\"YOUR_ACCESS_KEY_ID\", aws_secret_access_key=\"YOUR_SECRET_ACCESS_KEY\")"
   ]
  },
  {
   "cell_type": "markdown",
   "metadata": {
    "colab_type": "text",
    "id": "LttdRtjNa7UH"
   },
   "source": [
    "You need to specify your own access key id & secret access key that you downloaded when you created your IAM user. If you forgot or lost your credentials. You can always do the following : "
   ]
  },
  {
   "cell_type": "markdown",
   "metadata": {},
   "source": [
    "!(https://www.youtube.com/watch?v=O7ofzpnbKN8)"
   ]
  },
  {
   "cell_type": "markdown",
   "metadata": {
    "colab_type": "text",
    "id": "148mkgfNc4bU"
   },
   "source": [
    "Now that you specify your session with the right credentials, you can set-up a resource. Let's take S3 for example : "
   ]
  },
  {
   "cell_type": "code",
   "execution_count": 0,
   "metadata": {
    "colab": {},
    "colab_type": "code",
    "id": "huEr8KK3dAzU"
   },
   "outputs": [],
   "source": [
    "s3 = session.resource(\"s3\")"
   ]
  },
  {
   "cell_type": "markdown",
   "metadata": {
    "colab_type": "text",
    "id": "WAU84b26dTOs"
   },
   "source": [
    "Now you can use all the actions available that boto3 will let you do "
   ]
  },
  {
   "cell_type": "code",
   "execution_count": 0,
   "metadata": {
    "colab": {
     "base_uri": "https://localhost:8080/",
     "height": 34
    },
    "colab_type": "code",
    "executionInfo": {
     "elapsed": 2098,
     "status": "ok",
     "timestamp": 1576093171756,
     "user": {
      "displayName": "Antoine Krajnc",
      "photoUrl": "https://lh3.googleusercontent.com/a-/AAuE7mC4XzNDVGvURzl4T5duDbMr6bUdhkYkDul_37G0OA=s64",
      "userId": "08465960390418158788"
     },
     "user_tz": -60
    },
    "id": "RzMxOPZEdcNr",
    "outputId": "e9a15a02-7d14-4cf6-b6bc-ffaac348e161"
   },
   "outputs": [
    {
     "data": {
      "text/plain": [
       "s3.Bucket(name='helloworld1029108342981')"
      ]
     },
     "execution_count": 13,
     "metadata": {
      "tags": []
     },
     "output_type": "execute_result"
    }
   ],
   "source": [
    "s3.create_bucket(Bucket=\"a-bucket-name\")"
   ]
  },
  {
   "cell_type": "markdown",
   "metadata": {
    "colab_type": "text",
    "id": "qntxQ734eXbP"
   },
   "source": [
    "If you'd like to know more about this function 👉👉 [create_bucket()](https://boto3.amazonaws.com/v1/documentation/api/latest/reference/services/s3.html#S3.ServiceResource.create_bucket)"
   ]
  },
  {
   "cell_type": "markdown",
   "metadata": {
    "colab_type": "text",
    "id": "UcFbmVDdZhOT"
   },
   "source": [
    "### Client VS Resource"
   ]
  },
  {
   "cell_type": "markdown",
   "metadata": {
    "colab_type": "text",
    "id": "WuWZirGleoqY"
   },
   "source": [
    "Quite often in the documentation, you will see `s3 = session.client(\"s3\")` instead of `s3 = session.resource(\"s3\")` \n",
    "\n",
    "This happens because there is a slight difference between the two functions. Here is the explanation in a nutshell : \n",
    "\n",
    "* **Resource** : High Level API that is easier to use but will not cover 100% of what you can do with Boto3\n",
    "\n",
    "* **Client** : Low-level API that will cover 100% of what you can do with Boto3, however, harder to use.\n",
    "\n",
    "If you'd like to know more, definitely check-out this [awesome answer on StackOverflow](https://stackoverflow.com/questions/42809096/difference-in-boto3-between-resource-client-and-session)"
   ]
  },
  {
   "cell_type": "markdown",
   "metadata": {
    "colab_type": "text",
    "id": "be0pLmjaf6M_"
   },
   "source": [
    "## Resources\n",
    "\n",
    "* [Boto3 Documentation](https://boto3.amazonaws.com/v1/documentation/api/latest/guide/quickstart.html)\n",
    "\n",
    "* [Difference in boto3 between resource, client, and session?](https://stackoverflow.com/questions/42809096/difference-in-boto3-between-resource-client-and-session)\n",
    "\n",
    "* [What is the difference between SDK & API](https://nordicapis.com/what-is-the-difference-between-an-api-and-an-sdk/)"
   ]
  }
 ],
 "metadata": {
  "colab": {
   "collapsed_sections": [],
   "name": "4. Introduction to Boto3.ipynb",
   "provenance": []
  },
  "kernelspec": {
   "display_name": "Python 3",
   "language": "python",
   "name": "python3"
  },
  "language_info": {
   "codemirror_mode": {
    "name": "ipython",
    "version": 3
   },
   "file_extension": ".py",
   "mimetype": "text/x-python",
   "name": "python",
   "nbconvert_exporter": "python",
   "pygments_lexer": "ipython3",
   "version": "3.8.5"
  }
 },
 "nbformat": 4,
 "nbformat_minor": 1
}
