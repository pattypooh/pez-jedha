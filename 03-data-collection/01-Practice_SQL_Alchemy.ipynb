{
 "cells": [
  {
   "cell_type": "markdown",
   "metadata": {},
   "source": [
    "# Exercise: practice SQLAlchemy 🧪\n",
    "\n",
    "Let's configure our first RDS instance on AWS and then use SQLAlchemy to write into our remote database and make some SQL queries!\n",
    "\n",
    "1. Follow the instructions/videos from yesterday (M03-D03/04-Amazon-RDS.ipynb) to create your own RDS instance on AWS \n",
    "2. Download <a href=\"https://www.pgadmin.org/download/\" target=\"_blank\">PGAdmin</a> and configure it to access your remote database\n",
    "\n",
    "If you get stuck at some step, don't hesitate to ask for help to your classmates, your teacher or your TA 🤗."
   ]
  },
  {
   "cell_type": "markdown",
   "metadata": {},
   "source": [
    "**Before continuing, please execute the cell below, this will install a package that is required to access your remote database from this notebook:**"
   ]
  },
  {
   "cell_type": "code",
   "execution_count": 2,
   "metadata": {},
   "outputs": [],
   "source": [
    "from box import Box\n",
    "import yaml # Only required for different loaders\n",
    "import pandas as pd"
   ]
  },
  {
   "cell_type": "code",
   "execution_count": 2,
   "metadata": {
    "tags": []
   },
   "outputs": [],
   "source": [
    "#!pip install psycopg2-binary"
   ]
  },
  {
   "cell_type": "markdown",
   "metadata": {},
   "source": [
    "## Upload configuration file"
   ]
  },
  {
   "cell_type": "code",
   "execution_count": 3,
   "metadata": {},
   "outputs": [],
   "source": [
    "conf = Box.from_yaml(filename=\"./config.yaml\")"
   ]
  },
  {
   "cell_type": "markdown",
   "metadata": {},
   "source": [
    "## 3. Create an sqlalchemy engine that is connected to your AWS RDS instance"
   ]
  },
  {
   "cell_type": "code",
   "execution_count": 4,
   "metadata": {},
   "outputs": [],
   "source": [
    "from sqlalchemy import create_engine"
   ]
  },
  {
   "cell_type": "code",
   "execution_count": 5,
   "metadata": {},
   "outputs": [],
   "source": [
    "engine = create_engine(f'postgresql+psycopg2://{conf.userRDS}:{conf.mdp}@{conf.endpoint}')"
   ]
  },
  {
   "cell_type": "code",
   "execution_count": 6,
   "metadata": {},
   "outputs": [],
   "source": [
    "from sqlalchemy.ext.declarative import declarative_base\n",
    "Base = declarative_base()"
   ]
  },
  {
   "cell_type": "markdown",
   "metadata": {},
   "source": [
    "4. Create a new table named `customers` in your remote database and insert the following data :\n",
    "\n",
    "| id | name       | country        | job        | age |\n",
    "|----|------------|----------------|------------|-----|\n",
    "| 1  | Sauerkraut | Germany        | engineer   | 37  |\n",
    "| 2  | Jones      | United Kingdom | journalist | 52  |\n",
    "| 3  | Dupont     | France         | dancer     | 25  |\n",
    "\n",
    "Optionnal: Use PGAdmin to check that the table has been created without any mistake"
   ]
  },
  {
   "cell_type": "code",
   "execution_count": 8,
   "metadata": {},
   "outputs": [],
   "source": [
    "# Create table here\n",
    "from sqlalchemy import Column, Integer, String , Float \n",
    "\n",
    "class Customer2(Base):\n",
    "    __tablename__ = \"customers_2\"\n",
    "\n",
    "    id = Column(Integer, primary_key=True)\n",
    "    name = Column(String)\n",
    "    country = Column(String)\n",
    "    job = Column(String)\n",
    "    age = Column(Integer)\n",
    "\n",
    "    def __repr__(self):\n",
    "        return \"<Customers(name='{}', country='{}', job='{}, age={} ')>\".format(self.name, self.country, self.job, self.age)"
   ]
  },
  {
   "cell_type": "code",
   "execution_count": 9,
   "metadata": {},
   "outputs": [],
   "source": [
    "Base.metadata.create_all(engine)"
   ]
  },
  {
   "cell_type": "code",
   "execution_count": 10,
   "metadata": {},
   "outputs": [
    {
     "name": "stdout",
     "output_type": "stream",
     "text": [
      "<Customers(name='Berrettini', country='Italy', job='tenis man, age=25 ')>\n",
      "name: Berrettini\n",
      "country: Italy\n"
     ]
    }
   ],
   "source": [
    "# Create instances of Customer\n",
    "customer_1 = Customer2(id=2, name='Berrettini', country='Italy', job=\"tenis man\", age=25)\n",
    "\n",
    "# Access Full row \n",
    "print(customer_1)\n",
    "\n",
    "# Access ed_user name \n",
    "name = customer_1.name\n",
    "print(f\"name: {name}\")\n",
    "\n",
    "# Access ed_user nickname\n",
    "country = customer_1.country \n",
    "print(f\"country: {country}\")"
   ]
  },
  {
   "cell_type": "code",
   "execution_count": 11,
   "metadata": {},
   "outputs": [],
   "source": [
    "# Initialize a sessionmaker \n",
    "from sqlalchemy.orm import sessionmaker \n",
    "Session = sessionmaker(bind=engine)\n",
    "\n",
    "# Instanciate Session \n",
    "session = Session()"
   ]
  },
  {
   "cell_type": "code",
   "execution_count": 12,
   "metadata": {},
   "outputs": [],
   "source": [
    "# Add values to db \n",
    "session.add(customer_1)\n",
    "\n",
    "# Commit the results \n",
    "session.commit()"
   ]
  },
  {
   "cell_type": "markdown",
   "metadata": {},
   "source": [
    "5. Execute the cell below to download the famous iris dataset:"
   ]
  },
  {
   "cell_type": "code",
   "execution_count": 13,
   "metadata": {},
   "outputs": [],
   "source": [
    "species = {0:'setosa', 1: 'versicolor', 2: 'virginica'}"
   ]
  },
  {
   "cell_type": "code",
   "execution_count": 16,
   "metadata": {},
   "outputs": [],
   "source": [
    "from sklearn import datasets\n",
    "iris_df, targets = datasets.load_iris(return_X_y=True, as_frame=True)"
   ]
  },
  {
   "cell_type": "code",
   "execution_count": 17,
   "metadata": {},
   "outputs": [],
   "source": [
    "iris_df[\"species\"] = targets"
   ]
  },
  {
   "cell_type": "code",
   "execution_count": 18,
   "metadata": {},
   "outputs": [],
   "source": [
    "iris_df.species = iris_df.species.apply(lambda x: species[x])"
   ]
  },
  {
   "cell_type": "code",
   "execution_count": 19,
   "metadata": {},
   "outputs": [],
   "source": [
    "iris_df.columns = [\"sepal_length_cm\", \"sepal_width_cm\", \"petal_length_cm\", \"petal_width_cm\", \"species\"]"
   ]
  },
  {
   "cell_type": "code",
   "execution_count": 20,
   "metadata": {},
   "outputs": [
    {
     "data": {
      "text/html": [
       "<div>\n",
       "<style scoped>\n",
       "    .dataframe tbody tr th:only-of-type {\n",
       "        vertical-align: middle;\n",
       "    }\n",
       "\n",
       "    .dataframe tbody tr th {\n",
       "        vertical-align: top;\n",
       "    }\n",
       "\n",
       "    .dataframe thead th {\n",
       "        text-align: right;\n",
       "    }\n",
       "</style>\n",
       "<table border=\"1\" class=\"dataframe\">\n",
       "  <thead>\n",
       "    <tr style=\"text-align: right;\">\n",
       "      <th></th>\n",
       "      <th>sepal_length_cm</th>\n",
       "      <th>sepal_width_cm</th>\n",
       "      <th>petal_length_cm</th>\n",
       "      <th>petal_width_cm</th>\n",
       "      <th>species</th>\n",
       "    </tr>\n",
       "  </thead>\n",
       "  <tbody>\n",
       "    <tr>\n",
       "      <th>0</th>\n",
       "      <td>5.1</td>\n",
       "      <td>3.5</td>\n",
       "      <td>1.4</td>\n",
       "      <td>0.2</td>\n",
       "      <td>setosa</td>\n",
       "    </tr>\n",
       "    <tr>\n",
       "      <th>1</th>\n",
       "      <td>4.9</td>\n",
       "      <td>3.0</td>\n",
       "      <td>1.4</td>\n",
       "      <td>0.2</td>\n",
       "      <td>setosa</td>\n",
       "    </tr>\n",
       "    <tr>\n",
       "      <th>2</th>\n",
       "      <td>4.7</td>\n",
       "      <td>3.2</td>\n",
       "      <td>1.3</td>\n",
       "      <td>0.2</td>\n",
       "      <td>setosa</td>\n",
       "    </tr>\n",
       "    <tr>\n",
       "      <th>3</th>\n",
       "      <td>4.6</td>\n",
       "      <td>3.1</td>\n",
       "      <td>1.5</td>\n",
       "      <td>0.2</td>\n",
       "      <td>setosa</td>\n",
       "    </tr>\n",
       "    <tr>\n",
       "      <th>4</th>\n",
       "      <td>5.0</td>\n",
       "      <td>3.6</td>\n",
       "      <td>1.4</td>\n",
       "      <td>0.2</td>\n",
       "      <td>setosa</td>\n",
       "    </tr>\n",
       "  </tbody>\n",
       "</table>\n",
       "</div>"
      ],
      "text/plain": [
       "   sepal_length_cm  sepal_width_cm  petal_length_cm  petal_width_cm species\n",
       "0              5.1             3.5              1.4             0.2  setosa\n",
       "1              4.9             3.0              1.4             0.2  setosa\n",
       "2              4.7             3.2              1.3             0.2  setosa\n",
       "3              4.6             3.1              1.5             0.2  setosa\n",
       "4              5.0             3.6              1.4             0.2  setosa"
      ]
     },
     "execution_count": 20,
     "metadata": {},
     "output_type": "execute_result"
    }
   ],
   "source": [
    "iris_df.head(5)"
   ]
  },
  {
   "cell_type": "raw",
   "metadata": {},
   "source": [
    "Base.metadata.clear()\n",
    "Base.metadata.drop_all(bind=engine)"
   ]
  },
  {
   "cell_type": "code",
   "execution_count": 21,
   "metadata": {},
   "outputs": [],
   "source": [
    "class Iris(Base):\n",
    "    __tablename__ = \"iris_2\"\n",
    "\n",
    "    id = Column(Integer, primary_key=True)\n",
    "    sepal_length_cm = Column(Float)\n",
    "    sepal_width_cm = Column(Float)\n",
    "    petal_length_cm = Column(Float)\n",
    "    petal_width_cm = Column(Float)\n",
    "    species = Column(String)\n",
    "\n",
    "    def __repr__(self):\n",
    "        return \"<Iris(sepal_length_cm='{}', sepal_width_cm='{}', petal_length_cm='{}, petal_width_cm={} ')>\".format(self.sepal_length_cm, self.sepal_width_cm, self.petal_length_cm, self.petal_width_cm)"
   ]
  },
  {
   "cell_type": "code",
   "execution_count": 22,
   "metadata": {},
   "outputs": [],
   "source": [
    "Base.metadata.create_all(engine)"
   ]
  },
  {
   "cell_type": "markdown",
   "metadata": {},
   "source": [
    "6. Create a table in your remote database containing the information of the dataset:"
   ]
  },
  {
   "cell_type": "code",
   "execution_count": 23,
   "metadata": {},
   "outputs": [],
   "source": [
    "# Add values to db \n",
    "iris_df.to_sql(name=\"iris_2\", con=engine, if_exists='append', index=True, index_label='id')\n"
   ]
  },
  {
   "cell_type": "markdown",
   "metadata": {},
   "source": [
    "### Now let's make some SQL requests !\n",
    "\n",
    "To answer the following questions, don't hesitate to refer to <a href=\"https://www.sqltutorial.org/sql-cheat-sheet/\" target=\"_blank\">this cheatsheet</a>. 😉\n",
    "\n",
    "7. What are the different species present in this dataset?"
   ]
  },
  {
   "cell_type": "code",
   "execution_count": 24,
   "metadata": {},
   "outputs": [],
   "source": [
    "from sqlalchemy.sql import text\n",
    "from sqlalchemy import select\n",
    "# Create a statement "
   ]
  },
  {
   "cell_type": "code",
   "execution_count": 74,
   "metadata": {},
   "outputs": [],
   "source": [
    "session2 = Session()"
   ]
  },
  {
   "cell_type": "code",
   "execution_count": 75,
   "metadata": {},
   "outputs": [
    {
     "name": "stdout",
     "output_type": "stream",
     "text": [
      "SELECT iris_2.id AS iris_2_id, iris_2.sepal_length_cm AS iris_2_sepal_length_cm, iris_2.sepal_width_cm AS iris_2_sepal_width_cm, iris_2.petal_length_cm AS iris_2_petal_length_cm, iris_2.petal_width_cm AS iris_2_petal_width_cm, iris_2.species AS iris_2_species \n",
      "FROM iris_2\n"
     ]
    }
   ],
   "source": [
    "result = session2.query(Iris)\n",
    "print(result)\n"
   ]
  },
  {
   "cell_type": "markdown",
   "metadata": {},
   "source": [
    "## Different species present in this dataset"
   ]
  },
  {
   "cell_type": "code",
   "execution_count": 73,
   "metadata": {},
   "outputs": [
    {
     "data": {
      "text/plain": [
       "[('setosa',), ('versicolor',), ('virginica',)]"
      ]
     },
     "execution_count": 73,
     "metadata": {},
     "output_type": "execute_result"
    }
   ],
   "source": [
    "#session2.query(Iris.species).distinct(Iris.species).execute()\n",
    "session.execute(session.query(Iris.species).distinct(Iris.species)).all()"
   ]
  },
  {
   "cell_type": "code",
   "execution_count": 60,
   "metadata": {},
   "outputs": [
    {
     "data": {
      "text/plain": [
       "<sqlalchemy.orm.query.Query at 0x7f3d939e1c40>"
      ]
     },
     "execution_count": 60,
     "metadata": {},
     "output_type": "execute_result"
    }
   ],
   "source": [
    "session.query(Iris.species).distinct(Iris.species)"
   ]
  },
  {
   "cell_type": "code",
   "execution_count": 70,
   "metadata": {},
   "outputs": [],
   "source": [
    "result = session.execute(select(Iris.species).distinct(Iris.species))"
   ]
  },
  {
   "cell_type": "code",
   "execution_count": 72,
   "metadata": {},
   "outputs": [
    {
     "data": {
      "text/plain": [
       "[('setosa',), ('versicolor',), ('virginica',)]"
      ]
     },
     "execution_count": 72,
     "metadata": {},
     "output_type": "execute_result"
    }
   ],
   "source": [
    "result.all()"
   ]
  },
  {
   "cell_type": "markdown",
   "metadata": {},
   "source": [
    "8. What is the average sepal length among all species?"
   ]
  },
  {
   "cell_type": "code",
   "execution_count": 77,
   "metadata": {},
   "outputs": [],
   "source": [
    "from sqlalchemy.sql.expression import func"
   ]
  },
  {
   "cell_type": "code",
   "execution_count": 80,
   "metadata": {},
   "outputs": [
    {
     "data": {
      "text/plain": [
       "[(5.843333333333335,)]"
      ]
     },
     "execution_count": 80,
     "metadata": {},
     "output_type": "execute_result"
    }
   ],
   "source": [
    "session.execute(func.avg(Iris.sepal_length_cm)).all()"
   ]
  },
  {
   "cell_type": "markdown",
   "metadata": {},
   "source": [
    "9. What is the average sepal length for each species?"
   ]
  },
  {
   "cell_type": "code",
   "execution_count": 85,
   "metadata": {},
   "outputs": [
    {
     "data": {
      "text/plain": [
       "[('virginica', 6.587999999999998),\n",
       " ('versicolor', 5.936),\n",
       " ('setosa', 5.005999999999999)]"
      ]
     },
     "execution_count": 85,
     "metadata": {},
     "output_type": "execute_result"
    }
   ],
   "source": [
    "session.execute(select(Iris.species, func.avg(Iris.sepal_length_cm)).group_by(Iris.species)).all()"
   ]
  },
  {
   "cell_type": "markdown",
   "metadata": {},
   "source": [
    "10. How many samples of 'virginica' have sepal length < 6?"
   ]
  },
  {
   "cell_type": "code",
   "execution_count": 93,
   "metadata": {},
   "outputs": [
    {
     "data": {
      "text/plain": [
       "[('virginica', 5.8),\n",
       " ('virginica', 4.9),\n",
       " ('virginica', 5.7),\n",
       " ('virginica', 5.8),\n",
       " ('virginica', 5.6),\n",
       " ('virginica', 5.8),\n",
       " ('virginica', 5.9)]"
      ]
     },
     "execution_count": 93,
     "metadata": {},
     "output_type": "execute_result"
    }
   ],
   "source": [
    "session.execute(select(Iris.species, Iris.sepal_length_cm).where(Iris.species == 'virginica', Iris.sepal_length_cm < 6)).all()"
   ]
  },
  {
   "cell_type": "markdown",
   "metadata": {},
   "source": [
    "11. For each species, count the number of samples having sepal length < 6:"
   ]
  },
  {
   "cell_type": "code",
   "execution_count": 97,
   "metadata": {},
   "outputs": [
    {
     "data": {
      "text/plain": [
       "[('virginica', 7), ('versicolor', 26), ('setosa', 50)]"
      ]
     },
     "execution_count": 97,
     "metadata": {},
     "output_type": "execute_result"
    }
   ],
   "source": [
    "session.execute(select(Iris.species, func.count(Iris.species)).where(Iris.sepal_length_cm < 6).group_by(Iris.species)).all()"
   ]
  },
  {
   "cell_type": "code",
   "execution_count": null,
   "metadata": {},
   "outputs": [],
   "source": []
  }
 ],
 "metadata": {
  "kernelspec": {
   "display_name": "kernel-pez-jedha",
   "language": "python",
   "name": "kernel-pez-jedha"
  },
  "language_info": {
   "codemirror_mode": {
    "name": "ipython",
    "version": 3
   },
   "file_extension": ".py",
   "mimetype": "text/x-python",
   "name": "python",
   "nbconvert_exporter": "python",
   "pygments_lexer": "ipython3",
   "version": "3.9.6"
  }
 },
 "nbformat": 4,
 "nbformat_minor": 4
}
