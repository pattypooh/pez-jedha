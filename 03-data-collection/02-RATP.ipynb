{
 "cells": [
  {
   "cell_type": "markdown",
   "metadata": {
    "colab_type": "text",
    "id": "ZAgek1U583Yp"
   },
   "source": [
    "# RATP\n",
    "\n",
    "Have you ever got lost on the subway? We're going to solve this problem thanks to the RATP's api."
   ]
  },
  {
   "cell_type": "markdown",
   "metadata": {
    "colab_type": "text",
    "id": "eKU4i9DA868d"
   },
   "source": [
    "1. Import the following libraries: \n",
    "\n",
    "      * requests\n",
    "      * pandas \n",
    "      * Image from PIL\n",
    "      * BytesIO from io"
   ]
  },
  {
   "cell_type": "code",
   "execution_count": 1,
   "metadata": {
    "colab": {},
    "colab_type": "code",
    "id": "UTtR-zQS8ysH"
   },
   "outputs": [],
   "source": [
    "import requests, pandas as pd\n",
    "from PIL import Image\n",
    "from io import BytesIO"
   ]
  },
  {
   "cell_type": "markdown",
   "metadata": {
    "colab_type": "text",
    "id": "GlL_3ZTK9GN8"
   },
   "source": [
    "2. Go to <a href=\"https://api-ratp.pierre-grimaud.fr/v4/\" target=\"_blank\">https://api-ratp.pierre-grimaud.fr/v4/</a> and look at the map for the Metro lines using requests:"
   ]
  },
  {
   "cell_type": "code",
   "execution_count": 6,
   "metadata": {},
   "outputs": [],
   "source": [
    "result = requests.get(\"https://api-ratp.pierre-grimaud.fr/v4/lines/metros\")\n"
   ]
  },
  {
   "cell_type": "code",
   "execution_count": 7,
   "metadata": {
    "colab": {
     "base_uri": "https://localhost:8080/",
     "height": 1000
    },
    "colab_type": "code",
    "id": "h4IftS298ysM",
    "outputId": "3fc51156-a1bb-4707-c028-fcfdcbd41206"
   },
   "outputs": [
    {
     "data": {
      "text/plain": [
       "{'result': {'metros': [{'code': '1',\n",
       "    'name': 'Métro 1',\n",
       "    'directions': 'La Defense / Chateau de Vincennes',\n",
       "    'id': '62'},\n",
       "   {'code': '2',\n",
       "    'name': 'Métro 2',\n",
       "    'directions': 'Porte Dauphine / Nation',\n",
       "    'id': '67'},\n",
       "   {'code': '3',\n",
       "    'name': 'Métro 3',\n",
       "    'directions': 'Pont de Levallois - Becon / Gallieni',\n",
       "    'id': '68'},\n",
       "   {'code': '3b',\n",
       "    'name': 'Métro 3b',\n",
       "    'directions': 'Gambetta / Porte des Lilas',\n",
       "    'id': '69'},\n",
       "   {'code': '4',\n",
       "    'name': 'Métro 4',\n",
       "    'directions': 'Mairie de Montrouge / Porte de Clignancourt',\n",
       "    'id': '70'},\n",
       "   {'code': '5',\n",
       "    'name': 'Métro 5',\n",
       "    'directions': \"Place d'Italie / Bobigny - Pablo Picasso\",\n",
       "    'id': '71'},\n",
       "   {'code': '6',\n",
       "    'name': 'Métro 6',\n",
       "    'directions': 'Charles de Gaulle - Etoile / Nation',\n",
       "    'id': '72'},\n",
       "   {'code': '7',\n",
       "    'name': 'Métro 7',\n",
       "    'directions': \"Villejuif-L. Aragon / Mairie d'Ivry / la Courneuve - 8 Mai 1945\",\n",
       "    'id': '73'},\n",
       "   {'code': '7b',\n",
       "    'name': 'Métro 7b',\n",
       "    'directions': 'Louis Blanc / Pre-Saint-Gervais',\n",
       "    'id': '74'},\n",
       "   {'code': '8',\n",
       "    'name': 'Métro 8',\n",
       "    'directions': 'Pointe du Lac / Balard',\n",
       "    'id': '172562'},\n",
       "   {'code': '9',\n",
       "    'name': 'Métro 9',\n",
       "    'directions': 'Mairie de Montreuil / Pont de Sevres',\n",
       "    'id': '76'},\n",
       "   {'code': '10',\n",
       "    'name': 'Métro 10',\n",
       "    'directions': \"Gare d'Austerlitz / Boulogne - Pont de Saint Cloud\",\n",
       "    'id': '63'},\n",
       "   {'code': '11',\n",
       "    'name': 'Métro 11',\n",
       "    'directions': 'Chatelet / Mairie des Lilas',\n",
       "    'id': '64'},\n",
       "   {'code': '12',\n",
       "    'name': 'Métro 12',\n",
       "    'directions': \"Front Populaire / Mairie d'Issy\",\n",
       "    'id': '65'},\n",
       "   {'code': '13',\n",
       "    'name': 'Métro 13',\n",
       "    'directions': 'St-Denis-Universite/Les Courtilles / Chatillon - Montrouge',\n",
       "    'id': '66'},\n",
       "   {'code': '14',\n",
       "    'name': 'Métro 14',\n",
       "    'directions': 'Olympiades / Mairie de Saint-Ouen',\n",
       "    'id': '55098'},\n",
       "   {'code': 'Fun',\n",
       "    'name': 'Métro Fun',\n",
       "    'directions': 'Gare Haute / Gare basse',\n",
       "    'id': '79'},\n",
       "   {'code': 'Orv',\n",
       "    'name': 'Métro Orv',\n",
       "    'directions': 'Orly 4 / Antony-RER',\n",
       "    'id': '455'}]},\n",
       " '_metadata': {'call': 'GET /lines/metros',\n",
       "  'date': '2021-07-03T11:35:58+02:00',\n",
       "  'version': 4}}"
      ]
     },
     "execution_count": 7,
     "metadata": {},
     "output_type": "execute_result"
    }
   ],
   "source": [
    "dict_lines = result.json()\n",
    "dict_lines"
   ]
  },
  {
   "cell_type": "markdown",
   "metadata": {
    "colab_type": "text",
    "id": "aeD2ouWA9L6p"
   },
   "source": [
    "3. Extract all stations on Line 9:"
   ]
  },
  {
   "cell_type": "code",
   "execution_count": 16,
   "metadata": {},
   "outputs": [],
   "source": [
    "new_url = \"https://api-ratp.pierre-grimaud.fr/v4/stations/metros/9\""
   ]
  },
  {
   "cell_type": "code",
   "execution_count": 17,
   "metadata": {},
   "outputs": [],
   "source": [
    "new_result = requests.get(new_url)"
   ]
  },
  {
   "cell_type": "code",
   "execution_count": 18,
   "metadata": {},
   "outputs": [
    {
     "data": {
      "text/plain": [
       "{'result': {'stations': [{'name': 'Pont de Sevres', 'slug': 'pont+de+sevres'},\n",
       "   {'name': 'Billancourt', 'slug': 'billancourt'},\n",
       "   {'name': 'Marcel Sembat', 'slug': 'marcel+sembat'},\n",
       "   {'name': 'Porte de Saint-Cloud', 'slug': 'porte+de+saint+cloud'},\n",
       "   {'name': 'Exelmans', 'slug': 'exelmans'},\n",
       "   {'name': 'Michel-Ange-Molitor', 'slug': 'michel+ange+molitor'},\n",
       "   {'name': 'Michel-Ange-Auteuil', 'slug': 'michel+ange+auteuil'},\n",
       "   {'name': 'Jasmin', 'slug': 'jasmin'},\n",
       "   {'name': 'Ranelagh', 'slug': 'ranelagh'},\n",
       "   {'name': 'La Muette', 'slug': 'la+muette'},\n",
       "   {'name': 'Rue de la Pompe (Avenue Georges Mandel)',\n",
       "    'slug': 'rue+de+la+pompe+(avenue+georges+mandel)'},\n",
       "   {'name': 'Trocadero', 'slug': 'trocadero'},\n",
       "   {'name': 'Iena', 'slug': 'iena'},\n",
       "   {'name': 'Alma-Marceau', 'slug': 'alma+marceau'},\n",
       "   {'name': 'Franklin-Roosevelt', 'slug': 'franklin+roosevelt'},\n",
       "   {'name': 'Saint-Philippe du Roule', 'slug': 'saint+philippe+du+roule'},\n",
       "   {'name': 'Miromesnil', 'slug': 'miromesnil'},\n",
       "   {'name': 'Saint-Augustin', 'slug': 'saint+augustin'},\n",
       "   {'name': 'Havre-Caumartin', 'slug': 'havre+caumartin'},\n",
       "   {'name': \"Chaussee d'Antin (La Fayette)\",\n",
       "    'slug': \"chaussee+d'antin+(la+fayette)\"},\n",
       "   {'name': 'Richelieu-Drouot', 'slug': 'richelieu+drouot'},\n",
       "   {'name': 'Grands Boulevards', 'slug': 'grands+boulevards'},\n",
       "   {'name': 'Bonne Nouvelle', 'slug': 'bonne+nouvelle'},\n",
       "   {'name': 'Strasbourg-Saint-Denis', 'slug': 'strasbourg+saint+denis'},\n",
       "   {'name': 'Republique', 'slug': 'republique'},\n",
       "   {'name': 'Oberkampf', 'slug': 'oberkampf'},\n",
       "   {'name': 'Saint-Ambroise', 'slug': 'saint+ambroise'},\n",
       "   {'name': 'Voltaire (Leon Blum)', 'slug': 'voltaire+(leon+blum)'},\n",
       "   {'name': 'Charonne', 'slug': 'charonne'},\n",
       "   {'name': 'Rue des Boulets', 'slug': 'rue+des+boulets'},\n",
       "   {'name': 'Nation', 'slug': 'nation'},\n",
       "   {'name': 'Buzenval', 'slug': 'buzenval'},\n",
       "   {'name': 'Maraichers', 'slug': 'maraichers'},\n",
       "   {'name': 'Porte de Montreuil', 'slug': 'porte+de+montreuil'},\n",
       "   {'name': 'Robespierre', 'slug': 'robespierre'},\n",
       "   {'name': 'Croix-de-Chavaux (Jacques Duclos)',\n",
       "    'slug': 'croix+de+chavaux+(jacques+duclos)'},\n",
       "   {'name': 'Mairie de Montreuil', 'slug': 'mairie+de+montreuil'}]},\n",
       " '_metadata': {'call': 'GET /stations/metros/9',\n",
       "  'date': '2021-07-03T11:43:52+02:00',\n",
       "  'version': 4}}"
      ]
     },
     "execution_count": 18,
     "metadata": {},
     "output_type": "execute_result"
    }
   ],
   "source": [
    "new_result.json()"
   ]
  },
  {
   "cell_type": "code",
   "execution_count": 3,
   "metadata": {
    "colab": {
     "base_uri": "https://localhost:8080/",
     "height": 668
    },
    "colab_type": "code",
    "id": "00_eyA2j8ysX",
    "outputId": "6c9a2959-3ab8-406f-aa83-59d49a80aeee"
   },
   "outputs": [
    {
     "data": {
      "text/plain": [
       "[{'id': '108', 'name': 'Alma-Marceau'},\n",
       " {'id': '141', 'name': 'Billancourt'},\n",
       " {'id': '151', 'name': 'Bonne Nouvelle'},\n",
       " {'id': '175', 'name': 'Buzenval'},\n",
       " {'id': '195', 'name': 'Charonne'},\n",
       " {'id': '204', 'name': \"Chaussée d'Antin La Fayette\"},\n",
       " {'id': '235', 'name': 'Croix de Chavaux'},\n",
       " {'id': '265', 'name': 'Exelmans'},\n",
       " {'id': '275', 'name': 'Franklin D. Roosevelt'},\n",
       " {'id': '296', 'name': 'Grands Boulevards'},\n",
       " {'id': '302', 'name': 'Havre-Caumartin'},\n",
       " {'id': '310', 'name': 'Iéna'},\n",
       " {'id': '318', 'name': 'Jasmin'},\n",
       " {'id': '342', 'name': 'La Muette'},\n",
       " {'id': '395', 'name': 'Mairie de Montreuil'},\n",
       " {'id': '410', 'name': 'Maraîchers'},\n",
       " {'id': '412', 'name': 'Marcel Sembat'},\n",
       " {'id': '427', 'name': 'Michel-Ange Auteuil'},\n",
       " {'id': '428', 'name': 'Michel-Ange Molitor'},\n",
       " {'id': '430', 'name': 'Miromesnil'},\n",
       " {'id': '444', 'name': 'Nation'},\n",
       " {'id': '456', 'name': 'Oberkampf'},\n",
       " {'id': '503', 'name': 'Pont de Sèvres'},\n",
       " {'id': '518', 'name': 'Porte de Montreuil'},\n",
       " {'id': '520', 'name': 'Porte de Saint-Cloud'},\n",
       " {'id': '541', 'name': 'Ranelagh'},\n",
       " {'id': '548', 'name': 'Richelieu-Drouot'},\n",
       " {'id': '551', 'name': 'Robespierre'},\n",
       " {'id': '557', 'name': 'Rue de la Pompe'},\n",
       " {'id': '558', 'name': 'Rue des Boulets'},\n",
       " {'id': '545', 'name': 'République'},\n",
       " {'id': '562', 'name': 'Saint-Ambroise'},\n",
       " {'id': '563', 'name': 'Saint-Augustin'},\n",
       " {'id': '590', 'name': 'Saint-Philippe-du-Roule'},\n",
       " {'id': '613', 'name': 'Strasbourg-Saint-Denis'},\n",
       " {'id': '626', 'name': 'Trocadéro'},\n",
       " {'id': '657', 'name': 'Voltaire'}]"
      ]
     },
     "execution_count": 3,
     "metadata": {},
     "output_type": "execute_result"
    }
   ],
   "source": []
  },
  {
   "cell_type": "markdown",
   "metadata": {
    "colab_type": "text",
    "id": "V1ExLCy69OUz"
   },
   "source": [
    "4. Look at the directions on line 9:"
   ]
  },
  {
   "cell_type": "code",
   "execution_count": 19,
   "metadata": {},
   "outputs": [
    {
     "data": {
      "text/plain": [
       "{'result': {'destinations': [{'name': 'Mairie de Montreuil', 'way': 'A'},\n",
       "   {'name': 'Pont de Sevres', 'way': 'R'}]},\n",
       " '_metadata': {'call': 'GET /destinations/metros/9',\n",
       "  'date': '2021-07-03T11:48:37+02:00',\n",
       "  'version': 4}}"
      ]
     },
     "execution_count": 19,
     "metadata": {},
     "output_type": "execute_result"
    }
   ],
   "source": [
    "dest_url = \"https://api-ratp.pierre-grimaud.fr/v4/destinations/metros/9\"\n",
    "dest_result = requests.get(dest_url)\n",
    "dest_result.json()"
   ]
  },
  {
   "cell_type": "code",
   "execution_count": 4,
   "metadata": {
    "colab": {
     "base_uri": "https://localhost:8080/",
     "height": 52
    },
    "colab_type": "code",
    "id": "bjFjLUqf8ysd",
    "outputId": "89280ef5-d2a2-4bc7-8e11-1eafcba968c7"
   },
   "outputs": [
    {
     "data": {
      "text/plain": [
       "[{'way': 'A', 'name': 'Mairie de Montreuil'},\n",
       " {'way': 'R', 'name': 'Pont de Sèvres'}]"
      ]
     },
     "execution_count": 4,
     "metadata": {},
     "output_type": "execute_result"
    }
   ],
   "source": []
  },
  {
   "cell_type": "markdown",
   "metadata": {
    "colab_type": "text",
    "id": "KwalEFCZ9Q8Q"
   },
   "source": [
    "5. Watch the time of the next subways at the Franklin Roosevelt station in the direction of Pont de Sèvres:"
   ]
  },
  {
   "cell_type": "code",
   "execution_count": 20,
   "metadata": {},
   "outputs": [
    {
     "data": {
      "text/plain": [
       "{'result': {'schedules': [{'message': '3 mn', 'destination': 'Pont de Sevres'},\n",
       "   {'message': '9 mn', 'destination': 'Pont de Sevres'},\n",
       "   {'message': '14 mn', 'destination': 'Pont de Sevres'},\n",
       "   {'message': '19 mn', 'destination': 'Pont de Sevres'}]},\n",
       " '_metadata': {'call': 'GET /schedules/metros/9/Franklin-Roosevelt/R',\n",
       "  'date': '2021-07-03T11:53:46+02:00',\n",
       "  'version': 4}}"
      ]
     },
     "execution_count": 20,
     "metadata": {},
     "output_type": "execute_result"
    }
   ],
   "source": [
    "time_url = \"https://api-ratp.pierre-grimaud.fr/v4/schedules/metros/9/Franklin-Roosevelt/R\"\n",
    "time_result = requests.get(time_url)\n",
    "time_result.json()"
   ]
  },
  {
   "cell_type": "code",
   "execution_count": 5,
   "metadata": {
    "colab": {
     "base_uri": "https://localhost:8080/",
     "height": 34
    },
    "colab_type": "code",
    "id": "rGn0RMtY8ysg",
    "outputId": "bc0aa033-e61f-4b8a-f97c-ebc49b73c550"
   },
   "outputs": [
    {
     "data": {
      "text/plain": [
       "[\"Train a l'approche\", '2 mn', '5 mn', '6 mn']"
      ]
     },
     "execution_count": 5,
     "metadata": {},
     "output_type": "execute_result"
    }
   ],
   "source": []
  }
 ],
 "metadata": {
  "colab": {
   "name": "RATP - Exercice SOLUTION.ipynb",
   "provenance": []
  },
  "kernelspec": {
   "display_name": "Python 3",
   "language": "python",
   "name": "python3"
  },
  "language_info": {
   "codemirror_mode": {
    "name": "ipython",
    "version": 3
   },
   "file_extension": ".py",
   "mimetype": "text/x-python",
   "name": "python",
   "nbconvert_exporter": "python",
   "pygments_lexer": "ipython3",
   "version": "3.8.6"
  }
 },
 "nbformat": 4,
 "nbformat_minor": 4
}
