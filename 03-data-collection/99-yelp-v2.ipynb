{
 "cells": [
  {
   "cell_type": "code",
   "execution_count": 1,
   "metadata": {},
   "outputs": [],
   "source": [
    "import os \n",
    "import logging\n",
    "# Import scrapy and scrapy.crawler \n",
    "import scrapy\n",
    "from scrapy.crawler import CrawlerProcess\n"
   ]
  },
  {
   "cell_type": "code",
   "execution_count": 2,
   "metadata": {},
   "outputs": [],
   "source": [
    "class YelpCrawler (scrapy.Spider):\n",
    "    name = \"yelp-spy\"\n",
    "    start_urls = ['https://www.yelp.fr/']\n",
    "    \n",
    "    def __init__(self, search_keyword=\"restaurant japonais\", location_keyword=\"Toulouse\", *args, **kwargs):\n",
    "        super(YelpCrawler, self).__init__(*args, **kwargs)\n",
    "        self.search_keyword = search_keyword\n",
    "        self.location_keyword = location_keyword\n",
    "    \n",
    "    def parse(self, response):\n",
    "        \n",
    "        return scrapy.FormRequest.from_response(response, formdata={'find_desc':self.search_keyword, \n",
    "                                                                    'find_loc':self.location_keyword},\n",
    "                                               callback=self.after_search)\n",
    "        #pass\n",
    "    \n",
    "    def after_search(self ,response):\n",
    "        #.css-1661a90\n",
    "        rest_list = response.css('h4.css-1l5lt1i')\n",
    "        for tag in rest_list:\n",
    "            #print(tag)\n",
    "            yield{\n",
    "                'name':tag.css('span a::text').get(),\n",
    "                #'url': tag.css('span a::attr(href)').getall() # PEZ: It creates a list with one element\n",
    "                #'url': tag.css('span a::attr(href)').extract_first(),# PEZ: This works fine also!\n",
    "                'url': tag.css('span a').attrib['href'], #PEZ: This works fine!\n",
    "                'next-link': response.css('a.next-link').attrib['href']\n",
    "            }\n",
    "            try:\n",
    "                # Identify what the next page is. type(next_page) is str\n",
    "                next_page = response.css('a.next-link').attrib['href']\n",
    "            except KeyError:\n",
    "                logging.info('There is no next page. The crawling process will terminate')\n",
    "            else:\n",
    "                # if the next page is found\n",
    "                yield response.follow(next_page, callback = self.after_search)\n",
    "                "
   ]
  },
  {
   "cell_type": "code",
   "execution_count": 3,
   "metadata": {},
   "outputs": [],
   "source": [
    "def remove_file(filename):\n",
    "    if filename in os.listdir(\"data/\"):\n",
    "        os.remove(\"data/\" + filename)"
   ]
  },
  {
   "cell_type": "code",
   "execution_count": 4,
   "metadata": {},
   "outputs": [],
   "source": [
    "def get_filename(search_keyword, search_location):\n",
    "    return f\"{search_keyword}-{search_location}.json\""
   ]
  },
  {
   "cell_type": "code",
   "execution_count": 5,
   "metadata": {},
   "outputs": [
    {
     "data": {
      "text/plain": [
       "'spa-Toulouse.json'"
      ]
     },
     "execution_count": 5,
     "metadata": {},
     "output_type": "execute_result"
    }
   ],
   "source": [
    "get_filename(\"spa\", \"Toulouse\")"
   ]
  },
  {
   "cell_type": "code",
   "execution_count": 6,
   "metadata": {},
   "outputs": [],
   "source": [
    "def launch_crawler(search_input, location_input):\n",
    "    filename = get_filename(search_input, location_input)\n",
    "    remove_file(filename)\n",
    "    process = CrawlerProcess(settings={\n",
    "        'USER_AGENT': 'Mozilla/4.0 (compatible; MSIE 7.0; Windows NT 5.1)',\n",
    "        'LOG_LEVEL': logging.INFO,\n",
    "        \"FEEDS\": {\n",
    "            'data/' + filename : {\"format\": \"json\"},\n",
    "        },\n",
    "        \"AUTOTHROTTLE_ENABLED\": True  # AutoThrottle Here!\n",
    "    })\n",
    "    process.crawl(YelpCrawler, search_keyword =search_input , search_location=location_input)\n",
    "    process.start()\n",
    "    print(\"FINISHED\")\n"
   ]
  },
  {
   "cell_type": "raw",
   "metadata": {},
   "source": [
    "filename = \"restaurant_japonais-paris.json\"\n",
    "remove_file(filename)\n",
    "process = CrawlerProcess(settings={\n",
    "    'USER_AGENT': 'Mozilla/4.0 (compatible; MSIE 7.0; Windows NT 5.1)',\n",
    "    'LOG_LEVEL': logging.INFO,\n",
    "    \"FEEDS\": {\n",
    "        'data/' + filename : {\"format\": \"json\"},\n",
    "    },\n",
    "    \"AUTOTHROTTLE_ENABLED\": True  # AutoThrottle Here!\n",
    "})\n"
   ]
  },
  {
   "cell_type": "raw",
   "metadata": {},
   "source": [
    "process.crawl(YelpCrawler)\n",
    "process.start()"
   ]
  },
  {
   "cell_type": "code",
   "execution_count": 7,
   "metadata": {},
   "outputs": [
    {
     "name": "stdin",
     "output_type": "stream",
     "text": [
      "Please enter your search keywords: spa\n",
      "Please enter the name of the city toulouse\n"
     ]
    }
   ],
   "source": [
    "search_keyword = input(\"Please enter your search keywords:\")\n",
    "location_keyword = input(\"Please enter the name of the city\")"
   ]
  },
  {
   "cell_type": "code",
   "execution_count": 8,
   "metadata": {},
   "outputs": [
    {
     "name": "stderr",
     "output_type": "stream",
     "text": [
      "2021-07-04 15:37:41 [scrapy.utils.log] INFO: Scrapy 2.5.0 started (bot: scrapybot)\n",
      "2021-07-04 15:37:41 [scrapy.utils.log] INFO: Versions: lxml 4.6.3.0, libxml2 2.9.10, cssselect 1.1.0, parsel 1.6.0, w3lib 1.22.0, Twisted 21.2.0, Python 3.8.6 | packaged by conda-forge | (default, Oct  7 2020, 19:08:05) - [GCC 7.5.0], pyOpenSSL 19.1.0 (OpenSSL 1.1.1h  22 Sep 2020), cryptography 3.1.1, Platform Linux-5.4.89+-x86_64-with-glibc2.10\n",
      "2021-07-04 15:37:41 [scrapy.crawler] INFO: Overridden settings:\n",
      "{'AUTOTHROTTLE_ENABLED': True,\n",
      " 'LOG_LEVEL': 20,\n",
      " 'USER_AGENT': 'Mozilla/4.0 (compatible; MSIE 7.0; Windows NT 5.1)'}\n",
      "2021-07-04 15:37:42 [scrapy.extensions.telnet] INFO: Telnet Password: 140396b7cb738c45\n",
      "2021-07-04 15:37:42 [scrapy.middleware] INFO: Enabled extensions:\n",
      "['scrapy.extensions.corestats.CoreStats',\n",
      " 'scrapy.extensions.telnet.TelnetConsole',\n",
      " 'scrapy.extensions.memusage.MemoryUsage',\n",
      " 'scrapy.extensions.feedexport.FeedExporter',\n",
      " 'scrapy.extensions.logstats.LogStats',\n",
      " 'scrapy.extensions.throttle.AutoThrottle']\n",
      "2021-07-04 15:37:42 [scrapy.middleware] INFO: Enabled downloader middlewares:\n",
      "['scrapy.downloadermiddlewares.httpauth.HttpAuthMiddleware',\n",
      " 'scrapy.downloadermiddlewares.downloadtimeout.DownloadTimeoutMiddleware',\n",
      " 'scrapy.downloadermiddlewares.defaultheaders.DefaultHeadersMiddleware',\n",
      " 'scrapy.downloadermiddlewares.useragent.UserAgentMiddleware',\n",
      " 'scrapy.downloadermiddlewares.retry.RetryMiddleware',\n",
      " 'scrapy.downloadermiddlewares.redirect.MetaRefreshMiddleware',\n",
      " 'scrapy.downloadermiddlewares.httpcompression.HttpCompressionMiddleware',\n",
      " 'scrapy.downloadermiddlewares.redirect.RedirectMiddleware',\n",
      " 'scrapy.downloadermiddlewares.cookies.CookiesMiddleware',\n",
      " 'scrapy.downloadermiddlewares.httpproxy.HttpProxyMiddleware',\n",
      " 'scrapy.downloadermiddlewares.stats.DownloaderStats']\n",
      "2021-07-04 15:37:42 [scrapy.middleware] INFO: Enabled spider middlewares:\n",
      "['scrapy.spidermiddlewares.httperror.HttpErrorMiddleware',\n",
      " 'scrapy.spidermiddlewares.offsite.OffsiteMiddleware',\n",
      " 'scrapy.spidermiddlewares.referer.RefererMiddleware',\n",
      " 'scrapy.spidermiddlewares.urllength.UrlLengthMiddleware',\n",
      " 'scrapy.spidermiddlewares.depth.DepthMiddleware']\n",
      "2021-07-04 15:37:42 [scrapy.middleware] INFO: Enabled item pipelines:\n",
      "[]\n",
      "2021-07-04 15:37:42 [scrapy.core.engine] INFO: Spider opened\n",
      "2021-07-04 15:37:42 [scrapy.extensions.logstats] INFO: Crawled 0 pages (at 0 pages/min), scraped 0 items (at 0 items/min)\n",
      "2021-07-04 15:37:42 [scrapy.extensions.telnet] INFO: Telnet console listening on 127.0.0.1:6023\n",
      "2021-07-04 15:38:07 [scrapy.core.scraper] ERROR: Spider error processing <GET https://www.yelp.fr/search?find_desc=spa&find_loc=Toulouse&start=30> (referer: https://www.yelp.fr/search?find_desc=spa&find_loc=Toulouse&start=20)\n",
      "Traceback (most recent call last):\n",
      "  File \"/opt/conda/lib/python3.8/site-packages/scrapy/utils/defer.py\", line 120, in iter_errback\n",
      "    yield next(it)\n",
      "  File \"/opt/conda/lib/python3.8/site-packages/scrapy/utils/python.py\", line 353, in __next__\n",
      "    return next(self.data)\n",
      "  File \"/opt/conda/lib/python3.8/site-packages/scrapy/utils/python.py\", line 353, in __next__\n",
      "    return next(self.data)\n",
      "  File \"/opt/conda/lib/python3.8/site-packages/scrapy/core/spidermw.py\", line 56, in _evaluate_iterable\n",
      "    for r in iterable:\n",
      "  File \"/opt/conda/lib/python3.8/site-packages/scrapy/spidermiddlewares/offsite.py\", line 29, in process_spider_output\n",
      "    for x in result:\n",
      "  File \"/opt/conda/lib/python3.8/site-packages/scrapy/core/spidermw.py\", line 56, in _evaluate_iterable\n",
      "    for r in iterable:\n",
      "  File \"/opt/conda/lib/python3.8/site-packages/scrapy/spidermiddlewares/referer.py\", line 342, in <genexpr>\n",
      "    return (_set_referer(r) for r in result or ())\n",
      "  File \"/opt/conda/lib/python3.8/site-packages/scrapy/core/spidermw.py\", line 56, in _evaluate_iterable\n",
      "    for r in iterable:\n",
      "  File \"/opt/conda/lib/python3.8/site-packages/scrapy/spidermiddlewares/urllength.py\", line 40, in <genexpr>\n",
      "    return (r for r in result or () if _filter(r))\n",
      "  File \"/opt/conda/lib/python3.8/site-packages/scrapy/core/spidermw.py\", line 56, in _evaluate_iterable\n",
      "    for r in iterable:\n",
      "  File \"/opt/conda/lib/python3.8/site-packages/scrapy/spidermiddlewares/depth.py\", line 58, in <genexpr>\n",
      "    return (r for r in result or () if _filter(r))\n",
      "  File \"/opt/conda/lib/python3.8/site-packages/scrapy/core/spidermw.py\", line 56, in _evaluate_iterable\n",
      "    for r in iterable:\n",
      "  File \"<ipython-input-2-8141e7cf3643>\", line 27, in after_search\n",
      "    'next-link': response.css('a.next-link').attrib['href']\n",
      "KeyError: 'href'\n",
      "2021-07-04 15:38:07 [scrapy.core.engine] INFO: Closing spider (finished)\n",
      "2021-07-04 15:38:07 [scrapy.extensions.feedexport] INFO: Stored json feed (30 items) in: data/spa-toulouse.json\n",
      "2021-07-04 15:38:07 [scrapy.statscollectors] INFO: Dumping Scrapy stats:\n",
      "{'downloader/request_bytes': 2466,\n",
      " 'downloader/request_count': 6,\n",
      " 'downloader/request_method_count/GET': 6,\n",
      " 'downloader/response_bytes': 228767,\n",
      " 'downloader/response_count': 6,\n",
      " 'downloader/response_status_count/200': 5,\n",
      " 'downloader/response_status_count/302': 1,\n",
      " 'dupefilter/filtered': 27,\n",
      " 'elapsed_time_seconds': 24.947132,\n",
      " 'feedexport/success_count/FileFeedStorage': 1,\n",
      " 'finish_reason': 'finished',\n",
      " 'finish_time': datetime.datetime(2021, 7, 4, 15, 38, 7, 21673),\n",
      " 'httpcompression/response_bytes': 1300086,\n",
      " 'httpcompression/response_count': 5,\n",
      " 'item_scraped_count': 30,\n",
      " 'log_count/ERROR': 1,\n",
      " 'log_count/INFO': 11,\n",
      " 'memusage/max': 78659584,\n",
      " 'memusage/startup': 78659584,\n",
      " 'request_depth_max': 4,\n",
      " 'response_received_count': 5,\n",
      " 'scheduler/dequeued': 6,\n",
      " 'scheduler/dequeued/memory': 6,\n",
      " 'scheduler/enqueued': 6,\n",
      " 'scheduler/enqueued/memory': 6,\n",
      " 'spider_exceptions/KeyError': 1,\n",
      " 'start_time': datetime.datetime(2021, 7, 4, 15, 37, 42, 74541)}\n",
      "2021-07-04 15:38:07 [scrapy.core.engine] INFO: Spider closed (finished)\n"
     ]
    },
    {
     "name": "stdout",
     "output_type": "stream",
     "text": [
      "FINISHED\n"
     ]
    }
   ],
   "source": [
    "launch_crawler(search_keyword, location_keyword)\n"
   ]
  },
  {
   "cell_type": "code",
   "execution_count": null,
   "metadata": {},
   "outputs": [],
   "source": []
  }
 ],
 "metadata": {
  "kernelspec": {
   "display_name": "Python 3",
   "language": "python",
   "name": "python3"
  },
  "language_info": {
   "codemirror_mode": {
    "name": "ipython",
    "version": 3
   },
   "file_extension": ".py",
   "mimetype": "text/x-python",
   "name": "python",
   "nbconvert_exporter": "python",
   "pygments_lexer": "ipython3",
   "version": "3.9.1"
  }
 },
 "nbformat": 4,
 "nbformat_minor": 4
}
