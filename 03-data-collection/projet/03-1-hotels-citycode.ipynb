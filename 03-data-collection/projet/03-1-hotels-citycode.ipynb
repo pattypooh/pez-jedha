{
 "cells": [
  {
   "cell_type": "code",
   "execution_count": 1,
   "id": "gothic-maintenance",
   "metadata": {},
   "outputs": [],
   "source": [
    "import pandas as pd, requests"
   ]
  },
  {
   "cell_type": "code",
   "execution_count": 2,
   "id": "polish-costs",
   "metadata": {},
   "outputs": [],
   "source": [
    "import os \n",
    "import logging\n",
    "# Import scrapy and scrapy.crawler \n",
    "import scrapy\n",
    "from scrapy.crawler import CrawlerProcess"
   ]
  },
  {
   "cell_type": "code",
   "execution_count": 3,
   "id": "formal-strike",
   "metadata": {},
   "outputs": [],
   "source": [
    "import operator"
   ]
  },
  {
   "cell_type": "code",
   "execution_count": 4,
   "id": "french-fitting",
   "metadata": {},
   "outputs": [],
   "source": [
    "cities = [\"Mont Saint Michel\",\"St Malo\",\"Bayeux\",\"Le Havre\",\"Rouen\",\"Paris\",\"Amiens\",\"Lille\",\"Strasbourg\",\n",
    "          \"Chateau du Haut Koenigsbourg\",\"Colmar\",\"Eguisheim\",\"Besancon\",\"Dijon\",\"Annecy\",\"Grenoble\",\"Lyon\",\n",
    "          \"Gorges du Verdon\",\"Bormes les Mimosas\",\"Cassis\",\"Marseille\",\"Aix en Provence\",\"Avignon\",\"Uzes\",\"Nimes\",\n",
    "          \"Aigues Mortes\",\"Saintes Maries de la mer\",\"Collioure\",\"Carcassonne\",\"Ariege\",\"Toulouse\",\"Montauban\",\n",
    "          \"Biarritz\",\"Bayonne\",\"La Rochelle\"]"
   ]
  },
  {
   "cell_type": "code",
   "execution_count": 52,
   "id": "funky-giving",
   "metadata": {},
   "outputs": [],
   "source": [
    "cities_red = [\"Mont Saint Michel\",\"St Malo\",\"Bayeux\",\"Le Havre\",\"Rouen\",\"Paris\",\"Amiens\",\"Lille\"]"
   ]
  },
  {
   "cell_type": "code",
   "execution_count": 53,
   "id": "understanding-stadium",
   "metadata": {},
   "outputs": [
    {
     "data": {
      "text/plain": [
       "list"
      ]
     },
     "execution_count": 53,
     "metadata": {},
     "output_type": "execute_result"
    }
   ],
   "source": [
    "type(cities_red)"
   ]
  },
  {
   "cell_type": "code",
   "execution_count": 6,
   "id": "based-shelter",
   "metadata": {},
   "outputs": [],
   "source": [
    "import requests"
   ]
  },
  {
   "cell_type": "code",
   "execution_count": 7,
   "id": "phantom-walter",
   "metadata": {
    "tags": []
   },
   "outputs": [],
   "source": [
    "from bs4 import BeautifulSoup"
   ]
  },
  {
   "cell_type": "markdown",
   "id": "controlling-climate",
   "metadata": {},
   "source": [
    "### Create parameters for the robot"
   ]
  },
  {
   "cell_type": "code",
   "execution_count": 8,
   "id": "legitimate-costs",
   "metadata": {
    "tags": []
   },
   "outputs": [],
   "source": [
    "headers = {'Accept-Encoding': 'gzip, deflate, br',\n",
    "   # 'Cookie': '_pxhd=mdYiLBcc63tit3jJibJ%2F040peMSCuLBfGugBouUMXLEC9jAGnm2o7oFJmsmFuu%2FJfX0aVmJSK%2FYdtgMj7tbMew%3D%3D%3Ar9UfQEUYE10y54DYjJFxq6l35IeHy2gOjxKu11tMXeVCb94QK6MGm5DByQUe5u71punk7p%2FVm4AiJXiL9AKGxFafdnJ9R60Ss%2FsLD%2F%2FBHVE%3D; cors_js=1; BJS=-; _ga=GA1.2.1687431912.1626384329; _gid=GA1.2.1200067750.1626384329; _pxvid=2c32b741-e5b3-11eb-8d93-8b8d2b0b649b; bkng_prue=1; _gcl_au=1.1.2085545831.1626384330; _scid=bc1f19c8-ed76-476a-9223-c3b3214bbdbb; _pin_unauth=dWlkPVpUWmpaV1ppTTJRdE1HTXdOaTAwT0RZMUxXRTBPRFF0WlRsalptUTNPVEpqTlRFMw; bkng_sso_session=e30; OptanonConsent=isIABGlobal=false&datestamp=Fri+Jul+16+2021+18%3A48%3A17+GMT%2B0200+(Central+European+Summer+Time)&version=6.13.0&hosts=&consentId=80a2ad46-1131-462b-b3e8-86525b213aff&interactionCount=1&landingPath=https%3A%2F%2Fwww.booking.com%2Fsearchresults.fr.html%3Flang%3Dfr%26ss%3Dmarseille; b=%7B%22countLang%22%3A4%7D; _uetsid=2e00a840e5b311eb8cc02b89a9c90c8c; _uetvid=2e00e5f0e5b311eb80339f010ae80e2e; bkng_sso_ses=eyJib29raW5nX2dsb2JhbCI6W3siaCI6IjUweHh2R3BmakNzT1hOcTBiOTdEbXhnb1h2dnkwbzB6ZGJCWlVDRDZTVFkiLCJhIjoxfV19; has_preloaded=1; lastSeen=0; _px3=58c646ee6d40044a4364cc94f311b6048ef2ac12196ac1a7bc8824f2da1557e4:TR9So7ahzX/IBYxS0nqERDt2fb4pVGALg7Y9N0jZDoqqt+hRPZYjjvyAfu9VMy+bYqM0juGlGiibsxxHfKXNqg==:1000:Kh8hB+6j3CrfULcuF/WBnz2nBAiuZr8Kz9hM96EUaT35TeVf2rfo/DxyfsjnaSINKMloOgEJ91k5jojij09RYWEwC+qNHyGIdGSQdmNcqRNPxZlFDAijUgzbpeCF1Rkwy6wmTCjHwpP2FlYJpf27Fmv9CmKdmT40FdGsZBPstl85CP5m8diF4mKVzgo1GTh/z4R0pNWed2LwgmqyRkAqNQ==; _gat=1; bkng=11UmFuZG9tSVYkc2RlIyh9YXjA6rtNF48dyfPzTHjBgvttBSFWKt4b%2FJsFX4xc2u4BUuXbdgM1scm2%2BLdf0W0naqCGB4B84g9P%2FCzkn%2BoLpnIMP1dZ4klXcZywzgQJ%2B3a0j2xtaKAMZV7AZ7BQgj1F0MSOlgJfuuMYGkgQzG2u00qLme5pYphAIKMqZqkNUWC%2F2hD55O7fwiM%3D; _pxde=82a04d2a329ae6aec4a13bfc3237f8f62610dd2e9dfdc33925102941fc0e9fcf:eyJ0aW1lc3RhbXAiOjE2MjY1MDgxOTcxOTgsImZfa2IiOjAsImlwY19pZCI6W119' ,\n",
    "    'User-Agent':'Mozilla/5.0 (Windows NT 10.0; Win64; x64) AppleWebKit/537.36 (KHTML, like Gecko) Chrome/91.0.4472.124 Safari/537.36'\n",
    "    }"
   ]
  },
  {
   "cell_type": "code",
   "execution_count": 9,
   "id": "noble-helen",
   "metadata": {},
   "outputs": [],
   "source": [
    "#28 / 07\n",
    "base_url = \"https://www.booking.com/searchresults.fr.html?\""
   ]
  },
  {
   "cell_type": "code",
   "execution_count": 16,
   "id": "presidential-millennium",
   "metadata": {},
   "outputs": [],
   "source": [
    "params = {'lang':'fr', \n",
    "'ss': 'Saint+Malo',\n",
    "}"
   ]
  },
  {
   "cell_type": "code",
   "execution_count": 17,
   "id": "transparent-mustang",
   "metadata": {},
   "outputs": [],
   "source": [
    "concat_params = [f'{key}={value}' for key, value in params.items()]\n",
    "concat_params = '&'.join(concat_params)"
   ]
  },
  {
   "cell_type": "code",
   "execution_count": 18,
   "id": "asian-sustainability",
   "metadata": {},
   "outputs": [
    {
     "name": "stdout",
     "output_type": "stream",
     "text": [
      "https://www.booking.com/searchresults.fr.html?&lang=fr&ss=Saint+Malo\n"
     ]
    }
   ],
   "source": [
    "url = base_url+'&'+concat_params\n",
    "print(url)"
   ]
  },
  {
   "cell_type": "code",
   "execution_count": 19,
   "id": "oriented-machine",
   "metadata": {},
   "outputs": [],
   "source": [
    "res = requests.get(url, headers=headers)"
   ]
  },
  {
   "cell_type": "code",
   "execution_count": 35,
   "id": "patient-makeup",
   "metadata": {},
   "outputs": [],
   "source": [
    "soup = BeautifulSoup(res.text, 'html.parser')"
   ]
  },
  {
   "cell_type": "code",
   "execution_count": 36,
   "id": "representative-dividend",
   "metadata": {},
   "outputs": [],
   "source": [
    "divs = soup.find_all('div', class_='sr_item')"
   ]
  },
  {
   "cell_type": "code",
   "execution_count": 37,
   "id": "dramatic-shopper",
   "metadata": {},
   "outputs": [],
   "source": [
    "from lxml import etree"
   ]
  },
  {
   "cell_type": "code",
   "execution_count": 38,
   "id": "radio-stupid",
   "metadata": {},
   "outputs": [],
   "source": [
    "dom = etree.HTML(str(soup))"
   ]
  },
  {
   "cell_type": "code",
   "execution_count": 50,
   "id": "palestinian-proportion",
   "metadata": {},
   "outputs": [],
   "source": [
    "divs = dom.xpath('//div[@class=\"sr_item\"]')"
   ]
  },
  {
   "cell_type": "code",
   "execution_count": 51,
   "id": "covered-arbor",
   "metadata": {},
   "outputs": [
    {
     "data": {
      "text/plain": [
       "0"
      ]
     },
     "execution_count": 51,
     "metadata": {},
     "output_type": "execute_result"
    }
   ],
   "source": [
    "len(divs)"
   ]
  },
  {
   "cell_type": "code",
   "execution_count": 22,
   "id": "internal-diploma",
   "metadata": {},
   "outputs": [
    {
     "data": {
      "text/plain": [
       "25"
      ]
     },
     "execution_count": 22,
     "metadata": {},
     "output_type": "execute_result"
    }
   ],
   "source": [
    "len(divs)"
   ]
  },
  {
   "cell_type": "code",
   "execution_count": null,
   "id": "handy-furniture",
   "metadata": {},
   "outputs": [],
   "source": [
    "res.text[500:700]"
   ]
  },
  {
   "cell_type": "code",
   "execution_count": null,
   "id": "commercial-designation",
   "metadata": {
    "tags": []
   },
   "outputs": [],
   "source": [
    "headers = {\n",
    "    'Accept': 'application/json',\n",
    "    'Accept-Encoding': 'gzip, deflate, br',\n",
    "   # 'Cookie': '_pxhd=mdYiLBcc63tit3jJibJ%2F040peMSCuLBfGugBouUMXLEC9jAGnm2o7oFJmsmFuu%2FJfX0aVmJSK%2FYdtgMj7tbMew%3D%3D%3Ar9UfQEUYE10y54DYjJFxq6l35IeHy2gOjxKu11tMXeVCb94QK6MGm5DByQUe5u71punk7p%2FVm4AiJXiL9AKGxFafdnJ9R60Ss%2FsLD%2F%2FBHVE%3D; cors_js=1; BJS=-; _ga=GA1.2.1687431912.1626384329; _gid=GA1.2.1200067750.1626384329; _pxvid=2c32b741-e5b3-11eb-8d93-8b8d2b0b649b; bkng_prue=1; _gcl_au=1.1.2085545831.1626384330; _scid=bc1f19c8-ed76-476a-9223-c3b3214bbdbb; _pin_unauth=dWlkPVpUWmpaV1ppTTJRdE1HTXdOaTAwT0RZMUxXRTBPRFF0WlRsalptUTNPVEpqTlRFMw; bkng_sso_session=e30; OptanonConsent=isIABGlobal=false&datestamp=Fri+Jul+16+2021+18%3A48%3A17+GMT%2B0200+(Central+European+Summer+Time)&version=6.13.0&hosts=&consentId=80a2ad46-1131-462b-b3e8-86525b213aff&interactionCount=1&landingPath=https%3A%2F%2Fwww.booking.com%2Fsearchresults.fr.html%3Flang%3Dfr%26ss%3Dmarseille; b=%7B%22countLang%22%3A4%7D; _uetsid=2e00a840e5b311eb8cc02b89a9c90c8c; _uetvid=2e00e5f0e5b311eb80339f010ae80e2e; bkng_sso_ses=eyJib29raW5nX2dsb2JhbCI6W3siaCI6IjUweHh2R3BmakNzT1hOcTBiOTdEbXhnb1h2dnkwbzB6ZGJCWlVDRDZTVFkiLCJhIjoxfV19; has_preloaded=1; lastSeen=0; _px3=58c646ee6d40044a4364cc94f311b6048ef2ac12196ac1a7bc8824f2da1557e4:TR9So7ahzX/IBYxS0nqERDt2fb4pVGALg7Y9N0jZDoqqt+hRPZYjjvyAfu9VMy+bYqM0juGlGiibsxxHfKXNqg==:1000:Kh8hB+6j3CrfULcuF/WBnz2nBAiuZr8Kz9hM96EUaT35TeVf2rfo/DxyfsjnaSINKMloOgEJ91k5jojij09RYWEwC+qNHyGIdGSQdmNcqRNPxZlFDAijUgzbpeCF1Rkwy6wmTCjHwpP2FlYJpf27Fmv9CmKdmT40FdGsZBPstl85CP5m8diF4mKVzgo1GTh/z4R0pNWed2LwgmqyRkAqNQ==; _gat=1; bkng=11UmFuZG9tSVYkc2RlIyh9YXjA6rtNF48dyfPzTHjBgvttBSFWKt4b%2FJsFX4xc2u4BUuXbdgM1scm2%2BLdf0W0naqCGB4B84g9P%2FCzkn%2BoLpnIMP1dZ4klXcZywzgQJ%2B3a0j2xtaKAMZV7AZ7BQgj1F0MSOlgJfuuMYGkgQzG2u00qLme5pYphAIKMqZqkNUWC%2F2hD55O7fwiM%3D; _pxde=82a04d2a329ae6aec4a13bfc3237f8f62610dd2e9dfdc33925102941fc0e9fcf:eyJ0aW1lc3RhbXAiOjE2MjY1MDgxOTcxOTgsImZfa2IiOjAsImlwY19pZCI6W119' ,\n",
    "    'User-Agent':'Mozilla/5.0 (Windows NT 10.0; Win64; x64) AppleWebKit/537.36 (KHTML, like Gecko) Chrome/91.0.4472.124 Safari/537.36'\n",
    "    }"
   ]
  },
  {
   "cell_type": "code",
   "execution_count": null,
   "id": "iraqi-jaguar",
   "metadata": {},
   "outputs": [],
   "source": [
    "url_citycode = 'https://www.booking.com/autocomplete_csrf?v=1&lang=fr&sid=f7b24d12e53e7f2a0fabe8c4c2fda2e7&aid=304142&pid=8fa53bd55d4500f6&stype=1&src=index&eb=0&e_obj_labels=1&e_tclm=1&e_smmd=2&e_ms=1&e_msm=1&e_themes_msm_1=1&add_themes=1&themes_match_start=1&include_synonyms=1&sort_nr_destinations=1&gpf=1&term=Saint&_=1628065837179'"
   ]
  },
  {
   "cell_type": "code",
   "execution_count": null,
   "id": "prospective-possible",
   "metadata": {},
   "outputs": [],
   "source": [
    "res_cities = requests.get(url_citycode, headers=headers)"
   ]
  },
  {
   "cell_type": "code",
   "execution_count": null,
   "id": "saving-lawrence",
   "metadata": {},
   "outputs": [],
   "source": [
    "res_cities.text"
   ]
  },
  {
   "cell_type": "code",
   "execution_count": null,
   "id": "powerful-archive",
   "metadata": {},
   "outputs": [],
   "source": [
    "|"
   ]
  }
 ],
 "metadata": {
  "kernelspec": {
   "display_name": "kernel-pez-jedha",
   "language": "python",
   "name": "kernel-pez-jedha"
  },
  "language_info": {
   "codemirror_mode": {
    "name": "ipython",
    "version": 3
   },
   "file_extension": ".py",
   "mimetype": "text/x-python",
   "name": "python",
   "nbconvert_exporter": "python",
   "pygments_lexer": "ipython3",
   "version": "3.9.5"
  }
 },
 "nbformat": 4,
 "nbformat_minor": 5
}
