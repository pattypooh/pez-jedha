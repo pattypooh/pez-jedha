{
 "cells": [
  {
   "cell_type": "code",
   "execution_count": null,
   "metadata": {},
   "outputs": [],
   "source": [
    "#!pip install scrapy"
   ]
  },
  {
   "cell_type": "code",
   "execution_count": 1,
   "metadata": {},
   "outputs": [],
   "source": [
    "import pandas as pd, requests"
   ]
  },
  {
   "cell_type": "code",
   "execution_count": 2,
   "metadata": {},
   "outputs": [],
   "source": [
    "import os \n",
    "import logging\n",
    "# Import scrapy and scrapy.crawler \n",
    "import scrapy\n",
    "from scrapy.crawler import CrawlerProcess"
   ]
  },
  {
   "cell_type": "code",
   "execution_count": 3,
   "metadata": {},
   "outputs": [],
   "source": [
    "import operator"
   ]
  },
  {
   "cell_type": "code",
   "execution_count": 4,
   "metadata": {},
   "outputs": [],
   "source": [
    "cities = [\"Mont Saint Michel\",\"St Malo\",\"Bayeux\",\"Le Havre\",\"Rouen\",\"Paris\",\"Amiens\",\"Lille\",\"Strasbourg\",\n",
    "          \"Chateau du Haut Koenigsbourg\",\"Colmar\",\"Eguisheim\",\"Besancon\",\"Dijon\",\"Annecy\",\"Grenoble\",\"Lyon\",\n",
    "          \"Gorges du Verdon\",\"Bormes les Mimosas\",\"Cassis\",\"Marseille\",\"Aix en Provence\",\"Avignon\",\"Uzes\",\"Nimes\",\n",
    "          \"Aigues Mortes\",\"Saintes Maries de la mer\",\"Collioure\",\"Carcassonne\",\"Ariege\",\"Toulouse\",\"Montauban\",\n",
    "          \"Biarritz\",\"Bayonne\",\"La Rochelle\"]"
   ]
  },
  {
   "cell_type": "code",
   "execution_count": 5,
   "metadata": {},
   "outputs": [],
   "source": [
    "cities_red = [\"Mont Saint Michel\",\"St Malo\",\"Bayeux\",\"Le Havre\",\"Rouen\",\"Paris\",\"Amiens\",\"Lille\"]"
   ]
  },
  {
   "cell_type": "raw",
   "metadata": {},
   "source": [
    "class WeatherScrapper(scrapy.Spider):\n",
    "    name = \"weatherSpider\"\n",
    "    start_urls = [\"\"]\n",
    "    "
   ]
  },
  {
   "cell_type": "markdown",
   "metadata": {},
   "source": [
    "## Retrieve citie's coordinates"
   ]
  },
  {
   "cell_type": "code",
   "execution_count": 8,
   "metadata": {},
   "outputs": [],
   "source": [
    "def retrieve_one_city(city:str)->dict:\n",
    "    url = f'https://nominatim.openstreetmap.org/search?country=France&format=jsonv2&class=boundary&limit=1&city={city}'\n",
    "    result = requests.get(url)\n",
    "    try:\n",
    "        return result.json()[0]\n",
    "    except IndexError as error:\n",
    "        print('There is no result in the query')\n",
    "        return None"
   ]
  },
  {
   "cell_type": "code",
   "execution_count": 9,
   "metadata": {},
   "outputs": [],
   "source": [
    "url = \"https://nominatim.openstreetmap.org/search?country=France&format=json&class=boundary\""
   ]
  },
  {
   "cell_type": "code",
   "execution_count": 10,
   "metadata": {},
   "outputs": [
    {
     "data": {
      "text/plain": [
       "dict"
      ]
     },
     "execution_count": 10,
     "metadata": {},
     "output_type": "execute_result"
    }
   ],
   "source": [
    "json_res = retrieve_one_city(\"Bayeux\")\n",
    "type(json_res)"
   ]
  },
  {
   "cell_type": "code",
   "execution_count": 11,
   "metadata": {},
   "outputs": [],
   "source": [
    "results = list()\n",
    "for city in cities_red:\n",
    "    results.append(retrieve_one_city(city))"
   ]
  },
  {
   "cell_type": "code",
   "execution_count": 12,
   "metadata": {},
   "outputs": [
    {
     "data": {
      "text/plain": [
       "[{'place_id': 256949255,\n",
       "  'licence': 'Data © OpenStreetMap contributors, ODbL 1.0. https://osm.org/copyright',\n",
       "  'osm_type': 'relation',\n",
       "  'osm_id': 376823,\n",
       "  'boundingbox': ['48.6119741', '48.637031', '-1.5495487', '-1.5094805'],\n",
       "  'lat': '48.6355232',\n",
       "  'lon': '-1.5102571',\n",
       "  'display_name': 'Le Mont-Saint-Michel, Avranches, Manche, Normandie, France métropolitaine, 50170, France',\n",
       "  'place_rank': 16,\n",
       "  'category': 'boundary',\n",
       "  'type': 'administrative',\n",
       "  'importance': 0.9612740929650574,\n",
       "  'icon': 'https://nominatim.openstreetmap.org/ui/mapicons//poi_boundary_administrative.p.20.png'},\n",
       " {'place_id': 256985223,\n",
       "  'licence': 'Data © OpenStreetMap contributors, ODbL 1.0. https://osm.org/copyright',\n",
       "  'osm_type': 'relation',\n",
       "  'osm_id': 905534,\n",
       "  'boundingbox': ['48.5979853', '48.6949736', '-2.0768518', '-1.9367259'],\n",
       "  'lat': '48.6454528',\n",
       "  'lon': '-2.015418',\n",
       "  'display_name': 'Saint-Malo, Ille-et-Vilaine, Bretagne, France métropolitaine, 35400, France',\n",
       "  'place_rank': 16,\n",
       "  'category': 'boundary',\n",
       "  'type': 'administrative',\n",
       "  'importance': 0.7864672172428953,\n",
       "  'icon': 'https://nominatim.openstreetmap.org/ui/mapicons//poi_boundary_administrative.p.20.png'}]"
      ]
     },
     "execution_count": 12,
     "metadata": {},
     "output_type": "execute_result"
    }
   ],
   "source": [
    "results[:2]"
   ]
  },
  {
   "cell_type": "markdown",
   "metadata": {},
   "source": [
    "## Getting the weather"
   ]
  },
  {
   "cell_type": "code",
   "execution_count": 13,
   "metadata": {},
   "outputs": [],
   "source": [
    "lat='48.6454528'\n",
    "lon='-2.015418'\n",
    "part='minutely,hourly'\n",
    "api_key='662b304886186ebe717af2be19cb4764'"
   ]
  },
  {
   "cell_type": "code",
   "execution_count": 14,
   "metadata": {},
   "outputs": [],
   "source": [
    "url = f'https://api.openweathermap.org/data/2.5/onecall?lat={lat}&lon={lon}&exclude={part}&appid={api_key}'"
   ]
  },
  {
   "cell_type": "code",
   "execution_count": 15,
   "metadata": {},
   "outputs": [],
   "source": [
    "r = requests.get(url)"
   ]
  },
  {
   "cell_type": "code",
   "execution_count": 16,
   "metadata": {},
   "outputs": [
    {
     "data": {
      "text/plain": [
       "<Response [200]>"
      ]
     },
     "execution_count": 16,
     "metadata": {},
     "output_type": "execute_result"
    }
   ],
   "source": [
    "r"
   ]
  },
  {
   "cell_type": "code",
   "execution_count": 17,
   "metadata": {},
   "outputs": [
    {
     "data": {
      "text/plain": [
       "b'{\"lat\":48.6455,\"lon\":-2.0154,\"timezone\":\"Europe/Paris\",\"timezone_offset\":7200,\"current\":{\"dt\":162611'"
      ]
     },
     "execution_count": 17,
     "metadata": {},
     "output_type": "execute_result"
    }
   ],
   "source": [
    "r.content[:100]"
   ]
  },
  {
   "cell_type": "markdown",
   "metadata": {},
   "source": [
    "## Retrieve booking.com page to analyze it"
   ]
  },
  {
   "cell_type": "markdown",
   "metadata": {},
   "source": [
    "### Create parameters for the robot"
   ]
  },
  {
   "cell_type": "code",
   "execution_count": null,
   "metadata": {},
   "outputs": [],
   "source": [
    "user_agent = ''\n"
   ]
  },
  {
   "cell_type": "code",
   "execution_count": 26,
   "metadata": {},
   "outputs": [],
   "source": [
    "url = 'https://www.booking.com/searchresults.es.html?label=gen173nr-1FCAEoggI46AdIM1gEaE2IAQGYAQq4ARfIAQzYAQHoAQH4AQuIAgGoAgO4Asv1uocGwAIB0gIkNWUyZjM1OTUtYzJlMC00ZjgwLTgwOGQtZTZlOGMwNGY1M2Qx2AIG4AIB&sid=e9ba9a6c9dc28f914d44c04a61986811&sb=1&sb_lp=1&src=index&src_elem=sb&error_url=https%3A%2F%2Fwww.booking.com%2Findex.es.html%3Flabel%3Dgen173nr-1FCAEoggI46AdIM1gEaE2IAQGYAQq4ARfIAQzYAQHoAQH4AQuIAgGoAgO4Asv1uocGwAIB0gIkNWUyZjM1OTUtYzJlMC00ZjgwLTgwOGQtZTZlOGMwNGY1M2Qx2AIG4AIB%3Bsid%3De9ba9a6c9dc28f914d44c04a61986811%3Bsb_price_type%3Dtotal%26%3B&ss=Par%C3%ADs%2C+%C3%8Ele-de-France%2C+Francia&is_ski_area=0&checkin_year=2021&checkin_month=8&checkin_monthday=1&checkout_year=2021&checkout_month=8&checkout_monthday=8&group_adults=1&group_children=0&no_rooms=1&b_h4u_keep_filters=&from_sf=1&ss_raw=Paris&ac_position=0&ac_langcode=es&ac_click_type=b&dest_id=-1456928&dest_type=city&iata=PAR&place_id_lat=48.856682&place_id_lon=2.351476&search_pageview_id=67c048e5ff51012e&search_selected=true'"
   ]
  },
  {
   "cell_type": "code",
   "execution_count": 27,
   "metadata": {},
   "outputs": [],
   "source": [
    "res = requests.get(url)"
   ]
  },
  {
   "cell_type": "code",
   "execution_count": 24,
   "metadata": {},
   "outputs": [],
   "source": [
    "from bs4 import BeautifulSoup"
   ]
  },
  {
   "cell_type": "code",
   "execution_count": 225,
   "metadata": {},
   "outputs": [],
   "source": [
    "soup = BeautifulSoup(res.text, 'lxml')"
   ]
  },
  {
   "cell_type": "code",
   "execution_count": 226,
   "metadata": {},
   "outputs": [
    {
     "name": "stdout",
     "output_type": "stream",
     "text": [
      "59\n"
     ]
    }
   ],
   "source": [
    "inputs = soup.find_all('input')\n",
    "print(len(inputs))\n"
   ]
  },
  {
   "cell_type": "code",
   "execution_count": 227,
   "metadata": {},
   "outputs": [
    {
     "name": "stdout",
     "output_type": "stream",
     "text": [
      "form, input, label\n",
      "form, input, lang\n",
      "form, input, sb\n",
      "form, input, sb_lp\n",
      "form, input, src\n",
      "form, input, src_elem\n",
      "form, input, error_url\n",
      "label, input, ss\n",
      "div, input, ssne\n",
      "div, input, ssne_untouched\n",
      "div, input, city\n",
      "div, input, checkin_year\n",
      "div, input, checkin_month\n",
      "div, input, checkout_year\n",
      "div, input, checkout_month\n",
      "div, input, None\n",
      "div, input, group_adults\n",
      "div, input, group_children\n",
      "div, input, no_rooms\n",
      "div, input, sb_travel_purpose\n",
      "form, input, b_h4u_keep_filters\n",
      "span, input, None\n",
      "span, input, None\n",
      "span, input, None\n",
      "span, input, None\n",
      "span, input, None\n",
      "span, input, None\n",
      "span, input, None\n",
      "span, input, None\n",
      "span, input, None\n",
      "form, input, label\n",
      "form, input, lang\n",
      "form, input, url\n",
      "form, input, hostname\n",
      "form, input, companyname\n",
      "form, input, aid\n",
      "form, input, label\n",
      "form, input, endpoint_url\n",
      "form, input, error_url\n",
      "form, input, dest_type\n",
      "form, input, dest_id\n",
      "form, input, subscribe_source\n",
      "form, input, opt_in\n",
      "div, input, to\n",
      "div, input, label\n",
      "div, input, lang\n",
      "div, input, url\n",
      "div, input, hostname\n",
      "div, input, companyname\n",
      "div, input, aid\n",
      "div, input, label\n",
      "<input aria-autocomplete=\"both\" aria-label=\"Escribe tu destino\" autocomplete=\"off\" class=\"c-autocomplete__input sb-searchbox__input sb-destination__input\" data-component=\"search/destination/input-placeholder\" data-input=\"\" data-sb-id=\"main\" id=\"ss\" name=\"ss\" placeholder=\"¿Adónde vas?\" type=\"text\" value=\"París\"/>\n",
      "\n"
     ]
    }
   ],
   "source": [
    "for i, input in enumerate(inputs):\n",
    "    print(f'{input.parent.name}, {input.name}, {input.attrs.get(\"name\")}')\n",
    "    if i == 50:\n",
    "        break\n",
    "    #print(input.attrs.get('name'))\n",
    "print (inputs[7].prettify())    "
   ]
  },
  {
   "cell_type": "code",
   "execution_count": 63,
   "metadata": {},
   "outputs": [],
   "source": [
    "checkin_list = soup.find('input', name=\"\")\n"
   ]
  },
  {
   "cell_type": "code",
   "execution_count": 65,
   "metadata": {},
   "outputs": [
    {
     "name": "stdout",
     "output_type": "stream",
     "text": [
      "None\n"
     ]
    }
   ],
   "source": [
    "print(checkin_list)"
   ]
  },
  {
   "cell_type": "code",
   "execution_count": 246,
   "metadata": {},
   "outputs": [],
   "source": [
    "payload = {'lang':'fr',\n",
    "    'src':'index',\n",
    "          # 'dest_id': '-1456928',\n",
    "           'ssne':'Paris',\n",
    "           'checkin_year':'2021',\n",
    "        'checkin_month':'8',\n",
    "        'checkin_monthday':'1',\n",
    "        'checkout_year':'2021',\n",
    "        'checkout_month':'8',\n",
    "        'checkout_monthday':'8',\n",
    "        'group_adults':'1',\n",
    "        'group_children':'0',\n",
    "        'no_rooms':'1',\n",
    "       # 'dest_type':'city',\n",
    "     #   'place_id_lat':'43.270341096',\n",
    "     #   'place_id_lon':'6.58300667600003',\n",
    "        #'ss':'Port Grimaud, Grimaud, Provenza-Alpes-Costa+Azul, Francia',\n",
    "        # 'map':'1',\n",
    "        #   'sb':'1',\n",
    "        #   'sb_lp':'1',\n",
    "        'src_elem':'sb',\n",
    "           'from_sf':'1',\n",
    "           'ss':'Paris',\n",
    "           'ssne':'Paris',\n",
    "          }"
   ]
  },
  {
   "cell_type": "code",
   "execution_count": 254,
   "metadata": {},
   "outputs": [],
   "source": [
    "payload = {'lang':'fr',\n",
    "    'ss':'Marseille'}"
   ]
  },
  {
   "cell_type": "code",
   "execution_count": 260,
   "metadata": {},
   "outputs": [],
   "source": [
    "url2 = \"https://www.booking.com/searchresults.fr.html?lang=fr&ss=Marseille\"\n",
    "#url2 = \"https://www.booking.com/searchresults.fr.html?lang=fr&sb=1&sb_lp=1&src=index&src_elem=sb&ss=Paris&is_ski_area=0&ssne=Paris&ssne_untouched=Paris&dest_id=-1456928&dest_type=city&checkin_year=2021&checkin_month=8&checkin_monthday=1&checkout_year=2021&checkout_month=8&checkout_monthday=8&group_adults=1&group_children=0&no_rooms=1&b_h4u_keep_filters=&from_sf=1\"\n",
    "r2 = requests.get(url2)"
   ]
  },
  {
   "cell_type": "code",
   "execution_count": 270,
   "metadata": {},
   "outputs": [
    {
     "data": {
      "text/plain": [
       "'igners and developers to work in Amsterdam:\\nhttps://careers.booking.com/\\n-->\\n<!-- wdot-802 -->\\n<script type=\"text/javascript\" nonce=\"XX6qL4pbdyUJRqQ\" src=\"https://cdn.cookielaw.org/consent/3ea94870-d4b1-483a-b1d2-faf1d982bb31/OtAutoBlock.js\"></script>\\n<script type=\"text/javascript\" nonce=\"XX6qL4pbdyUJRqQ\" src=\"https://cf.bstatic.com/libs/privacy-consent/1.0.1/customer/cookie-banner.min.js\" data-domain-script=\"3ea94870-d4b1-483a-b1d2-faf1d982bb31\"></script>\\n<script type=\"text/javascript\" nonce=\"XX6qL4pbdyUJRqQ\">\\n(function () {\\ndocument.addEventListener(\\'cookie_banner_closed\\', function(e) {\\nif (window.PCM && window.B && window.B.et) {\\nwindow.B.et.goal((window.PCM.Marketing || window.PCM.Analytical) ? \\'cookie_consent_accepted_policy_banner\\' : \\'cookie_consent_declined_policy_banner\\');\\n}\\n});\\ndocument.addEventListener(\\'click\\', function(e) {\\nif (e.target && e.target.classList.contains(\\'ot-preference-center-footer\\')) {\\ne.preventDefault();\\nOptanon && Optanon.ToggleInfoDisplay();\\n}\\n});\\n})();\\n</script>\\n<link href=\"https://cf.bstatic.com\" rel=\"dns-prefetch\" crossorigin>\\n<link href=\"https://cf.bstatic.com\" rel=\"dns-prefetch\" crossorigin>\\n<link href=\"https://shelves.booking.com/\" rel=\"preconnect\" crossorigin>\\n<html lang=\"fr\" prefix=\"og: http://ogp.me/ns# fb: http://ogp.me/ns/fb# booking_com: http://ogp.me/ns/fb/booking_com#\" class=\"noJS b_bot b_bot supports_fontface supports_hyphens \" >\\n<hea'"
      ]
     },
     "execution_count": 270,
     "metadata": {},
     "output_type": "execute_result"
    }
   ],
   "source": [
    "r2.text[100:1500]"
   ]
  },
  {
   "cell_type": "code",
   "execution_count": 266,
   "metadata": {},
   "outputs": [],
   "source": [
    "soup2 = BeautifulSoup(r2.text, 'lxml')"
   ]
  },
  {
   "cell_type": "code",
   "execution_count": 268,
   "metadata": {},
   "outputs": [
    {
     "name": "stdout",
     "output_type": "stream",
     "text": [
      "<title>Los 10 mejores hoteles de París, Francia (desde € 50)</title>\n",
      "438\n"
     ]
    }
   ],
   "source": [
    "print(soup.title)\n",
    "print(len(soup2.find_all('div')))\n"
   ]
  },
  {
   "cell_type": "code",
   "execution_count": 263,
   "metadata": {},
   "outputs": [
    {
     "data": {
      "text/plain": [
       "\"\\n\\n\\n\\n\\n\\n\\n\\n\\n\\n\\n\\n\\n\\n\\n\\n\\n\\n\\n\\n\\n\\n\\n\\n\\n\\n\\n\\n\\n\\n\\n\\n\\n\\nBooking.com\\n:\\nRésultats de votre recherche\\n.\\nRéservez votre hôtel dès maintenant\\xa0!\\n\\n\\n\\n\\n\\n\\n\\n\\n\\n\\n\\n\\n\\n\\n\\n\\n\\n\\n\\n\\n\\n\\n\\n\\n\\n\\n\\n\\n\\n\\n\\n\\n\\n\\n\\n\\n\\n\\n\\n\\n\\n\\n\\n\\n\\n\\n\\n\\n\\n\\n\\n\\n\\n\\n\\n\\n\\n\\n\\n\\n\\n\\n\\n\\n\\n\\n\\n\\n\\n\\n\\n\\n\\n\\n\\n\\n\\n\\n\\n\\n\\n\\n\\n\\n\\n\\n\\nGog_sr_cc_less\\nAccéder au contenu principal\\n\\n\\n\\n\\n\\n\\n\\n\\n\\n\\n\\n\\n\\n\\n\\n\\n\\n\\n\\nEUR\\n\\n\\nChoisissez votre devise.\\nVotre devise actuelle est celle-ci\\xa0: Euro.\\n\\n\\n\\n\\n\\n\\n\\n\\n\\n\\n\\nChoisissez votre langue.\\nVotre langue actuelle est celle-ci\\xa0: Français.\\n\\n\\n\\n\\n\\n\\n\\n\\n\\n\\n\\n\\nObtenez de l'aide concernant votre réservation\\n\\n\\n\\n\\n\\n\\n\\n\\nAjoutez votre établissement\\n\\n\\n\\n\\n\\n\\nS'inscrire\\n\\n\\n\\n\\n\\n\\n\\nSe connecter\\n\\n\\n\\n\\n\\n\\n\\n\\n\\n\\n\\n\\nHébergements\\n\\n\\n\\n\\n\\n\\n\\n\\nVols\\n\\n\\n\\n\\n\\n\\n\\n\\nVol + hôtel\\n\\n\\n\\n\\n\\n\\n\\n\\nVoitures de location\\n\\n\\n\\n\\n\\n\\n\\n\\nAttractions\\n\\n\\n\\n\\n\\n\\n\\n\\nTaxis aéroport\\n\\n\\n\\n\\n\\n\\n\\n\\n\\n\\n\\n\\n\\n\\nAssistance coronavirus (COVID-19)\\n\\n\\n\\nObtenez les conseils de voyage dont vous avez besoin et consultez les éventuelles restrictions de déplacements avant de partir.\\n\\n\\n\\nEn savoir plus\\n\\n\\n\\n\\n\\n\\n\\n\\n\\n\\n\\n\\n\\n\\nAccueil\\n\\n\\n\\n\\n\\n\\n\\n\\n\\nRésultats de votre recherche\\n\\n\\n\\n\\n\\n\\n\\n\\n\\n\\n\\n\\n\\n\\n\\n\\n\\n\\n\\n\\n\\n\\n\\n\\n\\n\\n\\n\\n\\n\\n\\n\\n\\n\\n\\n\\n\\n0 établissements sont disponibles dans votre destination et aux alentours\\n\\n\\n\\n\\n\\n\\n\\n\\nVoir sur la carte\\n\\n\\n\\n\\n\\n\\n\\n\\n\\n\\n\\nNos préférésLogements entiersÉtoiles (par ordre décroissant)Étoiles (par ordre croissant)Le plus de commentaires positifs\\n\\n\\n\\nLe montant de la commission payée et d'autres facteurs peuvent affecter le classement d'un hébergement. En savoir plus.\\n\\n\\n\\n\\n\\n\\n\\n\\n\\nVoici les résultats pour \\n\\n\\n\\n\\n\\n\\n\\n\\n\\n \\n\\n\\n\\nCet établissement fait partie de notre programme Partenaires Préférés. Il s'engage à fournir une expérience positive aux clients grâce à ses services de choix et à son bon rapport qualité/prix. Il est possible que cet établissement participe au programme en payant une commission un peu plus élevée à Booking.com.\\n\\n\\n\\n\\n\\n\\n\\n\\n\\n\\n\\n\\n\\n\\n\\n\\nRechercher\\n\\n\\n\\n\\n\\n\\n\\n\\n\\n\\n\\n\\n\\n\\n\\nDestination / Nom de l'établissement\\xa0:\\n\\n\\n\\n\\n\\n\\n\\n\\n\\n\\n\\n\\n\\nErreur\\xa0: \\nVeuillez indiquer une destination pour lancer la recherche.\\n\\n\\n\\n\\n\\n\\n\\n\\nDu\\xa0 \\n\\n\\n\\n\\n\\n\\n+\\n\\n\\n\\n\\n\\n\\n\\n\\n\\n\\n\\n\\n\\n\\n\\n\\n\\n\\n\\n\\n\\n\\n\\n\\n\\nDate d'arrivée\\n\\n\\n\\n\\n\\n\\n\\nAu\\xa0 \\n\\n\\n\\n\\n\\n\\n+\\n\\n\\n\\n\\n\\n\\n\\n\\n\\n\\n\\n\\n\\n\\n\\n\\n\\n\\n\\n\\n\\n\\n\\n\\n\\nDate de départ\\n\\n\\n\\n\\n\\n\\n\\n\\n\\n\\n\\n\\n\\n\\n\\n\\n\\n\\n\\n\\n\\n\\n\\n\\n\\n\\n\\n\\n\\n\\n\\n\\n\\n\\n\\n\\n\\n1 adulte\\n\\n\\n2 adultes\\n\\n\\n3 adultes\\n\\n\\n4 adultes\\n\\n\\n5 adultes\\n\\n\\n6 adultes\\n\\n\\n7 adultes\\n\\n\\n8 adultes\\n\\n\\n9 adultes\\n\\n\\n10 adultes\\n\\n\\n11 adultes\\n\\n\\n12 adultes\\n\\n\\n13 adultes\\n\\n\\n14 adultes\\n\\n\\n15 adultes\\n\\n\\n16 adultes\\n\\n\\n17 adultes\\n\\n\\n18 adultes\\n\\n\\n19 adultes\\n\\n\\n20 adultes\\n\\n\\n21 adultes\\n\\n\\n22 adultes\\n\\n\\n23 adultes\\n\\n\\n24 adultes\\n\\n\\n25 adultes\\n\\n\\n26 adultes\\n\\n\\n27 adultes\\n\\n\\n28 adultes\\n\\n\\n29 adultes\\n\\n\\n30 adultes\\n\\n\\n\\n\\n\\n\\n\\n\\n\\nAucun enfant\\n\\n\\n1 enfant\\n\\n\\n2 enfants\\n\\n\\n3 enfants\\n\\n\\n4 enfants\\n\\n\\n5 enfants\\n\\n\\n6 enfants\\n\\n\\n7 enfants\\n\\n\\n8 enfants\\n\\n\\n9 enfants\\n\\n\\n10 enfants\\n\\n\\n\\n\\n\\n\\n\\n\\n\\n1 chambre\\n\\n\\n2 chambres\\n\\n\\n3 chambres\\n\\n\\n4 chambres\\n\\n\\n5 chambres\\n\\n\\n6 chambres\\n\\n\\n7 chambres\\n\\n\\n8 chambres\\n\\n\\n9 chambres\\n\\n\\n10 chambres\\n\\n\\n11 chambres\\n\\n\\n12 chambres\\n\\n\\n13 chambres\\n\\n\\n14 chambres\\n\\n\\n15 chambres\\n\\n\\n16 chambres\\n\\n\\n17 chambres\\n\\n\\n18 chambres\\n\\n\\n19 chambres\\n\\n\\n20 chambres\\n\\n\\n21 chambres\\n\\n\\n22 chambres\\n\\n\\n23 chambres\\n\\n\\n24 chambres\\n\\n\\n25 chambres\\n\\n\\n26 chambres\\n\\n\\n27 chambres\\n\\n\\n28 chambres\\n\\n\\n29 chambres\\n\\n\\n30 chambres\\n\\n\\n\\n\\n\\n\\n\\n\\n\\n\\n\\n\\n\\n\\n\\n\\nLogements entiers en premier\\n\\n\\n\\n\\n\\n\\n\\n\\n\\n\\n\\n\\nJe voyage pour le travail\\n\\n\\n\\n\\n\\n\\n\\n\\n\\n\\n\\n\\nRechercher\\n\\n\\n\\n\\n\\n\\n\\n\\n\\n\\n\\n\\n\\n\\n\\n\\n\\n\\n\\n\\n\\n\\n\\n\\n\\n\\n\\n\\n\\n\\nVoir sur la carte\\n\\n\\n\\n\\n\\n\\n\\n\\n\\n\\n \\n\\n\\n\\n\\n\\n\\n\\n\\n\\n\\n\\n\\n\\n\\n\\n\\n\\n\\n\\n\\n\\n\\n\\n\\n\\nGagnez du temps et de l'argent\\xa0!\\n\\n\\nInscrivez-vous et nous vous enverrons les meilleures offres\\n\\n\\n\\n\\nSaisissez votre adresse e-mail et nous vous enverrons nos meilleures offres\\n\\n\\n\\n\\nInscrivez-vous !\\n\\n\\n\\n\\nEnvoyez-moi un lien pour télécharger GRATUITEMENT l'appli Booking.com\\xa0!\\n\\n\\n\\n\\nErreur\\xa0:\\nVeuillez saisir une adresse e-mail valide\\n\\n\\n\\nErreur\\xa0:\\nNous sommes désolés mais une erreur s'est produite.\\n\\n\\n\\nMerci\\xa0! Nous vous avons envoyé un e-mail pour vous permettre de terminer votre inscription.\\n\\n\\n\\n\\n\\n\\n\\n\\n\\n\\n\\n\\n\\n\\n\\n\\n\\nAjoutez votre établissement\\n\\n\\n\\n\\n\\n\\n\\n\\n\\nVersion mobile\\n\\n\\n\\nVotre compte\\n\\n\\n\\n\\nModification de votre réservation en ligne\\n\\n\\n\\n\\nContacter le Service Clients\\n\\n\\n\\n\\n\\nDevenir affilié\\n\\n\\n\\n\\nBooking.com Business\\n\\n\\n\\n\\n\\n\\n\\n\\n\\n\\n\\n\\nPays\\n\\n\\n\\n\\nRégions\\n\\n\\n\\n\\nVilles\\n\\n\\n\\n\\nQuartiers\\n\\n\\n\\n\\nAéroports\\n\\n\\n\\n\\nHôtels\\n\\n\\n\\n\\nSites d'intérêt\\xa0\\n\\n\\n\\n\\n\\n\\n\\n\\nHébergements indépendants\\n\\n\\n\\n\\nAppartements\\n\\n\\n\\n\\nComplexes hôteliers\\n\\n\\n\\n\\nVillas\\n\\n\\n\\n\\nAuberges de jeunesse\\n\\n\\n\\n\\nB&B / Chambres d'hôtes\\n\\n\\n\\n\\nMaisons d'hôtes\\n\\n\\n\\n\\n\\n\\n\\n\\nDes hébergements uniques\\n\\n\\n\\n\\nCommentaires\\n\\n\\n\\n\\nArticles\\n\\n\\n\\n\\nCommunautés de voyageurs\\n\\n\\n\\n\\nOffres de voyage saisonnières\\n\\n\\n\\n\\n\\n\\n\\n\\nLocation de voitures\\n\\n\\n\\n\\nComparateur de vols\\n\\n\\n\\n\\nRéservations de restaurant\\n\\n\\n\\n\\nBooking.com pour les Agents de Voyage\\n\\n\\n\\n\\nCartes Cadeaux\\n\\n\\n\\n\\n\\n\\n\\n\\nFAQ sur le coronavirus (COVID-19)\\n\\n\\n\\nÀ propos de Booking.com\\n\\n\\n\\nContacter le Service Clients\\n\\n\\n\\n\\nAide aux partenaires\\n\\n\\n\\n\\nCareers\\n\\n\\n\\n\\nDurabilité\\n\\n\\n\\n\\nActualités presse\\n\\n\\n\\n\\nCentre des ressources en matière de sécurité\\n\\n\\n\\n\\nRelations avec les investisseurs\\n\\n\\n\\n\\nConditions Générales d'Utilisation\\n\\n\\n\\n\\nRèglement des litiges\\n\\n\\n\\n\\nLe fonctionnement de notre site\\n\\n\\n\\n\\nCharte de confidentialité et informations sur les cookies\\n\\n\\n\\n\\nCookie Settings\\n\\n\\nGérer les paramètres relatifs aux cookies\\n\\n\\n\\n\\nContacts de l'entreprise\\n\\n\\n\\n\\n\\n\\n\\n\\n\\nAccéder à l'extranet\\n\\n\\n\\n\\n\\nCopyright © 1996–2021\\nBooking.com™. Tous droits réservés.\\n\\n\\n\\n\\n\\xa0\\n\\n\\n\\nBooking.com fait partie de Booking Holdings Inc., le leader mondial des voyages en ligne et services associés.\\n\\n\\n\\n\\n\\n\\n\\n\\n\\n\\n\\n\\n\\n\\n\\n\\n\\n\\n\\n\\n\\n\\n\\n\\n\\n\\n\\nDébut du contenu de la boîte de dialogue\\n\\nCommentaires authentiques de véritables clients.\\nNous disposons de plus de 70 millions de commentaires sur nos établissements, tous rédigés par de vrais clients.\\n\\n\\n\\nComment ça marche&nbsp;?\\n\\n\\n\\n\\n1\\n\\n\\n\\nTout commence par une réservation\\nTout commence par une réservation\\nLa seule façon de laisser un commentaire est d’effectuer une réservation. Ainsi, nous sommes sûrs que nos commentaires ont été rédigés par de véritables clients ayant séjourné dans l’établissement.\\n\\n\\n\\n\\n\\n\\n\\n2\\n\\n\\n\\nPuis un séjour\\nPuis un séjour\\nPendant leur séjour, les clients évaluent l’insonorisation de la chambre, l’accueil du personnel de l’établissement et bien plus encore.\\n\\n\\n\\n\\n\\n\\n\\n3\\n\\n\\n\\nEt enfin, un commentaire\\nEt enfin, un commentaire\\nÀ leur retour, les clients nous racontent leur expérience. Nous vérifions l'authenticité de chaque commentaire et supprimons les grossièretés, avant de les afficher sur notre site.\\n\\n\\n\\n\\nSi vous avez effectué une réservation sur notre site et souhaitez laisser un commentaire, veuillez d'abord vous connecter.\\n\\nSe connecter et l'évaluer\\n\\nFin du contenu de la boîte de dialogue\\n\\n\\nDu\\xa0\\nAu\\xa0\\n\\n\\n«\\n\\n\\n\\n\\n\\n\\n\\n\\n\\n\\n\\n\\n\\n\\n\\n\\n\\n\\n\\n\\n\\n\\n\\n\\n\\n\\n\\n\\n\\n\\n\\n\\n\\n\\n»\\n\\n\\n\\n\\nlumamejevesadi\\n\\n\\xa0\\xa0\\xa0\\xa0\\xa0\\xa0\\xa0\\n\\xa0\\xa0\\xa0\\xa0\\xa0\\xa0\\xa0\\n\\xa0\\xa0\\xa0\\xa0\\xa0\\xa0\\xa0\\n\\xa0\\xa0\\xa0\\xa0\\xa0\\xa0\\xa0\\n\\xa0\\xa0\\xa0\\xa0\\xa0\\xa0\\xa0\\n\\xa0\\xa0\\xa0\\xa0\\xa0\\xa0\\xa0\\n\\n\\nFermer le calendrier\\n\\n\\n\\n\\n\\n\\n\\n\\n\\n\\n\\n\\n\\n\\n\\n\\n\\n\\n\\n\\n\\n\\n\\n\\n\\n\\n\\n\\n\\n\\n\\n\\n\\n\\n\\n\\n\\n\\n\\n\\n\\n\\n\\n\\n\\n\\n\\n\\n\\n\\n\\n\\n\\n\\n\\n\\n\\n\\nFaites de belles économies \\n\\n\\nAccédez par e-mail à des offres exclusives réservées aux membres.\\n\\n\\n\\n\\n\\n\\n\\n\\n\\n\\n\\n\\n\\n\\n\\n\\n\\n\\n\\n\\n\\n\\nSeulement pour une durée limitée\\n\\n\\n\\n\\nErreur\\xa0:\\nVeuillez saisir une adresse e-mail valide\\n\\n\\n\\nErreur\\xa0:\\nNous sommes désolés mais une erreur s'est produite.\\n\\n\\n\\nSuper, votre inscription est confirmée\\xa0!\\n\\n\\nVous recevrez bientôt des informations sur des établissements les mieux notés, des offres irrésistibles et des destinations formidables.\\n\\n\\n\\n\\n\\n\\n\\n\\n\\n\\n\\n\\n\\n\\n\\n\\nVeuillez vous connecter pour continuer\\n\\n\\n\\nJe me connecte\\n\\n\\n\\n\\nor use one of these options\\n\\n\\n\\n\\n\\n\\n\\n\\n\\n\\n\\n\\n\\n\\n\\n\\n\\n\\n\\n\\n\\n\\n\\n\\n\\nVous n'avez pas encore de compte\\xa0? Créez un compte\\n\\n\\n\\n\\n\\n\\n\\n\\n\\n\\n\\n\\n\\n\\n\\n\\n\\n\\n\\n\\n\\n\\n\\n\\n\\n\\n\\n\\n\\n\\n\\n\\n\\n\\n\\n\\n\\n\\n\\n\\n\\n\\n\\n\\n\\n\\n\\n\\n\\n\\n\\n\\n\\n\\n\\n\\n\\n\\n\\n\\n\\n\\n\\n\\n\\n\\n\\n\\n\\n\\n\\n\\n\\n\\n\\n\\n\\n\\n\\n\\n\\n\\n\\n1362970,1333130,1366510|5,1332530,1363830,1358030,1366510,1362970|3,1347410,1366510|1,1366510|8,1358840,1282920,1337330,1266380\\n\\n\""
      ]
     },
     "execution_count": 263,
     "metadata": {},
     "output_type": "execute_result"
    }
   ],
   "source": [
    "soup2.text"
   ]
  },
  {
   "cell_type": "code",
   "execution_count": 272,
   "metadata": {},
   "outputs": [
    {
     "name": "stdout",
     "output_type": "stream",
     "text": [
      "0\n"
     ]
    }
   ],
   "source": [
    "divs = soup2.find_all('div.sr_property_block_main_row')\n",
    "print(len(divs))\n",
    "for i, div in enumerate(divs):\n",
    "    name = div.find('a', class_='js-sr-hotel-link').span.get_text()\n",
    "    div_etoile = div.find('span', class_='bui-rating') \n",
    "    etoiles = div_etoile.get('aria-label') if div_etoile is not None else ''\n",
    "    etoiles = '*'\n",
    "    note = div.attrs.get('data-score')\n",
    "    print (f'{i}: {str.strip(name)}, etoiles:{etoiles}, note:{note}')\n",
    "#        print(div)\n",
    "    \n",
    "    #print(link.attrs.get('data-hotelid'))"
   ]
  },
  {
   "cell_type": "code",
   "execution_count": null,
   "metadata": {},
   "outputs": [],
   "source": []
  },
  {
   "cell_type": "code",
   "execution_count": 6,
   "metadata": {},
   "outputs": [],
   "source": [
    "class BookingCrawler(scrapy.Spider):\n",
    "    name = \"booking\"\n",
    "    start_urls = ['https://www.booking.com/searchresults.fr.html?']\n",
    "    \n",
    "   # def __init__(self, search_keyword=\"\", location_keyword=\"\", *args, **kwargs):\n",
    "   #     super(BookingCrawler, self).__init__(*args, **kwargs)\n",
    "   #     self.search_keyword = search_keyword\n",
    "   #     self.location_keyword = location_keyword\n",
    "    \n",
    "    def parse(self, response):\n",
    "        elems = response.css('form')\n",
    "        for elem in elems:\n",
    "           # dict_para[str(i)] = para.css('::text').get()\n",
    "            # Otra forma de hacer del prof\n",
    "            yield{\n",
    "                elem.css('elem')\n",
    "                'text': elem.css('::text').getall()\n",
    "        }              \n",
    "    "
   ]
  },
  {
   "cell_type": "code",
   "execution_count": 7,
   "metadata": {},
   "outputs": [
    {
     "name": "stderr",
     "output_type": "stream",
     "text": [
      "2021-07-13 22:00:00 [scrapy.utils.log] INFO: Scrapy 2.5.0 started (bot: scrapybot)\n",
      "2021-07-13 22:00:00 [scrapy.utils.log] INFO: Versions: lxml 4.6.3.0, libxml2 2.9.10, cssselect 1.1.0, parsel 1.6.0, w3lib 1.22.0, Twisted 21.2.0, Python 3.9.5 (default, Jun  4 2021, 12:28:51) - [GCC 7.5.0], pyOpenSSL 19.1.0 (OpenSSL 1.1.1k  25 Mar 2021), cryptography 3.4.7, Platform Linux-5.4.72-microsoft-standard-WSL2-x86_64-with-glibc2.31\n",
      "2021-07-13 22:00:00 [scrapy.crawler] INFO: Overridden settings:\n",
      "{'LOG_LEVEL': 20,\n",
      " 'USER_AGENT': 'Mozilla/4.0 (compatible; MSIE 7.0; Windows NT 5.1)'}\n",
      "2021-07-13 22:00:00 [scrapy.extensions.telnet] INFO: Telnet Password: d4675cfc1355e41b\n",
      "2021-07-13 22:00:00 [scrapy.middleware] INFO: Enabled extensions:\n",
      "['scrapy.extensions.corestats.CoreStats',\n",
      " 'scrapy.extensions.telnet.TelnetConsole',\n",
      " 'scrapy.extensions.memusage.MemoryUsage',\n",
      " 'scrapy.extensions.feedexport.FeedExporter',\n",
      " 'scrapy.extensions.logstats.LogStats']\n",
      "2021-07-13 22:00:00 [scrapy.middleware] INFO: Enabled downloader middlewares:\n",
      "['scrapy.downloadermiddlewares.httpauth.HttpAuthMiddleware',\n",
      " 'scrapy.downloadermiddlewares.downloadtimeout.DownloadTimeoutMiddleware',\n",
      " 'scrapy.downloadermiddlewares.defaultheaders.DefaultHeadersMiddleware',\n",
      " 'scrapy.downloadermiddlewares.useragent.UserAgentMiddleware',\n",
      " 'scrapy.downloadermiddlewares.retry.RetryMiddleware',\n",
      " 'scrapy.downloadermiddlewares.redirect.MetaRefreshMiddleware',\n",
      " 'scrapy.downloadermiddlewares.httpcompression.HttpCompressionMiddleware',\n",
      " 'scrapy.downloadermiddlewares.redirect.RedirectMiddleware',\n",
      " 'scrapy.downloadermiddlewares.cookies.CookiesMiddleware',\n",
      " 'scrapy.downloadermiddlewares.httpproxy.HttpProxyMiddleware',\n",
      " 'scrapy.downloadermiddlewares.stats.DownloaderStats']\n",
      "2021-07-13 22:00:00 [scrapy.middleware] INFO: Enabled spider middlewares:\n",
      "['scrapy.spidermiddlewares.httperror.HttpErrorMiddleware',\n",
      " 'scrapy.spidermiddlewares.offsite.OffsiteMiddleware',\n",
      " 'scrapy.spidermiddlewares.referer.RefererMiddleware',\n",
      " 'scrapy.spidermiddlewares.urllength.UrlLengthMiddleware',\n",
      " 'scrapy.spidermiddlewares.depth.DepthMiddleware']\n",
      "2021-07-13 22:00:00 [scrapy.middleware] INFO: Enabled item pipelines:\n",
      "[]\n",
      "2021-07-13 22:00:00 [scrapy.core.engine] INFO: Spider opened\n",
      "2021-07-13 22:00:00 [scrapy.extensions.logstats] INFO: Crawled 0 pages (at 0 pages/min), scraped 0 items (at 0 items/min)\n",
      "2021-07-13 22:00:00 [scrapy.extensions.telnet] INFO: Telnet console listening on 127.0.0.1:6023\n",
      "2021-07-13 22:00:00 [scrapy.core.downloader.tls] WARNING: Remote certificate is not valid for hostname \"www.booking.fr\"; VerificationError(errors=[DNSMismatch(mismatched_id=DNS_ID(hostname=b'www.booking.fr'))])\n",
      "2021-07-13 22:00:02 [scrapy.core.engine] INFO: Closing spider (finished)\n",
      "2021-07-13 22:00:02 [scrapy.extensions.feedexport] INFO: Stored json feed (3 items) in: data/booking.json\n",
      "2021-07-13 22:00:02 [scrapy.statscollectors] INFO: Dumping Scrapy stats:\n",
      "{'downloader/request_bytes': 493,\n",
      " 'downloader/request_count': 2,\n",
      " 'downloader/request_method_count/GET': 2,\n",
      " 'downloader/response_bytes': 13046,\n",
      " 'downloader/response_count': 2,\n",
      " 'downloader/response_status_count/200': 1,\n",
      " 'downloader/response_status_count/301': 1,\n",
      " 'elapsed_time_seconds': 2.189905,\n",
      " 'feedexport/success_count/FileFeedStorage': 1,\n",
      " 'finish_reason': 'finished',\n",
      " 'finish_time': datetime.datetime(2021, 7, 13, 20, 0, 2, 399153),\n",
      " 'httpcompression/response_bytes': 43247,\n",
      " 'httpcompression/response_count': 1,\n",
      " 'item_scraped_count': 3,\n",
      " 'log_count/INFO': 11,\n",
      " 'log_count/WARNING': 1,\n",
      " 'memusage/max': 139939840,\n",
      " 'memusage/startup': 139939840,\n",
      " 'response_received_count': 1,\n",
      " 'scheduler/dequeued': 2,\n",
      " 'scheduler/dequeued/memory': 2,\n",
      " 'scheduler/enqueued': 2,\n",
      " 'scheduler/enqueued/memory': 2,\n",
      " 'start_time': datetime.datetime(2021, 7, 13, 20, 0, 0, 209248)}\n",
      "2021-07-13 22:00:02 [scrapy.core.engine] INFO: Spider closed (finished)\n"
     ]
    }
   ],
   "source": [
    "filename = \"booking.json\"\n",
    "\n",
    "if filename in os.listdir('data/'):\n",
    "        os.remove('data/' + filename)\n",
    "\n",
    "# Declare a new CrawlerProcess with some settings\n",
    "## USER_AGENT => Simulates a browser on an OS\n",
    "## LOG_LEVEL => Minimal Level of Log \n",
    "## FEEDS => Where the file will be stored \n",
    "## More info on built-in settings => https://docs.scrapy.org/en/latest/topics/settings.html?highlight=settings#settings\n",
    "process = CrawlerProcess(settings = {\n",
    "    'USER_AGENT': 'Mozilla/4.0 (compatible; MSIE 7.0; Windows NT 5.1)',\n",
    "    'LOG_LEVEL': logging.INFO,\n",
    "    \"FEEDS\": {\n",
    "        'data/' + filename : {\"format\": \"json\"},\n",
    "    }\n",
    "})\n",
    "\n",
    "# Start the crawling using the spider you defined above\n",
    "process.crawl(BookingCrawler)\n",
    "process.start()"
   ]
  },
  {
   "cell_type": "code",
   "execution_count": null,
   "metadata": {},
   "outputs": [],
   "source": []
  }
 ],
 "metadata": {
  "kernelspec": {
   "display_name": "kernel-pez-jedha",
   "language": "python",
   "name": "kernel-pez-jedha"
  },
  "language_info": {
   "codemirror_mode": {
    "name": "ipython",
    "version": 3
   },
   "file_extension": ".py",
   "mimetype": "text/x-python",
   "name": "python",
   "nbconvert_exporter": "python",
   "pygments_lexer": "ipython3",
   "version": "3.9.5"
  }
 },
 "nbformat": 4,
 "nbformat_minor": 4
}
