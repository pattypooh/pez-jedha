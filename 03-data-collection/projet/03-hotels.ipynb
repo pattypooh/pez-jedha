{
 "cells": [
  {
   "cell_type": "code",
   "execution_count": null,
   "metadata": {},
   "outputs": [],
   "source": [
    "#!pip install scrapy"
   ]
  },
  {
   "cell_type": "code",
   "execution_count": 1,
   "metadata": {},
   "outputs": [],
   "source": [
    "import pandas as pd, requests"
   ]
  },
  {
   "cell_type": "code",
   "execution_count": 2,
   "metadata": {},
   "outputs": [],
   "source": [
    "import os \n",
    "import logging\n",
    "# Import scrapy and scrapy.crawler \n",
    "import scrapy\n",
    "from scrapy.crawler import CrawlerProcess"
   ]
  },
  {
   "cell_type": "code",
   "execution_count": 3,
   "metadata": {},
   "outputs": [],
   "source": [
    "import operator"
   ]
  },
  {
   "cell_type": "code",
   "execution_count": 4,
   "metadata": {},
   "outputs": [],
   "source": [
    "cities = [\"Mont Saint Michel\",\"St Malo\",\"Bayeux\",\"Le Havre\",\"Rouen\",\"Paris\",\"Amiens\",\"Lille\",\"Strasbourg\",\n",
    "          \"Chateau du Haut Koenigsbourg\",\"Colmar\",\"Eguisheim\",\"Besancon\",\"Dijon\",\"Annecy\",\"Grenoble\",\"Lyon\",\n",
    "          \"Gorges du Verdon\",\"Bormes les Mimosas\",\"Cassis\",\"Marseille\",\"Aix en Provence\",\"Avignon\",\"Uzes\",\"Nimes\",\n",
    "          \"Aigues Mortes\",\"Saintes Maries de la mer\",\"Collioure\",\"Carcassonne\",\"Ariege\",\"Toulouse\",\"Montauban\",\n",
    "          \"Biarritz\",\"Bayonne\",\"La Rochelle\"]"
   ]
  },
  {
   "cell_type": "code",
   "execution_count": 5,
   "metadata": {},
   "outputs": [],
   "source": [
    "cities_red = [\"Mont Saint Michel\",\"St Malo\",\"Bayeux\",\"Le Havre\",\"Rouen\",\"Paris\",\"Amiens\",\"Lille\"]"
   ]
  },
  {
   "cell_type": "raw",
   "metadata": {},
   "source": [
    "class WeatherScrapper(scrapy.Spider):\n",
    "    name = \"weatherSpider\"\n",
    "    start_urls = [\"\"]\n",
    "    "
   ]
  },
  {
   "cell_type": "markdown",
   "metadata": {},
   "source": [
    "## Retrieve booking.com page to analyze it"
   ]
  },
  {
   "cell_type": "code",
   "execution_count": 6,
   "metadata": {},
   "outputs": [],
   "source": [
    "import requests"
   ]
  },
  {
   "cell_type": "code",
   "execution_count": 7,
   "metadata": {
    "tags": []
   },
   "outputs": [],
   "source": [
    "from bs4 import BeautifulSoup"
   ]
  },
  {
   "cell_type": "markdown",
   "metadata": {},
   "source": [
    "### Create parameters for the robot"
   ]
  },
  {
   "cell_type": "code",
   "execution_count": 8,
   "metadata": {
    "tags": []
   },
   "outputs": [],
   "source": [
    "headers = {'Accept-Encoding': 'gzip, deflate, br',\n",
    "   # 'Cookie': '_pxhd=mdYiLBcc63tit3jJibJ%2F040peMSCuLBfGugBouUMXLEC9jAGnm2o7oFJmsmFuu%2FJfX0aVmJSK%2FYdtgMj7tbMew%3D%3D%3Ar9UfQEUYE10y54DYjJFxq6l35IeHy2gOjxKu11tMXeVCb94QK6MGm5DByQUe5u71punk7p%2FVm4AiJXiL9AKGxFafdnJ9R60Ss%2FsLD%2F%2FBHVE%3D; cors_js=1; BJS=-; _ga=GA1.2.1687431912.1626384329; _gid=GA1.2.1200067750.1626384329; _pxvid=2c32b741-e5b3-11eb-8d93-8b8d2b0b649b; bkng_prue=1; _gcl_au=1.1.2085545831.1626384330; _scid=bc1f19c8-ed76-476a-9223-c3b3214bbdbb; _pin_unauth=dWlkPVpUWmpaV1ppTTJRdE1HTXdOaTAwT0RZMUxXRTBPRFF0WlRsalptUTNPVEpqTlRFMw; bkng_sso_session=e30; OptanonConsent=isIABGlobal=false&datestamp=Fri+Jul+16+2021+18%3A48%3A17+GMT%2B0200+(Central+European+Summer+Time)&version=6.13.0&hosts=&consentId=80a2ad46-1131-462b-b3e8-86525b213aff&interactionCount=1&landingPath=https%3A%2F%2Fwww.booking.com%2Fsearchresults.fr.html%3Flang%3Dfr%26ss%3Dmarseille; b=%7B%22countLang%22%3A4%7D; _uetsid=2e00a840e5b311eb8cc02b89a9c90c8c; _uetvid=2e00e5f0e5b311eb80339f010ae80e2e; bkng_sso_ses=eyJib29raW5nX2dsb2JhbCI6W3siaCI6IjUweHh2R3BmakNzT1hOcTBiOTdEbXhnb1h2dnkwbzB6ZGJCWlVDRDZTVFkiLCJhIjoxfV19; has_preloaded=1; lastSeen=0; _px3=58c646ee6d40044a4364cc94f311b6048ef2ac12196ac1a7bc8824f2da1557e4:TR9So7ahzX/IBYxS0nqERDt2fb4pVGALg7Y9N0jZDoqqt+hRPZYjjvyAfu9VMy+bYqM0juGlGiibsxxHfKXNqg==:1000:Kh8hB+6j3CrfULcuF/WBnz2nBAiuZr8Kz9hM96EUaT35TeVf2rfo/DxyfsjnaSINKMloOgEJ91k5jojij09RYWEwC+qNHyGIdGSQdmNcqRNPxZlFDAijUgzbpeCF1Rkwy6wmTCjHwpP2FlYJpf27Fmv9CmKdmT40FdGsZBPstl85CP5m8diF4mKVzgo1GTh/z4R0pNWed2LwgmqyRkAqNQ==; _gat=1; bkng=11UmFuZG9tSVYkc2RlIyh9YXjA6rtNF48dyfPzTHjBgvttBSFWKt4b%2FJsFX4xc2u4BUuXbdgM1scm2%2BLdf0W0naqCGB4B84g9P%2FCzkn%2BoLpnIMP1dZ4klXcZywzgQJ%2B3a0j2xtaKAMZV7AZ7BQgj1F0MSOlgJfuuMYGkgQzG2u00qLme5pYphAIKMqZqkNUWC%2F2hD55O7fwiM%3D; _pxde=82a04d2a329ae6aec4a13bfc3237f8f62610dd2e9dfdc33925102941fc0e9fcf:eyJ0aW1lc3RhbXAiOjE2MjY1MDgxOTcxOTgsImZfa2IiOjAsImlwY19pZCI6W119' ,\n",
    "    'User-Agent':'Mozilla/5.0 (Windows NT 10.0; Win64; x64) AppleWebKit/537.36 (KHTML, like Gecko) Chrome/91.0.4472.124 Safari/537.36'\n",
    "    }"
   ]
  },
  {
   "cell_type": "code",
   "execution_count": 71,
   "metadata": {},
   "outputs": [],
   "source": [
    "#28 / 07\n",
    "url = \"https://www.booking.com/searchresults.fr.html?lang=fr&ss=Saint+Malo\""
   ]
  },
  {
   "cell_type": "code",
   "execution_count": 72,
   "metadata": {},
   "outputs": [],
   "source": [
    "res = requests.get(url, headers=headers)"
   ]
  },
  {
   "cell_type": "code",
   "execution_count": 73,
   "metadata": {},
   "outputs": [],
   "source": [
    "soup = BeautifulSoup(res.content, 'lxml')"
   ]
  },
  {
   "cell_type": "code",
   "execution_count": 74,
   "metadata": {},
   "outputs": [],
   "source": [
    "divs = soup.find_all('div', class_='sr_item')"
   ]
  },
  {
   "cell_type": "code",
   "execution_count": 75,
   "metadata": {},
   "outputs": [
    {
     "data": {
      "text/plain": [
       "25"
      ]
     },
     "execution_count": 75,
     "metadata": {},
     "output_type": "execute_result"
    }
   ],
   "source": [
    "len(divs)"
   ]
  },
  {
   "cell_type": "code",
   "execution_count": 76,
   "metadata": {},
   "outputs": [],
   "source": [
    "with open(\"./data/Saint-Malo-reduit.html\", 'w') as file_obj:\n",
    "    file_obj.write(res.text)"
   ]
  },
  {
   "cell_type": "code",
   "execution_count": 65,
   "metadata": {},
   "outputs": [],
   "source": [
    "from bs4.element import Tag"
   ]
  },
  {
   "cell_type": "code",
   "execution_count": 66,
   "metadata": {},
   "outputs": [],
   "source": [
    "def get_etoiles(div:Tag):\n",
    "    print(type(div))\n",
    "    tag_span_etoiles = div.find('span', class_='bui-rating--smaller', role='img')#Stars are defined in a text like this \"2 out of 5\". We retrieve only the first character\n",
    "    text_etoiles = tag_span_etoiles['aria-label'].split(' ') if tag_span_etoiles is not None else '0 out of 5'\n",
    "    etoiles = text_etoiles[0] if len(text_etoiles)>0 else '0'\n",
    "    return etoiles"
   ]
  },
  {
   "cell_type": "code",
   "execution_count": 67,
   "metadata": {},
   "outputs": [],
   "source": [
    "def retrieve_data(soup: BeautifulSoup):\n",
    "    divs = soup.find_all('div', class_='sr_item')\n",
    "    print(f'hotels in page: {len(divs)}')\n",
    "    for i, div in enumerate(divs):     \n",
    "        name = div.find('span', class_='sr-hotel__name').get_text().strip()\n",
    "        desc = div.find('div', class_='hotel_desc').get_text().strip()\n",
    "        etoiles = get_etoiles(div)       \n",
    "        note = div.find('div', class_='bui-review-score__badge').get_text()\n",
    "        reviews = div.find('div', class_='bui-review-score__text').get_text().strip().replace(\"\\xa0\",\"\").split(' ')[0]\n",
    "        print (f'{i}: name:{str.strip(name)}, desc: {desc} , etoiles:{etoiles}, note:{note}, reviews:{reviews}')\n",
    "    \n",
    "    #print(link.attrs.get('data-hotelid'))"
   ]
  },
  {
   "cell_type": "code",
   "execution_count": 68,
   "metadata": {},
   "outputs": [
    {
     "name": "stdout",
     "output_type": "stream",
     "text": [
      "hotels in page: 25\n",
      "<class 'bs4.element.Tag'>\n",
      "0: name:Escale Oceania Saint Malo, desc: L'Escale Oceania Saint Malo se trouve sur le front de mer, en face de la plage du Sillon, à 14 minutes de marche de la gare de Saint-Malo. , etoiles:3, note: 8,3 , reviews:1696\n",
      "<class 'bs4.element.Tag'>\n",
      "1: name:Hôtel de la Gare, desc: Situé à moins de 2,2 km de la plage de Rochebonne et à 2 km du fort du Petit-Bé, l'Hôtel de la Gare propose des chambres à Saint-Malo. , etoiles:0, note: 8,4 , reviews:522\n",
      "<class 'bs4.element.Tag'>\n",
      "2: name:Hotel d'Aleth, desc: Situé en face du port des Bas Sablons, l'Hotel d'Aleth se trouve à seulement 1,9 km de la vieille ville de Saint-Malo. , etoiles:0, note: 8,0 , reviews:841\n",
      "<class 'bs4.element.Tag'>\n",
      "3: name:Hôtel La Porte Saint Pierre, desc: L'hôtel La Porte Saint Pierre est situé à l'intérieur des remparts historiques de la vieille ville de Saint-Malo, à seulement 10 mètres de la plage. , etoiles:2, note: 8,6 , reviews:1058\n",
      "<class 'bs4.element.Tag'>\n",
      "4: name:Ker Annick, desc: Situé à Saint-Malo, à moins de 2,1 km de la plage de Rochebonne et à 1,5 km du Palais L'établissement du Grand Large, Ker Annick propose un bar et une connexion Wi-Fi gratuite dans l'ensemble de ses... , etoiles:2, note: 7,9 , reviews:663\n",
      "<class 'bs4.element.Tag'>\n",
      "5: name:Hotel La Cote d'Emeraude, desc: Situé à seulement 150 mètres de la plage de Saint-Malo, l'Hôtel La Côte d’Émeraude propose une connexion Wi-Fi gratuite dans l'ensemble de ses locaux et un bar sur place. , etoiles:0, note: 8,1 , reviews:598\n",
      "<class 'bs4.element.Tag'>\n",
      "6: name:Hotel De France et Chateaubriand, desc: Situé au cœur de la ville historique de Saint-Malo, l’Hotel De France et Chateaubriand offre une vue imprenable sur la mer et le sillon, à 210 mètres du port de plaisance de Saint-Malo. , etoiles:3, note: 8,0 , reviews:2591\n",
      "<class 'bs4.element.Tag'>\n",
      "7: name:Oceania Saint Malo, desc: Donnant sur la mer, l'Oceania Saint Malo se situe sur la Chaussée du Sillon, en face de la plage du même nom et à 450 mètres du port de plaisance de Saint-Malo. , etoiles:4, note: 8,5 , reviews:1940\n",
      "<class 'bs4.element.Tag'>\n",
      "8: name:Les Charmettes, desc: Installé sur le front de mer dans la ville bretonne de Saint-Malo, l'hôtel Les Charmettes bénéficie d'un accès direct à la plage. , etoiles:3, note: 8,6 , reviews:562\n",
      "<class 'bs4.element.Tag'>\n",
      "9: name:Hotel Ajoncs d'Or, desc: L'hôtel Ajoncs d'Or se situe au cœur des remparts historiques de la ville fortifiée de Saint-Malo, à 350 mètres du port de plaisance de la ville. Vous bénéficierez gratuitement d'une connexion Wi-Fi. , etoiles:3, note: 8,7 , reviews:1120\n",
      "<class 'bs4.element.Tag'>\n",
      "10: name:ibis Saint-Malo Madeleine, desc: L'hôtel ibis Saint-Malo Madeleine bénéficie d'une grande terrasse dotée du chauffage avec un coin salon couvert. La connexion Wi-Fi et le parking sur place sont gratuits. , etoiles:3, note: 8,0 , reviews:1628\n",
      "<class 'bs4.element.Tag'>\n",
      "11: name:Hotel de l'Europe, desc: L'Hotel de l'Europe propose des chambres non-fumeurs fonctionnelles dotées d'une télévision, d'un téléphone et d'une connexion Wi-Fi gratuite à seulement 10 minutes de marche de la principale plage de... , etoiles:1, note: 7,5 , reviews:828\n",
      "<class 'bs4.element.Tag'>\n",
      "12: name:Hotel De L'univers, desc: L'Hotel De L'univers est installé dans la ville fortifiée de Saint-Malo, en Bretagne, à quelques pas du port ferry et de la gare. , etoiles:3, note: 8,1 , reviews:2080\n",
      "<class 'bs4.element.Tag'>\n",
      "13: name:La Rotonde, desc: L’hôtel La Rotonde est situé dans la station balnéaire de Saint-Malo, à 50 mètres de la plage. , etoiles:2, note: 7,7 , reviews:1320\n",
      "<class 'bs4.element.Tag'>\n",
      "14: name:Hôtel Bristol Union Intra Muros, desc: L'Hôtel Bristol Union Intra Muros est situé au cœur de Saint-Malo, dans les remparts de la vieille ville, à 180 mètres du port de plaisance. , etoiles:3, note: 8,7 , reviews:1013\n",
      "<class 'bs4.element.Tag'>\n",
      "15: name:Hôtel Cartier, desc: Situé au sein des murs fortifiés de Saint-Malo, l'Hôtel Cartier vous accueille à seulement 280 mètres du port de plaisance ainsi qu'à 500 mètres de la plage et de la Manche. , etoiles:3, note: 7,5 , reviews:1139\n",
      "<class 'bs4.element.Tag'>\n",
      "16: name:Hôtel Gambetta, desc: Situé à 5 minutes à pied de la plage de Saint-Malo, l’Hôtel Gambetta propose des chambres dotées d'une connexion Wi-Fi gratuite. Il dispose d'un jardin et d'un bar avec terrasse. , etoiles:0, note: 8,1 , reviews:843\n",
      "<class 'bs4.element.Tag'>\n",
      "17: name:Les Chiens du Guet, desc: L'établissement Les Chiens du Guet est situé au cœur de Saint-Malo, à seulement 50 mètres de la plage et à 550 mètres du port de plaisance. , etoiles:0, note: 7,4 , reviews:534\n",
      "<class 'bs4.element.Tag'>\n",
      "18: name:Hotel Alba, desc: L'hôtel Alba est situé à Saint-Malo, en face de la plage et à côté du port. Il comprend un bar et des chambres avec vue sur la mer et un accès direct à la plage. , etoiles:3, note: 7,6 , reviews:1072\n",
      "<class 'bs4.element.Tag'>\n",
      "19: name:Chambres d'Hôtes du Manoir du Haut Salmon, desc: Située à seulement 10 minutes en voiture des plages de Saint-Malo et de la Manche, cette maison d'hôtes occupe un manoir rénové du XVIe siècle niché dans un parc de 8 hectares avec un étang. , etoiles:3, note: 7,4 , reviews:200\n",
      "<class 'bs4.element.Tag'>\n",
      "20: name:Hotel Eden, desc: À 100 mètres de la plage, le charmant établissement Hotel Eden bénéficie d'un accès direct à la vieille ville et au palais des congrès. Il propose des chambres confortables. , etoiles:3, note: 7,5 , reviews:1216\n",
      "<class 'bs4.element.Tag'>\n",
      "21: name:Brit Hotel Le Surcouf, desc: Situé dans le paisible quartier de Courtoisville, à 150 mètres de la plage et à 5 minutes des thermes, le Brit Hotel propose des chambres charmantes avec connexion Wi-Fi gratuite. , etoiles:3, note: 8,1 , reviews:584\n",
      "<class 'bs4.element.Tag'>\n",
      "22: name:Domaine de la Barbinais, desc: L’hôtel Domaine de la Barbinais se trouve dans un parc paysager de 7 000 m², dans la campagne de Saint-Malo. Une connexion Wi-Fi est disponible dans l’ensemble des locaux. , etoiles:2, note: 8,1 , reviews:1022\n",
      "<class 'bs4.element.Tag'>\n",
      "23: name:Gentilhommière de la Grande Toutenais, desc: Située à Saint-Malo, en Bretagne, la Gentilhommière de la Grande Toutenais propose des hébergements avec connexion Wi-Fi et parking privé gratuits, ainsi qu'un accès à un sauna. , etoiles:3, note: 9,4 , reviews:351\n",
      "<class 'bs4.element.Tag'>\n",
      "24: name:Hôtel Ar Iniz, desc: L'établissement de style moderne Hôtel Ar Iniz propose un accès direct à la plage de Sillon, un restaurant régional, un bar et une terrasse avec vue sur la mer, à 1,5 km du centre-ville. , etoiles:3, note: 8,7 , reviews:709\n"
     ]
    }
   ],
   "source": [
    "retrieve_data(soup)"
   ]
  },
  {
   "cell_type": "code",
   "execution_count": 246,
   "metadata": {
    "tags": []
   },
   "outputs": [],
   "source": [
    "payload = {'lang':'fr',\n",
    "    'src':'index',\n",
    "          # 'dest_id': '-1456928',\n",
    "           'ssne':'Paris',\n",
    "           'checkin_year':'2021',\n",
    "        'checkin_month':'8',\n",
    "        'checkin_monthday':'1',\n",
    "        'checkout_year':'2021',\n",
    "        'checkout_month':'8',\n",
    "        'checkout_monthday':'8',\n",
    "        'group_adults':'1',\n",
    "        'group_children':'0',\n",
    "        'no_rooms':'1',\n",
    "       # 'dest_type':'city',\n",
    "     #   'place_id_lat':'43.270341096',\n",
    "     #   'place_id_lon':'6.58300667600003',\n",
    "        #'ss':'Port Grimaud, Grimaud, Provenza-Alpes-Costa+Azul, Francia',\n",
    "        # 'map':'1',\n",
    "        #   'sb':'1',\n",
    "        #   'sb_lp':'1',\n",
    "        'src_elem':'sb',\n",
    "           'from_sf':'1',\n",
    "           'ss':'Paris',\n",
    "           'ssne':'Paris',\n",
    "          }"
   ]
  },
  {
   "cell_type": "code",
   "execution_count": 254,
   "metadata": {},
   "outputs": [],
   "source": [
    "payload = {'lang':'fr',\n",
    "    'ss':'Marseille'}"
   ]
  },
  {
   "cell_type": "code",
   "execution_count": 6,
   "metadata": {},
   "outputs": [],
   "source": [
    "class BookingCrawler(scrapy.Spider):\n",
    "    name = \"booking\"\n",
    "    start_urls = ['https://www.booking.com/searchresults.fr.html?']\n",
    "    allowed_domains = [\"booking.com\"]\n",
    "    headers = {'Accept-Encoding': 'gzip, deflate, br',\n",
    "   # 'Cookie': '_pxhd=mdYiLBcc63tit3jJibJ%2F040peMSCuLBfGugBouUMXLEC9jAGnm2o7oFJmsmFuu%2FJfX0aVmJSK%2FYdtgMj7tbMew%3D%3D%3Ar9UfQEUYE10y54DYjJFxq6l35IeHy2gOjxKu11tMXeVCb94QK6MGm5DByQUe5u71punk7p%2FVm4AiJXiL9AKGxFafdnJ9R60Ss%2FsLD%2F%2FBHVE%3D; cors_js=1; BJS=-; _ga=GA1.2.1687431912.1626384329; _gid=GA1.2.1200067750.1626384329; _pxvid=2c32b741-e5b3-11eb-8d93-8b8d2b0b649b; bkng_prue=1; _gcl_au=1.1.2085545831.1626384330; _scid=bc1f19c8-ed76-476a-9223-c3b3214bbdbb; _pin_unauth=dWlkPVpUWmpaV1ppTTJRdE1HTXdOaTAwT0RZMUxXRTBPRFF0WlRsalptUTNPVEpqTlRFMw; bkng_sso_session=e30; OptanonConsent=isIABGlobal=false&datestamp=Fri+Jul+16+2021+18%3A48%3A17+GMT%2B0200+(Central+European+Summer+Time)&version=6.13.0&hosts=&consentId=80a2ad46-1131-462b-b3e8-86525b213aff&interactionCount=1&landingPath=https%3A%2F%2Fwww.booking.com%2Fsearchresults.fr.html%3Flang%3Dfr%26ss%3Dmarseille; b=%7B%22countLang%22%3A4%7D; _uetsid=2e00a840e5b311eb8cc02b89a9c90c8c; _uetvid=2e00e5f0e5b311eb80339f010ae80e2e; bkng_sso_ses=eyJib29raW5nX2dsb2JhbCI6W3siaCI6IjUweHh2R3BmakNzT1hOcTBiOTdEbXhnb1h2dnkwbzB6ZGJCWlVDRDZTVFkiLCJhIjoxfV19; has_preloaded=1; lastSeen=0; _px3=58c646ee6d40044a4364cc94f311b6048ef2ac12196ac1a7bc8824f2da1557e4:TR9So7ahzX/IBYxS0nqERDt2fb4pVGALg7Y9N0jZDoqqt+hRPZYjjvyAfu9VMy+bYqM0juGlGiibsxxHfKXNqg==:1000:Kh8hB+6j3CrfULcuF/WBnz2nBAiuZr8Kz9hM96EUaT35TeVf2rfo/DxyfsjnaSINKMloOgEJ91k5jojij09RYWEwC+qNHyGIdGSQdmNcqRNPxZlFDAijUgzbpeCF1Rkwy6wmTCjHwpP2FlYJpf27Fmv9CmKdmT40FdGsZBPstl85CP5m8diF4mKVzgo1GTh/z4R0pNWed2LwgmqyRkAqNQ==; _gat=1; bkng=11UmFuZG9tSVYkc2RlIyh9YXjA6rtNF48dyfPzTHjBgvttBSFWKt4b%2FJsFX4xc2u4BUuXbdgM1scm2%2BLdf0W0naqCGB4B84g9P%2FCzkn%2BoLpnIMP1dZ4klXcZywzgQJ%2B3a0j2xtaKAMZV7AZ7BQgj1F0MSOlgJfuuMYGkgQzG2u00qLme5pYphAIKMqZqkNUWC%2F2hD55O7fwiM%3D; _pxde=82a04d2a329ae6aec4a13bfc3237f8f62610dd2e9dfdc33925102941fc0e9fcf:eyJ0aW1lc3RhbXAiOjE2MjY1MDgxOTcxOTgsImZfa2IiOjAsImlwY19pZCI6W119' ,\n",
    "    'User-Agent':'Mozilla/5.0 (Windows NT 10.0; Win64; x64) AppleWebKit/537.36 (KHTML, like Gecko) Chrome/91.0.4472.124 Safari/537.36'\n",
    "    }\n",
    "    cities = [\"Mont-Saint-Michel\",\"Saint-Malo\",\"Bayeux\",\"Le-Havre\",\"Rouen\",\"Paris\",\"Amiens\",\"Lille\",\"Strasbourg\",\n",
    "          \"Chateau-Haut-Koenigsbourg\",\"Colmar\",\"Eguisheim\",\"Besancon\",\"Dijon\",\"Annecy\",\"Grenoble\",\"Lyon\",\n",
    "          \"Gorges-du-Verdon\",\"Bormes-les-Mimosas\",\"Cassis\",\"Marseille\",\"Aix-en-Provence\",\"Avignon\",\"Uzes\",\"Nimes\",\n",
    "          \"Aigues-Mortes\",\"Saintes-Maries-de-la-mer\",\"Collioure\",\"Carcassonne\",\"Ariege\",\"Toulouse\",\"Montauban\",\n",
    "          \"Biarritz\",\"Bayonne\",\"La-Rochelle\"]\n",
    "    \n",
    "   # def __init__(self, search_keyword=\"\", location_keyword=\"\", *args, **kwargs):\n",
    "   #     super(BookingCrawler, self).__init__(*args, **kwargs)\n",
    "   #     self.search_keyword = search_keyword\n",
    "   #     self.location_keyword = location_keyword\n",
    "    \n",
    "    def _get_etoiles(self, tag):\n",
    "        return '0'\n",
    "    def parse(self, response):\n",
    "        \n",
    "        for div in response.css('div.sr_item'):\n",
    "            yield {\n",
    "                'name': div.css('span', class_='sr-hotel__name').get_text().strip()\n",
    "                'desc': div.css('div', class_='hotel_desc').get_text().strip()\n",
    "                'etoiles': get_etoiles(div)       \n",
    "                'note': div.css('div', class_='bui-review-score__badge').get_text()\n",
    "                'reviews' = div.css('div', class_='bui-review-score__text').get_text().strip().replace(\"\\xa0\",\"\").split(' ')[0]\n",
    "                #print (f'{i}: name:{str.strip(name)}, desc: {desc} , etoiles:{etoiles}, note:{note}, reviews:{reviews}')\n",
    "\n",
    "                'text': quote.css('span.text::text').get(),\n",
    "                'author': quote.css('span small::text').get(),\n",
    "                'tags': quote.css('div.tags a.tag::text').getall(),\n",
    "            }\n",
    "\n",
    "        try:\n",
    "            # Select the NEXT button and store it in next_page\n",
    "            next_page = response.css('li.next a').attrib[\"href\"]\n",
    "        except KeyError:\n",
    "            # In the last page, there won't be any \"href\" and a KeyError will be raised\n",
    "            logging.info('No next page. Terminating crawling process.')\n",
    "        else:\n",
    "            # If a next page is found, execute the parse method once again\n",
    "            yield response.follow(next_page, callback=self.parse)           \n",
    "    \n",
    "    "
   ]
  },
  {
   "cell_type": "code",
   "execution_count": 7,
   "metadata": {},
   "outputs": [
    {
     "name": "stderr",
     "output_type": "stream",
     "text": [
      "2021-07-13 22:00:00 [scrapy.utils.log] INFO: Scrapy 2.5.0 started (bot: scrapybot)\n",
      "2021-07-13 22:00:00 [scrapy.utils.log] INFO: Versions: lxml 4.6.3.0, libxml2 2.9.10, cssselect 1.1.0, parsel 1.6.0, w3lib 1.22.0, Twisted 21.2.0, Python 3.9.5 (default, Jun  4 2021, 12:28:51) - [GCC 7.5.0], pyOpenSSL 19.1.0 (OpenSSL 1.1.1k  25 Mar 2021), cryptography 3.4.7, Platform Linux-5.4.72-microsoft-standard-WSL2-x86_64-with-glibc2.31\n",
      "2021-07-13 22:00:00 [scrapy.crawler] INFO: Overridden settings:\n",
      "{'LOG_LEVEL': 20,\n",
      " 'USER_AGENT': 'Mozilla/4.0 (compatible; MSIE 7.0; Windows NT 5.1)'}\n",
      "2021-07-13 22:00:00 [scrapy.extensions.telnet] INFO: Telnet Password: d4675cfc1355e41b\n",
      "2021-07-13 22:00:00 [scrapy.middleware] INFO: Enabled extensions:\n",
      "['scrapy.extensions.corestats.CoreStats',\n",
      " 'scrapy.extensions.telnet.TelnetConsole',\n",
      " 'scrapy.extensions.memusage.MemoryUsage',\n",
      " 'scrapy.extensions.feedexport.FeedExporter',\n",
      " 'scrapy.extensions.logstats.LogStats']\n",
      "2021-07-13 22:00:00 [scrapy.middleware] INFO: Enabled downloader middlewares:\n",
      "['scrapy.downloadermiddlewares.httpauth.HttpAuthMiddleware',\n",
      " 'scrapy.downloadermiddlewares.downloadtimeout.DownloadTimeoutMiddleware',\n",
      " 'scrapy.downloadermiddlewares.defaultheaders.DefaultHeadersMiddleware',\n",
      " 'scrapy.downloadermiddlewares.useragent.UserAgentMiddleware',\n",
      " 'scrapy.downloadermiddlewares.retry.RetryMiddleware',\n",
      " 'scrapy.downloadermiddlewares.redirect.MetaRefreshMiddleware',\n",
      " 'scrapy.downloadermiddlewares.httpcompression.HttpCompressionMiddleware',\n",
      " 'scrapy.downloadermiddlewares.redirect.RedirectMiddleware',\n",
      " 'scrapy.downloadermiddlewares.cookies.CookiesMiddleware',\n",
      " 'scrapy.downloadermiddlewares.httpproxy.HttpProxyMiddleware',\n",
      " 'scrapy.downloadermiddlewares.stats.DownloaderStats']\n",
      "2021-07-13 22:00:00 [scrapy.middleware] INFO: Enabled spider middlewares:\n",
      "['scrapy.spidermiddlewares.httperror.HttpErrorMiddleware',\n",
      " 'scrapy.spidermiddlewares.offsite.OffsiteMiddleware',\n",
      " 'scrapy.spidermiddlewares.referer.RefererMiddleware',\n",
      " 'scrapy.spidermiddlewares.urllength.UrlLengthMiddleware',\n",
      " 'scrapy.spidermiddlewares.depth.DepthMiddleware']\n",
      "2021-07-13 22:00:00 [scrapy.middleware] INFO: Enabled item pipelines:\n",
      "[]\n",
      "2021-07-13 22:00:00 [scrapy.core.engine] INFO: Spider opened\n",
      "2021-07-13 22:00:00 [scrapy.extensions.logstats] INFO: Crawled 0 pages (at 0 pages/min), scraped 0 items (at 0 items/min)\n",
      "2021-07-13 22:00:00 [scrapy.extensions.telnet] INFO: Telnet console listening on 127.0.0.1:6023\n",
      "2021-07-13 22:00:00 [scrapy.core.downloader.tls] WARNING: Remote certificate is not valid for hostname \"www.booking.fr\"; VerificationError(errors=[DNSMismatch(mismatched_id=DNS_ID(hostname=b'www.booking.fr'))])\n",
      "2021-07-13 22:00:02 [scrapy.core.engine] INFO: Closing spider (finished)\n",
      "2021-07-13 22:00:02 [scrapy.extensions.feedexport] INFO: Stored json feed (3 items) in: data/booking.json\n",
      "2021-07-13 22:00:02 [scrapy.statscollectors] INFO: Dumping Scrapy stats:\n",
      "{'downloader/request_bytes': 493,\n",
      " 'downloader/request_count': 2,\n",
      " 'downloader/request_method_count/GET': 2,\n",
      " 'downloader/response_bytes': 13046,\n",
      " 'downloader/response_count': 2,\n",
      " 'downloader/response_status_count/200': 1,\n",
      " 'downloader/response_status_count/301': 1,\n",
      " 'elapsed_time_seconds': 2.189905,\n",
      " 'feedexport/success_count/FileFeedStorage': 1,\n",
      " 'finish_reason': 'finished',\n",
      " 'finish_time': datetime.datetime(2021, 7, 13, 20, 0, 2, 399153),\n",
      " 'httpcompression/response_bytes': 43247,\n",
      " 'httpcompression/response_count': 1,\n",
      " 'item_scraped_count': 3,\n",
      " 'log_count/INFO': 11,\n",
      " 'log_count/WARNING': 1,\n",
      " 'memusage/max': 139939840,\n",
      " 'memusage/startup': 139939840,\n",
      " 'response_received_count': 1,\n",
      " 'scheduler/dequeued': 2,\n",
      " 'scheduler/dequeued/memory': 2,\n",
      " 'scheduler/enqueued': 2,\n",
      " 'scheduler/enqueued/memory': 2,\n",
      " 'start_time': datetime.datetime(2021, 7, 13, 20, 0, 0, 209248)}\n",
      "2021-07-13 22:00:02 [scrapy.core.engine] INFO: Spider closed (finished)\n"
     ]
    }
   ],
   "source": [
    "filename = \"booking.json\"\n",
    "\n",
    "if filename in os.listdir('data/'):\n",
    "        os.remove('data/' + filename)\n",
    "\n",
    "# Declare a new CrawlerProcess with some settings\n",
    "## USER_AGENT => Simulates a browser on an OS\n",
    "## LOG_LEVEL => Minimal Level of Log \n",
    "## FEEDS => Where the file will be stored \n",
    "## More info on built-in settings => https://docs.scrapy.org/en/latest/topics/settings.html?highlight=settings#settings\n",
    "process = CrawlerProcess(settings = {\n",
    "    'USER_AGENT': 'Mozilla/5.0 (Windows NT 10.0; Win64; x64) AppleWebKit/537.36 (KHTML, like Gecko) Chrome/91.0.4472.124 Safari/537.36',\n",
    "    'LOG_LEVEL': logging.INFO,\n",
    "    \"FEEDS\": {\n",
    "        'data/' + filename : {\"format\": \"json\"},\n",
    "    }\n",
    "})\n",
    "\n",
    "# Start the crawling using the spider you defined above\n",
    "process.crawl(BookingCrawler)\n",
    "process.start()"
   ]
  },
  {
   "cell_type": "code",
   "execution_count": 103,
   "metadata": {},
   "outputs": [],
   "source": [
    "class MyClass():\n",
    "    headers_class = \"1\"\n",
    "    def funct(self):\n",
    "        print(headers_class)\n",
    "        "
   ]
  },
  {
   "cell_type": "code",
   "execution_count": 104,
   "metadata": {},
   "outputs": [],
   "source": [
    "x = MyClass()\n",
    "x2= MyClass()"
   ]
  },
  {
   "cell_type": "code",
   "execution_count": 96,
   "metadata": {},
   "outputs": [],
   "source": [
    "x2.headers_class=2"
   ]
  },
  {
   "cell_type": "code",
   "execution_count": 92,
   "metadata": {},
   "outputs": [
    {
     "data": {
      "text/plain": [
       "'1'"
      ]
     },
     "execution_count": 92,
     "metadata": {},
     "output_type": "execute_result"
    }
   ],
   "source": [
    "x.headers_class"
   ]
  },
  {
   "cell_type": "code",
   "execution_count": 105,
   "metadata": {},
   "outputs": [
    {
     "ename": "NameError",
     "evalue": "name 'headers_class' is not defined",
     "output_type": "error",
     "traceback": [
      "\u001b[0;31m---------------------------------------------------------------------------\u001b[0m",
      "\u001b[0;31mNameError\u001b[0m                                 Traceback (most recent call last)",
      "\u001b[0;32m<ipython-input-105-9ea4edd9b4ba>\u001b[0m in \u001b[0;36m<module>\u001b[0;34m\u001b[0m\n\u001b[0;32m----> 1\u001b[0;31m \u001b[0mx\u001b[0m\u001b[0;34m.\u001b[0m\u001b[0mfunct\u001b[0m\u001b[0;34m(\u001b[0m\u001b[0;34m)\u001b[0m\u001b[0;34m\u001b[0m\u001b[0;34m\u001b[0m\u001b[0m\n\u001b[0m",
      "\u001b[0;32m<ipython-input-103-0551d7612830>\u001b[0m in \u001b[0;36mfunct\u001b[0;34m(self)\u001b[0m\n\u001b[1;32m      2\u001b[0m     \u001b[0mheaders_class\u001b[0m \u001b[0;34m=\u001b[0m \u001b[0;34m\"1\"\u001b[0m\u001b[0;34m\u001b[0m\u001b[0;34m\u001b[0m\u001b[0m\n\u001b[1;32m      3\u001b[0m     \u001b[0;32mdef\u001b[0m \u001b[0mfunct\u001b[0m\u001b[0;34m(\u001b[0m\u001b[0mself\u001b[0m\u001b[0;34m)\u001b[0m\u001b[0;34m:\u001b[0m\u001b[0;34m\u001b[0m\u001b[0;34m\u001b[0m\u001b[0m\n\u001b[0;32m----> 4\u001b[0;31m         \u001b[0mprint\u001b[0m\u001b[0;34m(\u001b[0m\u001b[0mheaders_class\u001b[0m\u001b[0;34m)\u001b[0m\u001b[0;34m\u001b[0m\u001b[0;34m\u001b[0m\u001b[0m\n\u001b[0m\u001b[1;32m      5\u001b[0m \u001b[0;34m\u001b[0m\u001b[0m\n",
      "\u001b[0;31mNameError\u001b[0m: name 'headers_class' is not defined"
     ]
    }
   ],
   "source": [
    "x.funct()"
   ]
  },
  {
   "cell_type": "code",
   "execution_count": 102,
   "metadata": {},
   "outputs": [
    {
     "name": "stdout",
     "output_type": "stream",
     "text": [
      "2\n"
     ]
    }
   ],
   "source": [
    "x2.funct()"
   ]
  },
  {
   "cell_type": "code",
   "execution_count": 100,
   "metadata": {},
   "outputs": [],
   "source": [
    "MyClass.headers_class = 3"
   ]
  },
  {
   "cell_type": "code",
   "execution_count": null,
   "metadata": {},
   "outputs": [],
   "source": []
  }
 ],
 "metadata": {
  "kernelspec": {
   "display_name": "kernel-pez-jedha",
   "language": "python",
   "name": "kernel-pez-jedha"
  },
  "language_info": {
   "codemirror_mode": {
    "name": "ipython",
    "version": 3
   },
   "file_extension": ".py",
   "mimetype": "text/x-python",
   "name": "python",
   "nbconvert_exporter": "python",
   "pygments_lexer": "ipython3",
   "version": "3.9.5"
  }
 },
 "nbformat": 4,
 "nbformat_minor": 4
}
