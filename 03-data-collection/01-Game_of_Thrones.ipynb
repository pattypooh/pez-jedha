{
 "cells": [
  {
   "cell_type": "markdown",
   "metadata": {
    "colab_type": "text",
    "id": "fSl95NHa4Mi3"
   },
   "source": [
    "# Game of Thrones\n",
    "\n",
    "Are you GoT's fan? Let's test it. Use the API: <a href=\"https://anapioficeandfire.com/\" target=\"_blank\">https://anapioficeandfire.com/</a> to find out more about the show."
   ]
  },
  {
   "cell_type": "markdown",
   "metadata": {
    "colab_type": "text",
    "id": "eQovpyB74PWH"
   },
   "source": [
    "1. Import the following libraries: \n",
    "\n",
    "      * ```requests```\n",
    "      * ```pandas```\n",
    "      * ```json```"
   ]
  },
  {
   "cell_type": "code",
   "execution_count": 1,
   "metadata": {
    "colab": {},
    "colab_type": "code",
    "id": "ynMhSC9p4GsE"
   },
   "outputs": [],
   "source": [
    "import pandas as pd, requests, json"
   ]
  },
  {
   "cell_type": "markdown",
   "metadata": {
    "colab_type": "text",
    "id": "sqtBTZQH4f8X"
   },
   "source": [
    "2. Go to the URL indicated in the description above. Using `requests`, get data on a character in the series. It doesn't matter who the character is."
   ]
  },
  {
   "cell_type": "code",
   "execution_count": 2,
   "metadata": {},
   "outputs": [],
   "source": [
    "baseline_url = \"https://anapioficeandfire.com/api/characters\""
   ]
  },
  {
   "cell_type": "code",
   "execution_count": 11,
   "metadata": {},
   "outputs": [],
   "source": [
    "specific_url = \"/\".join([baseline_url,'160'])"
   ]
  },
  {
   "cell_type": "code",
   "execution_count": 12,
   "metadata": {
    "colab": {
     "base_uri": "https://localhost:8080/",
     "height": 54
    },
    "colab_type": "code",
    "id": "sQRAIy7x4v37",
    "outputId": "312ab2ec-7587-489a-957e-89ad90864c87"
   },
   "outputs": [],
   "source": [
    "result = requests.get(specific_url)"
   ]
  },
  {
   "cell_type": "code",
   "execution_count": 13,
   "metadata": {},
   "outputs": [
    {
     "data": {
      "text/plain": [
       "'{\"url\":\"https://www.anapioficeandfire.com/api/characters/160\",\"name\":\"Baelor I\",\"gender\":\"Male\",\"culture\":\"\",\"born\":\"144 AC, at King\\'s Landing\",\"died\":\"171 AC, at King\\'s Landing\",\"titles\":[\"King of the Andals, the Rhoynar and the First Men\",\"Lord of the Seven Kingdoms\",\"Protector of the Realm\"],\"aliases\":[\"Baelor the Beloved\",\"Baelor the Blessed\",\"Baelor the Befuddled\"],\"father\":\"https://www.anapioficeandfire.com/api/characters/40\",\"mother\":\"https://www.anapioficeandfire.com/api/characters/1302\",\"spouse\":\"https://www.anapioficeandfire.com/api/characters/270\",\"allegiances\":[],\"books\":[\"https://www.anapioficeandfire.com/api/books/1\",\"https://www.anapioficeandfire.com/api/books/3\",\"https://www.anapioficeandfire.com/api/books/5\",\"https://www.anapioficeandfire.com/api/books/6\",\"https://www.anapioficeandfire.com/api/books/8\",\"https://www.anapioficeandfire.com/api/books/11\"],\"povBooks\":[],\"tvSeries\":[\"\"],\"playedBy\":[\"\"]}'"
      ]
     },
     "execution_count": 13,
     "metadata": {},
     "output_type": "execute_result"
    }
   ],
   "source": [
    "result.text"
   ]
  },
  {
   "cell_type": "markdown",
   "metadata": {
    "colab_type": "text",
    "id": "2S-Rci2j45lQ"
   },
   "source": [
    "3. Extract these data in JSON format:"
   ]
  },
  {
   "cell_type": "code",
   "execution_count": 41,
   "metadata": {},
   "outputs": [
    {
     "data": {
      "text/plain": [
       "{'url': 'https://www.anapioficeandfire.com/api/characters/149',\n",
       " 'name': 'Arys Oakheart',\n",
       " 'gender': 'Male',\n",
       " 'culture': 'Reach',\n",
       " 'born': 'At Old Oak',\n",
       " 'died': 'In 300 AC, at the Greenblood',\n",
       " 'titles': ['Ser'],\n",
       " 'aliases': [''],\n",
       " 'father': '',\n",
       " 'mother': '',\n",
       " 'spouse': '',\n",
       " 'allegiances': ['https://www.anapioficeandfire.com/api/houses/286'],\n",
       " 'books': ['https://www.anapioficeandfire.com/api/books/1',\n",
       "  'https://www.anapioficeandfire.com/api/books/2',\n",
       "  'https://www.anapioficeandfire.com/api/books/3',\n",
       "  'https://www.anapioficeandfire.com/api/books/8'],\n",
       " 'povBooks': ['https://www.anapioficeandfire.com/api/books/5'],\n",
       " 'tvSeries': [''],\n",
       " 'playedBy': ['']}"
      ]
     },
     "execution_count": 41,
     "metadata": {},
     "output_type": "execute_result"
    }
   ],
   "source": [
    "got_dict = result.json()\n",
    "got_dict"
   ]
  },
  {
   "cell_type": "markdown",
   "metadata": {
    "colab_type": "text",
    "id": "PucGBhae4_NN"
   },
   "source": [
    "4. Now extract the JSON keys you have obtained and create a DataFrame that will have the JSON keys you extracted as a column.\n",
    "\n",
    "**Hint**: we can use: `r.json().keys()`."
   ]
  },
  {
   "cell_type": "code",
   "execution_count": 42,
   "metadata": {},
   "outputs": [
    {
     "data": {
      "text/html": [
       "<div>\n",
       "<style scoped>\n",
       "    .dataframe tbody tr th:only-of-type {\n",
       "        vertical-align: middle;\n",
       "    }\n",
       "\n",
       "    .dataframe tbody tr th {\n",
       "        vertical-align: top;\n",
       "    }\n",
       "\n",
       "    .dataframe thead th {\n",
       "        text-align: right;\n",
       "    }\n",
       "</style>\n",
       "<table border=\"1\" class=\"dataframe\">\n",
       "  <thead>\n",
       "    <tr style=\"text-align: right;\">\n",
       "      <th></th>\n",
       "      <th>url</th>\n",
       "      <th>name</th>\n",
       "      <th>gender</th>\n",
       "      <th>culture</th>\n",
       "      <th>born</th>\n",
       "      <th>died</th>\n",
       "      <th>titles</th>\n",
       "      <th>aliases</th>\n",
       "      <th>father</th>\n",
       "      <th>mother</th>\n",
       "      <th>spouse</th>\n",
       "      <th>allegiances</th>\n",
       "      <th>books</th>\n",
       "      <th>povBooks</th>\n",
       "      <th>tvSeries</th>\n",
       "      <th>playedBy</th>\n",
       "    </tr>\n",
       "  </thead>\n",
       "  <tbody>\n",
       "  </tbody>\n",
       "</table>\n",
       "</div>"
      ],
      "text/plain": [
       "Empty DataFrame\n",
       "Columns: [url, name, gender, culture, born, died, titles, aliases, father, mother, spouse, allegiances, books, povBooks, tvSeries, playedBy]\n",
       "Index: []"
      ]
     },
     "execution_count": 42,
     "metadata": {},
     "output_type": "execute_result"
    }
   ],
   "source": [
    "got_df=pd.DataFrame(columns=got_dict.keys())\n",
    "got_df"
   ]
  },
  {
   "cell_type": "markdown",
   "metadata": {
    "colab_type": "text",
    "id": "vPJWhqcB7bbs"
   },
   "source": [
    "5. Create a loop to extract data from the firsts 150 characters of the series and add them to your DataFrame."
   ]
  },
  {
   "cell_type": "code",
   "execution_count": 16,
   "metadata": {},
   "outputs": [],
   "source": [
    "for i in range(1, 150):\n",
    "    result = requests.get(\"/\".join([baseline_url, str(i)]))\n",
    "    got_dict = result.json()\n",
    "    got_df = got_df.append(got_dict, ignore_index=True)"
   ]
  },
  {
   "cell_type": "code",
   "execution_count": 17,
   "metadata": {},
   "outputs": [
    {
     "data": {
      "text/plain": [
       "(149, 16)"
      ]
     },
     "execution_count": 17,
     "metadata": {},
     "output_type": "execute_result"
    }
   ],
   "source": [
    "got_df.shape"
   ]
  },
  {
   "cell_type": "code",
   "execution_count": 18,
   "metadata": {},
   "outputs": [],
   "source": [
    "new_url = 'https://www.anapioficeandfire.com/api/characters?page=1&pageSize=50'"
   ]
  },
  {
   "cell_type": "code",
   "execution_count": 19,
   "metadata": {},
   "outputs": [],
   "source": [
    "new_result = requests.get(new_url)"
   ]
  },
  {
   "cell_type": "code",
   "execution_count": 21,
   "metadata": {},
   "outputs": [
    {
     "data": {
      "text/plain": [
       "'[{\"url\":\"https://www.anapioficeandfire.com/api/characters/1\",\"name\":\"\",\"gender\":\"Female\",\"culture\":\"Braavosi\",\"born\":\"\",\"died\":\"\",\"titles\":[\"\"],\"aliases\":[\"The Daughter of the Dusk\"],\"father\":\"\",\"moth'"
      ]
     },
     "execution_count": 21,
     "metadata": {},
     "output_type": "execute_result"
    }
   ],
   "source": [
    "new_result.text[:200]"
   ]
  },
  {
   "cell_type": "code",
   "execution_count": 22,
   "metadata": {},
   "outputs": [],
   "source": [
    "new_got_dict = new_result.json()"
   ]
  },
  {
   "cell_type": "code",
   "execution_count": 25,
   "metadata": {},
   "outputs": [
    {
     "data": {
      "text/plain": [
       "50"
      ]
     },
     "execution_count": 25,
     "metadata": {},
     "output_type": "execute_result"
    }
   ],
   "source": [
    "len(new_got_dict)"
   ]
  },
  {
   "cell_type": "code",
   "execution_count": 36,
   "metadata": {},
   "outputs": [
    {
     "name": "stdout",
     "output_type": "stream",
     "text": [
      "https://www.anapioficeandfire.com/api/characters?page=1&pageSize=50\n",
      "https://www.anapioficeandfire.com/api/characters?page=2&pageSize=50\n",
      "https://www.anapioficeandfire.com/api/characters?page=3&pageSize=50\n"
     ]
    }
   ],
   "source": [
    "pages = list()\n",
    "for i in range(1,4):\n",
    "    new_url = f'https://www.anapioficeandfire.com/api/characters?page={i}&pageSize=50'   \n",
    "    print(new_url)\n",
    "    new_result = requests.get(new_url)\n",
    "    pages.append(new_result.json())"
   ]
  },
  {
   "cell_type": "code",
   "execution_count": 43,
   "metadata": {
    "colab": {},
    "colab_type": "code",
    "id": "U4cafYYW4Guk",
    "tags": []
   },
   "outputs": [],
   "source": [
    "for got_dict in pages:\n",
    "    got_df = got_df.append(got_dict, ignore_index=True)"
   ]
  },
  {
   "cell_type": "code",
   "execution_count": 50,
   "metadata": {},
   "outputs": [
    {
     "data": {
      "text/html": [
       "<div>\n",
       "<style scoped>\n",
       "    .dataframe tbody tr th:only-of-type {\n",
       "        vertical-align: middle;\n",
       "    }\n",
       "\n",
       "    .dataframe tbody tr th {\n",
       "        vertical-align: top;\n",
       "    }\n",
       "\n",
       "    .dataframe thead th {\n",
       "        text-align: right;\n",
       "    }\n",
       "</style>\n",
       "<table border=\"1\" class=\"dataframe\">\n",
       "  <thead>\n",
       "    <tr style=\"text-align: right;\">\n",
       "      <th></th>\n",
       "      <th>url</th>\n",
       "      <th>name</th>\n",
       "      <th>gender</th>\n",
       "      <th>culture</th>\n",
       "      <th>born</th>\n",
       "      <th>died</th>\n",
       "      <th>titles</th>\n",
       "      <th>aliases</th>\n",
       "      <th>father</th>\n",
       "      <th>mother</th>\n",
       "      <th>spouse</th>\n",
       "      <th>allegiances</th>\n",
       "      <th>books</th>\n",
       "      <th>povBooks</th>\n",
       "      <th>tvSeries</th>\n",
       "      <th>playedBy</th>\n",
       "    </tr>\n",
       "  </thead>\n",
       "  <tbody>\n",
       "    <tr>\n",
       "      <th>149</th>\n",
       "      <td>https://www.anapioficeandfire.com/api/characte...</td>\n",
       "      <td>Asha Greyjoy</td>\n",
       "      <td>Female</td>\n",
       "      <td>Ironborn</td>\n",
       "      <td>In 275 AC or 276 AC, at Pyke</td>\n",
       "      <td></td>\n",
       "      <td>[Princess, Captain of the Black Wind, Conquero...</td>\n",
       "      <td>[Esgred, The Kraken's Daughter]</td>\n",
       "      <td></td>\n",
       "      <td></td>\n",
       "      <td>https://www.anapioficeandfire.com/api/characte...</td>\n",
       "      <td>[https://www.anapioficeandfire.com/api/houses/...</td>\n",
       "      <td>[https://www.anapioficeandfire.com/api/books/1...</td>\n",
       "      <td>[https://www.anapioficeandfire.com/api/books/5...</td>\n",
       "      <td>[Season 2, Season 3, Season 4]</td>\n",
       "      <td>[Gemma Whelan]</td>\n",
       "    </tr>\n",
       "  </tbody>\n",
       "</table>\n",
       "</div>"
      ],
      "text/plain": [
       "                                                   url          name  gender  \\\n",
       "149  https://www.anapioficeandfire.com/api/characte...  Asha Greyjoy  Female   \n",
       "\n",
       "      culture                          born died  \\\n",
       "149  Ironborn  In 275 AC or 276 AC, at Pyke        \n",
       "\n",
       "                                                titles  \\\n",
       "149  [Princess, Captain of the Black Wind, Conquero...   \n",
       "\n",
       "                             aliases father mother  \\\n",
       "149  [Esgred, The Kraken's Daughter]                 \n",
       "\n",
       "                                                spouse  \\\n",
       "149  https://www.anapioficeandfire.com/api/characte...   \n",
       "\n",
       "                                           allegiances  \\\n",
       "149  [https://www.anapioficeandfire.com/api/houses/...   \n",
       "\n",
       "                                                 books  \\\n",
       "149  [https://www.anapioficeandfire.com/api/books/1...   \n",
       "\n",
       "                                              povBooks  \\\n",
       "149  [https://www.anapioficeandfire.com/api/books/5...   \n",
       "\n",
       "                           tvSeries        playedBy  \n",
       "149  [Season 2, Season 3, Season 4]  [Gemma Whelan]  "
      ]
     },
     "execution_count": 50,
     "metadata": {},
     "output_type": "execute_result"
    }
   ],
   "source": [
    "got_df[149:]"
   ]
  },
  {
   "cell_type": "code",
   "execution_count": null,
   "metadata": {},
   "outputs": [],
   "source": []
  }
 ],
 "metadata": {
  "colab": {
   "collapsed_sections": [],
   "name": "Game Of Thrones - Exercice SOLUTIONS.ipynb",
   "provenance": []
  },
  "kernelspec": {
   "display_name": "Python 3",
   "language": "python",
   "name": "python3"
  },
  "language_info": {
   "codemirror_mode": {
    "name": "ipython",
    "version": 3
   },
   "file_extension": ".py",
   "mimetype": "text/x-python",
   "name": "python",
   "nbconvert_exporter": "python",
   "pygments_lexer": "ipython3",
   "version": "3.8.6"
  }
 },
 "nbformat": 4,
 "nbformat_minor": 4
}
