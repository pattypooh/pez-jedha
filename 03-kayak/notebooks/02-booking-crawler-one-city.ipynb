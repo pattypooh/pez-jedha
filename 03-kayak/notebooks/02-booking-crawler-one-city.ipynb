{
 "cells": [
  {
   "cell_type": "markdown",
   "id": "7d9d44c1",
   "metadata": {},
   "source": [
    "# Test: Run the spider on one city"
   ]
  },
  {
   "cell_type": "code",
   "execution_count": null,
   "id": "27bc3bc6-eea9-4bf0-8aaf-37fe4ce9e7fc",
   "metadata": {},
   "outputs": [],
   "source": [
    "import os \n",
    "import logging\n",
    "# Import scrapy and scrapy.crawler \n",
    "import scrapy\n",
    "from scrapy.crawler import CrawlerProcess"
   ]
  },
  {
   "cell_type": "markdown",
   "id": "08d93d5e",
   "metadata": {},
   "source": [
    "## Pre-requisites: check the modules path will be configured"
   ]
  },
  {
   "cell_type": "markdown",
   "id": "3d4d29a8-4fa4-42db-9a80-e1dde2e9dce5",
   "metadata": {},
   "source": [
    "Create a cell with the lines above if the package for this project wasn't installed.  The idea is being able to import the scrapping module.\n",
    "\n",
    "```\n",
    "import sys\n",
    "sys.path.append(\"..\") # Adds higher directory to python modules path.\n",
    "```\n",
    "\n",
    "If you want to install the package project to be used with absolute path without using sys.path.append, then be sure you have in a filye setup.py with the following code:\n",
    "\n",
    "```\n",
    "from setuptools import setup, find_packages\n",
    "setup(\n",
    "    name = 'your_package_name',\n",
    "    packages = find_packages(),\n",
    ")\n",
    "```\n",
    "\n",
    "And then execute the following line in the command line\n",
    "```\n",
    "python3 setup.py install --user\n",
    "```\n",
    "\n",
    "Or\n",
    "```\n",
    "python3 -m pip install -e .\n",
    "```\n",
    "The last command allows you to install your local package with pip and -e means that any \"live\" modification will be taken into account"
   ]
  },
  {
   "cell_type": "code",
   "execution_count": null,
   "id": "b0009003",
   "metadata": {},
   "outputs": [],
   "source": [
    "%load_ext autoreload\n",
    "%autoreload 2"
   ]
  },
  {
   "cell_type": "markdown",
   "id": "7ed72f52",
   "metadata": {},
   "source": [
    "## Import the Spider for one city"
   ]
  },
  {
   "cell_type": "code",
   "execution_count": null,
   "id": "a32facf1-d06c-4fe5-943e-242c5ddf43cd",
   "metadata": {},
   "outputs": [],
   "source": [
    "from kayak.spiders.booking_newspider import NewBookingSpider"
   ]
  },
  {
   "cell_type": "markdown",
   "id": "9418769a",
   "metadata": {},
   "source": [
    "## Load parameters from a yaml file"
   ]
  },
  {
   "cell_type": "code",
   "execution_count": null,
   "id": "75f49214",
   "metadata": {},
   "outputs": [],
   "source": [
    "from box import Box\n",
    "\n",
    "params = Box.from_yaml(filename='params.yaml')"
   ]
  },
  {
   "cell_type": "code",
   "execution_count": null,
   "id": "89ce68b8",
   "metadata": {},
   "outputs": [],
   "source": [
    "print(params.feeds.filename)\n",
    "print(params.feeds.filepath)\n",
    "print(params.feeds.format)"
   ]
  },
  {
   "cell_type": "code",
   "execution_count": null,
   "id": "e87572f2",
   "metadata": {},
   "outputs": [],
   "source": [
    "onedict =  {'LOG_LEVEL': logging.INFO,\n",
    "    \"FEEDS\": {\n",
    "         params.feeds.filepath : params.feeds.format}}\n",
    "print(onedict['FEEDS'])"
   ]
  },
  {
   "cell_type": "markdown",
   "id": "350c8891",
   "metadata": {},
   "source": [
    "The city to test"
   ]
  },
  {
   "cell_type": "code",
   "execution_count": null,
   "id": "df9e88f3",
   "metadata": {},
   "outputs": [],
   "source": [
    "city = ['Bayeux']"
   ]
  },
  {
   "cell_type": "code",
   "execution_count": null,
   "id": "57a0e15c-34be-4a16-b891-b7a42fc63b99",
   "metadata": {},
   "outputs": [],
   "source": [
    "# Name of the file where the results will be saved\n",
    "filepath = '../data/raw/result-scrapping-Bayeux.json' #params.feeds.filepath #\n",
    "filename = 'result-scrapping-Bayeux.json'\n",
    "\n",
    "# If file already exists, delete it before crawling (because Scrapy will \n",
    "# concatenate the last and new results otherwise)\n",
    "if filename in os.listdir(params.feeds.folder):\n",
    "        os.remove(filepath)\n",
    "\n",
    "# Declare a new CrawlerProcess with some settings\n",
    "## USER_AGENT => Simulates a browser on an OS\n",
    "## LOG_LEVEL => Minimal Level of Log \n",
    "## FEEDS => Where the file will be stored \n",
    "## More info on built-in settings => https://docs.scrapy.org/en/latest/topics/settings.html?highlight=settings#settings\n",
    "process = CrawlerProcess(\n",
    "    settings = {\n",
    "    #'USER_AGENT': 'Mozilla/4.0 (compatible; MSIE 7.0; Windows NT 5.1)',\n",
    "    'LOG_LEVEL': 'INFO',\n",
    "    \"FEEDS\": {\n",
    "        params.feeds.filepath : {\"format\": params.feeds.format},\n",
    "    }\n",
    "})\n",
    "\n",
    "# Start the crawling using the spider you defined above\n",
    "process.crawl(NewBookingSpider, cities = city)\n",
    "process.start()"
   ]
  },
  {
   "cell_type": "markdown",
   "id": "1e81a487-5dce-4161-8cf6-fc21a7fda519",
   "metadata": {},
   "source": [
    "Example text where the latitude and longitude could be found"
   ]
  },
  {
   "cell_type": "code",
   "execution_count": null,
   "id": "09dc5913-82dd-46f5-a4f7-71e76ba3214e",
   "metadata": {},
   "outputs": [],
   "source": [
    "texto = \"booking.ensureNamespaceExists('env'); \\\n",
    "booking.env.b_map_center_latitude = 43.60385788; \\\n",
    "booking.env.b_map_center_longitude = 1.44400209; \\\n",
    "booking.env.b_hotel_id = '26988'; \\\n",
    "booking.env.b_query_params_no_ext = '?aid=202160;sid=eb9e9effaa24bf6e3436fd8e7c8e8791;srpvid=c3706e8d712e0023&'; \\\n",
    "booking.env.b_server_role='app';\""
   ]
  },
  {
   "cell_type": "code",
   "execution_count": null,
   "id": "b92b908d-f9e4-4955-b7ff-ff4365d7846b",
   "metadata": {},
   "outputs": [],
   "source": [
    "coords = texto.split(';')[1:3]\n",
    "coords"
   ]
  },
  {
   "cell_type": "code",
   "execution_count": null,
   "id": "9222303f-9fcc-4722-a1ee-db3126438226",
   "metadata": {},
   "outputs": [],
   "source": [
    "latitude = coords[0].split('=')[1].strip()\n",
    "longitude = coords[1].split('=')[1].strip()\n",
    "(latitude, longitude)"
   ]
  },
  {
   "cell_type": "code",
   "execution_count": null,
   "id": "1651d4d6-73f9-4c56-972b-2b33cfa07867",
   "metadata": {},
   "outputs": [],
   "source": []
  }
 ],
 "metadata": {
  "kernelspec": {
   "display_name": "kernel-pez-jedha",
   "language": "python",
   "name": "kernel-pez-jedha"
  },
  "language_info": {
   "codemirror_mode": {
    "name": "ipython",
    "version": 3
   },
   "file_extension": ".py",
   "mimetype": "text/x-python",
   "name": "python",
   "nbconvert_exporter": "python",
   "pygments_lexer": "ipython3",
   "version": "3.7.11"
  }
 },
 "nbformat": 4,
 "nbformat_minor": 5
}
