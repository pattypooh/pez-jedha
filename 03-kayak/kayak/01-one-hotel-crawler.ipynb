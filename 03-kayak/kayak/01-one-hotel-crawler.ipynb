{
 "cells": [
  {
   "cell_type": "code",
   "execution_count": 1,
   "id": "27bc3bc6-eea9-4bf0-8aaf-37fe4ce9e7fc",
   "metadata": {},
   "outputs": [],
   "source": [
    "import os \n",
    "import logging\n",
    "\n",
    "# Import scrapy and scrapy.crawler \n",
    "import scrapy\n",
    "from scrapy.crawler import CrawlerProcess"
   ]
  },
  {
   "cell_type": "code",
   "execution_count": 2,
   "id": "a32facf1-d06c-4fe5-943e-242c5ddf43cd",
   "metadata": {},
   "outputs": [],
   "source": [
    "from spiders.booking_newspider import NewBookingSpider"
   ]
  },
  {
   "cell_type": "code",
   "execution_count": 3,
   "id": "57a0e15c-34be-4a16-b891-b7a42fc63b99",
   "metadata": {},
   "outputs": [
    {
     "name": "stderr",
     "output_type": "stream",
     "text": [
      "2022-03-30 22:51:22 [scrapy.utils.log] INFO: Scrapy 2.5.0 started (bot: scrapybot)\n",
      "2022-03-30 22:51:22 [scrapy.utils.log] INFO: Versions: lxml 4.6.3.0, libxml2 2.9.12, cssselect 1.1.0, parsel 1.6.0, w3lib 1.22.0, Twisted 21.7.0, Python 3.7.11 (default, Jul 27 2021, 14:32:16) - [GCC 7.5.0], pyOpenSSL 20.0.1 (OpenSSL 1.1.1l  24 Aug 2021), cryptography 3.4.7, Platform Linux-5.4.72-microsoft-standard-WSL2-x86_64-with-debian-bullseye-sid\n",
      "2022-03-30 22:51:22 [scrapy.crawler] INFO: Overridden settings:\n",
      "{'AUTOTHROTTLE_ENABLED': 'True', 'LOG_LEVEL': 20}\n",
      "2022-03-30 22:51:22 [scrapy.extensions.telnet] INFO: Telnet Password: 549d2841cd9f69b2\n",
      "2022-03-30 22:51:22 [scrapy.middleware] INFO: Enabled extensions:\n",
      "['scrapy.extensions.corestats.CoreStats',\n",
      " 'scrapy.extensions.telnet.TelnetConsole',\n",
      " 'scrapy.extensions.memusage.MemoryUsage',\n",
      " 'scrapy.extensions.feedexport.FeedExporter',\n",
      " 'scrapy.extensions.logstats.LogStats',\n",
      " 'scrapy.extensions.throttle.AutoThrottle']\n",
      "2022-03-30 22:51:22 [scrapy.middleware] INFO: Enabled downloader middlewares:\n",
      "['scrapy.downloadermiddlewares.httpauth.HttpAuthMiddleware',\n",
      " 'scrapy.downloadermiddlewares.downloadtimeout.DownloadTimeoutMiddleware',\n",
      " 'scrapy.downloadermiddlewares.defaultheaders.DefaultHeadersMiddleware',\n",
      " 'scrapy.downloadermiddlewares.useragent.UserAgentMiddleware',\n",
      " 'scrapy.downloadermiddlewares.retry.RetryMiddleware',\n",
      " 'scrapy.downloadermiddlewares.redirect.MetaRefreshMiddleware',\n",
      " 'scrapy.downloadermiddlewares.httpcompression.HttpCompressionMiddleware',\n",
      " 'scrapy.downloadermiddlewares.redirect.RedirectMiddleware',\n",
      " 'scrapy.downloadermiddlewares.cookies.CookiesMiddleware',\n",
      " 'scrapy.downloadermiddlewares.httpproxy.HttpProxyMiddleware',\n",
      " 'scrapy.downloadermiddlewares.stats.DownloaderStats']\n",
      "2022-03-30 22:51:22 [scrapy.middleware] INFO: Enabled spider middlewares:\n",
      "['scrapy.spidermiddlewares.httperror.HttpErrorMiddleware',\n",
      " 'scrapy.spidermiddlewares.offsite.OffsiteMiddleware',\n",
      " 'scrapy.spidermiddlewares.referer.RefererMiddleware',\n",
      " 'scrapy.spidermiddlewares.urllength.UrlLengthMiddleware',\n",
      " 'scrapy.spidermiddlewares.depth.DepthMiddleware']\n",
      "2022-03-30 22:51:22 [scrapy.middleware] INFO: Enabled item pipelines:\n",
      "[]\n",
      "2022-03-30 22:51:22 [scrapy.core.engine] INFO: Spider opened\n",
      "2022-03-30 22:51:22 [scrapy.extensions.logstats] INFO: Crawled 0 pages (at 0 pages/min), scraped 0 items (at 0 items/min)\n",
      "2022-03-30 22:51:22 [scrapy.extensions.telnet] INFO: Telnet console listening on 127.0.0.1:6023\n"
     ]
    },
    {
     "name": "stdout",
     "output_type": "stream",
     "text": [
      "*****Starting with url=https://www.booking.com/searchresults.fr.html?lang=fr&ss=Toulouse******\n"
     ]
    },
    {
     "name": "stderr",
     "output_type": "stream",
     "text": [
      "2022-03-30 22:51:28 [root] INFO: Following next page with url: https://www.booking.com/searchresults.fr.html?lang=fr&ss=Toulouse&offset=25\n",
      "2022-03-30 22:51:37 [root] INFO: Following next page with url: https://www.booking.com/searchresults.fr.html?lang=fr&ss=Toulouse&offset=50\n",
      "2022-03-30 22:51:41 [root] INFO: Following next page with url: https://www.booking.com/searchresults.fr.html?lang=fr&ss=Toulouse&offset=75\n",
      "2022-03-30 22:51:42 [root] INFO: Following next page with url: https://www.booking.com/searchresults.fr.html?lang=fr&ss=Toulouse&offset=100\n",
      "2022-03-30 22:51:44 [root] INFO: Following next page with url: https://www.booking.com/searchresults.fr.html?lang=fr&ss=Toulouse&offset=125\n",
      "2022-03-30 22:51:46 [root] INFO: Following next page with url: https://www.booking.com/searchresults.fr.html?lang=fr&ss=Toulouse&offset=150\n",
      "2022-03-30 22:51:47 [root] INFO: Following next page with url: https://www.booking.com/searchresults.fr.html?lang=fr&ss=Toulouse&offset=175\n",
      "2022-03-30 22:51:49 [root] INFO: Following next page with url: https://www.booking.com/searchresults.fr.html?lang=fr&ss=Toulouse&offset=200\n",
      "2022-03-30 22:51:50 [root] INFO: Following next page with url: https://www.booking.com/searchresults.fr.html?lang=fr&ss=Toulouse&offset=225\n",
      "2022-03-30 22:51:52 [root] INFO: Following next page with url: https://www.booking.com/searchresults.fr.html?lang=fr&ss=Toulouse&offset=250\n",
      "2022-03-30 22:51:53 [root] INFO: Following next page with url: https://www.booking.com/searchresults.fr.html?lang=fr&ss=Toulouse&offset=275\n",
      "2022-03-30 22:51:55 [root] INFO: Following next page with url: https://www.booking.com/searchresults.fr.html?lang=fr&ss=Toulouse&offset=300\n",
      "2022-03-30 22:51:57 [root] INFO: Following next page with url: https://www.booking.com/searchresults.fr.html?lang=fr&ss=Toulouse&offset=325\n",
      "2022-03-30 22:51:58 [root] INFO: Following next page with url: https://www.booking.com/searchresults.fr.html?lang=fr&ss=Toulouse&offset=350\n",
      "2022-03-30 22:52:00 [root] INFO: Following next page with url: https://www.booking.com/searchresults.fr.html?lang=fr&ss=Toulouse&offset=375\n",
      "2022-03-30 22:52:01 [root] INFO: Following next page with url: https://www.booking.com/searchresults.fr.html?lang=fr&ss=Toulouse&offset=400\n",
      "2022-03-30 22:52:03 [root] INFO: Following next page with url: https://www.booking.com/searchresults.fr.html?lang=fr&ss=Toulouse&offset=425\n",
      "2022-03-30 22:52:05 [root] INFO: Following next page with url: https://www.booking.com/searchresults.fr.html?lang=fr&ss=Toulouse&offset=450\n",
      "2022-03-30 22:52:06 [root] INFO: Following next page with url: https://www.booking.com/searchresults.fr.html?lang=fr&ss=Toulouse&offset=475\n",
      "2022-03-30 22:52:07 [root] INFO: Following next page with url: https://www.booking.com/searchresults.fr.html?lang=fr&ss=Toulouse&offset=500\n",
      "2022-03-30 22:52:09 [root] INFO: Following next page with url: https://www.booking.com/searchresults.fr.html?lang=fr&ss=Toulouse&offset=525\n",
      "2022-03-30 22:52:11 [root] INFO: Following next page with url: https://www.booking.com/searchresults.fr.html?lang=fr&ss=Toulouse&offset=550\n",
      "2022-03-30 22:52:12 [root] INFO: Following next page with url: https://www.booking.com/searchresults.fr.html?lang=fr&ss=Toulouse&offset=575\n",
      "2022-03-30 22:52:14 [root] INFO: Following next page with url: https://www.booking.com/searchresults.fr.html?lang=fr&ss=Toulouse&offset=600\n",
      "2022-03-30 22:52:15 [root] INFO: Following next page with url: https://www.booking.com/searchresults.fr.html?lang=fr&ss=Toulouse&offset=625\n",
      "2022-03-30 22:52:16 [root] INFO: Following next page with url: https://www.booking.com/searchresults.fr.html?lang=fr&ss=Toulouse&offset=650\n",
      "2022-03-30 22:52:18 [scrapy.core.engine] INFO: Closing spider (finished)\n",
      "2022-03-30 22:52:18 [scrapy.extensions.feedexport] INFO: Stored csv feed (626 items) in: ./../data/onecity_result.csv\n",
      "2022-03-30 22:52:18 [scrapy.statscollectors] INFO: Dumping Scrapy stats:\n",
      "{'downloader/request_bytes': 28340,\n",
      " 'downloader/request_count': 27,\n",
      " 'downloader/request_method_count/GET': 27,\n",
      " 'downloader/response_bytes': 5001299,\n",
      " 'downloader/response_count': 27,\n",
      " 'downloader/response_status_count/200': 27,\n",
      " 'elapsed_time_seconds': 55.424637,\n",
      " 'feedexport/success_count/FileFeedStorage': 1,\n",
      " 'finish_reason': 'finished',\n",
      " 'finish_time': datetime.datetime(2022, 3, 30, 20, 52, 18, 312039),\n",
      " 'httpcompression/response_bytes': 31529302,\n",
      " 'httpcompression/response_count': 27,\n",
      " 'item_scraped_count': 626,\n",
      " 'log_count/INFO': 37,\n",
      " 'memusage/max': 137629696,\n",
      " 'memusage/startup': 137629696,\n",
      " 'request_depth_max': 26,\n",
      " 'response_received_count': 27,\n",
      " 'scheduler/dequeued': 27,\n",
      " 'scheduler/dequeued/memory': 27,\n",
      " 'scheduler/enqueued': 27,\n",
      " 'scheduler/enqueued/memory': 27,\n",
      " 'start_time': datetime.datetime(2022, 3, 30, 20, 51, 22, 887402)}\n",
      "2022-03-30 22:52:18 [scrapy.core.engine] INFO: Spider closed (finished)\n"
     ]
    }
   ],
   "source": [
    "# Name of the file where the results will be saved\n",
    "filename = \"onecity_result.csv\"\n",
    "\n",
    "# If file already exists, delete it before crawling (because Scrapy will \n",
    "# concatenate the last and new results otherwise)\n",
    "if filename in os.listdir('./results/'):\n",
    "        os.remove('./results/' + filename)\n",
    "\n",
    "# Declare a new CrawlerProcess with some settings\n",
    "## USER_AGENT => Simulates a browser on an OS\n",
    "## LOG_LEVEL => Minimal Level of Log \n",
    "## FEEDS => Where the file will be stored \n",
    "## More info on built-in settings => https://docs.scrapy.org/en/latest/topics/settings.html?highlight=settings#settings\n",
    "process = CrawlerProcess(\n",
    "    settings = {\n",
    "    #'USER_AGENT': 'Mozilla/4.0 (compatible; MSIE 7.0; Windows NT 5.1)',\n",
    "    'LOG_LEVEL': logging.INFO,\n",
    "    \"FEEDS\": {\n",
    "        './../data/' + filename : {\"format\": \"csv\"},\n",
    "    }\n",
    "})\n",
    "\n",
    "# Start the crawling using the spider you defined above\n",
    "process.crawl(NewBookingSpider)\n",
    "process.start()"
   ]
  },
  {
   "cell_type": "code",
   "execution_count": null,
   "id": "09dc5913-82dd-46f5-a4f7-71e76ba3214e",
   "metadata": {},
   "outputs": [],
   "source": []
  }
 ],
 "metadata": {
  "kernelspec": {
   "display_name": "kernel-pez-jedha",
   "language": "python",
   "name": "kernel-pez-jedha"
  },
  "language_info": {
   "codemirror_mode": {
    "name": "ipython",
    "version": 3
   },
   "file_extension": ".py",
   "mimetype": "text/x-python",
   "name": "python",
   "nbconvert_exporter": "python",
   "pygments_lexer": "ipython3",
   "version": "3.7.11"
  }
 },
 "nbformat": 4,
 "nbformat_minor": 5
}
