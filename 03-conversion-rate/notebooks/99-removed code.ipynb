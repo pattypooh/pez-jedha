{
 "cells": [
  {
   "cell_type": "code",
   "execution_count": null,
   "id": "cf438f62-e7b8-4c37-94ce-874fe87900dc",
   "metadata": {},
   "outputs": [],
   "source": [
    "import plotly.express as px\n",
    "import plotly.graph_objects as go\n",
    "import plotly.io as pio\n",
    "# setting Jedha color palette as default\n",
    "pio.templates[\"jedha\"] = go.layout.Template(\n",
    "    layout_colorway=[\"#4B9AC7\", \"#4BE8E0\", \"#9DD4F3\", \"#97FBF6\", \"#2A7FAF\", \"#23B1AB\", \"#0E3449\", \"#015955\"]\n",
    ")\n",
    "pio.templates.default = \"jedha\"\n",
    "from IPython.display import display"
   ]
  },
  {
   "cell_type": "markdown",
   "id": "58bec660-4d3f-4e80-bb1a-c0670bde3b17",
   "metadata": {
    "tags": []
   },
   "source": [
    "### Create Train and test sets"
   ]
  },
  {
   "cell_type": "code",
   "execution_count": 29,
   "id": "2d4dda92-9ce8-4b46-94f1-e8c04ab6fa7a",
   "metadata": {},
   "outputs": [],
   "source": [
    "# Create column names lists for the features and the target\n",
    "num_attributes = ['age', 'new_user','total_pages_visited']\n",
    "target_label = ['converted']"
   ]
  },
  {
   "cell_type": "code",
   "execution_count": 30,
   "id": "961e5cf5-8663-4d33-b493-d4836b3da3bd",
   "metadata": {},
   "outputs": [],
   "source": [
    "#Split data into train and test sets\n",
    "train_set, test_set = train_test_split(data, test_size=0.2, random_state=42)"
   ]
  },
  {
   "cell_type": "code",
   "execution_count": 31,
   "id": "c68cc9fe-ecc4-4d73-b3d3-1bc7f53ba4cb",
   "metadata": {},
   "outputs": [],
   "source": [
    "# Separate features and target in train and test data sets\n",
    "X_train = train_set.drop(target_label, axis=1)\n",
    "y_train = train_set['converted'].copy()\n",
    "\n",
    "X_test = test_set.drop(target_label, axis=1)\n",
    "y_test = test_set['converted'].copy()"
   ]
  },
  {
   "cell_type": "code",
   "execution_count": 32,
   "id": "54d8a91e-a349-41f9-83e3-d2e5162daf7d",
   "metadata": {},
   "outputs": [
    {
     "name": "stdout",
     "output_type": "stream",
     "text": [
      "Distribution of original train_data\n"
     ]
    },
    {
     "data": {
      "text/plain": [
       "0    96.783857\n",
       "1     3.216143\n",
       "Name: converted, dtype: float64"
      ]
     },
     "execution_count": 32,
     "metadata": {},
     "output_type": "execute_result"
    }
   ],
   "source": [
    "print('Distribution of original train_data')\n",
    "y_train.value_counts()*100/y_train.shape[0]"
   ]
  },
  {
   "cell_type": "markdown",
   "id": "1702953c-9845-4757-aee2-0dc30d370fe5",
   "metadata": {},
   "source": [
    "## 2. Baseline model \n",
    "### Logistic Regression with default parameters "
   ]
  },
  {
   "cell_type": "markdown",
   "id": "a8d7a905-2587-40d7-9987-0d8376b75058",
   "metadata": {},
   "source": [
    "One variable: total_pages_visited"
   ]
  },
  {
   "cell_type": "code",
   "execution_count": 35,
   "id": "a8840515-061c-409b-b339-5450ef71fb0d",
   "metadata": {},
   "outputs": [
    {
     "name": "stdout",
     "output_type": "stream",
     "text": [
      "Mean accuracy\n"
     ]
    },
    {
     "data": {
      "text/plain": [
       "0.9829178087005411"
      ]
     },
     "execution_count": 35,
     "metadata": {},
     "output_type": "execute_result"
    }
   ],
   "source": [
    "log_reg = LogisticRegression()\n",
    "# Take only total_visited_pages\n",
    "X_train_default = X_train[['total_pages_visited']]\n",
    "log_reg.fit(X_train_default, y_train.values.ravel())\n",
    "print(\"Mean accuracy\")\n",
    "log_reg.score(X_train_default, y_train) # It executes a log_reg.predict and then calculates the correct predictions from the ensemble"
   ]
  },
  {
   "cell_type": "markdown",
   "id": "8fbd5dfb-d269-4bd7-8ce4-369c67e44a74",
   "metadata": {},
   "source": [
    "### Confusion matrix"
   ]
  },
  {
   "cell_type": "code",
   "execution_count": 36,
   "id": "b8d2eb61-534c-440a-907b-5d92edd21595",
   "metadata": {},
   "outputs": [],
   "source": [
    "def labels_conf_matrix(conf_matrix):\n",
    "    group_names = ['True Neg','False Pos','False Neg','True Pos']\n",
    "    group_counts = ['{0:0.0f}'.format(value) for value in conf_matrix.flatten()]\n",
    "    group_percentages = ['{0:.2%}'.format(value) for value in conf_matrix.flatten()/np.sum(conf_matrix)]\n",
    "    labels = [f'{v1}\\n{v2}\\n{v3}' for v1, v2, v3 in zip(group_names,group_counts,group_percentages)]\n",
    "    labels = np.asarray(labels).reshape(2,2)\n",
    "    return labels"
   ]
  },
  {
   "cell_type": "code",
   "execution_count": 37,
   "id": "a467ee25-8e45-430d-ad72-47ae4a2ad9b8",
   "metadata": {},
   "outputs": [
    {
     "data": {
      "text/plain": [
       "array([[219376,    966],\n",
       "       [  2923,   4399]])"
      ]
     },
     "execution_count": 37,
     "metadata": {},
     "output_type": "execute_result"
    }
   ],
   "source": [
    "from sklearn.metrics import confusion_matrix\n",
    "conf_matrix = confusion_matrix(y_train, log_reg.predict(X_train_default))\n",
    "\n",
    "conf_matrix"
   ]
  },
  {
   "cell_type": "code",
   "execution_count": 38,
   "id": "98a0fd46-4b5b-48be-a983-64e2c6cc6e4c",
   "metadata": {},
   "outputs": [],
   "source": [
    "labels =labels_conf_matrix(conf_matrix)"
   ]
  },
  {
   "cell_type": "code",
   "execution_count": 39,
   "id": "d7faa08c-925c-4405-9c13-c435a71cf0f8",
   "metadata": {
    "tags": []
   },
   "outputs": [
    {
     "data": {
      "image/png": "[encoded data removed]",
      "text/plain": [
       "<Figure size 432x288 with 2 Axes>"
      ]
     },
     "metadata": {},
     "output_type": "display_data"
    }
   ],
   "source": [
    "colors = ['Green', 'Red', 'Blue', 'Black']\n",
    "ax = sns.heatmap(conf_matrix, annot=labels,fmt='', cmap='Greens', linewidth=.5)\n",
    "ax.set(xlabel=\"Predicted\", ylabel=\"Actual\")\n",
    "ax.xaxis.tick_top()\n",
    "#plt.title('Confusion Matrix',  fontdict={'fontname':'DejaVu Sans', 'fontsize':15})\n"
   ]
  },
  {
   "cell_type": "markdown",
   "id": "fe52df83-bc81-42e0-8cac-c754597e6a26",
   "metadata": {},
   "source": [
    "### Precision, Recall, f1_score"
   ]
  },
  {
   "cell_type": "code",
   "execution_count": 42,
   "id": "3798cf37-9c7b-407d-a221-c283ecb368c2",
   "metadata": {},
   "outputs": [],
   "source": [
    "from collections import defaultdict"
   ]
  },
  {
   "cell_type": "code",
   "execution_count": 61,
   "id": "3160a730-c930-4644-af9c-f4730c0357fb",
   "metadata": {
    "tags": []
   },
   "outputs": [],
   "source": [
    "def predict_compare(model, X, y_true):\n",
    "    y_pred = model.predict(X)\n",
    "    precision = precision_score(y_true, y_pred)\n",
    "    recall = recall_score(y_true, y_pred)\n",
    "    f1 = f1_score(y_true, y_pred)\n",
    "    return precision, recall, f1"
   ]
  },
  {
   "cell_type": "code",
   "execution_count": 62,
   "id": "6f34a0cf-67cd-447f-b2f0-e2ace871704e",
   "metadata": {},
   "outputs": [],
   "source": [
    "indicateurs = list()"
   ]
  },
  {
   "cell_type": "code",
   "execution_count": 63,
   "id": "d316d858-989d-4d82-bd58-f3e282e29324",
   "metadata": {},
   "outputs": [],
   "source": [
    "p, r, f1 = predict_compare(log_reg, X_train_default, y_train)\n",
    "indicateurs.append(['train',p, r, f1])\n",
    "p, r, f1 = predict_compare(log_reg, X_test[['total_pages_visited']], y_test)\n",
    "indicateurs.append(['test',p, r, f1])"
   ]
  },
  {
   "cell_type": "code",
   "execution_count": 65,
   "id": "43c78911-f85b-4f44-aa53-222861456346",
   "metadata": {},
   "outputs": [
    {
     "data": {
      "text/html": [
       "<div>\n",
       "<style scoped>\n",
       "    .dataframe tbody tr th:only-of-type {\n",
       "        vertical-align: middle;\n",
       "    }\n",
       "\n",
       "    .dataframe tbody tr th {\n",
       "        vertical-align: top;\n",
       "    }\n",
       "\n",
       "    .dataframe thead th {\n",
       "        text-align: right;\n",
       "    }\n",
       "</style>\n",
       "<table border=\"1\" class=\"dataframe\">\n",
       "  <thead>\n",
       "    <tr style=\"text-align: right;\">\n",
       "      <th></th>\n",
       "      <th>train_test</th>\n",
       "      <th>precision</th>\n",
       "      <th>recall</th>\n",
       "      <th>F1</th>\n",
       "    </tr>\n",
       "  </thead>\n",
       "  <tbody>\n",
       "    <tr>\n",
       "      <th>0</th>\n",
       "      <td>train</td>\n",
       "      <td>0.819944</td>\n",
       "      <td>0.600792</td>\n",
       "      <td>0.693466</td>\n",
       "    </tr>\n",
       "    <tr>\n",
       "      <th>1</th>\n",
       "      <td>test</td>\n",
       "      <td>0.829054</td>\n",
       "      <td>0.608181</td>\n",
       "      <td>0.701645</td>\n",
       "    </tr>\n",
       "  </tbody>\n",
       "</table>\n",
       "</div>"
      ],
      "text/plain": [
       "  train_test  precision    recall        F1\n",
       "0      train   0.819944  0.600792  0.693466\n",
       "1       test   0.829054  0.608181  0.701645"
      ]
     },
     "execution_count": 65,
     "metadata": {},
     "output_type": "execute_result"
    }
   ],
   "source": [
    "##indicateurs = {'precision', 'recall':r , 'F1':f1}\n",
    "pd.DataFrame(indicateurs, columns=['train_test','precision', 'recall', 'F1'])"
   ]
  },
  {
   "cell_type": "markdown",
   "id": "9ba7c89d-7942-426c-89fb-7d9b6ca62d64",
   "metadata": {},
   "source": [
    "### Hyperparameters"
   ]
  },
  {
   "cell_type": "code",
   "execution_count": 66,
   "id": "d5fba4cb-fb51-4602-b36c-7a7ab6ab9f29",
   "metadata": {},
   "outputs": [
    {
     "data": {
      "text/plain": [
       "{'C': 1.0,\n",
       " 'class_weight': None,\n",
       " 'dual': False,\n",
       " 'fit_intercept': True,\n",
       " 'intercept_scaling': 1,\n",
       " 'l1_ratio': None,\n",
       " 'max_iter': 100,\n",
       " 'multi_class': 'auto',\n",
       " 'n_jobs': None,\n",
       " 'penalty': 'l2',\n",
       " 'random_state': None,\n",
       " 'solver': 'lbfgs',\n",
       " 'tol': 0.0001,\n",
       " 'verbose': 0,\n",
       " 'warm_start': False}"
      ]
     },
     "execution_count": 66,
     "metadata": {},
     "output_type": "execute_result"
    }
   ],
   "source": [
    "log_reg.get_params()"
   ]
  }
 ],
 "metadata": {
  "kernelspec": {
   "display_name": "kernel-pez-jedha",
   "language": "python",
   "name": "kernel-pez-jedha"
  }
 },
 "nbformat": 4,
 "nbformat_minor": 5
}
