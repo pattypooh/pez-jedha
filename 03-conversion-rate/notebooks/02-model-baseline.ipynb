{
 "cells": [
  {
   "cell_type": "code",
   "execution_count": 1,
   "id": "7fc0f214-52c8-4593-893b-c24bdfa7e4b5",
   "metadata": {
    "tags": []
   },
   "outputs": [],
   "source": [
    "import pandas as pd\n",
    "import numpy as np\n",
    "\n",
    "from sklearn.model_selection import train_test_split\n",
    "from sklearn.impute import SimpleImputer\n",
    "from sklearn.preprocessing import StandardScaler\n",
    "from sklearn.preprocessing import OneHotEncoder\n",
    "from sklearn.compose import ColumnTransformer\n",
    "from sklearn.linear_model import LogisticRegression\n",
    "from sklearn.ensemble import  RandomForestClassifier, AdaBoostClassifier\n",
    "from sklearn.neighbors import KNeighborsClassifier\n",
    "from sklearn.svm import LinearSVC\n",
    "from xgboost import XGBClassifier\n",
    "from sklearn.metrics import precision_score, recall_score, f1_score, confusion_matrix\n",
    "from sklearn.pipeline import Pipeline\n",
    "\n",
    "import matplotlib.pyplot as plt\n",
    "import plotly.express as px\n",
    "import plotly.graph_objects as go\n",
    "import plotly.io as pio\n",
    "# setting Jedha color palette as default\n",
    "pio.templates[\"jedha\"] = go.layout.Template(\n",
    "    layout_colorway=[\"#4B9AC7\", \"#4BE8E0\", \"#9DD4F3\", \"#97FBF6\", \"#2A7FAF\", \"#23B1AB\", \"#0E3449\", \"#015955\"]\n",
    ")\n",
    "pio.templates.default = \"jedha\"\n",
    "from IPython.display import display"
   ]
  },
  {
   "cell_type": "code",
   "execution_count": 2,
   "id": "1f34e0e5-ff72-4c75-a684-69a6b65c4f24",
   "metadata": {},
   "outputs": [
    {
     "name": "stdout",
     "output_type": "stream",
     "text": [
      "Set with labels (our train+test) : (284580, 6)\n"
     ]
    }
   ],
   "source": [
    "data = pd.read_csv('./../data/raw/conversion_data_train.csv')\n",
    "print('Set with labels (our train+test) :', data.shape)"
   ]
  },
  {
   "cell_type": "markdown",
   "id": "c7d6c971-a999-412b-8e40-876433bb3576",
   "metadata": {
    "tags": []
   },
   "source": [
    "## Baseline:  Only total_pages_visited taken into account"
   ]
  },
  {
   "cell_type": "code",
   "execution_count": 37,
   "id": "4dfac3a0-f31e-4fb8-8730-b47d0441b480",
   "metadata": {},
   "outputs": [],
   "source": [
    "num_attributes = ['total_pages_visited']\n",
    "target_label = 'converted'\n",
    "X = data.drop(target_label, axis=1)[num_attributes]\n",
    "y = data[target_label].copy()"
   ]
  },
  {
   "cell_type": "code",
   "execution_count": 38,
   "id": "6d0257d7-0686-4d34-a566-ff6883595247",
   "metadata": {},
   "outputs": [],
   "source": [
    "X_train, X_test, y_train, y_test = train_test_split(X, y, test_size=0.2, random_state=42)"
   ]
  },
  {
   "cell_type": "code",
   "execution_count": 39,
   "id": "ae2f0493-7fd9-4f4f-90a3-d827832a360d",
   "metadata": {},
   "outputs": [
    {
     "data": {
      "text/plain": [
       "0    96.774194\n",
       "1     3.225806\n",
       "Name: converted, dtype: float64"
      ]
     },
     "execution_count": 39,
     "metadata": {},
     "output_type": "execute_result"
    }
   ],
   "source": [
    "# Verifying we have the same proportion of conversion rates than original dataset\n",
    "y.value_counts()*100/y.shape[0]"
   ]
  },
  {
   "cell_type": "markdown",
   "id": "f3e67a42-e24d-4b94-ab96-746745abefb5",
   "metadata": {},
   "source": [
    "### Logistic Regression with default parameters"
   ]
  },
  {
   "cell_type": "code",
   "execution_count": 40,
   "id": "84517507-94f5-4fc1-b98f-20c3f4a91a12",
   "metadata": {},
   "outputs": [
    {
     "data": {
      "text/plain": [
       "0.9829178087005411"
      ]
     },
     "execution_count": 40,
     "metadata": {},
     "output_type": "execute_result"
    }
   ],
   "source": [
    "log_reg = LogisticRegression()\n",
    "log_reg.fit(X_train, y_train)\n",
    "log_reg.score(X_train, y_train)"
   ]
  },
  {
   "cell_type": "code",
   "execution_count": 7,
   "id": "19c386bf-c953-484c-b6e7-8cfdcff30d8d",
   "metadata": {},
   "outputs": [
    {
     "name": "stdout",
     "output_type": "stream",
     "text": [
      "<class 'numpy.ndarray'>\n"
     ]
    },
    {
     "data": {
      "text/plain": [
       "array([[219376,    966],\n",
       "       [  2923,   4399]])"
      ]
     },
     "execution_count": 7,
     "metadata": {},
     "output_type": "execute_result"
    }
   ],
   "source": [
    "from sklearn.metrics import confusion_matrix\n",
    "conf_matrix = confusion_matrix(y_train, log_reg.predict(X_train))\n",
    "print(type(conf_matrix))\n",
    "conf_matrix"
   ]
  },
  {
   "cell_type": "code",
   "execution_count": 8,
   "id": "0ecf8e2c-a88f-4375-9cb9-eda683517156",
   "metadata": {},
   "outputs": [],
   "source": [
    "def labels_conf_matrix(conf_matrix):\n",
    "    group_names = ['True Neg','False Pos','False Neg','True Pos']\n",
    "    group_counts = ['{0:0.0f}'.format(value) for value in conf_matrix.flatten()]\n",
    "    group_percentages = ['{0:.2%}'.format(value) for value in conf_matrix.flatten()/np.sum(conf_matrix)]\n",
    "    labels = [f'{v1}\\n{v2}\\n{v3}' for v1, v2, v3 in zip(group_names,group_counts,group_percentages)]\n",
    "    labels = np.asarray(labels).reshape(2,2)\n",
    "    return labels"
   ]
  },
  {
   "cell_type": "code",
   "execution_count": 9,
   "id": "0005f95f-1f25-4c65-98e7-9fe48f54c2d7",
   "metadata": {},
   "outputs": [],
   "source": [
    "labels =labels_conf_matrix(conf_matrix)"
   ]
  },
  {
   "cell_type": "markdown",
   "id": "10292063-ab74-4c24-aae3-01daa0a525e0",
   "metadata": {},
   "source": [
    "### Confusion matrix"
   ]
  },
  {
   "cell_type": "code",
   "execution_count": 10,
   "id": "86edd239-a492-420c-a204-a7f5973a44dc",
   "metadata": {},
   "outputs": [],
   "source": [
    "import seaborn as sns"
   ]
  },
  {
   "cell_type": "code",
   "execution_count": 11,
   "id": "df4ae79a-accd-4915-9e2e-9d54506c68aa",
   "metadata": {
    "tags": []
   },
   "outputs": [
    {
     "data": {
      "text/plain": [
       "<AxesSubplot:>"
      ]
     },
     "execution_count": 11,
     "metadata": {},
     "output_type": "execute_result"
    },
    {
     "data": {
      "image/png": "[encoded data removed]",
      "text/plain": [
       "<Figure size 432x288 with 2 Axes>"
      ]
     },
     "metadata": {
      "needs_background": "light"
     },
     "output_type": "display_data"
    }
   ],
   "source": [
    "sns.heatmap(conf_matrix, annot=labels,fmt='', cmap='Blues')"
   ]
  },
  {
   "cell_type": "markdown",
   "id": "ca1b9f37-66af-4c0a-a0d9-03698bb0f583",
   "metadata": {},
   "source": [
    "### Metrics: precision, recall, f1"
   ]
  },
  {
   "cell_type": "code",
   "execution_count": 12,
   "id": "d0b91b34-7e84-41de-8f6e-48ea2ec533c6",
   "metadata": {
    "tags": []
   },
   "outputs": [],
   "source": [
    "def predict_compare(model, X, y_true):\n",
    "    y_pred = model.predict(X)\n",
    "    precision = precision_score(y_true, y_pred)\n",
    "    recall = recall_score(y_true, y_pred)\n",
    "    f1 = f1_score(y_true, y_pred)\n",
    "    return precision, recall, f1"
   ]
  },
  {
   "cell_type": "code",
   "execution_count": 13,
   "id": "1f7c7bfc-bbde-48f8-adc3-a382f22ab26f",
   "metadata": {},
   "outputs": [
    {
     "name": "stdout",
     "output_type": "stream",
     "text": [
      "**Train***\n",
      "Precision=0.8199440820130476\n",
      "Recall=0.6007921332969134\n",
      "f1_score=0.69346575234492\n",
      "**Test***\n",
      "Precision=0.8290535583272194\n",
      "Recall=0.6081808396124866\n",
      "f1_score=0.7016454517230675\n"
     ]
    }
   ],
   "source": [
    "p, r, f1 = predict_compare(log_reg, X_train, y_train)\n",
    "print('**Train***')\n",
    "print('Precision={}'.format(p))\n",
    "print('Recall={}'.format(r))\n",
    "print('f1_score={}'.format(f1))\n",
    "p, r, f1 = predict_compare(log_reg, X_test, y_test)\n",
    "print('**Test***')\n",
    "print('Precision={}'.format(p))\n",
    "print('Recall={}'.format(r))\n",
    "print('f1_score={}'.format(f1))\n"
   ]
  },
  {
   "cell_type": "code",
   "execution_count": 14,
   "id": "cb23514d-f30b-4778-93e5-f1c324197d43",
   "metadata": {},
   "outputs": [
    {
     "data": {
      "text/plain": [
       "{'C': 1.0,\n",
       " 'class_weight': None,\n",
       " 'dual': False,\n",
       " 'fit_intercept': True,\n",
       " 'intercept_scaling': 1,\n",
       " 'l1_ratio': None,\n",
       " 'max_iter': 100,\n",
       " 'multi_class': 'auto',\n",
       " 'n_jobs': None,\n",
       " 'penalty': 'l2',\n",
       " 'random_state': None,\n",
       " 'solver': 'lbfgs',\n",
       " 'tol': 0.0001,\n",
       " 'verbose': 0,\n",
       " 'warm_start': False}"
      ]
     },
     "execution_count": 14,
     "metadata": {},
     "output_type": "execute_result"
    }
   ],
   "source": [
    "log_reg.get_params()"
   ]
  },
  {
   "cell_type": "markdown",
   "id": "3ae60ddf-ada7-459a-9909-0fe232948c14",
   "metadata": {},
   "source": [
    "### Logistic Regression with weights"
   ]
  },
  {
   "cell_type": "code",
   "execution_count": 77,
   "id": "f13cdfa5-879a-48a7-a97d-f1f01f6fd8d1",
   "metadata": {},
   "outputs": [],
   "source": [
    "classifier = LogisticRegression(class_weight={0:0.2, 1:0.8}, max_iter=200, C=0.2)"
   ]
  },
  {
   "cell_type": "code",
   "execution_count": 78,
   "id": "50773d92-5b21-4923-a9cd-6d69cf3a9304",
   "metadata": {},
   "outputs": [
    {
     "data": {
      "text/plain": [
       "0.97567467847354"
      ]
     },
     "execution_count": 78,
     "metadata": {},
     "output_type": "execute_result"
    }
   ],
   "source": [
    "classifier.fit(X_train, y_train)\n",
    "classifier.score(X_train, y_train)"
   ]
  },
  {
   "cell_type": "code",
   "execution_count": 79,
   "id": "3182c5dc-468b-4e10-afcd-fef08dcab8e2",
   "metadata": {},
   "outputs": [
    {
     "name": "stdout",
     "output_type": "stream",
     "text": [
      "<class 'numpy.ndarray'>\n"
     ]
    },
    {
     "data": {
      "text/plain": [
       "array([[216385,   3957],\n",
       "       [  1581,   5741]])"
      ]
     },
     "execution_count": 79,
     "metadata": {},
     "output_type": "execute_result"
    }
   ],
   "source": [
    "conf_matrix = confusion_matrix(y_train, classifier.predict(X_train))\n",
    "print(type(conf_matrix))\n",
    "conf_matrix"
   ]
  },
  {
   "cell_type": "code",
   "execution_count": 80,
   "id": "17cc8625-4fe8-408a-bd0a-ec60be678d01",
   "metadata": {},
   "outputs": [
    {
     "data": {
      "text/plain": [
       "<AxesSubplot:>"
      ]
     },
     "execution_count": 80,
     "metadata": {},
     "output_type": "execute_result"
    },
    {
     "data": {
      "image/png": "[encoded data removed]",
      "text/plain": [
       "<Figure size 432x288 with 2 Axes>"
      ]
     },
     "metadata": {
      "needs_background": "light"
     },
     "output_type": "display_data"
    }
   ],
   "source": [
    "labels =labels_conf_matrix(conf_matrix)\n",
    "sns.heatmap(conf_matrix, annot=labels,fmt='', cmap='Blues')"
   ]
  },
  {
   "cell_type": "code",
   "execution_count": 81,
   "id": "f9db3fc2-a3c3-43ce-85d0-8c55eaf2a157",
   "metadata": {},
   "outputs": [
    {
     "name": "stdout",
     "output_type": "stream",
     "text": [
      "**Train***\n",
      "Precision=0.5919777273664674\n",
      "Recall=0.7840753892379131\n",
      "f1_score=0.6746180963572268\n",
      "**Test***\n",
      "Precision=0.6006519967400163\n",
      "Recall=0.7933261571582346\n",
      "f1_score=0.6836734693877551\n"
     ]
    }
   ],
   "source": [
    "p, r, f1 = predict_compare(classifier, X_train, y_train)\n",
    "print('**Train***')\n",
    "print('Precision={}'.format(p))\n",
    "print('Recall={}'.format(r))\n",
    "print('f1_score={}'.format(f1))\n",
    "p, r, f1 = predict_compare(classifier, X_test, y_test)\n",
    "print('**Test***')\n",
    "print('Precision={}'.format(p))\n",
    "print('Recall={}'.format(r))\n",
    "print('f1_score={}'.format(f1))"
   ]
  },
  {
   "cell_type": "code",
   "execution_count": null,
   "id": "b99a11bc-e422-4920-9962-00be7e84e08d",
   "metadata": {},
   "outputs": [],
   "source": []
  }
 ],
 "metadata": {
  "kernelspec": {
   "display_name": "kernel-pez-jedha",
   "language": "python",
   "name": "kernel-pez-jedha"
  }
 },
 "nbformat": 4,
 "nbformat_minor": 5
}
