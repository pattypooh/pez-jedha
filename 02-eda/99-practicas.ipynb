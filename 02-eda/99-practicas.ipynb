{
 "cells": [
  {
   "cell_type": "code",
   "execution_count": 22,
   "metadata": {},
   "outputs": [],
   "source": [
    "import pandas as pd\n",
    "import seaborn as sns\n",
    "import numpy as np\n",
    "import matplotlib.pyplot as plt"
   ]
  },
  {
   "cell_type": "code",
   "execution_count": 3,
   "metadata": {},
   "outputs": [],
   "source": [
    "dict_titanic = {\"class\":[\"first\", \"second\", \"third\"], \"men\":[0.91468, 0.30012, 0.11899], \"woman\":[0.667971, 0.329380, 0.189747],\n",
    "                \"children\":[0.660562, 0.882608, 0.121259]}"
   ]
  },
  {
   "cell_type": "code",
   "execution_count": 5,
   "metadata": {},
   "outputs": [],
   "source": [
    "data_df = pd.DataFrame(dict_titanic)"
   ]
  },
  {
   "cell_type": "code",
   "execution_count": 6,
   "metadata": {},
   "outputs": [
    {
     "data": {
      "text/html": [
       "<div>\n",
       "<style scoped>\n",
       "    .dataframe tbody tr th:only-of-type {\n",
       "        vertical-align: middle;\n",
       "    }\n",
       "\n",
       "    .dataframe tbody tr th {\n",
       "        vertical-align: top;\n",
       "    }\n",
       "\n",
       "    .dataframe thead th {\n",
       "        text-align: right;\n",
       "    }\n",
       "</style>\n",
       "<table border=\"1\" class=\"dataframe\">\n",
       "  <thead>\n",
       "    <tr style=\"text-align: right;\">\n",
       "      <th></th>\n",
       "      <th>class</th>\n",
       "      <th>men</th>\n",
       "      <th>woman</th>\n",
       "      <th>children</th>\n",
       "    </tr>\n",
       "  </thead>\n",
       "  <tbody>\n",
       "    <tr>\n",
       "      <th>0</th>\n",
       "      <td>first</td>\n",
       "      <td>0.91468</td>\n",
       "      <td>0.667971</td>\n",
       "      <td>0.660562</td>\n",
       "    </tr>\n",
       "    <tr>\n",
       "      <th>1</th>\n",
       "      <td>second</td>\n",
       "      <td>0.30012</td>\n",
       "      <td>0.329380</td>\n",
       "      <td>0.882608</td>\n",
       "    </tr>\n",
       "    <tr>\n",
       "      <th>2</th>\n",
       "      <td>third</td>\n",
       "      <td>0.11899</td>\n",
       "      <td>0.189747</td>\n",
       "      <td>0.121259</td>\n",
       "    </tr>\n",
       "  </tbody>\n",
       "</table>\n",
       "</div>"
      ],
      "text/plain": [
       "    class      men     woman  children\n",
       "0   first  0.91468  0.667971  0.660562\n",
       "1  second  0.30012  0.329380  0.882608\n",
       "2   third  0.11899  0.189747  0.121259"
      ]
     },
     "execution_count": 6,
     "metadata": {},
     "output_type": "execute_result"
    }
   ],
   "source": [
    "data_df"
   ]
  },
  {
   "cell_type": "markdown",
   "metadata": {},
   "source": [
    "## Unpivot a table "
   ]
  },
  {
   "cell_type": "code",
   "execution_count": 17,
   "metadata": {},
   "outputs": [],
   "source": [
    "data_piv_df = data_df.melt(id_vars=['class'], var_name='sex', value_name=\"survival_rate\")"
   ]
  },
  {
   "cell_type": "code",
   "execution_count": 18,
   "metadata": {},
   "outputs": [
    {
     "data": {
      "text/html": [
       "<div>\n",
       "<style scoped>\n",
       "    .dataframe tbody tr th:only-of-type {\n",
       "        vertical-align: middle;\n",
       "    }\n",
       "\n",
       "    .dataframe tbody tr th {\n",
       "        vertical-align: top;\n",
       "    }\n",
       "\n",
       "    .dataframe thead th {\n",
       "        text-align: right;\n",
       "    }\n",
       "</style>\n",
       "<table border=\"1\" class=\"dataframe\">\n",
       "  <thead>\n",
       "    <tr style=\"text-align: right;\">\n",
       "      <th></th>\n",
       "      <th>class</th>\n",
       "      <th>sex</th>\n",
       "      <th>survival_rate</th>\n",
       "    </tr>\n",
       "  </thead>\n",
       "  <tbody>\n",
       "    <tr>\n",
       "      <th>0</th>\n",
       "      <td>first</td>\n",
       "      <td>men</td>\n",
       "      <td>0.914680</td>\n",
       "    </tr>\n",
       "    <tr>\n",
       "      <th>1</th>\n",
       "      <td>second</td>\n",
       "      <td>men</td>\n",
       "      <td>0.300120</td>\n",
       "    </tr>\n",
       "    <tr>\n",
       "      <th>2</th>\n",
       "      <td>third</td>\n",
       "      <td>men</td>\n",
       "      <td>0.118990</td>\n",
       "    </tr>\n",
       "    <tr>\n",
       "      <th>3</th>\n",
       "      <td>first</td>\n",
       "      <td>woman</td>\n",
       "      <td>0.667971</td>\n",
       "    </tr>\n",
       "    <tr>\n",
       "      <th>4</th>\n",
       "      <td>second</td>\n",
       "      <td>woman</td>\n",
       "      <td>0.329380</td>\n",
       "    </tr>\n",
       "    <tr>\n",
       "      <th>5</th>\n",
       "      <td>third</td>\n",
       "      <td>woman</td>\n",
       "      <td>0.189747</td>\n",
       "    </tr>\n",
       "    <tr>\n",
       "      <th>6</th>\n",
       "      <td>first</td>\n",
       "      <td>children</td>\n",
       "      <td>0.660562</td>\n",
       "    </tr>\n",
       "    <tr>\n",
       "      <th>7</th>\n",
       "      <td>second</td>\n",
       "      <td>children</td>\n",
       "      <td>0.882608</td>\n",
       "    </tr>\n",
       "    <tr>\n",
       "      <th>8</th>\n",
       "      <td>third</td>\n",
       "      <td>children</td>\n",
       "      <td>0.121259</td>\n",
       "    </tr>\n",
       "  </tbody>\n",
       "</table>\n",
       "</div>"
      ],
      "text/plain": [
       "    class       sex  survival_rate\n",
       "0   first       men       0.914680\n",
       "1  second       men       0.300120\n",
       "2   third       men       0.118990\n",
       "3   first     woman       0.667971\n",
       "4  second     woman       0.329380\n",
       "5   third     woman       0.189747\n",
       "6   first  children       0.660562\n",
       "7  second  children       0.882608\n",
       "8   third  children       0.121259"
      ]
     },
     "execution_count": 18,
     "metadata": {},
     "output_type": "execute_result"
    }
   ],
   "source": [
    "data_piv_df"
   ]
  },
  {
   "cell_type": "code",
   "execution_count": 27,
   "metadata": {},
   "outputs": [
    {
     "data": {
      "text/plain": [
       "<seaborn.axisgrid.FacetGrid at 0x7f6e19c237f0>"
      ]
     },
     "execution_count": 27,
     "metadata": {},
     "output_type": "execute_result"
    },
    {
     "data": {
      "image/png": "[encoded data removed]",
      "text/plain": [
       "<Figure size 436.375x360 with 1 Axes>"
      ]
     },
     "metadata": {
      "needs_background": "light"
     },
     "output_type": "display_data"
    }
   ],
   "source": [
    "#f, ax = plt.subplots(figsize=(10, 6))\n",
    "sns.catplot(data=data_piv_df, x=\"class\", y=\"survival_rate\", hue=\"sex\", kind=\"bar\")"
   ]
  },
  {
   "cell_type": "markdown",
   "metadata": {},
   "source": [
    "## Same graphie with pyplot"
   ]
  },
  {
   "cell_type": "markdown",
   "metadata": {},
   "source": [
    "### 1st, learning matplotlib"
   ]
  },
  {
   "cell_type": "code",
   "execution_count": 35,
   "metadata": {},
   "outputs": [
    {
     "name": "stdout",
     "output_type": "stream",
     "text": [
      "[0.         0.22222222 0.44444444 0.66666667 0.88888889 1.11111111\n",
      " 1.33333333 1.55555556 1.77777778 2.        ]\n"
     ]
    }
   ],
   "source": [
    "# some date\n",
    "dev_x= np.linspace(start=0, stop=2, num=10)\n",
    "dev_y = dev_x**2\n",
    "print(dev_x)"
   ]
  },
  {
   "cell_type": "code",
   "execution_count": 51,
   "metadata": {},
   "outputs": [
    {
     "data": {
      "text/plain": [
       "<Figure size 864x576 with 0 Axes>"
      ]
     },
     "execution_count": 51,
     "metadata": {},
     "output_type": "execute_result"
    },
    {
     "data": {
      "text/plain": [
       "<Figure size 864x576 with 0 Axes>"
      ]
     },
     "metadata": {},
     "output_type": "display_data"
    }
   ],
   "source": [
    "plt.figure(figsize=(12,8))"
   ]
  },
  {
   "cell_type": "code",
   "execution_count": 63,
   "metadata": {},
   "outputs": [
    {
     "data": {
      "image/png": "[encoded data removed]",
      "text/plain": [
       "<Figure size 432x288 with 1 Axes>"
      ]
     },
     "metadata": {
      "needs_background": "light"
     },
     "output_type": "display_data"
    },
    {
     "data": {
      "image/png": "[encoded data removed]",
      "text/plain": [
       "<Figure size 432x288 with 1 Axes>"
      ]
     },
     "metadata": {
      "needs_background": "light"
     },
     "output_type": "display_data"
    }
   ],
   "source": [
    "plt.plot(dev_x, dev_y, label='quadratique', lw=10, c='g', ls='--')\n",
    "plt.plot(dev_x, dev_x**3, label='cubique')\n",
    "plt.title(\"Mi primer graph\")\n",
    "plt.xlabel(\"axe X\")\n",
    "plt.ylabel(\"axe Y\")\n",
    "plt.legend()\n",
    "plt.savefig('mi_1era_fig')\n",
    "plt.figure()\n",
    "plt.plot(dev_x, dev_y)\n",
    "\n",
    "plt.savefig('mi_2da_fig')"
   ]
  },
  {
   "cell_type": "markdown",
   "metadata": {},
   "source": [
    "### Now, several subplots"
   ]
  },
  {
   "cell_type": "code",
   "execution_count": 86,
   "metadata": {},
   "outputs": [
    {
     "data": {
      "image/png": "[encoded data removed]",
      "text/plain": [
       "<Figure size 432x288 with 2 Axes>"
      ]
     },
     "metadata": {
      "needs_background": "light"
     },
     "output_type": "display_data"
    }
   ],
   "source": [
    "plt.figure(tight_layout={'h_pad': 2}) # tight_layout used to put a padding (spacing) between the 2 subplots\n",
    "plt.subplot(2,1,1) # 2,1,1> The last 1 is the position/index of the subplot in the figure\n",
    "plt.plot(dev_x, dev_y, c='red')\n",
    "plt.title(\"Title: Graph de arriba\")\n",
    "\n",
    "plt.subplot(2,1,2) #The last 2 is the position/index of the subplot in the figure\n",
    "plt.plot(dev_x, np.sin(dev_x), label ='sin(x)', c='blue')\n",
    "plt.plot(dev_x, np.cos(dev_x), label ='cos(x)', c='green')\n",
    "plt.title(\"Title: Graph de abajo\")\n",
    "plt.legend()\n",
    "plt.savefig('mi_3era_fig')"
   ]
  },
  {
   "cell_type": "markdown",
   "metadata": {},
   "source": [
    "## Plotting OOP"
   ]
  },
  {
   "cell_type": "code",
   "execution_count": 95,
   "metadata": {},
   "outputs": [],
   "source": [
    "dataset={f\"experience{i}\": np.random.randn(100) for i in range(4)}"
   ]
  },
  {
   "cell_type": "code",
   "execution_count": 96,
   "metadata": {},
   "outputs": [
    {
     "data": {
      "text/plain": [
       "{'experience0': array([-2.02534559, -1.40003032, -0.34776678, -0.45647205, -0.32775081,\n",
       "         0.58863236, -0.04011579,  1.3733017 ,  0.76136344, -0.16940453,\n",
       "         1.05747902, -0.42629653,  0.35416921, -0.23256159,  0.10507886,\n",
       "        -0.70792352,  0.29319756,  1.42630672, -0.28743165, -0.59733273,\n",
       "         0.85381795, -0.42701872, -0.07178658,  1.88094507,  1.14893358,\n",
       "         0.42483854,  0.33436101,  0.38182588, -0.55427646, -1.55889   ,\n",
       "        -0.47897647,  1.23678702, -0.45583984,  0.08788852,  1.00389059,\n",
       "        -1.43992482, -0.00349541, -2.21091657, -0.74526912, -0.66638777,\n",
       "         1.90703797, -0.92268566,  1.20967518, -0.56569754, -0.59585301,\n",
       "        -0.69833173, -0.95810593, -0.70071198, -0.95283514, -0.00742727,\n",
       "        -0.6066367 , -0.85918391,  1.44857523, -0.04280039,  0.91541199,\n",
       "         0.13510775,  1.75038023, -1.14143435,  1.9589662 ,  0.57786549,\n",
       "        -0.63833521,  0.23438531, -0.27235037,  1.66891453, -0.1488918 ,\n",
       "         0.46512076,  1.32858956,  0.60785175,  0.95155453,  3.27779207,\n",
       "         0.34168842, -0.26005069, -0.04777338,  1.05685405, -1.99247768,\n",
       "        -0.54736232, -0.35737025, -1.34799045,  0.23586689, -0.92497182,\n",
       "         0.69020609, -0.66638296,  1.0956977 , -0.24331314, -1.2888306 ,\n",
       "         0.53901419,  0.30260118, -1.08197046,  0.22630873, -0.17291958,\n",
       "         0.7904077 ,  0.10468567, -1.26184682, -0.37811425,  0.93549605,\n",
       "        -0.31542583,  0.75061736,  0.10170313,  0.06675389,  0.5657594 ]),\n",
       " 'experience1': array([ 0.08866594,  1.28937788,  0.87291047,  0.73088831, -0.77007808,\n",
       "        -0.10396144,  0.998623  , -0.81182401, -0.47792996,  0.88026331,\n",
       "         2.69449043,  0.53894714, -0.28588761,  0.07445555, -0.03981234,\n",
       "        -0.57977028,  0.23007197,  0.30919808, -0.61640282, -0.34836001,\n",
       "        -0.71750941,  0.00604372,  1.21379829, -0.24742088, -1.188948  ,\n",
       "         1.07703229, -1.96676545, -0.75849473,  0.43559232,  1.08746554,\n",
       "         0.74560586,  1.67519283,  0.05102882,  0.95504943, -0.66100106,\n",
       "        -1.14566151, -0.64270725, -1.62615308, -0.34117893, -0.59628165,\n",
       "        -0.41243351, -0.11351529,  0.02417278, -1.59958446, -0.00732436,\n",
       "        -0.55808591, -0.18846831, -0.6595231 ,  0.93117076, -0.05095905,\n",
       "        -0.66715289,  0.94016629, -0.64978971,  1.19677266,  0.63739146,\n",
       "         0.57632209,  0.47404986,  1.16354327, -0.55114364,  0.73830011,\n",
       "        -0.74195215,  1.23491339,  1.30364505,  0.66841732,  0.36613224,\n",
       "        -0.92129075,  1.14838762, -1.38293716,  2.42694138, -0.80290015,\n",
       "         1.4922018 ,  0.78594957,  1.44102136,  0.00662902,  1.16976602,\n",
       "        -0.25553783, -0.95050414, -1.52118999,  0.0854525 , -0.19644488,\n",
       "         0.81664768, -0.39007823, -0.93136066,  1.46698297,  0.48611608,\n",
       "        -0.26545548,  1.20645248, -1.10341396,  0.58832926,  1.17862342,\n",
       "         0.5228901 , -1.97918045, -0.16477754,  1.05378434, -1.56533383,\n",
       "         2.16956046,  0.51845085, -0.27578046,  1.11061249,  0.78025426]),\n",
       " 'experience2': array([-0.64932845,  0.41345971,  0.80948206,  0.72918771, -0.39233865,\n",
       "         0.85458677,  1.37993364, -0.54268874, -1.78799511,  0.38954821,\n",
       "        -0.83235653,  0.11106165, -0.84023357,  0.75310038,  0.44192601,\n",
       "        -0.79784053,  1.14775609, -1.23524673,  0.19167331,  0.13682049,\n",
       "        -0.72622534, -0.2834338 , -0.31466293,  0.56712083,  0.18914495,\n",
       "        -0.75993665, -0.34777845, -1.48471858,  0.699594  ,  0.21703529,\n",
       "         0.90128774,  1.60741996,  0.69725003, -1.59886239,  1.15878072,\n",
       "         0.44699011,  0.80245765, -1.114842  , -1.02931123,  0.24921911,\n",
       "         0.0675133 ,  0.05746348,  1.68520294,  0.23358538, -2.19395189,\n",
       "        -1.59635033,  0.79437668,  2.10966428,  0.52650548, -1.14361596,\n",
       "         0.84433551,  2.01857498,  0.09648342, -0.09026581, -0.00672207,\n",
       "        -1.66223771,  0.83690559, -1.59267123, -0.79008421,  1.35082095,\n",
       "         1.96802684, -0.55774128, -0.06765425, -0.74577505, -1.56926353,\n",
       "        -1.54550491,  0.3701854 ,  0.51474541,  0.83242859,  0.43216093,\n",
       "         0.30321758,  0.85409304,  1.07846113, -0.89979763, -1.81718135,\n",
       "        -0.98185637,  0.21184307,  0.33748172, -1.60359035, -0.06835025,\n",
       "         0.96202455,  0.64416015,  1.38226791,  0.49350535,  0.11761215,\n",
       "         0.70641095, -1.29057203,  0.29312134, -1.39237484,  0.86710986,\n",
       "         0.0579347 , -0.02262669, -0.76534417, -1.30008458,  0.44042788,\n",
       "        -0.85972543,  0.8441337 , -1.45509029,  1.45320016,  2.48572271]),\n",
       " 'experience3': array([-0.43882663,  0.37058142,  0.60190155,  0.33696186, -0.68919669,\n",
       "         0.48554878, -1.05260096, -0.1357944 ,  0.65748677,  0.15157338,\n",
       "         0.05669152,  2.69761785,  0.22380228,  0.16152731, -0.46297111,\n",
       "        -0.80724281, -1.37285829, -0.71935421, -1.19842701,  0.88619131,\n",
       "         0.68519753, -1.22545938, -0.01556905, -1.74532181, -0.96000068,\n",
       "         0.07140061,  0.80647502, -0.07976965,  0.6843863 , -0.19351696,\n",
       "         1.2264633 , -0.36186068, -0.7067843 , -0.57563989,  0.68482147,\n",
       "         0.00360269,  1.22893223,  1.49012995,  0.26613439,  0.42358854,\n",
       "        -2.01818245,  1.24545667,  0.72465139, -0.14103332, -1.36796932,\n",
       "         1.82434766, -1.18325461,  1.79900228,  0.95857879,  0.47380718,\n",
       "        -0.33117748,  0.87812151, -0.55902892, -0.35720524, -0.40186525,\n",
       "        -0.5620846 , -0.32384209,  1.37056321, -0.08435731, -2.17772383,\n",
       "        -0.46228847, -0.0656702 ,  0.34687424,  1.49586398, -0.15671673,\n",
       "        -0.08022198,  0.66678409, -0.5727323 ,  0.25113987, -1.84635355,\n",
       "         0.86953567, -1.24623934, -1.78028921, -0.07196744, -0.26274762,\n",
       "        -1.61392334, -2.38325433, -0.22180253, -1.36404771,  0.11503186,\n",
       "         0.76514356,  2.01536977, -1.50989425, -0.44769513,  0.14685338,\n",
       "        -0.29866944,  1.85173966,  0.55220603,  1.0572297 ,  1.26004381,\n",
       "        -2.68484271, -0.18243266, -0.14520121,  0.03281552, -0.54743675,\n",
       "         1.88189853, -0.44436394, -0.60135179,  0.95450236, -2.31432016])}"
      ]
     },
     "execution_count": 96,
     "metadata": {},
     "output_type": "execute_result"
    }
   ],
   "source": [
    "dataset"
   ]
  },
  {
   "cell_type": "code",
   "execution_count": 94,
   "metadata": {},
   "outputs": [
    {
     "data": {
      "text/plain": [
       "[<matplotlib.lines.Line2D at 0x7f6e172c0f70>]"
      ]
     },
     "execution_count": 94,
     "metadata": {},
     "output_type": "execute_result"
    },
    {
     "data": {
      "image/png": "[encoded data removed]",
      "text/plain": [
       "<Figure size 432x288 with 2 Axes>"
      ]
     },
     "metadata": {
      "needs_background": "light"
     },
     "output_type": "display_data"
    }
   ],
   "source": [
    "fig, axes = plt.subplots(4, 1, sharex=True)\n",
    "axes[0].plot(dev_x, dev_y)\n",
    "axes[1].plot(dev_x, np.sin(dev_x))"
   ]
  },
  {
   "cell_type": "markdown",
   "metadata": {},
   "source": [
    "## OOP> Method to draw a dataset"
   ]
  },
  {
   "cell_type": "code",
   "execution_count": 144,
   "metadata": {},
   "outputs": [],
   "source": [
    "def graphique(dataset):\n",
    "    nrows = len(dataset) if len(dataset)>0 else 1\n",
    "    ncols=1\n",
    "    fig, axes = plt.subplots(nrows, ncols, figsize=(10,6))\n",
    "    #fig.set_figsize(16,8)\n",
    "    #fig.set_tight_layout({'h_pad':2})\n",
    "    fig.tight_layout()\n",
    "    for i, key in enumerate(dataset):\n",
    "        x = range(len(dataset[key]))\n",
    "        y = dataset[key]\n",
    "        axes[i].plot(x, y, label=key)\n",
    "        axes[i].set_title(key)\n",
    "        #axes[i].grid(True)\n",
    "        axes[i].set_ylim(-2, 2)\n",
    "        "
   ]
  },
  {
   "cell_type": "code",
   "execution_count": 153,
   "metadata": {},
   "outputs": [
    {
     "data": {
      "image/png": "[encoded data removed]",
      "text/plain": [
       "<Figure size 720x432 with 4 Axes>"
      ]
     },
     "metadata": {},
     "output_type": "display_data"
    }
   ],
   "source": [
    "plt.style.use(\"seaborn-colorblind\")\n",
    "graphique(dataset)"
   ]
  },
  {
   "cell_type": "code",
   "execution_count": 116,
   "metadata": {},
   "outputs": [
    {
     "name": "stdout",
     "output_type": "stream",
     "text": [
      "0\n",
      "1\n",
      "2\n",
      "3\n"
     ]
    }
   ],
   "source": [
    "for i, y_data in enumerate(dataset):\n",
    "    print(f\"{i}\")"
   ]
  },
  {
   "cell_type": "code",
   "execution_count": 143,
   "metadata": {},
   "outputs": [
    {
     "name": "stdout",
     "output_type": "stream",
     "text": [
      "['Solarize_Light2', '_classic_test_patch', 'bmh', 'classic', 'dark_background', 'fast', 'fivethirtyeight', 'ggplot', 'grayscale', 'seaborn', 'seaborn-bright', 'seaborn-colorblind', 'seaborn-dark', 'seaborn-dark-palette', 'seaborn-darkgrid', 'seaborn-deep', 'seaborn-muted', 'seaborn-notebook', 'seaborn-paper', 'seaborn-pastel', 'seaborn-poster', 'seaborn-talk', 'seaborn-ticks', 'seaborn-white', 'seaborn-whitegrid', 'tableau-colorblind10']\n"
     ]
    }
   ],
   "source": [
    "print(plt.style.available)"
   ]
  },
  {
   "cell_type": "code",
   "execution_count": 154,
   "metadata": {},
   "outputs": [],
   "source": [
    "import plotly.io as pio"
   ]
  },
  {
   "cell_type": "code",
   "execution_count": 155,
   "metadata": {},
   "outputs": [],
   "source": [
    "import plotly.graph_objects as go"
   ]
  },
  {
   "cell_type": "code",
   "execution_count": 158,
   "metadata": {},
   "outputs": [],
   "source": [
    "pio.renderers.default = \"iframe_connected\""
   ]
  },
  {
   "cell_type": "code",
   "execution_count": 159,
   "metadata": {},
   "outputs": [
    {
     "data": {
      "text/html": [
       "<iframe\n",
       "    scrolling=\"no\"\n",
       "    width=\"100%\"\n",
       "    height=\"545px\"\n",
       "    src=\"iframe_figures/figure_159.html\"\n",
       "    frameborder=\"0\"\n",
       "    allowfullscreen\n",
       "></iframe>\n"
      ]
     },
     "metadata": {},
     "output_type": "display_data"
    }
   ],
   "source": [
    "fig = go.Figure(\n",
    "    data=[go.Scatter(x=[1, 2, 3, 4], y=[2, 3, 2, 4])],\n",
    "    layout=go.Layout(\n",
    "        title=go.layout.Title(text=\"This figure has been made by a plotly graph object\")\n",
    "    )\n",
    ")\n",
    "fig.show()"
   ]
  },
  {
   "cell_type": "code",
   "execution_count": 161,
   "metadata": {},
   "outputs": [],
   "source": [
    "import plotly.express as px"
   ]
  },
  {
   "cell_type": "code",
   "execution_count": 183,
   "metadata": {},
   "outputs": [
    {
     "data": {
      "text/html": [
       "<div>\n",
       "<style scoped>\n",
       "    .dataframe tbody tr th:only-of-type {\n",
       "        vertical-align: middle;\n",
       "    }\n",
       "\n",
       "    .dataframe tbody tr th {\n",
       "        vertical-align: top;\n",
       "    }\n",
       "\n",
       "    .dataframe thead th {\n",
       "        text-align: right;\n",
       "    }\n",
       "</style>\n",
       "<table border=\"1\" class=\"dataframe\">\n",
       "  <thead>\n",
       "    <tr style=\"text-align: right;\">\n",
       "      <th></th>\n",
       "      <th>country</th>\n",
       "      <th>continent</th>\n",
       "      <th>year</th>\n",
       "      <th>lifeExp</th>\n",
       "      <th>pop</th>\n",
       "      <th>gdpPercap</th>\n",
       "      <th>iso_alpha</th>\n",
       "      <th>iso_num</th>\n",
       "    </tr>\n",
       "  </thead>\n",
       "  <tbody>\n",
       "    <tr>\n",
       "      <th>528</th>\n",
       "      <td>France</td>\n",
       "      <td>Europe</td>\n",
       "      <td>1952</td>\n",
       "      <td>67.410</td>\n",
       "      <td>42459667</td>\n",
       "      <td>7029.809327</td>\n",
       "      <td>FRA</td>\n",
       "      <td>250</td>\n",
       "    </tr>\n",
       "    <tr>\n",
       "      <th>529</th>\n",
       "      <td>France</td>\n",
       "      <td>Europe</td>\n",
       "      <td>1957</td>\n",
       "      <td>68.930</td>\n",
       "      <td>44310863</td>\n",
       "      <td>8662.834898</td>\n",
       "      <td>FRA</td>\n",
       "      <td>250</td>\n",
       "    </tr>\n",
       "    <tr>\n",
       "      <th>530</th>\n",
       "      <td>France</td>\n",
       "      <td>Europe</td>\n",
       "      <td>1962</td>\n",
       "      <td>70.510</td>\n",
       "      <td>47124000</td>\n",
       "      <td>10560.485530</td>\n",
       "      <td>FRA</td>\n",
       "      <td>250</td>\n",
       "    </tr>\n",
       "    <tr>\n",
       "      <th>531</th>\n",
       "      <td>France</td>\n",
       "      <td>Europe</td>\n",
       "      <td>1967</td>\n",
       "      <td>71.550</td>\n",
       "      <td>49569000</td>\n",
       "      <td>12999.917660</td>\n",
       "      <td>FRA</td>\n",
       "      <td>250</td>\n",
       "    </tr>\n",
       "    <tr>\n",
       "      <th>532</th>\n",
       "      <td>France</td>\n",
       "      <td>Europe</td>\n",
       "      <td>1972</td>\n",
       "      <td>72.380</td>\n",
       "      <td>51732000</td>\n",
       "      <td>16107.191710</td>\n",
       "      <td>FRA</td>\n",
       "      <td>250</td>\n",
       "    </tr>\n",
       "    <tr>\n",
       "      <th>533</th>\n",
       "      <td>France</td>\n",
       "      <td>Europe</td>\n",
       "      <td>1977</td>\n",
       "      <td>73.830</td>\n",
       "      <td>53165019</td>\n",
       "      <td>18292.635140</td>\n",
       "      <td>FRA</td>\n",
       "      <td>250</td>\n",
       "    </tr>\n",
       "    <tr>\n",
       "      <th>534</th>\n",
       "      <td>France</td>\n",
       "      <td>Europe</td>\n",
       "      <td>1982</td>\n",
       "      <td>74.890</td>\n",
       "      <td>54433565</td>\n",
       "      <td>20293.897460</td>\n",
       "      <td>FRA</td>\n",
       "      <td>250</td>\n",
       "    </tr>\n",
       "    <tr>\n",
       "      <th>535</th>\n",
       "      <td>France</td>\n",
       "      <td>Europe</td>\n",
       "      <td>1987</td>\n",
       "      <td>76.340</td>\n",
       "      <td>55630100</td>\n",
       "      <td>22066.442140</td>\n",
       "      <td>FRA</td>\n",
       "      <td>250</td>\n",
       "    </tr>\n",
       "    <tr>\n",
       "      <th>536</th>\n",
       "      <td>France</td>\n",
       "      <td>Europe</td>\n",
       "      <td>1992</td>\n",
       "      <td>77.460</td>\n",
       "      <td>57374179</td>\n",
       "      <td>24703.796150</td>\n",
       "      <td>FRA</td>\n",
       "      <td>250</td>\n",
       "    </tr>\n",
       "    <tr>\n",
       "      <th>537</th>\n",
       "      <td>France</td>\n",
       "      <td>Europe</td>\n",
       "      <td>1997</td>\n",
       "      <td>78.640</td>\n",
       "      <td>58623428</td>\n",
       "      <td>25889.784870</td>\n",
       "      <td>FRA</td>\n",
       "      <td>250</td>\n",
       "    </tr>\n",
       "    <tr>\n",
       "      <th>538</th>\n",
       "      <td>France</td>\n",
       "      <td>Europe</td>\n",
       "      <td>2002</td>\n",
       "      <td>79.590</td>\n",
       "      <td>59925035</td>\n",
       "      <td>28926.032340</td>\n",
       "      <td>FRA</td>\n",
       "      <td>250</td>\n",
       "    </tr>\n",
       "    <tr>\n",
       "      <th>539</th>\n",
       "      <td>France</td>\n",
       "      <td>Europe</td>\n",
       "      <td>2007</td>\n",
       "      <td>80.657</td>\n",
       "      <td>61083916</td>\n",
       "      <td>30470.016700</td>\n",
       "      <td>FRA</td>\n",
       "      <td>250</td>\n",
       "    </tr>\n",
       "    <tr>\n",
       "      <th>564</th>\n",
       "      <td>Germany</td>\n",
       "      <td>Europe</td>\n",
       "      <td>1952</td>\n",
       "      <td>67.500</td>\n",
       "      <td>69145952</td>\n",
       "      <td>7144.114393</td>\n",
       "      <td>DEU</td>\n",
       "      <td>276</td>\n",
       "    </tr>\n",
       "    <tr>\n",
       "      <th>565</th>\n",
       "      <td>Germany</td>\n",
       "      <td>Europe</td>\n",
       "      <td>1957</td>\n",
       "      <td>69.100</td>\n",
       "      <td>71019069</td>\n",
       "      <td>10187.826650</td>\n",
       "      <td>DEU</td>\n",
       "      <td>276</td>\n",
       "    </tr>\n",
       "    <tr>\n",
       "      <th>566</th>\n",
       "      <td>Germany</td>\n",
       "      <td>Europe</td>\n",
       "      <td>1962</td>\n",
       "      <td>70.300</td>\n",
       "      <td>73739117</td>\n",
       "      <td>12902.462910</td>\n",
       "      <td>DEU</td>\n",
       "      <td>276</td>\n",
       "    </tr>\n",
       "    <tr>\n",
       "      <th>567</th>\n",
       "      <td>Germany</td>\n",
       "      <td>Europe</td>\n",
       "      <td>1967</td>\n",
       "      <td>70.800</td>\n",
       "      <td>76368453</td>\n",
       "      <td>14745.625610</td>\n",
       "      <td>DEU</td>\n",
       "      <td>276</td>\n",
       "    </tr>\n",
       "    <tr>\n",
       "      <th>568</th>\n",
       "      <td>Germany</td>\n",
       "      <td>Europe</td>\n",
       "      <td>1972</td>\n",
       "      <td>71.000</td>\n",
       "      <td>78717088</td>\n",
       "      <td>18016.180270</td>\n",
       "      <td>DEU</td>\n",
       "      <td>276</td>\n",
       "    </tr>\n",
       "    <tr>\n",
       "      <th>569</th>\n",
       "      <td>Germany</td>\n",
       "      <td>Europe</td>\n",
       "      <td>1977</td>\n",
       "      <td>72.500</td>\n",
       "      <td>78160773</td>\n",
       "      <td>20512.921230</td>\n",
       "      <td>DEU</td>\n",
       "      <td>276</td>\n",
       "    </tr>\n",
       "    <tr>\n",
       "      <th>570</th>\n",
       "      <td>Germany</td>\n",
       "      <td>Europe</td>\n",
       "      <td>1982</td>\n",
       "      <td>73.800</td>\n",
       "      <td>78335266</td>\n",
       "      <td>22031.532740</td>\n",
       "      <td>DEU</td>\n",
       "      <td>276</td>\n",
       "    </tr>\n",
       "    <tr>\n",
       "      <th>571</th>\n",
       "      <td>Germany</td>\n",
       "      <td>Europe</td>\n",
       "      <td>1987</td>\n",
       "      <td>74.847</td>\n",
       "      <td>77718298</td>\n",
       "      <td>24639.185660</td>\n",
       "      <td>DEU</td>\n",
       "      <td>276</td>\n",
       "    </tr>\n",
       "    <tr>\n",
       "      <th>572</th>\n",
       "      <td>Germany</td>\n",
       "      <td>Europe</td>\n",
       "      <td>1992</td>\n",
       "      <td>76.070</td>\n",
       "      <td>80597764</td>\n",
       "      <td>26505.303170</td>\n",
       "      <td>DEU</td>\n",
       "      <td>276</td>\n",
       "    </tr>\n",
       "    <tr>\n",
       "      <th>573</th>\n",
       "      <td>Germany</td>\n",
       "      <td>Europe</td>\n",
       "      <td>1997</td>\n",
       "      <td>77.340</td>\n",
       "      <td>82011073</td>\n",
       "      <td>27788.884160</td>\n",
       "      <td>DEU</td>\n",
       "      <td>276</td>\n",
       "    </tr>\n",
       "    <tr>\n",
       "      <th>574</th>\n",
       "      <td>Germany</td>\n",
       "      <td>Europe</td>\n",
       "      <td>2002</td>\n",
       "      <td>78.670</td>\n",
       "      <td>82350671</td>\n",
       "      <td>30035.801980</td>\n",
       "      <td>DEU</td>\n",
       "      <td>276</td>\n",
       "    </tr>\n",
       "    <tr>\n",
       "      <th>575</th>\n",
       "      <td>Germany</td>\n",
       "      <td>Europe</td>\n",
       "      <td>2007</td>\n",
       "      <td>79.406</td>\n",
       "      <td>82400996</td>\n",
       "      <td>32170.374420</td>\n",
       "      <td>DEU</td>\n",
       "      <td>276</td>\n",
       "    </tr>\n",
       "    <tr>\n",
       "      <th>768</th>\n",
       "      <td>Italy</td>\n",
       "      <td>Europe</td>\n",
       "      <td>1952</td>\n",
       "      <td>65.940</td>\n",
       "      <td>47666000</td>\n",
       "      <td>4931.404155</td>\n",
       "      <td>ITA</td>\n",
       "      <td>380</td>\n",
       "    </tr>\n",
       "    <tr>\n",
       "      <th>769</th>\n",
       "      <td>Italy</td>\n",
       "      <td>Europe</td>\n",
       "      <td>1957</td>\n",
       "      <td>67.810</td>\n",
       "      <td>49182000</td>\n",
       "      <td>6248.656232</td>\n",
       "      <td>ITA</td>\n",
       "      <td>380</td>\n",
       "    </tr>\n",
       "    <tr>\n",
       "      <th>770</th>\n",
       "      <td>Italy</td>\n",
       "      <td>Europe</td>\n",
       "      <td>1962</td>\n",
       "      <td>69.240</td>\n",
       "      <td>50843200</td>\n",
       "      <td>8243.582340</td>\n",
       "      <td>ITA</td>\n",
       "      <td>380</td>\n",
       "    </tr>\n",
       "    <tr>\n",
       "      <th>771</th>\n",
       "      <td>Italy</td>\n",
       "      <td>Europe</td>\n",
       "      <td>1967</td>\n",
       "      <td>71.060</td>\n",
       "      <td>52667100</td>\n",
       "      <td>10022.401310</td>\n",
       "      <td>ITA</td>\n",
       "      <td>380</td>\n",
       "    </tr>\n",
       "    <tr>\n",
       "      <th>772</th>\n",
       "      <td>Italy</td>\n",
       "      <td>Europe</td>\n",
       "      <td>1972</td>\n",
       "      <td>72.190</td>\n",
       "      <td>54365564</td>\n",
       "      <td>12269.273780</td>\n",
       "      <td>ITA</td>\n",
       "      <td>380</td>\n",
       "    </tr>\n",
       "    <tr>\n",
       "      <th>773</th>\n",
       "      <td>Italy</td>\n",
       "      <td>Europe</td>\n",
       "      <td>1977</td>\n",
       "      <td>73.480</td>\n",
       "      <td>56059245</td>\n",
       "      <td>14255.984750</td>\n",
       "      <td>ITA</td>\n",
       "      <td>380</td>\n",
       "    </tr>\n",
       "    <tr>\n",
       "      <th>774</th>\n",
       "      <td>Italy</td>\n",
       "      <td>Europe</td>\n",
       "      <td>1982</td>\n",
       "      <td>74.980</td>\n",
       "      <td>56535636</td>\n",
       "      <td>16537.483500</td>\n",
       "      <td>ITA</td>\n",
       "      <td>380</td>\n",
       "    </tr>\n",
       "    <tr>\n",
       "      <th>775</th>\n",
       "      <td>Italy</td>\n",
       "      <td>Europe</td>\n",
       "      <td>1987</td>\n",
       "      <td>76.420</td>\n",
       "      <td>56729703</td>\n",
       "      <td>19207.234820</td>\n",
       "      <td>ITA</td>\n",
       "      <td>380</td>\n",
       "    </tr>\n",
       "    <tr>\n",
       "      <th>776</th>\n",
       "      <td>Italy</td>\n",
       "      <td>Europe</td>\n",
       "      <td>1992</td>\n",
       "      <td>77.440</td>\n",
       "      <td>56840847</td>\n",
       "      <td>22013.644860</td>\n",
       "      <td>ITA</td>\n",
       "      <td>380</td>\n",
       "    </tr>\n",
       "    <tr>\n",
       "      <th>777</th>\n",
       "      <td>Italy</td>\n",
       "      <td>Europe</td>\n",
       "      <td>1997</td>\n",
       "      <td>78.820</td>\n",
       "      <td>57479469</td>\n",
       "      <td>24675.024460</td>\n",
       "      <td>ITA</td>\n",
       "      <td>380</td>\n",
       "    </tr>\n",
       "    <tr>\n",
       "      <th>778</th>\n",
       "      <td>Italy</td>\n",
       "      <td>Europe</td>\n",
       "      <td>2002</td>\n",
       "      <td>80.240</td>\n",
       "      <td>57926999</td>\n",
       "      <td>27968.098170</td>\n",
       "      <td>ITA</td>\n",
       "      <td>380</td>\n",
       "    </tr>\n",
       "    <tr>\n",
       "      <th>779</th>\n",
       "      <td>Italy</td>\n",
       "      <td>Europe</td>\n",
       "      <td>2007</td>\n",
       "      <td>80.546</td>\n",
       "      <td>58147733</td>\n",
       "      <td>28569.719700</td>\n",
       "      <td>ITA</td>\n",
       "      <td>380</td>\n",
       "    </tr>\n",
       "    <tr>\n",
       "      <th>1416</th>\n",
       "      <td>Spain</td>\n",
       "      <td>Europe</td>\n",
       "      <td>1952</td>\n",
       "      <td>64.940</td>\n",
       "      <td>28549870</td>\n",
       "      <td>3834.034742</td>\n",
       "      <td>ESP</td>\n",
       "      <td>724</td>\n",
       "    </tr>\n",
       "    <tr>\n",
       "      <th>1417</th>\n",
       "      <td>Spain</td>\n",
       "      <td>Europe</td>\n",
       "      <td>1957</td>\n",
       "      <td>66.660</td>\n",
       "      <td>29841614</td>\n",
       "      <td>4564.802410</td>\n",
       "      <td>ESP</td>\n",
       "      <td>724</td>\n",
       "    </tr>\n",
       "    <tr>\n",
       "      <th>1418</th>\n",
       "      <td>Spain</td>\n",
       "      <td>Europe</td>\n",
       "      <td>1962</td>\n",
       "      <td>69.690</td>\n",
       "      <td>31158061</td>\n",
       "      <td>5693.843879</td>\n",
       "      <td>ESP</td>\n",
       "      <td>724</td>\n",
       "    </tr>\n",
       "    <tr>\n",
       "      <th>1419</th>\n",
       "      <td>Spain</td>\n",
       "      <td>Europe</td>\n",
       "      <td>1967</td>\n",
       "      <td>71.440</td>\n",
       "      <td>32850275</td>\n",
       "      <td>7993.512294</td>\n",
       "      <td>ESP</td>\n",
       "      <td>724</td>\n",
       "    </tr>\n",
       "    <tr>\n",
       "      <th>1420</th>\n",
       "      <td>Spain</td>\n",
       "      <td>Europe</td>\n",
       "      <td>1972</td>\n",
       "      <td>73.060</td>\n",
       "      <td>34513161</td>\n",
       "      <td>10638.751310</td>\n",
       "      <td>ESP</td>\n",
       "      <td>724</td>\n",
       "    </tr>\n",
       "    <tr>\n",
       "      <th>1421</th>\n",
       "      <td>Spain</td>\n",
       "      <td>Europe</td>\n",
       "      <td>1977</td>\n",
       "      <td>74.390</td>\n",
       "      <td>36439000</td>\n",
       "      <td>13236.921170</td>\n",
       "      <td>ESP</td>\n",
       "      <td>724</td>\n",
       "    </tr>\n",
       "    <tr>\n",
       "      <th>1422</th>\n",
       "      <td>Spain</td>\n",
       "      <td>Europe</td>\n",
       "      <td>1982</td>\n",
       "      <td>76.300</td>\n",
       "      <td>37983310</td>\n",
       "      <td>13926.169970</td>\n",
       "      <td>ESP</td>\n",
       "      <td>724</td>\n",
       "    </tr>\n",
       "    <tr>\n",
       "      <th>1423</th>\n",
       "      <td>Spain</td>\n",
       "      <td>Europe</td>\n",
       "      <td>1987</td>\n",
       "      <td>76.900</td>\n",
       "      <td>38880702</td>\n",
       "      <td>15764.983130</td>\n",
       "      <td>ESP</td>\n",
       "      <td>724</td>\n",
       "    </tr>\n",
       "    <tr>\n",
       "      <th>1424</th>\n",
       "      <td>Spain</td>\n",
       "      <td>Europe</td>\n",
       "      <td>1992</td>\n",
       "      <td>77.570</td>\n",
       "      <td>39549438</td>\n",
       "      <td>18603.064520</td>\n",
       "      <td>ESP</td>\n",
       "      <td>724</td>\n",
       "    </tr>\n",
       "    <tr>\n",
       "      <th>1425</th>\n",
       "      <td>Spain</td>\n",
       "      <td>Europe</td>\n",
       "      <td>1997</td>\n",
       "      <td>78.770</td>\n",
       "      <td>39855442</td>\n",
       "      <td>20445.298960</td>\n",
       "      <td>ESP</td>\n",
       "      <td>724</td>\n",
       "    </tr>\n",
       "    <tr>\n",
       "      <th>1426</th>\n",
       "      <td>Spain</td>\n",
       "      <td>Europe</td>\n",
       "      <td>2002</td>\n",
       "      <td>79.780</td>\n",
       "      <td>40152517</td>\n",
       "      <td>24835.471660</td>\n",
       "      <td>ESP</td>\n",
       "      <td>724</td>\n",
       "    </tr>\n",
       "    <tr>\n",
       "      <th>1427</th>\n",
       "      <td>Spain</td>\n",
       "      <td>Europe</td>\n",
       "      <td>2007</td>\n",
       "      <td>80.941</td>\n",
       "      <td>40448191</td>\n",
       "      <td>28821.063700</td>\n",
       "      <td>ESP</td>\n",
       "      <td>724</td>\n",
       "    </tr>\n",
       "  </tbody>\n",
       "</table>\n",
       "</div>"
      ],
      "text/plain": [
       "      country continent  year  lifeExp       pop     gdpPercap iso_alpha  \\\n",
       "528    France    Europe  1952   67.410  42459667   7029.809327       FRA   \n",
       "529    France    Europe  1957   68.930  44310863   8662.834898       FRA   \n",
       "530    France    Europe  1962   70.510  47124000  10560.485530       FRA   \n",
       "531    France    Europe  1967   71.550  49569000  12999.917660       FRA   \n",
       "532    France    Europe  1972   72.380  51732000  16107.191710       FRA   \n",
       "533    France    Europe  1977   73.830  53165019  18292.635140       FRA   \n",
       "534    France    Europe  1982   74.890  54433565  20293.897460       FRA   \n",
       "535    France    Europe  1987   76.340  55630100  22066.442140       FRA   \n",
       "536    France    Europe  1992   77.460  57374179  24703.796150       FRA   \n",
       "537    France    Europe  1997   78.640  58623428  25889.784870       FRA   \n",
       "538    France    Europe  2002   79.590  59925035  28926.032340       FRA   \n",
       "539    France    Europe  2007   80.657  61083916  30470.016700       FRA   \n",
       "564   Germany    Europe  1952   67.500  69145952   7144.114393       DEU   \n",
       "565   Germany    Europe  1957   69.100  71019069  10187.826650       DEU   \n",
       "566   Germany    Europe  1962   70.300  73739117  12902.462910       DEU   \n",
       "567   Germany    Europe  1967   70.800  76368453  14745.625610       DEU   \n",
       "568   Germany    Europe  1972   71.000  78717088  18016.180270       DEU   \n",
       "569   Germany    Europe  1977   72.500  78160773  20512.921230       DEU   \n",
       "570   Germany    Europe  1982   73.800  78335266  22031.532740       DEU   \n",
       "571   Germany    Europe  1987   74.847  77718298  24639.185660       DEU   \n",
       "572   Germany    Europe  1992   76.070  80597764  26505.303170       DEU   \n",
       "573   Germany    Europe  1997   77.340  82011073  27788.884160       DEU   \n",
       "574   Germany    Europe  2002   78.670  82350671  30035.801980       DEU   \n",
       "575   Germany    Europe  2007   79.406  82400996  32170.374420       DEU   \n",
       "768     Italy    Europe  1952   65.940  47666000   4931.404155       ITA   \n",
       "769     Italy    Europe  1957   67.810  49182000   6248.656232       ITA   \n",
       "770     Italy    Europe  1962   69.240  50843200   8243.582340       ITA   \n",
       "771     Italy    Europe  1967   71.060  52667100  10022.401310       ITA   \n",
       "772     Italy    Europe  1972   72.190  54365564  12269.273780       ITA   \n",
       "773     Italy    Europe  1977   73.480  56059245  14255.984750       ITA   \n",
       "774     Italy    Europe  1982   74.980  56535636  16537.483500       ITA   \n",
       "775     Italy    Europe  1987   76.420  56729703  19207.234820       ITA   \n",
       "776     Italy    Europe  1992   77.440  56840847  22013.644860       ITA   \n",
       "777     Italy    Europe  1997   78.820  57479469  24675.024460       ITA   \n",
       "778     Italy    Europe  2002   80.240  57926999  27968.098170       ITA   \n",
       "779     Italy    Europe  2007   80.546  58147733  28569.719700       ITA   \n",
       "1416    Spain    Europe  1952   64.940  28549870   3834.034742       ESP   \n",
       "1417    Spain    Europe  1957   66.660  29841614   4564.802410       ESP   \n",
       "1418    Spain    Europe  1962   69.690  31158061   5693.843879       ESP   \n",
       "1419    Spain    Europe  1967   71.440  32850275   7993.512294       ESP   \n",
       "1420    Spain    Europe  1972   73.060  34513161  10638.751310       ESP   \n",
       "1421    Spain    Europe  1977   74.390  36439000  13236.921170       ESP   \n",
       "1422    Spain    Europe  1982   76.300  37983310  13926.169970       ESP   \n",
       "1423    Spain    Europe  1987   76.900  38880702  15764.983130       ESP   \n",
       "1424    Spain    Europe  1992   77.570  39549438  18603.064520       ESP   \n",
       "1425    Spain    Europe  1997   78.770  39855442  20445.298960       ESP   \n",
       "1426    Spain    Europe  2002   79.780  40152517  24835.471660       ESP   \n",
       "1427    Spain    Europe  2007   80.941  40448191  28821.063700       ESP   \n",
       "\n",
       "      iso_num  \n",
       "528       250  \n",
       "529       250  \n",
       "530       250  \n",
       "531       250  \n",
       "532       250  \n",
       "533       250  \n",
       "534       250  \n",
       "535       250  \n",
       "536       250  \n",
       "537       250  \n",
       "538       250  \n",
       "539       250  \n",
       "564       276  \n",
       "565       276  \n",
       "566       276  \n",
       "567       276  \n",
       "568       276  \n",
       "569       276  \n",
       "570       276  \n",
       "571       276  \n",
       "572       276  \n",
       "573       276  \n",
       "574       276  \n",
       "575       276  \n",
       "768       380  \n",
       "769       380  \n",
       "770       380  \n",
       "771       380  \n",
       "772       380  \n",
       "773       380  \n",
       "774       380  \n",
       "775       380  \n",
       "776       380  \n",
       "777       380  \n",
       "778       380  \n",
       "779       380  \n",
       "1416      724  \n",
       "1417      724  \n",
       "1418      724  \n",
       "1419      724  \n",
       "1420      724  \n",
       "1421      724  \n",
       "1422      724  \n",
       "1423      724  \n",
       "1424      724  \n",
       "1425      724  \n",
       "1426      724  \n",
       "1427      724  "
      ]
     },
     "execution_count": 183,
     "metadata": {},
     "output_type": "execute_result"
    }
   ],
   "source": [
    "df = px.data.gapminder()\n",
    "new_df = df[(df.continent == 'Europe') & (df.country.isin(['France','Germany','Spain','Italy']))]\n",
    "new_df"
   ]
  },
  {
   "cell_type": "code",
   "execution_count": 184,
   "metadata": {},
   "outputs": [
    {
     "data": {
      "text/html": [
       "<iframe\n",
       "    scrolling=\"no\"\n",
       "    width=\"100%\"\n",
       "    height=\"545px\"\n",
       "    src=\"iframe_figures/figure_184.html\"\n",
       "    frameborder=\"0\"\n",
       "    allowfullscreen\n",
       "></iframe>\n"
      ]
     },
     "metadata": {},
     "output_type": "display_data"
    }
   ],
   "source": [
    "fig = px.scatter(new_df, x=\"gdpPercap\", y=\"lifeExp\", animation_frame=\"year\", animation_group=\"country\",\n",
    "                    size=\"pop\", color=\"country\", \n",
    "                 hover_name=\"country\",\n",
    "                    log_x=True, size_max=55, range_x=[100,100000], range_y=[25,90])\n",
    "\n",
    "fig.show()"
   ]
  },
  {
   "cell_type": "code",
   "execution_count": null,
   "metadata": {},
   "outputs": [],
   "source": []
  }
 ],
 "metadata": {
  "kernelspec": {
   "display_name": "Python 3",
   "language": "python",
   "name": "python3"
  },
  "language_info": {
   "codemirror_mode": {
    "name": "ipython",
    "version": 3
   },
   "file_extension": ".py",
   "mimetype": "text/x-python",
   "name": "python",
   "nbconvert_exporter": "python",
   "pygments_lexer": "ipython3",
   "version": "3.8.6"
  }
 },
 "nbformat": 4,
 "nbformat_minor": 4
}
